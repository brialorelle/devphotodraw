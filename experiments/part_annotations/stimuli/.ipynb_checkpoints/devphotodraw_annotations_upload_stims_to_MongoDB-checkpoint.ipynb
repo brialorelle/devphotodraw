{
 "cells": [
  {
   "cell_type": "code",
   "execution_count": 189,
   "metadata": {},
   "outputs": [],
   "source": [
    "import os, sys\n",
    "\n",
    "import pymongo as pm\n",
    "import numpy as np\n",
    "import scipy.stats as stats\n",
    "import pandas as pd\n",
    "import json\n",
    "import re\n",
    "\n",
    "import matplotlib\n",
    "from matplotlib import pylab, mlab, pyplot\n",
    "%matplotlib inline\n",
    "from IPython.core.pylabtools import figsize, getfigs\n",
    "plt = pyplot\n",
    "import seaborn as sns\n",
    "sns.set_context('talk')\n",
    "sns.set_style('white')\n",
    "\n",
    "from IPython.display import clear_output\n",
    "import importlib\n",
    "\n",
    "import warnings\n",
    "warnings.filterwarnings(\"ignore\", category=DeprecationWarning)\n",
    "warnings.filterwarnings(\"ignore\", message=\"numpy.dtype size changed\")\n",
    "warnings.filterwarnings(\"ignore\", message=\"numpy.ufunc size changed\")\n",
    "pd.options.mode.chained_assignment = None "
   ]
  },
  {
   "cell_type": "code",
   "execution_count": 190,
   "metadata": {},
   "outputs": [],
   "source": [
    "# directory & file hierarchy\n",
    "proj_dir = os.path.abspath('..')\n",
    "stim_dir = os.path.join(proj_dir,'stimuli')"
   ]
  },
  {
   "cell_type": "markdown",
   "metadata": {},
   "source": [
    "## load in data\n",
    "CDM = Children’s Discovery Museum, San Jose <br>\n",
    "THU = Tsinghua University, Beijing"
   ]
  },
  {
   "cell_type": "code",
   "execution_count": 191,
   "metadata": {},
   "outputs": [],
   "source": [
    "CDM = pd.read_csv(os.path.join(stim_dir, 'CDM_photodraw_e2_svg_output2022.csv'))\n",
    "THU = pd.read_csv(os.path.join(stim_dir, 'THU_photodraw_e2_svg_output2022.csv'))\n",
    "data = CDM.append(THU)"
   ]
  },
  {
   "cell_type": "code",
   "execution_count": 192,
   "metadata": {},
   "outputs": [
    {
     "data": {
      "text/html": [
       "<div>\n",
       "<style scoped>\n",
       "    .dataframe tbody tr th:only-of-type {\n",
       "        vertical-align: middle;\n",
       "    }\n",
       "\n",
       "    .dataframe tbody tr th {\n",
       "        vertical-align: top;\n",
       "    }\n",
       "\n",
       "    .dataframe thead th {\n",
       "        text-align: right;\n",
       "    }\n",
       "</style>\n",
       "<table border=\"1\" class=\"dataframe\">\n",
       "  <thead>\n",
       "    <tr style=\"text-align: right;\">\n",
       "      <th></th>\n",
       "      <th>Unnamed: 0</th>\n",
       "      <th>session_id</th>\n",
       "      <th>subID</th>\n",
       "      <th>age</th>\n",
       "      <th>category</th>\n",
       "      <th>condition</th>\n",
       "      <th>filename</th>\n",
       "      <th>ref_image_name</th>\n",
       "      <th>stroke_count</th>\n",
       "      <th>svg</th>\n",
       "    </tr>\n",
       "  </thead>\n",
       "  <tbody>\n",
       "    <tr>\n",
       "      <th>0</th>\n",
       "      <td>0</td>\n",
       "      <td>CDM_photodraw_e21540576831945</td>\n",
       "      <td>102618_1</td>\n",
       "      <td>age4</td>\n",
       "      <td>this square</td>\n",
       "      <td>S</td>\n",
       "      <td>/Users/brialong/Documents/GitHub/devphotodraw/...</td>\n",
       "      <td>images/square.png</td>\n",
       "      <td>1</td>\n",
       "      <td>M224.71875,503.42188l-8.04107,2.01575l-3.82151...</td>\n",
       "    </tr>\n",
       "    <tr>\n",
       "      <th>1</th>\n",
       "      <td>1</td>\n",
       "      <td>CDM_photodraw_e21540576907849</td>\n",
       "      <td>102618_1</td>\n",
       "      <td>age4</td>\n",
       "      <td>this square</td>\n",
       "      <td>S</td>\n",
       "      <td>/Users/brialong/Documents/GitHub/devphotodraw/...</td>\n",
       "      <td>images/square.png</td>\n",
       "      <td>1</td>\n",
       "      <td>M224.71875,503.42188l-8.04107,2.01575l-3.82151...</td>\n",
       "    </tr>\n",
       "    <tr>\n",
       "      <th>2</th>\n",
       "      <td>2</td>\n",
       "      <td>CDM_photodraw_e21540576907849</td>\n",
       "      <td>102618_1</td>\n",
       "      <td>age4</td>\n",
       "      <td>this shape</td>\n",
       "      <td>S</td>\n",
       "      <td>/Users/brialong/Documents/GitHub/devphotodraw/...</td>\n",
       "      <td>images/shape.png</td>\n",
       "      <td>1</td>\n",
       "      <td>M397.71875,396.42188l4,8l1.73384,0.05863l3.071...</td>\n",
       "    </tr>\n",
       "    <tr>\n",
       "      <th>3</th>\n",
       "      <td>3</td>\n",
       "      <td>CDM_photodraw_e21540576907849</td>\n",
       "      <td>102618_1</td>\n",
       "      <td>age4</td>\n",
       "      <td>this shape</td>\n",
       "      <td>S</td>\n",
       "      <td>/Users/brialong/Documents/GitHub/devphotodraw/...</td>\n",
       "      <td>images/shape.png</td>\n",
       "      <td>2</td>\n",
       "      <td>M397.71875,396.42188l4,8l1.73384,0.05863l15.26...</td>\n",
       "    </tr>\n",
       "    <tr>\n",
       "      <th>4</th>\n",
       "      <td>4</td>\n",
       "      <td>CDM_photodraw_e21540576907849</td>\n",
       "      <td>102618_1</td>\n",
       "      <td>age4</td>\n",
       "      <td>rectangle</td>\n",
       "      <td>P</td>\n",
       "      <td>/Users/brialong/Documents/GitHub/devphotodraw/...</td>\n",
       "      <td>images_photocues/rectangle.png</td>\n",
       "      <td>1</td>\n",
       "      <td>M18.71875,1.42188l-15.07726,15.62757l-6.53569,...</td>\n",
       "    </tr>\n",
       "  </tbody>\n",
       "</table>\n",
       "</div>"
      ],
      "text/plain": [
       "   Unnamed: 0                     session_id     subID   age     category  \\\n",
       "0           0  CDM_photodraw_e21540576831945  102618_1  age4  this square   \n",
       "1           1  CDM_photodraw_e21540576907849  102618_1  age4  this square   \n",
       "2           2  CDM_photodraw_e21540576907849  102618_1  age4   this shape   \n",
       "3           3  CDM_photodraw_e21540576907849  102618_1  age4   this shape   \n",
       "4           4  CDM_photodraw_e21540576907849  102618_1  age4    rectangle   \n",
       "\n",
       "  condition                                           filename  \\\n",
       "0         S  /Users/brialong/Documents/GitHub/devphotodraw/...   \n",
       "1         S  /Users/brialong/Documents/GitHub/devphotodraw/...   \n",
       "2         S  /Users/brialong/Documents/GitHub/devphotodraw/...   \n",
       "3         S  /Users/brialong/Documents/GitHub/devphotodraw/...   \n",
       "4         P  /Users/brialong/Documents/GitHub/devphotodraw/...   \n",
       "\n",
       "                   ref_image_name  stroke_count  \\\n",
       "0               images/square.png             1   \n",
       "1               images/square.png             1   \n",
       "2                images/shape.png             1   \n",
       "3                images/shape.png             2   \n",
       "4  images_photocues/rectangle.png             1   \n",
       "\n",
       "                                                 svg  \n",
       "0  M224.71875,503.42188l-8.04107,2.01575l-3.82151...  \n",
       "1  M224.71875,503.42188l-8.04107,2.01575l-3.82151...  \n",
       "2  M397.71875,396.42188l4,8l1.73384,0.05863l3.071...  \n",
       "3  M397.71875,396.42188l4,8l1.73384,0.05863l15.26...  \n",
       "4  M18.71875,1.42188l-15.07726,15.62757l-6.53569,...  "
      ]
     },
     "execution_count": 192,
     "metadata": {},
     "output_type": "execute_result"
    }
   ],
   "source": [
    "data.head()"
   ]
  },
  {
   "cell_type": "code",
   "execution_count": 193,
   "metadata": {},
   "outputs": [],
   "source": [
    "## preprocessing\n",
    "## only grab object category data (not tracing or familiarization data)\n",
    "data_test = data.loc[data['category'].isin(['watch', 'bike', 'chair', 'car', 'tree', 'rabbit', \n",
    "                                            'house', 'cup', 'hat', 'cat', 'bird', 'airplane'])]\n",
    "\n",
    "data_test['location'] = data_test['session_id'].apply(lambda x:x.split('_')[0])\n",
    "data_test['location'] = data_test['location'].replace('Tsinghua', 'THU')"
   ]
  },
  {
   "cell_type": "code",
   "execution_count": 194,
   "metadata": {},
   "outputs": [
    {
     "name": "stdout",
     "output_type": "stream",
     "text": [
      "1438 CDM sketches and 1291 THU sketches\n",
      "2729 total sketches\n"
     ]
    }
   ],
   "source": [
    "## how many sketches in each dataset?\n",
    "print('{} CDM sketches and {} THU sketches'.format(data_test.loc[data_test['location'] == 'CDM']['filename'].nunique(), \n",
    "                                                   data_test.loc[data_test['location'] == 'THU']['filename'].nunique()))\n",
    "print('{} total sketches'.format(data_test['filename'].nunique()))\n",
    "\n",
    "assert data_test.loc[data_test['location'] == 'CDM']['filename'].nunique() + data_test.loc[data_test['location'] == 'THU']['filename'].nunique() == data_test['filename'].nunique()"
   ]
  },
  {
   "cell_type": "code",
   "execution_count": 195,
   "metadata": {},
   "outputs": [],
   "source": [
    "## first look at things at the sketch-level\n",
    "df = data_test.groupby('filename').first().reset_index()"
   ]
  },
  {
   "cell_type": "code",
   "execution_count": 196,
   "metadata": {
    "scrolled": true
   },
   "outputs": [
    {
     "data": {
      "text/plain": [
       "location  category\n",
       "CDM       chair       121\n",
       "          cup         121\n",
       "          hat         121\n",
       "          bike        120\n",
       "          bird        120\n",
       "          house       120\n",
       "          tree        120\n",
       "          watch       120\n",
       "          car         119\n",
       "          cat         119\n",
       "          rabbit      119\n",
       "          airplane    118\n",
       "THU       bike        113\n",
       "          airplane    112\n",
       "          bird        110\n",
       "          cat         109\n",
       "          chair       109\n",
       "          tree        109\n",
       "          hat         108\n",
       "          house       107\n",
       "          rabbit      105\n",
       "          watch       104\n",
       "          cup         103\n",
       "          car         102\n",
       "Name: category, dtype: int64"
      ]
     },
     "metadata": {},
     "output_type": "display_data"
    }
   ],
   "source": [
    "## how many of each category?\n",
    "counts = df.groupby(['location'])['category'].value_counts()\n",
    "display(counts)"
   ]
  },
  {
   "cell_type": "code",
   "execution_count": 9,
   "metadata": {},
   "outputs": [],
   "source": [
    "## add groups based on 4 traits: animacy, size, familiarity, and artificiality\n",
    "## The code for the selection can be found here:\n",
    "# https://github.com/cogtoolslab/photodraw32/blob/master/stimuli/photodraw2x2_generate_stims/select_sketchy_classes_for_photodraw32.ipynb\n",
    "# create a list of our conditions\n",
    "conditions = [\n",
    "    ((df['category'] == 'rabbit') | (df['category'] == 'cat') | (df['category'] == 'bird')), \n",
    "    ((df['category'] == 'watch') | (df['category'] == 'cup') | (df['category'] == 'hat')), \n",
    "    ((df['category'] == 'chair') | (df['category'] == 'tree') | (df['category'] == 'house')), \n",
    "    ((df['category'] == 'bike') | (df['category'] == 'car') | (df['category'] == 'airplane')), \n",
    "]\n",
    "\n",
    "# create a list of the values we want to assign for each condition\n",
    "values = [\n",
    "    'animals', \n",
    "    'small_objects', \n",
    "    'big_objects', \n",
    "    'vehicles', \n",
    "]\n",
    "\n",
    "# create a new column and use np.select to assign values to it using our lists as arguments\n",
    "df['group'] = np.select(conditions, values)"
   ]
  },
  {
   "cell_type": "code",
   "execution_count": 163,
   "metadata": {},
   "outputs": [
    {
     "name": "stdout",
     "output_type": "stream",
     "text": [
      "Generating stims for ['animals'] dataset\n"
     ]
    }
   ],
   "source": [
    "## IMPORTANT\n",
    "## which \"group\" are we generating metadata for?\n",
    "whichGroup = df.loc[df['group'] == 'animals']\n",
    "whichGroup = whichGroup.reset_index(drop=True)\n",
    "\n",
    "## initialize empty dataframe to copy into\n",
    "G = pd.DataFrame()\n",
    "\n",
    "## copy data over\n",
    "reallyRun = True\n",
    "if reallyRun:\n",
    "    G = whichGroup.copy()\n",
    "    G = G.reset_index(drop=True)\n",
    "print('Generating stims for {} dataset'.format(whichGroup['group'].unique()))"
   ]
  },
  {
   "cell_type": "markdown",
   "metadata": {},
   "source": [
    "### NOTE TO HOLLY: we also want to counterbalance by site?"
   ]
  },
  {
   "cell_type": "code",
   "execution_count": 164,
   "metadata": {},
   "outputs": [],
   "source": [
    "## define array params\n",
    "subgroups = G['category'].unique()\n",
    "l = len(subgroups)\n",
    "m = min((G.groupby(['category']).size()))\n",
    "\n",
    "## generate empty array\n",
    "arr = np.zeros((m, l))\n",
    "\n",
    "\n",
    "# ## define array params\n",
    "# subgroups = G['location'].unique()\n",
    "# l = len(subgroups)\n",
    "# m = min((G.groupby(['location']).size()))\n",
    "\n",
    "# ## generate empty array\n",
    "# arr = np.zeros((m, l))"
   ]
  },
  {
   "cell_type": "code",
   "execution_count": 165,
   "metadata": {},
   "outputs": [],
   "source": [
    "# shuffle sketches and put into array\n",
    "for i, subgroup in enumerate(subgroups):\n",
    "    perm = np.random.permutation(G.index[G['category'] == subgroup])\n",
    "    arr[:, i] = perm[:m]\n",
    "    \n",
    "# name generated bins\n",
    "G[\"bin\"] = 0\n",
    "\n",
    "for i in range(m):\n",
    "    G.loc[arr[i,:], \"bin\"] = i "
   ]
  },
  {
   "cell_type": "code",
   "execution_count": 166,
   "metadata": {},
   "outputs": [
    {
     "name": "stdout",
     "output_type": "stream",
     "text": [
      "How many bins were made? 224\n"
     ]
    }
   ],
   "source": [
    "print('How many bins were made? {}'.format(G['bin'].nunique()))"
   ]
  },
  {
   "cell_type": "code",
   "execution_count": 167,
   "metadata": {},
   "outputs": [
    {
     "name": "stdout",
     "output_type": "stream",
     "text": [
      "How many sketches are in each bin? [13  3]\n"
     ]
    }
   ],
   "source": [
    "## how many sketches per bin?\n",
    "checker = []\n",
    "for i, bins in G.groupby('bin'):\n",
    "    c = bins['filename'].nunique()\n",
    "    checker.append(c)\n",
    "\n",
    "C = pd.DataFrame(checker, columns=['numSketch'])\n",
    "print('How many sketches are in each bin? {}'.format(C['numSketch'].unique()))"
   ]
  },
  {
   "cell_type": "markdown",
   "metadata": {},
   "source": [
    "##### important! split bins if necessary - if not, skip"
   ]
  },
  {
   "cell_type": "code",
   "execution_count": 168,
   "metadata": {},
   "outputs": [
    {
     "name": "stdout",
     "output_type": "stream",
     "text": [
      "There are 13 extra sketches in this first bin, which need to be split out\n"
     ]
    },
    {
     "data": {
      "text/html": [
       "<div>\n",
       "<style scoped>\n",
       "    .dataframe tbody tr th:only-of-type {\n",
       "        vertical-align: middle;\n",
       "    }\n",
       "\n",
       "    .dataframe tbody tr th {\n",
       "        vertical-align: top;\n",
       "    }\n",
       "\n",
       "    .dataframe thead th {\n",
       "        text-align: right;\n",
       "    }\n",
       "</style>\n",
       "<table border=\"1\" class=\"dataframe\">\n",
       "  <thead>\n",
       "    <tr style=\"text-align: right;\">\n",
       "      <th></th>\n",
       "      <th>filename</th>\n",
       "      <th>Unnamed: 0</th>\n",
       "      <th>session_id</th>\n",
       "      <th>subID</th>\n",
       "      <th>age</th>\n",
       "      <th>category</th>\n",
       "      <th>condition</th>\n",
       "      <th>ref_image_name</th>\n",
       "      <th>stroke_count</th>\n",
       "      <th>svg</th>\n",
       "      <th>location</th>\n",
       "      <th>group</th>\n",
       "      <th>bin</th>\n",
       "    </tr>\n",
       "  </thead>\n",
       "  <tbody>\n",
       "    <tr>\n",
       "      <th>0</th>\n",
       "      <td>/Users/brialong/Documents/GitHub/devphotodraw/...</td>\n",
       "      <td>1507</td>\n",
       "      <td>CDM_photodraw_e21542057631101</td>\n",
       "      <td>111218_6</td>\n",
       "      <td>age5</td>\n",
       "      <td>bird</td>\n",
       "      <td>P</td>\n",
       "      <td>images_photocues/bird_2.png</td>\n",
       "      <td>1</td>\n",
       "      <td>M252.71875,392.42188l-3.26303,2.76387l-2.45018...</td>\n",
       "      <td>CDM</td>\n",
       "      <td>animals</td>\n",
       "      <td>0</td>\n",
       "    </tr>\n",
       "    <tr>\n",
       "      <th>1</th>\n",
       "      <td>/Users/brialong/Documents/GitHub/devphotodraw/...</td>\n",
       "      <td>3559</td>\n",
       "      <td>CDM_photodraw_e21547060282520</td>\n",
       "      <td>O10919_1</td>\n",
       "      <td>age4</td>\n",
       "      <td>bird</td>\n",
       "      <td>S</td>\n",
       "      <td>images_photocues/bird_1.png</td>\n",
       "      <td>1</td>\n",
       "      <td>M82.71875,671.42188l-4.633,-9.87144l-1.29078,-...</td>\n",
       "      <td>CDM</td>\n",
       "      <td>animals</td>\n",
       "      <td>0</td>\n",
       "    </tr>\n",
       "    <tr>\n",
       "      <th>2</th>\n",
       "      <td>/Users/brialong/Documents/GitHub/devphotodraw/...</td>\n",
       "      <td>3915</td>\n",
       "      <td>CDM_photodraw_e21547069129052</td>\n",
       "      <td>010919_6</td>\n",
       "      <td>age7</td>\n",
       "      <td>bird</td>\n",
       "      <td>S</td>\n",
       "      <td>images_photocues/bird_3.png</td>\n",
       "      <td>1</td>\n",
       "      <td>M558.71875,213.42188l-22.55258,-6.3711l-23.447...</td>\n",
       "      <td>CDM</td>\n",
       "      <td>animals</td>\n",
       "      <td>0</td>\n",
       "    </tr>\n",
       "    <tr>\n",
       "      <th>3</th>\n",
       "      <td>/Users/brialong/Documents/GitHub/devphotodraw/...</td>\n",
       "      <td>7031</td>\n",
       "      <td>CDM_photodraw_e21547849081297</td>\n",
       "      <td>011819_8</td>\n",
       "      <td>age6</td>\n",
       "      <td>cat</td>\n",
       "      <td>P</td>\n",
       "      <td>images_photocues/cat_2.png</td>\n",
       "      <td>1</td>\n",
       "      <td>M527.71875,424.42188l10,-7l1.529,-0.13259l3.57...</td>\n",
       "      <td>CDM</td>\n",
       "      <td>animals</td>\n",
       "      <td>0</td>\n",
       "    </tr>\n",
       "    <tr>\n",
       "      <th>4</th>\n",
       "      <td>THU_sketches_and_metadata/bird_sketch_Ipad1-TH...</td>\n",
       "      <td>7543</td>\n",
       "      <td>Tsinghua_photodraw_production1576566518161</td>\n",
       "      <td>Ipad1-THU8M36</td>\n",
       "      <td>8.52</td>\n",
       "      <td>bird</td>\n",
       "      <td>S</td>\n",
       "      <td>images_photocues/bird_3.png</td>\n",
       "      <td>1</td>\n",
       "      <td>&lt;path xmlns=\"http://www.w3.org/2000/svg\" d=\"M3...</td>\n",
       "      <td>THU</td>\n",
       "      <td>animals</td>\n",
       "      <td>0</td>\n",
       "    </tr>\n",
       "    <tr>\n",
       "      <th>5</th>\n",
       "      <td>THU_sketches_and_metadata/bird_sketch_Ipad4_TH...</td>\n",
       "      <td>1675</td>\n",
       "      <td>Tsinghua_photodraw_production1573784365523</td>\n",
       "      <td>Ipad4_THU4M7</td>\n",
       "      <td>4.10</td>\n",
       "      <td>bird</td>\n",
       "      <td>P</td>\n",
       "      <td>images_photocues/bird_3.png</td>\n",
       "      <td>1</td>\n",
       "      <td>&lt;path xmlns=\"http://www.w3.org/2000/svg\" d=\"M2...</td>\n",
       "      <td>THU</td>\n",
       "      <td>animals</td>\n",
       "      <td>0</td>\n",
       "    </tr>\n",
       "    <tr>\n",
       "      <th>6</th>\n",
       "      <td>THU_sketches_and_metadata/bird_sketch_iPad1_TH...</td>\n",
       "      <td>9839</td>\n",
       "      <td>Tsinghua_photodraw_production1573786980255</td>\n",
       "      <td>iPad1_THU4M9</td>\n",
       "      <td>4.96</td>\n",
       "      <td>bird</td>\n",
       "      <td>S</td>\n",
       "      <td>images_photocues/bird_3.png</td>\n",
       "      <td>1</td>\n",
       "      <td>&lt;path xmlns=\"http://www.w3.org/2000/svg\" d=\"M3...</td>\n",
       "      <td>THU</td>\n",
       "      <td>animals</td>\n",
       "      <td>0</td>\n",
       "    </tr>\n",
       "    <tr>\n",
       "      <th>7</th>\n",
       "      <td>THU_sketches_and_metadata/bird_sketch_iPad_THU...</td>\n",
       "      <td>12523</td>\n",
       "      <td>Tsinghua_photodraw_production1575960999852</td>\n",
       "      <td>iPad_THU8M21</td>\n",
       "      <td>8.35</td>\n",
       "      <td>bird</td>\n",
       "      <td>S</td>\n",
       "      <td>images_photocues/bird_2.png</td>\n",
       "      <td>1</td>\n",
       "      <td>&lt;path xmlns=\"http://www.w3.org/2000/svg\" d=\"M1...</td>\n",
       "      <td>THU</td>\n",
       "      <td>animals</td>\n",
       "      <td>0</td>\n",
       "    </tr>\n",
       "    <tr>\n",
       "      <th>8</th>\n",
       "      <td>THU_sketches_and_metadata/cat_sketch_Ipad1__TH...</td>\n",
       "      <td>11006</td>\n",
       "      <td>Tsinghua_photodraw_production1578968887739</td>\n",
       "      <td>Ipad1__THU 9M47</td>\n",
       "      <td>9.85</td>\n",
       "      <td>cat</td>\n",
       "      <td>S</td>\n",
       "      <td>images_photocues/cat_1.png</td>\n",
       "      <td>1</td>\n",
       "      <td>&lt;path xmlns=\"http://www.w3.org/2000/svg\" d=\"M3...</td>\n",
       "      <td>THU</td>\n",
       "      <td>animals</td>\n",
       "      <td>0</td>\n",
       "    </tr>\n",
       "    <tr>\n",
       "      <th>9</th>\n",
       "      <td>THU_sketches_and_metadata/cat_sketch_Ipad2_THU...</td>\n",
       "      <td>4991</td>\n",
       "      <td>Tsinghua_photodraw_production1576134884446</td>\n",
       "      <td>Ipad2_THU6M30</td>\n",
       "      <td>6.57</td>\n",
       "      <td>cat</td>\n",
       "      <td>S</td>\n",
       "      <td>images_photocues/cat_2.png</td>\n",
       "      <td>1</td>\n",
       "      <td>&lt;path xmlns=\"http://www.w3.org/2000/svg\" d=\"M4...</td>\n",
       "      <td>THU</td>\n",
       "      <td>animals</td>\n",
       "      <td>0</td>\n",
       "    </tr>\n",
       "    <tr>\n",
       "      <th>10</th>\n",
       "      <td>THU_sketches_and_metadata/cat_sketch_iPad 3_TH...</td>\n",
       "      <td>10221</td>\n",
       "      <td>Tsinghua_photodraw_production1578462794400</td>\n",
       "      <td>iPad 3_THU9F1</td>\n",
       "      <td>9.99</td>\n",
       "      <td>cat</td>\n",
       "      <td>S</td>\n",
       "      <td>images_photocues/cat_1.png</td>\n",
       "      <td>1</td>\n",
       "      <td>&lt;path xmlns=\"http://www.w3.org/2000/svg\" d=\"M6...</td>\n",
       "      <td>THU</td>\n",
       "      <td>animals</td>\n",
       "      <td>0</td>\n",
       "    </tr>\n",
       "    <tr>\n",
       "      <th>11</th>\n",
       "      <td>THU_sketches_and_metadata/cat_sketch_iPad1_THU...</td>\n",
       "      <td>11362</td>\n",
       "      <td>Tsinghua_photodraw_production1578969773820</td>\n",
       "      <td>iPad1_THU10F40</td>\n",
       "      <td>10.13</td>\n",
       "      <td>cat</td>\n",
       "      <td>P</td>\n",
       "      <td>images_photocues/cat_2.png</td>\n",
       "      <td>1</td>\n",
       "      <td>&lt;path xmlns=\"http://www.w3.org/2000/svg\" d=\"M1...</td>\n",
       "      <td>THU</td>\n",
       "      <td>animals</td>\n",
       "      <td>0</td>\n",
       "    </tr>\n",
       "    <tr>\n",
       "      <th>12</th>\n",
       "      <td>THU_sketches_and_metadata/rabbit_sketch_Ipad2_...</td>\n",
       "      <td>5497</td>\n",
       "      <td>Tsinghua_photodraw_production1575529585327</td>\n",
       "      <td>Ipad2_THU6F19</td>\n",
       "      <td>6.51</td>\n",
       "      <td>rabbit</td>\n",
       "      <td>S</td>\n",
       "      <td>images_photocues/rabbit_2.png</td>\n",
       "      <td>1</td>\n",
       "      <td>&lt;path xmlns=\"http://www.w3.org/2000/svg\" d=\"M2...</td>\n",
       "      <td>THU</td>\n",
       "      <td>animals</td>\n",
       "      <td>0</td>\n",
       "    </tr>\n",
       "  </tbody>\n",
       "</table>\n",
       "</div>"
      ],
      "text/plain": [
       "                                             filename  Unnamed: 0  \\\n",
       "0   /Users/brialong/Documents/GitHub/devphotodraw/...        1507   \n",
       "1   /Users/brialong/Documents/GitHub/devphotodraw/...        3559   \n",
       "2   /Users/brialong/Documents/GitHub/devphotodraw/...        3915   \n",
       "3   /Users/brialong/Documents/GitHub/devphotodraw/...        7031   \n",
       "4   THU_sketches_and_metadata/bird_sketch_Ipad1-TH...        7543   \n",
       "5   THU_sketches_and_metadata/bird_sketch_Ipad4_TH...        1675   \n",
       "6   THU_sketches_and_metadata/bird_sketch_iPad1_TH...        9839   \n",
       "7   THU_sketches_and_metadata/bird_sketch_iPad_THU...       12523   \n",
       "8   THU_sketches_and_metadata/cat_sketch_Ipad1__TH...       11006   \n",
       "9   THU_sketches_and_metadata/cat_sketch_Ipad2_THU...        4991   \n",
       "10  THU_sketches_and_metadata/cat_sketch_iPad 3_TH...       10221   \n",
       "11  THU_sketches_and_metadata/cat_sketch_iPad1_THU...       11362   \n",
       "12  THU_sketches_and_metadata/rabbit_sketch_Ipad2_...        5497   \n",
       "\n",
       "                                    session_id            subID    age  \\\n",
       "0                CDM_photodraw_e21542057631101         111218_6   age5   \n",
       "1                CDM_photodraw_e21547060282520         O10919_1   age4   \n",
       "2                CDM_photodraw_e21547069129052         010919_6   age7   \n",
       "3                CDM_photodraw_e21547849081297         011819_8   age6   \n",
       "4   Tsinghua_photodraw_production1576566518161    Ipad1-THU8M36   8.52   \n",
       "5   Tsinghua_photodraw_production1573784365523     Ipad4_THU4M7   4.10   \n",
       "6   Tsinghua_photodraw_production1573786980255     iPad1_THU4M9   4.96   \n",
       "7   Tsinghua_photodraw_production1575960999852     iPad_THU8M21   8.35   \n",
       "8   Tsinghua_photodraw_production1578968887739  Ipad1__THU 9M47   9.85   \n",
       "9   Tsinghua_photodraw_production1576134884446    Ipad2_THU6M30   6.57   \n",
       "10  Tsinghua_photodraw_production1578462794400    iPad 3_THU9F1   9.99   \n",
       "11  Tsinghua_photodraw_production1578969773820   iPad1_THU10F40  10.13   \n",
       "12  Tsinghua_photodraw_production1575529585327    Ipad2_THU6F19   6.51   \n",
       "\n",
       "   category condition                 ref_image_name  stroke_count  \\\n",
       "0      bird         P    images_photocues/bird_2.png             1   \n",
       "1      bird         S    images_photocues/bird_1.png             1   \n",
       "2      bird         S    images_photocues/bird_3.png             1   \n",
       "3       cat         P     images_photocues/cat_2.png             1   \n",
       "4      bird         S    images_photocues/bird_3.png             1   \n",
       "5      bird         P    images_photocues/bird_3.png             1   \n",
       "6      bird         S    images_photocues/bird_3.png             1   \n",
       "7      bird         S    images_photocues/bird_2.png             1   \n",
       "8       cat         S     images_photocues/cat_1.png             1   \n",
       "9       cat         S     images_photocues/cat_2.png             1   \n",
       "10      cat         S     images_photocues/cat_1.png             1   \n",
       "11      cat         P     images_photocues/cat_2.png             1   \n",
       "12   rabbit         S  images_photocues/rabbit_2.png             1   \n",
       "\n",
       "                                                  svg location    group  bin  \n",
       "0   M252.71875,392.42188l-3.26303,2.76387l-2.45018...      CDM  animals    0  \n",
       "1   M82.71875,671.42188l-4.633,-9.87144l-1.29078,-...      CDM  animals    0  \n",
       "2   M558.71875,213.42188l-22.55258,-6.3711l-23.447...      CDM  animals    0  \n",
       "3   M527.71875,424.42188l10,-7l1.529,-0.13259l3.57...      CDM  animals    0  \n",
       "4   <path xmlns=\"http://www.w3.org/2000/svg\" d=\"M3...      THU  animals    0  \n",
       "5   <path xmlns=\"http://www.w3.org/2000/svg\" d=\"M2...      THU  animals    0  \n",
       "6   <path xmlns=\"http://www.w3.org/2000/svg\" d=\"M3...      THU  animals    0  \n",
       "7   <path xmlns=\"http://www.w3.org/2000/svg\" d=\"M1...      THU  animals    0  \n",
       "8   <path xmlns=\"http://www.w3.org/2000/svg\" d=\"M3...      THU  animals    0  \n",
       "9   <path xmlns=\"http://www.w3.org/2000/svg\" d=\"M4...      THU  animals    0  \n",
       "10  <path xmlns=\"http://www.w3.org/2000/svg\" d=\"M6...      THU  animals    0  \n",
       "11  <path xmlns=\"http://www.w3.org/2000/svg\" d=\"M1...      THU  animals    0  \n",
       "12  <path xmlns=\"http://www.w3.org/2000/svg\" d=\"M2...      THU  animals    0  "
      ]
     },
     "execution_count": 168,
     "metadata": {},
     "output_type": "execute_result"
    }
   ],
   "source": [
    "## visually check the first bin\n",
    "print('There are {} extra sketches in this first bin, which need to be split out'.format(len(G.loc[G['bin'] == 0])))\n",
    "G.loc[G['bin'] == 0].reset_index(drop=True)"
   ]
  },
  {
   "cell_type": "code",
   "execution_count": 169,
   "metadata": {},
   "outputs": [],
   "source": [
    "import math \n",
    "num_divide_by = math.ceil(len(G.loc[G['bin'] == 0])/3)"
   ]
  },
  {
   "cell_type": "code",
   "execution_count": 170,
   "metadata": {},
   "outputs": [
    {
     "data": {
      "text/plain": [
       "13"
      ]
     },
     "execution_count": 170,
     "metadata": {},
     "output_type": "execute_result"
    }
   ],
   "source": [
    "## need to split the first bin that has too many sketches\n",
    "need_split = G.loc[G['bin'] == 0]\n",
    "need_split['filename'].nunique()"
   ]
  },
  {
   "cell_type": "code",
   "execution_count": 171,
   "metadata": {},
   "outputs": [],
   "source": [
    "## randomly shuffle and split into 4 new bins\n",
    "shuffled = need_split.sample(frac=1)\n",
    "result = np.array_split(shuffled, num_divide_by)"
   ]
  },
  {
   "cell_type": "code",
   "execution_count": 172,
   "metadata": {
    "scrolled": true
   },
   "outputs": [
    {
     "data": {
      "text/plain": [
       "3"
      ]
     },
     "metadata": {},
     "output_type": "display_data"
    },
    {
     "data": {
      "text/plain": [
       "3"
      ]
     },
     "metadata": {},
     "output_type": "display_data"
    },
    {
     "data": {
      "text/plain": [
       "3"
      ]
     },
     "metadata": {},
     "output_type": "display_data"
    },
    {
     "data": {
      "text/plain": [
       "2"
      ]
     },
     "metadata": {},
     "output_type": "display_data"
    },
    {
     "data": {
      "text/plain": [
       "2"
      ]
     },
     "metadata": {},
     "output_type": "display_data"
    }
   ],
   "source": [
    "## subset each new bin\n",
    "result_1 = result[0]\n",
    "result_2 = result[1]\n",
    "result_2['bin'] = G['bin'].max() + 1\n",
    "result_3 = result[2]\n",
    "result_3['bin'] = G['bin'].max() + 2\n",
    "result_4 = result[3]\n",
    "result_4['bin'] = G['bin'].max() + 3\n",
    "result_5 = result[4]\n",
    "result_5['bin'] = G['bin'].max() + 4\n",
    "# result_6 = result[5]\n",
    "# result_6['bin'] = G['bin'].max() + 5\n",
    "# result_7 = result[6]\n",
    "# result_7['bin'] = G['bin'].max() + 6\n",
    "# result_8 = result[7]\n",
    "# result_8['bin'] = G['bin'].max() + 7\n",
    "# result_9 = result[8]\n",
    "# result_9['bin'] = G['bin'].max() + 8\n",
    "\n",
    "display(len(result_1))\n",
    "display(len(result_2))\n",
    "display(len(result_3))\n",
    "display(len(result_4))\n",
    "display(len(result_5))\n",
    "# display(len(result_6))\n",
    "# display(len(result_7))\n",
    "# display(len(result_8))\n",
    "# display(len(result_9))"
   ]
  },
  {
   "cell_type": "code",
   "execution_count": 173,
   "metadata": {},
   "outputs": [],
   "source": [
    "extra_result_1 = result_2.tail(1)\n",
    "extra_result_2 = result_1.tail(1)\n",
    "\n",
    "result_4 = result_4.append(extra_result_1)\n",
    "result_4['bin'] = int(result_4.iloc[0]['bin'])\n",
    "\n",
    "result_5 = result_5.append(extra_result_2)\n",
    "result_5['bin'] = int(result_5.iloc[0]['bin'])"
   ]
  },
  {
   "cell_type": "code",
   "execution_count": 176,
   "metadata": {},
   "outputs": [],
   "source": [
    "## remove first bin, so that we can replace it\n",
    "G = G[G.bin != 0]\n",
    "\n",
    "# add the new bins back into the dataframe\n",
    "G = pd.concat([G, result_1, \n",
    "                  result_2, \n",
    "                  result_3, \n",
    "                  result_4, \n",
    "                  result_5]).reset_index(drop=True)"
   ]
  },
  {
   "cell_type": "code",
   "execution_count": 177,
   "metadata": {},
   "outputs": [
    {
     "data": {
      "text/html": [
       "<div>\n",
       "<style scoped>\n",
       "    .dataframe tbody tr th:only-of-type {\n",
       "        vertical-align: middle;\n",
       "    }\n",
       "\n",
       "    .dataframe tbody tr th {\n",
       "        vertical-align: top;\n",
       "    }\n",
       "\n",
       "    .dataframe thead th {\n",
       "        text-align: right;\n",
       "    }\n",
       "</style>\n",
       "<table border=\"1\" class=\"dataframe\">\n",
       "  <thead>\n",
       "    <tr style=\"text-align: right;\">\n",
       "      <th></th>\n",
       "      <th>filename</th>\n",
       "      <th>Unnamed: 0</th>\n",
       "      <th>session_id</th>\n",
       "      <th>subID</th>\n",
       "      <th>age</th>\n",
       "      <th>category</th>\n",
       "      <th>condition</th>\n",
       "      <th>ref_image_name</th>\n",
       "      <th>stroke_count</th>\n",
       "      <th>svg</th>\n",
       "      <th>location</th>\n",
       "      <th>group</th>\n",
       "      <th>bin</th>\n",
       "    </tr>\n",
       "  </thead>\n",
       "  <tbody>\n",
       "    <tr>\n",
       "      <th>0</th>\n",
       "      <td>/Users/brialong/Documents/GitHub/devphotodraw/...</td>\n",
       "      <td>7031</td>\n",
       "      <td>CDM_photodraw_e21547849081297</td>\n",
       "      <td>011819_8</td>\n",
       "      <td>age6</td>\n",
       "      <td>cat</td>\n",
       "      <td>P</td>\n",
       "      <td>images_photocues/cat_2.png</td>\n",
       "      <td>1</td>\n",
       "      <td>M527.71875,424.42188l10,-7l1.529,-0.13259l3.57...</td>\n",
       "      <td>CDM</td>\n",
       "      <td>animals</td>\n",
       "      <td>0</td>\n",
       "    </tr>\n",
       "    <tr>\n",
       "      <th>1</th>\n",
       "      <td>THU_sketches_and_metadata/cat_sketch_iPad 3_TH...</td>\n",
       "      <td>10221</td>\n",
       "      <td>Tsinghua_photodraw_production1578462794400</td>\n",
       "      <td>iPad 3_THU9F1</td>\n",
       "      <td>9.99</td>\n",
       "      <td>cat</td>\n",
       "      <td>S</td>\n",
       "      <td>images_photocues/cat_1.png</td>\n",
       "      <td>1</td>\n",
       "      <td>&lt;path xmlns=\"http://www.w3.org/2000/svg\" d=\"M6...</td>\n",
       "      <td>THU</td>\n",
       "      <td>animals</td>\n",
       "      <td>0</td>\n",
       "    </tr>\n",
       "    <tr>\n",
       "      <th>2</th>\n",
       "      <td>/Users/brialong/Documents/GitHub/devphotodraw/...</td>\n",
       "      <td>3915</td>\n",
       "      <td>CDM_photodraw_e21547069129052</td>\n",
       "      <td>010919_6</td>\n",
       "      <td>age7</td>\n",
       "      <td>bird</td>\n",
       "      <td>S</td>\n",
       "      <td>images_photocues/bird_3.png</td>\n",
       "      <td>1</td>\n",
       "      <td>M558.71875,213.42188l-22.55258,-6.3711l-23.447...</td>\n",
       "      <td>CDM</td>\n",
       "      <td>animals</td>\n",
       "      <td>0</td>\n",
       "    </tr>\n",
       "  </tbody>\n",
       "</table>\n",
       "</div>"
      ],
      "text/plain": [
       "                                            filename  Unnamed: 0  \\\n",
       "0  /Users/brialong/Documents/GitHub/devphotodraw/...        7031   \n",
       "1  THU_sketches_and_metadata/cat_sketch_iPad 3_TH...       10221   \n",
       "2  /Users/brialong/Documents/GitHub/devphotodraw/...        3915   \n",
       "\n",
       "                                   session_id          subID   age category  \\\n",
       "0               CDM_photodraw_e21547849081297       011819_8  age6      cat   \n",
       "1  Tsinghua_photodraw_production1578462794400  iPad 3_THU9F1  9.99      cat   \n",
       "2               CDM_photodraw_e21547069129052       010919_6  age7     bird   \n",
       "\n",
       "  condition               ref_image_name  stroke_count  \\\n",
       "0         P   images_photocues/cat_2.png             1   \n",
       "1         S   images_photocues/cat_1.png             1   \n",
       "2         S  images_photocues/bird_3.png             1   \n",
       "\n",
       "                                                 svg location    group  bin  \n",
       "0  M527.71875,424.42188l10,-7l1.529,-0.13259l3.57...      CDM  animals    0  \n",
       "1  <path xmlns=\"http://www.w3.org/2000/svg\" d=\"M6...      THU  animals    0  \n",
       "2  M558.71875,213.42188l-22.55258,-6.3711l-23.447...      CDM  animals    0  "
      ]
     },
     "execution_count": 177,
     "metadata": {},
     "output_type": "execute_result"
    }
   ],
   "source": [
    "# visually check the first bin\n",
    "G.loc[G['bin'] == 0].reset_index(drop=True)"
   ]
  },
  {
   "cell_type": "code",
   "execution_count": 179,
   "metadata": {},
   "outputs": [
    {
     "name": "stdout",
     "output_type": "stream",
     "text": [
      "Second check passed! There are [3] items in each bin\n"
     ]
    }
   ],
   "source": [
    "## do we have the 4 items in each bin?\n",
    "checker = []\n",
    "for i, bins in G.groupby('bin'):\n",
    "    c = bins['filename'].nunique()\n",
    "    checker.append(c)\n",
    "\n",
    "C = pd.DataFrame(checker, columns=['numSketch'])\n",
    "\n",
    "print('Second check passed! There are {} items in each bin'.format(C['numSketch'].unique()))\n",
    "assert C['numSketch'].unique() == G[\"category\"].nunique()"
   ]
  },
  {
   "cell_type": "code",
   "execution_count": 199,
   "metadata": {},
   "outputs": [
    {
     "name": "stdout",
     "output_type": "stream",
     "text": [
      "Check passed! There are 682 sketches still in our binned dataset\n"
     ]
    }
   ],
   "source": [
    "## did we retain all our sketches? \n",
    "assert G['filename'].nunique() == whichGroup['filename'].nunique()\n",
    "print('Check passed! There are {} sketches still in our binned dataset'.format(G['filename'].nunique()))"
   ]
  },
  {
   "cell_type": "code",
   "execution_count": 206,
   "metadata": {},
   "outputs": [],
   "source": [
    "## currently there are 3 sketches in each bin\n",
    "## now we want to group bins, so that there are 9 sketches in a 'bin_9'\n",
    "numbers = list(range(0, G['bin'].max()+1))\n",
    "numbers = pd.DataFrame(numbers, columns=['bin'])\n",
    "numbers['bin_9'] = np.arange(len(numbers)) // 3\n",
    "\n",
    "regroup_df = G.merge(numbers, left_on='bin', right_on='bin')"
   ]
  },
  {
   "cell_type": "code",
   "execution_count": 212,
   "metadata": {},
   "outputs": [
    {
     "name": "stdout",
     "output_type": "stream",
     "text": [
      "How many bins were made? 76\n"
     ]
    }
   ],
   "source": [
    "print('How many bins were made? {}'.format(regroup_df['bin_9'].nunique()))"
   ]
  },
  {
   "cell_type": "code",
   "execution_count": 213,
   "metadata": {
    "scrolled": true
   },
   "outputs": [
    {
     "data": {
      "text/html": [
       "<div>\n",
       "<style scoped>\n",
       "    .dataframe tbody tr th:only-of-type {\n",
       "        vertical-align: middle;\n",
       "    }\n",
       "\n",
       "    .dataframe tbody tr th {\n",
       "        vertical-align: top;\n",
       "    }\n",
       "\n",
       "    .dataframe thead th {\n",
       "        text-align: right;\n",
       "    }\n",
       "</style>\n",
       "<table border=\"1\" class=\"dataframe\">\n",
       "  <thead>\n",
       "    <tr style=\"text-align: right;\">\n",
       "      <th></th>\n",
       "      <th>filename</th>\n",
       "      <th>Unnamed: 0</th>\n",
       "      <th>session_id</th>\n",
       "      <th>subID</th>\n",
       "      <th>age</th>\n",
       "      <th>category</th>\n",
       "      <th>condition</th>\n",
       "      <th>ref_image_name</th>\n",
       "      <th>stroke_count</th>\n",
       "      <th>svg</th>\n",
       "      <th>location</th>\n",
       "      <th>group</th>\n",
       "      <th>bin</th>\n",
       "      <th>bin_9</th>\n",
       "    </tr>\n",
       "  </thead>\n",
       "  <tbody>\n",
       "    <tr>\n",
       "      <th>0</th>\n",
       "      <td>/Users/brialong/Documents/GitHub/devphotodraw/...</td>\n",
       "      <td>886</td>\n",
       "      <td>CDM_photodraw_e21541799408496</td>\n",
       "      <td>110918_1</td>\n",
       "      <td>age4</td>\n",
       "      <td>bird</td>\n",
       "      <td>P</td>\n",
       "      <td>images_photocues/bird_3.png</td>\n",
       "      <td>1</td>\n",
       "      <td>M381.71875,525.42188l2.64745,-29.2329l-3.00642...</td>\n",
       "      <td>CDM</td>\n",
       "      <td>animals</td>\n",
       "      <td>85</td>\n",
       "      <td>28</td>\n",
       "    </tr>\n",
       "    <tr>\n",
       "      <th>1</th>\n",
       "      <td>THU_sketches_and_metadata/cat_sketch_Ipad2_THU...</td>\n",
       "      <td>5456</td>\n",
       "      <td>Tsinghua_photodraw_production1575529585327</td>\n",
       "      <td>Ipad2_THU6F19</td>\n",
       "      <td>6.51</td>\n",
       "      <td>cat</td>\n",
       "      <td>P</td>\n",
       "      <td>images_photocues/cat_2.png</td>\n",
       "      <td>1</td>\n",
       "      <td>&lt;path xmlns=\"http://www.w3.org/2000/svg\" d=\"M1...</td>\n",
       "      <td>THU</td>\n",
       "      <td>animals</td>\n",
       "      <td>85</td>\n",
       "      <td>28</td>\n",
       "    </tr>\n",
       "    <tr>\n",
       "      <th>2</th>\n",
       "      <td>THU_sketches_and_metadata/rabbit_sketch_iPad 5...</td>\n",
       "      <td>280</td>\n",
       "      <td>Tsinghua_photodraw_production1573786717640</td>\n",
       "      <td>iPad 5_THU5M9</td>\n",
       "      <td>5.02</td>\n",
       "      <td>rabbit</td>\n",
       "      <td>P</td>\n",
       "      <td>images_photocues/rabbit_3.png</td>\n",
       "      <td>1</td>\n",
       "      <td>&lt;path xmlns=\"http://www.w3.org/2000/svg\" d=\"M1...</td>\n",
       "      <td>THU</td>\n",
       "      <td>animals</td>\n",
       "      <td>85</td>\n",
       "      <td>28</td>\n",
       "    </tr>\n",
       "    <tr>\n",
       "      <th>3</th>\n",
       "      <td>/Users/brialong/Documents/GitHub/devphotodraw/...</td>\n",
       "      <td>4008</td>\n",
       "      <td>CDM_photodraw_e21547070395780</td>\n",
       "      <td>010919_7</td>\n",
       "      <td>age4</td>\n",
       "      <td>bird</td>\n",
       "      <td>P</td>\n",
       "      <td>images_photocues/bird_1.png</td>\n",
       "      <td>1</td>\n",
       "      <td>M145.71875,291.42188l4.14908,8.73997l5.95342,1...</td>\n",
       "      <td>CDM</td>\n",
       "      <td>animals</td>\n",
       "      <td>61</td>\n",
       "      <td>20</td>\n",
       "    </tr>\n",
       "    <tr>\n",
       "      <th>4</th>\n",
       "      <td>THU_sketches_and_metadata/cat_sketch_Ipad1_THU...</td>\n",
       "      <td>9198</td>\n",
       "      <td>Tsinghua_photodraw_production1576738027913</td>\n",
       "      <td>Ipad1_THU6F43</td>\n",
       "      <td>6.65</td>\n",
       "      <td>cat</td>\n",
       "      <td>P</td>\n",
       "      <td>images_photocues/cat_3.png</td>\n",
       "      <td>1</td>\n",
       "      <td>&lt;path xmlns=\"http://www.w3.org/2000/svg\" d=\"M1...</td>\n",
       "      <td>THU</td>\n",
       "      <td>animals</td>\n",
       "      <td>61</td>\n",
       "      <td>20</td>\n",
       "    </tr>\n",
       "  </tbody>\n",
       "</table>\n",
       "</div>"
      ],
      "text/plain": [
       "                                            filename  Unnamed: 0  \\\n",
       "0  /Users/brialong/Documents/GitHub/devphotodraw/...         886   \n",
       "1  THU_sketches_and_metadata/cat_sketch_Ipad2_THU...        5456   \n",
       "2  THU_sketches_and_metadata/rabbit_sketch_iPad 5...         280   \n",
       "3  /Users/brialong/Documents/GitHub/devphotodraw/...        4008   \n",
       "4  THU_sketches_and_metadata/cat_sketch_Ipad1_THU...        9198   \n",
       "\n",
       "                                   session_id          subID   age category  \\\n",
       "0               CDM_photodraw_e21541799408496       110918_1  age4     bird   \n",
       "1  Tsinghua_photodraw_production1575529585327  Ipad2_THU6F19  6.51      cat   \n",
       "2  Tsinghua_photodraw_production1573786717640  iPad 5_THU5M9  5.02   rabbit   \n",
       "3               CDM_photodraw_e21547070395780       010919_7  age4     bird   \n",
       "4  Tsinghua_photodraw_production1576738027913  Ipad1_THU6F43  6.65      cat   \n",
       "\n",
       "  condition                 ref_image_name  stroke_count  \\\n",
       "0         P    images_photocues/bird_3.png             1   \n",
       "1         P     images_photocues/cat_2.png             1   \n",
       "2         P  images_photocues/rabbit_3.png             1   \n",
       "3         P    images_photocues/bird_1.png             1   \n",
       "4         P     images_photocues/cat_3.png             1   \n",
       "\n",
       "                                                 svg location    group  bin  \\\n",
       "0  M381.71875,525.42188l2.64745,-29.2329l-3.00642...      CDM  animals   85   \n",
       "1  <path xmlns=\"http://www.w3.org/2000/svg\" d=\"M1...      THU  animals   85   \n",
       "2  <path xmlns=\"http://www.w3.org/2000/svg\" d=\"M1...      THU  animals   85   \n",
       "3  M145.71875,291.42188l4.14908,8.73997l5.95342,1...      CDM  animals   61   \n",
       "4  <path xmlns=\"http://www.w3.org/2000/svg\" d=\"M1...      THU  animals   61   \n",
       "\n",
       "   bin_9  \n",
       "0     28  \n",
       "1     28  \n",
       "2     28  \n",
       "3     20  \n",
       "4     20  "
      ]
     },
     "execution_count": 213,
     "metadata": {},
     "output_type": "execute_result"
    }
   ],
   "source": [
    "## visually look at things\n",
    "regroup_df.head()"
   ]
  },
  {
   "cell_type": "code",
   "execution_count": 215,
   "metadata": {},
   "outputs": [
    {
     "name": "stdout",
     "output_type": "stream",
     "text": [
      "There are [9] items in each bin_9\n"
     ]
    }
   ],
   "source": [
    "## do we have the 9 items in each bin_9?\n",
    "checker = []\n",
    "for i, bins in regroup_df.groupby('bin_9'):\n",
    "    c = bins['filename'].nunique()\n",
    "    checker.append(c)\n",
    "\n",
    "C = pd.DataFrame(checker, columns=['numSketch'])\n",
    "print('There are {} items in each bin_9'.format(C['numSketch'].unique()))"
   ]
  },
  {
   "cell_type": "code",
   "execution_count": 216,
   "metadata": {},
   "outputs": [],
   "source": [
    "# reallyRun = True\n",
    "# if reallyRun:    \n",
    "#     ## check last bin to see if there's 8\n",
    "#     # display(regroup_df.loc[regroup_df['bin_8'] == regroup_df['bin_8'].max()])\n",
    "    \n",
    "#     ## grab extra 4 drawings from prior bin\n",
    "#     extra_4 = regroup_df.loc[regroup_df['bin_8'] == regroup_df['bin_8'].max() - 1].head(4)\n",
    "    \n",
    "#     ## add extra 4 to last bin \n",
    "#     extra_4['bin_8'] = regroup_df['bin_8'].max()\n",
    "# #     display(extra_4)\n",
    "#     regroup_df = regroup_df.append(extra_4)\n",
    "    \n",
    "#     ## visually check things\n",
    "#     ## check last bin to see if there's 8\n",
    "#     display(regroup_df.loc[regroup_df['bin_8'] == regroup_df['bin_8'].max()])\n",
    "    \n",
    "#     print('added 4 extra sketches to last bin')"
   ]
  },
  {
   "cell_type": "code",
   "execution_count": 217,
   "metadata": {},
   "outputs": [
    {
     "name": "stdout",
     "output_type": "stream",
     "text": [
      "How many bins are there now? 76\n"
     ]
    }
   ],
   "source": [
    "print('How many bins are there now? {}'.format(regroup_df['bin_9'].nunique()))"
   ]
  },
  {
   "cell_type": "code",
   "execution_count": 220,
   "metadata": {},
   "outputs": [],
   "source": [
    "# from collections import Counter\n",
    "# Counter(Counter(regroup_df.bin_9.value_counts().to_dict()))"
   ]
  },
  {
   "cell_type": "markdown",
   "metadata": {},
   "source": [
    "### now merge at stroke-level"
   ]
  },
  {
   "cell_type": "code",
   "execution_count": 236,
   "metadata": {},
   "outputs": [],
   "source": [
    "## add bin col to sketch-level animal data\n",
    "full_stroke_data = data_test.merge(regroup_df, left_on='filename', right_on='filename', suffixes=('', '_drop'))\n",
    "\n",
    "# drop the duplicate columns\n",
    "full_stroke_data.drop([col for col in full_stroke_data.columns if 'drop' in col], axis=1, inplace=True)\n",
    "\n",
    "## col cleanup\n",
    "# full_stroke_data['arcLength'] = full_stroke_data['arcLength'].astype('int32')\n",
    "full_stroke_data['stroke_count'] = full_stroke_data['stroke_count'].astype('int32')\n",
    "# full_stroke_data['currStrokeNum'] = full_stroke_data['currStrokeNum'].astype('int32')"
   ]
  },
  {
   "cell_type": "code",
   "execution_count": 222,
   "metadata": {},
   "outputs": [],
   "source": [
    "## did we retain all our sketches? \n",
    "assert full_stroke_data['filename'].nunique() == G['filename'].nunique()"
   ]
  },
  {
   "cell_type": "code",
   "execution_count": 251,
   "metadata": {},
   "outputs": [],
   "source": [
    "## visually check that things make sense — this should show all sketches at the stroke-level of first bin\n",
    "d = full_stroke_data.loc[full_stroke_data['bin'] == 0]\n",
    "# for i, group in d.groupby('filename'):\n",
    "#     display(group)"
   ]
  },
  {
   "cell_type": "code",
   "execution_count": 255,
   "metadata": {},
   "outputs": [],
   "source": [
    "# final['arcLength'] = final['arcLength'].astype(str) \n",
    "# final['currStrokeNum'] = final['currStrokeNum'].astype(str) \n",
    "full_stroke_data['stroke_count'] = full_stroke_data['stroke_count'].astype(str) \n",
    "full_stroke_data['bin'] = full_stroke_data['bin'].astype(str) \n",
    "full_stroke_data['bin_9'] = full_stroke_data['bin_9'].astype(str) \n",
    "\n",
    "full_stroke_data = full_stroke_data.drop(columns=['Unnamed: 0'])"
   ]
  },
  {
   "cell_type": "code",
   "execution_count": 256,
   "metadata": {},
   "outputs": [],
   "source": [
    "## copy over\n",
    "final = full_stroke_data.copy()"
   ]
  },
  {
   "cell_type": "code",
   "execution_count": 257,
   "metadata": {},
   "outputs": [
    {
     "data": {
      "text/html": [
       "<div>\n",
       "<style scoped>\n",
       "    .dataframe tbody tr th:only-of-type {\n",
       "        vertical-align: middle;\n",
       "    }\n",
       "\n",
       "    .dataframe tbody tr th {\n",
       "        vertical-align: top;\n",
       "    }\n",
       "\n",
       "    .dataframe thead th {\n",
       "        text-align: right;\n",
       "    }\n",
       "</style>\n",
       "<table border=\"1\" class=\"dataframe\">\n",
       "  <thead>\n",
       "    <tr style=\"text-align: right;\">\n",
       "      <th></th>\n",
       "      <th>session_id</th>\n",
       "      <th>subID</th>\n",
       "      <th>age</th>\n",
       "      <th>category</th>\n",
       "      <th>condition</th>\n",
       "      <th>filename</th>\n",
       "      <th>ref_image_name</th>\n",
       "      <th>stroke_count</th>\n",
       "      <th>svg</th>\n",
       "      <th>location</th>\n",
       "      <th>group</th>\n",
       "      <th>bin</th>\n",
       "      <th>bin_9</th>\n",
       "    </tr>\n",
       "  </thead>\n",
       "  <tbody>\n",
       "    <tr>\n",
       "      <th>0</th>\n",
       "      <td>CDM_photodraw_e21540576907849</td>\n",
       "      <td>102618_1</td>\n",
       "      <td>age4</td>\n",
       "      <td>rabbit</td>\n",
       "      <td>P</td>\n",
       "      <td>/Users/brialong/Documents/GitHub/devphotodraw/...</td>\n",
       "      <td>images_photocues/rabbit_1.png</td>\n",
       "      <td>1</td>\n",
       "      <td>M634.71875,474.42188l-21.35678,12.64963l-22.64...</td>\n",
       "      <td>CDM</td>\n",
       "      <td>animals</td>\n",
       "      <td>47</td>\n",
       "      <td>15</td>\n",
       "    </tr>\n",
       "    <tr>\n",
       "      <th>1</th>\n",
       "      <td>CDM_photodraw_e21540576907849</td>\n",
       "      <td>102618_1</td>\n",
       "      <td>age4</td>\n",
       "      <td>rabbit</td>\n",
       "      <td>P</td>\n",
       "      <td>/Users/brialong/Documents/GitHub/devphotodraw/...</td>\n",
       "      <td>images_photocues/rabbit_1.png</td>\n",
       "      <td>2</td>\n",
       "      <td>M590.71875,446.42188l-9.94288,-2.39073l-10.581...</td>\n",
       "      <td>CDM</td>\n",
       "      <td>animals</td>\n",
       "      <td>47</td>\n",
       "      <td>15</td>\n",
       "    </tr>\n",
       "    <tr>\n",
       "      <th>2</th>\n",
       "      <td>CDM_photodraw_e21540576907849</td>\n",
       "      <td>102618_1</td>\n",
       "      <td>age4</td>\n",
       "      <td>rabbit</td>\n",
       "      <td>P</td>\n",
       "      <td>/Users/brialong/Documents/GitHub/devphotodraw/...</td>\n",
       "      <td>images_photocues/rabbit_1.png</td>\n",
       "      <td>3</td>\n",
       "      <td>M601.71875,339.42188l-8.21063,-3.25486l-8.9780...</td>\n",
       "      <td>CDM</td>\n",
       "      <td>animals</td>\n",
       "      <td>47</td>\n",
       "      <td>15</td>\n",
       "    </tr>\n",
       "    <tr>\n",
       "      <th>3</th>\n",
       "      <td>CDM_photodraw_e21540576907849</td>\n",
       "      <td>102618_1</td>\n",
       "      <td>age4</td>\n",
       "      <td>rabbit</td>\n",
       "      <td>P</td>\n",
       "      <td>/Users/brialong/Documents/GitHub/devphotodraw/...</td>\n",
       "      <td>images_photocues/rabbit_1.png</td>\n",
       "      <td>4</td>\n",
       "      <td>M257.71875,502.42188l-15.71523,3.61524l-15.153...</td>\n",
       "      <td>CDM</td>\n",
       "      <td>animals</td>\n",
       "      <td>47</td>\n",
       "      <td>15</td>\n",
       "    </tr>\n",
       "    <tr>\n",
       "      <th>4</th>\n",
       "      <td>CDM_photodraw_e21540576907849</td>\n",
       "      <td>102618_1</td>\n",
       "      <td>age4</td>\n",
       "      <td>rabbit</td>\n",
       "      <td>P</td>\n",
       "      <td>/Users/brialong/Documents/GitHub/devphotodraw/...</td>\n",
       "      <td>images_photocues/rabbit_1.png</td>\n",
       "      <td>5</td>\n",
       "      <td>M266.71875,577.42188l-13.02625,8.48312l-16.265...</td>\n",
       "      <td>CDM</td>\n",
       "      <td>animals</td>\n",
       "      <td>47</td>\n",
       "      <td>15</td>\n",
       "    </tr>\n",
       "  </tbody>\n",
       "</table>\n",
       "</div>"
      ],
      "text/plain": [
       "                      session_id     subID   age category condition  \\\n",
       "0  CDM_photodraw_e21540576907849  102618_1  age4   rabbit         P   \n",
       "1  CDM_photodraw_e21540576907849  102618_1  age4   rabbit         P   \n",
       "2  CDM_photodraw_e21540576907849  102618_1  age4   rabbit         P   \n",
       "3  CDM_photodraw_e21540576907849  102618_1  age4   rabbit         P   \n",
       "4  CDM_photodraw_e21540576907849  102618_1  age4   rabbit         P   \n",
       "\n",
       "                                            filename  \\\n",
       "0  /Users/brialong/Documents/GitHub/devphotodraw/...   \n",
       "1  /Users/brialong/Documents/GitHub/devphotodraw/...   \n",
       "2  /Users/brialong/Documents/GitHub/devphotodraw/...   \n",
       "3  /Users/brialong/Documents/GitHub/devphotodraw/...   \n",
       "4  /Users/brialong/Documents/GitHub/devphotodraw/...   \n",
       "\n",
       "                  ref_image_name stroke_count  \\\n",
       "0  images_photocues/rabbit_1.png            1   \n",
       "1  images_photocues/rabbit_1.png            2   \n",
       "2  images_photocues/rabbit_1.png            3   \n",
       "3  images_photocues/rabbit_1.png            4   \n",
       "4  images_photocues/rabbit_1.png            5   \n",
       "\n",
       "                                                 svg location    group bin  \\\n",
       "0  M634.71875,474.42188l-21.35678,12.64963l-22.64...      CDM  animals  47   \n",
       "1  M590.71875,446.42188l-9.94288,-2.39073l-10.581...      CDM  animals  47   \n",
       "2  M601.71875,339.42188l-8.21063,-3.25486l-8.9780...      CDM  animals  47   \n",
       "3  M257.71875,502.42188l-15.71523,3.61524l-15.153...      CDM  animals  47   \n",
       "4  M266.71875,577.42188l-13.02625,8.48312l-16.265...      CDM  animals  47   \n",
       "\n",
       "  bin_9  \n",
       "0    15  \n",
       "1    15  \n",
       "2    15  \n",
       "3    15  \n",
       "4    15  "
      ]
     },
     "execution_count": 257,
     "metadata": {},
     "output_type": "execute_result"
    }
   ],
   "source": [
    "final.head()"
   ]
  },
  {
   "cell_type": "markdown",
   "metadata": {},
   "source": [
    "## add in ROIs data"
   ]
  },
  {
   "cell_type": "code",
   "execution_count": 258,
   "metadata": {},
   "outputs": [],
   "source": [
    "import devphotodraw_labels as rois\n",
    "importlib.reload(rois)\n",
    "from devphotodraw_labels import ROIS\n",
    "\n",
    "## convert ROI dictionary into ROI dataframe\n",
    "R = pd.DataFrame(ROIS)\n",
    "\n",
    "## add color for buttonGallery\n",
    "R['color'] = '#fed541'\n",
    "\n",
    "## convert so that can be JSON serialized later\n",
    "R['part_num'] = R['part_num'].astype(str)"
   ]
  },
  {
   "cell_type": "code",
   "execution_count": 259,
   "metadata": {},
   "outputs": [],
   "source": [
    "##IMPORTANT! Name dataframe according to group type\n",
    "if whichGroup['group'].unique() == 'animals':\n",
    "    R_subset = R.loc[R['object'].isin(['rabbit', 'cat', 'bird'])]\n",
    "elif whichGroup['group'].unique() == 'small_objects':\n",
    "    R_subset = R.loc[R['object'].isin(['watch', 'cup', 'hat'])]\n",
    "elif whichGroup['group'].unique() == 'big_objects':\n",
    "    R_subset = R.loc[R['object'].isin(['chair', 'tree', 'house'])]\n",
    "elif whichGroup['group'].unique() == 'vehicles':\n",
    "    R_subset = R.loc[R['object'].isin(['bike', 'car', 'airplane'])]"
   ]
  },
  {
   "cell_type": "code",
   "execution_count": 260,
   "metadata": {},
   "outputs": [
    {
     "data": {
      "text/html": [
       "<div>\n",
       "<style scoped>\n",
       "    .dataframe tbody tr th:only-of-type {\n",
       "        vertical-align: middle;\n",
       "    }\n",
       "\n",
       "    .dataframe tbody tr th {\n",
       "        vertical-align: top;\n",
       "    }\n",
       "\n",
       "    .dataframe thead th {\n",
       "        text-align: right;\n",
       "    }\n",
       "</style>\n",
       "<table border=\"1\" class=\"dataframe\">\n",
       "  <thead>\n",
       "    <tr style=\"text-align: right;\">\n",
       "      <th></th>\n",
       "      <th>object</th>\n",
       "      <th>label_name</th>\n",
       "      <th>part_num</th>\n",
       "      <th>color</th>\n",
       "    </tr>\n",
       "  </thead>\n",
       "  <tbody>\n",
       "    <tr>\n",
       "      <th>12</th>\n",
       "      <td>cat</td>\n",
       "      <td>Tail</td>\n",
       "      <td>1</td>\n",
       "      <td>#fed541</td>\n",
       "    </tr>\n",
       "    <tr>\n",
       "      <th>13</th>\n",
       "      <td>cat</td>\n",
       "      <td>Eye</td>\n",
       "      <td>2</td>\n",
       "      <td>#fed541</td>\n",
       "    </tr>\n",
       "    <tr>\n",
       "      <th>14</th>\n",
       "      <td>cat</td>\n",
       "      <td>Ear</td>\n",
       "      <td>3</td>\n",
       "      <td>#fed541</td>\n",
       "    </tr>\n",
       "    <tr>\n",
       "      <th>15</th>\n",
       "      <td>cat</td>\n",
       "      <td>Leg</td>\n",
       "      <td>4</td>\n",
       "      <td>#fed541</td>\n",
       "    </tr>\n",
       "    <tr>\n",
       "      <th>16</th>\n",
       "      <td>cat</td>\n",
       "      <td>Whisker</td>\n",
       "      <td>5</td>\n",
       "      <td>#fed541</td>\n",
       "    </tr>\n",
       "  </tbody>\n",
       "</table>\n",
       "</div>"
      ],
      "text/plain": [
       "   object label_name part_num    color\n",
       "12    cat       Tail        1  #fed541\n",
       "13    cat        Eye        2  #fed541\n",
       "14    cat        Ear        3  #fed541\n",
       "15    cat        Leg        4  #fed541\n",
       "16    cat    Whisker        5  #fed541"
      ]
     },
     "execution_count": 260,
     "metadata": {},
     "output_type": "execute_result"
    }
   ],
   "source": [
    "R_subset.head()"
   ]
  },
  {
   "cell_type": "markdown",
   "metadata": {},
   "source": [
    "### generate meta to insert into mongoDB"
   ]
  },
  {
   "cell_type": "code",
   "execution_count": 261,
   "metadata": {},
   "outputs": [
    {
     "name": "stdout",
     "output_type": "stream",
     "text": [
      "Done!\n"
     ]
    }
   ],
   "source": [
    "#initalize list of all version dictionaries\n",
    "Meta = [] \n",
    "\n",
    "printed=False\n",
    "for name, group in final.groupby(['bin']):  \n",
    "    display(group)\n",
    "    print('Adding {} to Meta'.format(name)) \n",
    "    clear_output(wait=True)\n",
    "    Batch = {} # initialize batch-level dictionary \n",
    "    Trials = [] # list of sketches, each list containing sublist of strokes & ROI information\n",
    "    \n",
    "    for n,g in group.groupby('filename'): # looping over sketches within a batch\n",
    "        rois = R_subset[R_subset['object']==g.category.unique()[0]].to_dict(orient='records')\n",
    "        strokes = g.to_dict(orient='records')\n",
    "        Trials.append({'strokes': strokes, 'rois': rois}) # append list of strokes and rois to trial list\n",
    "    Batch['meta'] = Trials # attaching trial list to batch metadata\n",
    "    Batch['batch_id'] = np.unique(group['bin'].values)[0]  \n",
    "    Batch['games'] = []\n",
    "    Meta.append(Batch)\n",
    "    \n",
    "print('Done!') "
   ]
  },
  {
   "cell_type": "code",
   "execution_count": 262,
   "metadata": {},
   "outputs": [
    {
     "data": {
      "text/plain": [
       "228"
      ]
     },
     "execution_count": 262,
     "metadata": {},
     "output_type": "execute_result"
    }
   ],
   "source": [
    "## check how many Meta are being inserted\n",
    "len(Meta)"
   ]
  },
  {
   "cell_type": "code",
   "execution_count": 263,
   "metadata": {},
   "outputs": [],
   "source": [
    "## does this match the number of bins that were made?\n",
    "assert len(Meta) == full_stroke_data['bin'].nunique()*final['group'].nunique()"
   ]
  },
  {
   "cell_type": "code",
   "execution_count": 264,
   "metadata": {},
   "outputs": [
    {
     "name": "stdout",
     "output_type": "stream",
     "text": [
      "Saving out json dictionary out to file...\n",
      "Done!\n"
     ]
    }
   ],
   "source": [
    "# if full dataset PER group\n",
    "dataset_name = 'devphotodraw_{}'.format(whichGroup['group'][0])\n",
    "print('Saving out json dictionary out to file...') \n",
    "with open('{}_meta.js'.format(dataset_name), 'w') as fout:\n",
    "    json.dump(Meta, fout)\n",
    "print('Done!')"
   ]
  },
  {
   "cell_type": "code",
   "execution_count": null,
   "metadata": {},
   "outputs": [],
   "source": []
  }
 ],
 "metadata": {
  "kernelspec": {
   "display_name": "Python 3",
   "language": "python",
   "name": "python3"
  },
  "language_info": {
   "codemirror_mode": {
    "name": "ipython",
    "version": 3
   },
   "file_extension": ".py",
   "mimetype": "text/x-python",
   "name": "python",
   "nbconvert_exporter": "python",
   "pygments_lexer": "ipython3",
   "version": "3.7.10"
  }
 },
 "nbformat": 4,
 "nbformat_minor": 4
}
