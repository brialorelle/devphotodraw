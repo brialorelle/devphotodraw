{
 "cells": [
  {
   "cell_type": "code",
   "execution_count": 1,
   "metadata": {},
   "outputs": [],
   "source": [
    "import os, sys\n",
    "\n",
    "import pymongo as pm\n",
    "import numpy as np\n",
    "import scipy.stats as stats\n",
    "import pandas as pd\n",
    "import json\n",
    "import re\n",
    "\n",
    "import matplotlib\n",
    "from matplotlib import pylab, mlab, pyplot\n",
    "%matplotlib inline\n",
    "from IPython.core.pylabtools import figsize, getfigs\n",
    "plt = pyplot\n",
    "import seaborn as sns\n",
    "sns.set_context('talk')\n",
    "sns.set_style('white')\n",
    "\n",
    "from IPython.display import clear_output\n",
    "import importlib\n",
    "\n",
    "import warnings\n",
    "warnings.filterwarnings(\"ignore\", category=DeprecationWarning)\n",
    "warnings.filterwarnings(\"ignore\", message=\"numpy.dtype size changed\")\n",
    "warnings.filterwarnings(\"ignore\", message=\"numpy.ufunc size changed\")\n",
    "pd.options.mode.chained_assignment = None "
   ]
  },
  {
   "cell_type": "code",
   "execution_count": 2,
   "metadata": {},
   "outputs": [],
   "source": [
    "# directory & file hierarchy\n",
    "proj_dir = os.path.abspath('..')\n",
    "stim_dir = os.path.join(proj_dir,'stimuli')"
   ]
  },
  {
   "cell_type": "markdown",
   "metadata": {},
   "source": [
    "## load in data\n",
    "CDM = Children’s Discovery Museum, San Jose <br>\n",
    "THU = Tsinghua University, Beijing"
   ]
  },
  {
   "cell_type": "code",
   "execution_count": 3,
   "metadata": {},
   "outputs": [],
   "source": [
    "# CDM = pd.read_csv(os.path.join(stim_dir, 'CDM_photodraw_e2_svg_output2022.csv'))\n",
    "# THU = pd.read_csv(os.path.join(stim_dir, 'THU_photodraw_e2_svg_output2022.csv'))\n",
    "# data = CDM.append(THU)\n",
    "\n",
    "## only grab object category data (not tracing or familiarization data)\n",
    "# data_test = data.loc[data['category'].isin(['watch', 'bike', 'chair', 'car', 'tree', 'rabbit', \n",
    "#                                             'house', 'cup', 'hat', 'cat', 'bird', 'airplane'])]"
   ]
  },
  {
   "cell_type": "code",
   "execution_count": 16,
   "metadata": {},
   "outputs": [],
   "source": [
    "data_test = pd.read_csv(os.path.join(stim_dir, 'all_strokes.csv'))"
   ]
  },
  {
   "cell_type": "code",
   "execution_count": 43,
   "metadata": {
    "scrolled": true
   },
   "outputs": [
    {
     "data": {
      "text/html": [
       "<div>\n",
       "<style scoped>\n",
       "    .dataframe tbody tr th:only-of-type {\n",
       "        vertical-align: middle;\n",
       "    }\n",
       "\n",
       "    .dataframe tbody tr th {\n",
       "        vertical-align: top;\n",
       "    }\n",
       "\n",
       "    .dataframe thead th {\n",
       "        text-align: right;\n",
       "    }\n",
       "</style>\n",
       "<table border=\"1\" class=\"dataframe\">\n",
       "  <thead>\n",
       "    <tr style=\"text-align: right;\">\n",
       "      <th></th>\n",
       "      <th>session_id</th>\n",
       "      <th>unique_ids</th>\n",
       "      <th>age</th>\n",
       "      <th>category</th>\n",
       "      <th>condition</th>\n",
       "      <th>ref_image_name</th>\n",
       "      <th>stroke_count</th>\n",
       "      <th>svg</th>\n",
       "      <th>filename</th>\n",
       "      <th>location</th>\n",
       "    </tr>\n",
       "  </thead>\n",
       "  <tbody>\n",
       "    <tr>\n",
       "      <th>0</th>\n",
       "      <td>Tsinghua_photodraw_production1573784627069</td>\n",
       "      <td>IPAD3_THU5M7</td>\n",
       "      <td>5.02</td>\n",
       "      <td>car</td>\n",
       "      <td>P</td>\n",
       "      <td>images_photocues/car_1.png</td>\n",
       "      <td>1</td>\n",
       "      <td>&lt;path xmlns=\"http://www.w3.org/2000/svg\" d=\"M2...</td>\n",
       "      <td>P_car_sketch_age5_IPAD3_THU5M7.png</td>\n",
       "      <td>THU</td>\n",
       "    </tr>\n",
       "    <tr>\n",
       "      <th>1</th>\n",
       "      <td>Tsinghua_photodraw_production1573784627069</td>\n",
       "      <td>IPAD3_THU5M7</td>\n",
       "      <td>5.02</td>\n",
       "      <td>car</td>\n",
       "      <td>P</td>\n",
       "      <td>images_photocues/car_1.png</td>\n",
       "      <td>2</td>\n",
       "      <td>&lt;path xmlns=\"http://www.w3.org/2000/svg\" d=\"M2...</td>\n",
       "      <td>P_car_sketch_age5_IPAD3_THU5M7.png</td>\n",
       "      <td>THU</td>\n",
       "    </tr>\n",
       "    <tr>\n",
       "      <th>2</th>\n",
       "      <td>Tsinghua_photodraw_production1573784627069</td>\n",
       "      <td>IPAD3_THU5M7</td>\n",
       "      <td>5.02</td>\n",
       "      <td>bird</td>\n",
       "      <td>P</td>\n",
       "      <td>images_photocues/bird_2.png</td>\n",
       "      <td>1</td>\n",
       "      <td>&lt;path xmlns=\"http://www.w3.org/2000/svg\" d=\"M3...</td>\n",
       "      <td>P_bird_sketch_age5_IPAD3_THU5M7.png</td>\n",
       "      <td>THU</td>\n",
       "    </tr>\n",
       "  </tbody>\n",
       "</table>\n",
       "</div>"
      ],
      "text/plain": [
       "                                   session_id    unique_ids   age category  \\\n",
       "0  Tsinghua_photodraw_production1573784627069  IPAD3_THU5M7  5.02      car   \n",
       "1  Tsinghua_photodraw_production1573784627069  IPAD3_THU5M7  5.02      car   \n",
       "2  Tsinghua_photodraw_production1573784627069  IPAD3_THU5M7  5.02     bird   \n",
       "\n",
       "  condition               ref_image_name  stroke_count  \\\n",
       "0         P   images_photocues/car_1.png             1   \n",
       "1         P   images_photocues/car_1.png             2   \n",
       "2         P  images_photocues/bird_2.png             1   \n",
       "\n",
       "                                                 svg  \\\n",
       "0  <path xmlns=\"http://www.w3.org/2000/svg\" d=\"M2...   \n",
       "1  <path xmlns=\"http://www.w3.org/2000/svg\" d=\"M2...   \n",
       "2  <path xmlns=\"http://www.w3.org/2000/svg\" d=\"M3...   \n",
       "\n",
       "                              filename location  \n",
       "0   P_car_sketch_age5_IPAD3_THU5M7.png      THU  \n",
       "1   P_car_sketch_age5_IPAD3_THU5M7.png      THU  \n",
       "2  P_bird_sketch_age5_IPAD3_THU5M7.png      THU  "
      ]
     },
     "execution_count": 43,
     "metadata": {},
     "output_type": "execute_result"
    }
   ],
   "source": [
    "data_test.head(3)"
   ]
  },
  {
   "cell_type": "code",
   "execution_count": 40,
   "metadata": {},
   "outputs": [],
   "source": [
    "## preprocessing for experimental site\n",
    "data_test['location'] = np.where(data_test['unique_ids'].apply(lambda x:x.split('_')[0]) == 'photodraw', 'CDM', 'THU')"
   ]
  },
  {
   "cell_type": "code",
   "execution_count": 44,
   "metadata": {},
   "outputs": [],
   "source": [
    "## cleanup SVG column\n",
    "data_test['svg'] = data_test['svg'].apply(lambda x:x.split('d=')[-1])"
   ]
  },
  {
   "cell_type": "code",
   "execution_count": 45,
   "metadata": {},
   "outputs": [
    {
     "name": "stdout",
     "output_type": "stream",
     "text": [
      "1438 CDM sketches and 1477 THU sketches\n",
      "2915 total sketches\n"
     ]
    }
   ],
   "source": [
    "## how many sketches in each dataset?\n",
    "print('{} CDM sketches and {} THU sketches'.format(data_test.loc[data_test['location'] == 'CDM']['filename'].nunique(), \n",
    "                                                   data_test.loc[data_test['location'] == 'THU']['filename'].nunique()))\n",
    "print('{} total sketches'.format(data_test['filename'].nunique()))\n",
    "\n",
    "assert data_test.loc[data_test['location'] == 'CDM']['filename'].nunique() + data_test.loc[data_test['location'] == 'THU']['filename'].nunique() == data_test['filename'].nunique()"
   ]
  },
  {
   "cell_type": "code",
   "execution_count": 46,
   "metadata": {},
   "outputs": [],
   "source": [
    "## first look at things at the sketch-level\n",
    "df = data_test.groupby('filename').first().reset_index()"
   ]
  },
  {
   "cell_type": "code",
   "execution_count": 47,
   "metadata": {
    "scrolled": true
   },
   "outputs": [
    {
     "data": {
      "text/plain": [
       "location  category\n",
       "CDM       chair       121\n",
       "          cup         121\n",
       "          hat         121\n",
       "          bike        120\n",
       "          bird        120\n",
       "          house       120\n",
       "          tree        120\n",
       "          watch       120\n",
       "          car         119\n",
       "          cat         119\n",
       "          rabbit      119\n",
       "          airplane    118\n",
       "THU       airplane    129\n",
       "          bike        129\n",
       "          bird        126\n",
       "          tree        126\n",
       "          chair       125\n",
       "          hat         125\n",
       "          cat         124\n",
       "          house       121\n",
       "          watch       121\n",
       "          rabbit      119\n",
       "          car         117\n",
       "          cup         115\n",
       "Name: category, dtype: int64"
      ]
     },
     "metadata": {},
     "output_type": "display_data"
    }
   ],
   "source": [
    "## how many of each category?\n",
    "counts = df.groupby(['location'])['category'].value_counts()\n",
    "display(counts)"
   ]
  },
  {
   "cell_type": "code",
   "execution_count": 48,
   "metadata": {},
   "outputs": [],
   "source": [
    "## add groups based on 4 traits: animacy, size, familiarity, and artificiality\n",
    "## The code for the selection can be found here:\n",
    "# https://github.com/cogtoolslab/photodraw32/blob/master/stimuli/photodraw2x2_generate_stims/select_sketchy_classes_for_photodraw32.ipynb\n",
    "# create a list of our conditions\n",
    "conditions = [\n",
    "    ((df['category'] == 'rabbit') | (df['category'] == 'cat') | (df['category'] == 'bird')), \n",
    "    ((df['category'] == 'watch') | (df['category'] == 'cup') | (df['category'] == 'hat')), \n",
    "    ((df['category'] == 'chair') | (df['category'] == 'tree') | (df['category'] == 'house')), \n",
    "    ((df['category'] == 'bike') | (df['category'] == 'car') | (df['category'] == 'airplane')), \n",
    "]\n",
    "\n",
    "# create a list of the values we want to assign for each condition\n",
    "values = [\n",
    "    'animals', \n",
    "    'small_objects', \n",
    "    'big_objects', \n",
    "    'vehicles', \n",
    "]\n",
    "\n",
    "# create a new column and use np.select to assign values to it using our lists as arguments\n",
    "df['group'] = np.select(conditions, values)"
   ]
  },
  {
   "cell_type": "code",
   "execution_count": 74,
   "metadata": {},
   "outputs": [
    {
     "data": {
      "text/plain": [
       "location  group        \n",
       "CDM       small_objects    362\n",
       "          big_objects      361\n",
       "          animals          358\n",
       "          vehicles         357\n",
       "THU       vehicles         375\n",
       "          big_objects      372\n",
       "          animals          369\n",
       "          small_objects    361\n",
       "Name: group, dtype: int64"
      ]
     },
     "metadata": {},
     "output_type": "display_data"
    },
    {
     "data": {
      "text/plain": [
       "group          group        \n",
       "animals        animals          727\n",
       "big_objects    big_objects      733\n",
       "small_objects  small_objects    723\n",
       "vehicles       vehicles         732\n",
       "Name: group, dtype: int64"
      ]
     },
     "metadata": {},
     "output_type": "display_data"
    }
   ],
   "source": [
    "## how many of each category?\n",
    "counts = df.groupby(['location'])['group'].value_counts()\n",
    "display(counts)\n",
    "\n",
    "counts_group = df.groupby(['group'])['group'].value_counts()\n",
    "display(counts_group)"
   ]
  },
  {
   "cell_type": "code",
   "execution_count": 49,
   "metadata": {},
   "outputs": [
    {
     "name": "stdout",
     "output_type": "stream",
     "text": [
      "Generating stims for ['animals'] dataset\n"
     ]
    }
   ],
   "source": [
    "## IMPORTANT\n",
    "## which \"group\" are we generating metadata for?\n",
    "whichGroup = df.loc[df['group'] == 'animals']\n",
    "whichGroup = whichGroup.reset_index(drop=True)\n",
    "\n",
    "## initialize empty dataframe to copy into\n",
    "G = pd.DataFrame()\n",
    "\n",
    "## copy data over\n",
    "reallyRun = True\n",
    "if reallyRun:\n",
    "    G = whichGroup.copy()\n",
    "    G = G.reset_index(drop=True)\n",
    "print('Generating stims for {} dataset'.format(whichGroup['group'].unique()))"
   ]
  },
  {
   "cell_type": "markdown",
   "metadata": {},
   "source": [
    "### NOTE TO HOLLY: we also want to counterbalance by site?"
   ]
  },
  {
   "cell_type": "code",
   "execution_count": 50,
   "metadata": {},
   "outputs": [],
   "source": [
    "## define array params\n",
    "subgroups = G['category'].unique()\n",
    "l = len(subgroups)\n",
    "m = min((G.groupby(['category']).size()))\n",
    "\n",
    "## generate empty array\n",
    "arr = np.zeros((m, l))\n",
    "\n",
    "\n",
    "# ## define array params\n",
    "# subgroups = G['location'].unique()\n",
    "# l = len(subgroups)\n",
    "# m = min((G.groupby(['location']).size()))\n",
    "\n",
    "# ## generate empty array\n",
    "# arr = np.zeros((m, l))"
   ]
  },
  {
   "cell_type": "code",
   "execution_count": 51,
   "metadata": {},
   "outputs": [],
   "source": [
    "# shuffle sketches and put into array\n",
    "for i, subgroup in enumerate(subgroups):\n",
    "    perm = np.random.permutation(G.index[G['category'] == subgroup])\n",
    "    arr[:, i] = perm[:m]\n",
    "    \n",
    "# name generated bins\n",
    "G[\"bin\"] = 0\n",
    "\n",
    "for i in range(m):\n",
    "    G.loc[arr[i,:], \"bin\"] = i "
   ]
  },
  {
   "cell_type": "code",
   "execution_count": 52,
   "metadata": {},
   "outputs": [
    {
     "name": "stdout",
     "output_type": "stream",
     "text": [
      "How many bins were made? 238\n"
     ]
    }
   ],
   "source": [
    "print('How many bins were made? {}'.format(G['bin'].nunique()))"
   ]
  },
  {
   "cell_type": "code",
   "execution_count": 53,
   "metadata": {},
   "outputs": [
    {
     "name": "stdout",
     "output_type": "stream",
     "text": [
      "How many sketches are in each bin? [16  3]\n"
     ]
    }
   ],
   "source": [
    "## how many sketches per bin?\n",
    "checker = []\n",
    "for i, bins in G.groupby('bin'):\n",
    "    c = bins['filename'].nunique()\n",
    "    checker.append(c)\n",
    "\n",
    "C = pd.DataFrame(checker, columns=['numSketch'])\n",
    "print('How many sketches are in each bin? {}'.format(C['numSketch'].unique()))"
   ]
  },
  {
   "cell_type": "markdown",
   "metadata": {},
   "source": [
    "##### important! split bins if necessary - if not, skip"
   ]
  },
  {
   "cell_type": "code",
   "execution_count": 54,
   "metadata": {},
   "outputs": [
    {
     "name": "stdout",
     "output_type": "stream",
     "text": [
      "There are 16 extra sketches in this first bin, which need to be split out\n"
     ]
    },
    {
     "data": {
      "text/html": [
       "<div>\n",
       "<style scoped>\n",
       "    .dataframe tbody tr th:only-of-type {\n",
       "        vertical-align: middle;\n",
       "    }\n",
       "\n",
       "    .dataframe tbody tr th {\n",
       "        vertical-align: top;\n",
       "    }\n",
       "\n",
       "    .dataframe thead th {\n",
       "        text-align: right;\n",
       "    }\n",
       "</style>\n",
       "<table border=\"1\" class=\"dataframe\">\n",
       "  <thead>\n",
       "    <tr style=\"text-align: right;\">\n",
       "      <th></th>\n",
       "      <th>filename</th>\n",
       "      <th>session_id</th>\n",
       "      <th>unique_ids</th>\n",
       "      <th>age</th>\n",
       "      <th>category</th>\n",
       "      <th>condition</th>\n",
       "      <th>ref_image_name</th>\n",
       "      <th>stroke_count</th>\n",
       "      <th>svg</th>\n",
       "      <th>location</th>\n",
       "      <th>group</th>\n",
       "      <th>bin</th>\n",
       "    </tr>\n",
       "  </thead>\n",
       "  <tbody>\n",
       "    <tr>\n",
       "      <th>0</th>\n",
       "      <td>P_bird_sketch_age6_photodraw_e21547230596884.png</td>\n",
       "      <td>None</td>\n",
       "      <td>photodraw_e21547230596884</td>\n",
       "      <td>6.00</td>\n",
       "      <td>bird</td>\n",
       "      <td>P</td>\n",
       "      <td>images_photocues/bird_2.png</td>\n",
       "      <td>1</td>\n",
       "      <td>M370.71875,369.42188l18.59346,1.11893l17.81197...</td>\n",
       "      <td>CDM</td>\n",
       "      <td>animals</td>\n",
       "      <td>0</td>\n",
       "    </tr>\n",
       "    <tr>\n",
       "      <th>1</th>\n",
       "      <td>P_bird_sketch_age7_IPAD1_THU7F15.png</td>\n",
       "      <td>Tsinghua_photodraw_production1575443023769</td>\n",
       "      <td>IPAD1_THU7F15</td>\n",
       "      <td>7.54</td>\n",
       "      <td>bird</td>\n",
       "      <td>P</td>\n",
       "      <td>images_photocues/bird_2.png</td>\n",
       "      <td>1</td>\n",
       "      <td>\"M320.21875,237.42188l0.1521,-2.68731l0.27254,...</td>\n",
       "      <td>THU</td>\n",
       "      <td>animals</td>\n",
       "      <td>0</td>\n",
       "    </tr>\n",
       "    <tr>\n",
       "      <th>2</th>\n",
       "      <td>P_bird_sketch_age8_photodraw_e21542229353364.png</td>\n",
       "      <td>None</td>\n",
       "      <td>photodraw_e21542229353364</td>\n",
       "      <td>8.00</td>\n",
       "      <td>bird</td>\n",
       "      <td>P</td>\n",
       "      <td>images_photocues/bird_2.png</td>\n",
       "      <td>1</td>\n",
       "      <td>M270.71875,246.42188l-24.07097,3.24518l-11.148...</td>\n",
       "      <td>CDM</td>\n",
       "      <td>animals</td>\n",
       "      <td>0</td>\n",
       "    </tr>\n",
       "    <tr>\n",
       "      <th>3</th>\n",
       "      <td>P_bird_sketch_age9_IPAD3_THU9M15.png</td>\n",
       "      <td>Tsinghua_photodraw_production1575961493402</td>\n",
       "      <td>IPAD3_THU9M15</td>\n",
       "      <td>9.18</td>\n",
       "      <td>bird</td>\n",
       "      <td>P</td>\n",
       "      <td>images_photocues/bird_3.png</td>\n",
       "      <td>1</td>\n",
       "      <td>\"M383.21875,115.42188l-4.76833,7.10418l-4.7809...</td>\n",
       "      <td>THU</td>\n",
       "      <td>animals</td>\n",
       "      <td>0</td>\n",
       "    </tr>\n",
       "    <tr>\n",
       "      <th>4</th>\n",
       "      <td>P_bird_sketch_age9_photodraw_e21555523952200.png</td>\n",
       "      <td>None</td>\n",
       "      <td>photodraw_e21555523952200</td>\n",
       "      <td>9.00</td>\n",
       "      <td>bird</td>\n",
       "      <td>P</td>\n",
       "      <td>images_photocues/bird_1.png</td>\n",
       "      <td>1</td>\n",
       "      <td>M105.71875,583.42188l-7.16385,4.30364l-5.83615...</td>\n",
       "      <td>CDM</td>\n",
       "      <td>animals</td>\n",
       "      <td>0</td>\n",
       "    </tr>\n",
       "    <tr>\n",
       "      <th>5</th>\n",
       "      <td>P_cat_sketch_age5_IPAD3_THU5F4.png</td>\n",
       "      <td>Tsinghua_photodraw_production1573781474552</td>\n",
       "      <td>IPAD3_THU5F4</td>\n",
       "      <td>5.55</td>\n",
       "      <td>cat</td>\n",
       "      <td>P</td>\n",
       "      <td>images_photocues/cat_2.png</td>\n",
       "      <td>1</td>\n",
       "      <td>\"M417.21875,357.42188l9.26042,-13.13536l6.9144...</td>\n",
       "      <td>THU</td>\n",
       "      <td>animals</td>\n",
       "      <td>0</td>\n",
       "    </tr>\n",
       "    <tr>\n",
       "      <th>6</th>\n",
       "      <td>P_cat_sketch_age6_photodraw_e21547238095569.png</td>\n",
       "      <td>None</td>\n",
       "      <td>photodraw_e21547238095569</td>\n",
       "      <td>6.00</td>\n",
       "      <td>cat</td>\n",
       "      <td>P</td>\n",
       "      <td>images_photocues/cat_1.png</td>\n",
       "      <td>1</td>\n",
       "      <td>M286.71875,186.42188l7.546,-0.4515l7.454,2.451...</td>\n",
       "      <td>CDM</td>\n",
       "      <td>animals</td>\n",
       "      <td>0</td>\n",
       "    </tr>\n",
       "    <tr>\n",
       "      <th>7</th>\n",
       "      <td>P_cat_sketch_age7_IPAD1_THU8M16.png</td>\n",
       "      <td>Tsinghua_photodraw_production1575443741291</td>\n",
       "      <td>IPAD1_THU8M16</td>\n",
       "      <td>7.53</td>\n",
       "      <td>cat</td>\n",
       "      <td>P</td>\n",
       "      <td>images_photocues/cat_1.png</td>\n",
       "      <td>1</td>\n",
       "      <td>\"M177.21875,268.42188l-11.9328,-19.01713l-10.0...</td>\n",
       "      <td>THU</td>\n",
       "      <td>animals</td>\n",
       "      <td>0</td>\n",
       "    </tr>\n",
       "    <tr>\n",
       "      <th>8</th>\n",
       "      <td>P_cat_sketch_age7_photodraw_e21548451831175.png</td>\n",
       "      <td>None</td>\n",
       "      <td>photodraw_e21548451831175</td>\n",
       "      <td>7.00</td>\n",
       "      <td>cat</td>\n",
       "      <td>P</td>\n",
       "      <td>images_photocues/cat_2.png</td>\n",
       "      <td>1</td>\n",
       "      <td>M395.71875,505.42188l-48,-10l-10.06728,-0.7154...</td>\n",
       "      <td>CDM</td>\n",
       "      <td>animals</td>\n",
       "      <td>0</td>\n",
       "    </tr>\n",
       "    <tr>\n",
       "      <th>9</th>\n",
       "      <td>S_bird_sketch_age7_IPAD1_THU7F40.png</td>\n",
       "      <td>Tsinghua_photodraw_production1576654381493</td>\n",
       "      <td>IPAD1_THU7F40</td>\n",
       "      <td>7.96</td>\n",
       "      <td>bird</td>\n",
       "      <td>S</td>\n",
       "      <td>images_photocues/bird_1.png</td>\n",
       "      <td>1</td>\n",
       "      <td>\"M164.21875,278.42188l-8,-9l-5.54885,-2.24389l...</td>\n",
       "      <td>THU</td>\n",
       "      <td>animals</td>\n",
       "      <td>0</td>\n",
       "    </tr>\n",
       "    <tr>\n",
       "      <th>10</th>\n",
       "      <td>S_bird_sketch_age7_photodraw_e21547242571962.png</td>\n",
       "      <td>None</td>\n",
       "      <td>photodraw_e21547242571962</td>\n",
       "      <td>7.00</td>\n",
       "      <td>bird</td>\n",
       "      <td>S</td>\n",
       "      <td>images_photocues/bird_2.png</td>\n",
       "      <td>1</td>\n",
       "      <td>M149.71875,346.42188l2.39499,-2.57511l4.04787,...</td>\n",
       "      <td>CDM</td>\n",
       "      <td>animals</td>\n",
       "      <td>0</td>\n",
       "    </tr>\n",
       "    <tr>\n",
       "      <th>11</th>\n",
       "      <td>S_bird_sketch_age8_IPAD1_THU8F34.png</td>\n",
       "      <td>Tsinghua_photodraw_production1576481274500</td>\n",
       "      <td>IPAD1_THU8F34</td>\n",
       "      <td>8.25</td>\n",
       "      <td>bird</td>\n",
       "      <td>S</td>\n",
       "      <td>images_photocues/bird_3.png</td>\n",
       "      <td>1</td>\n",
       "      <td>\"M371.21875,309.42188l-6.88496,-10.88241l-5.11...</td>\n",
       "      <td>THU</td>\n",
       "      <td>animals</td>\n",
       "      <td>0</td>\n",
       "    </tr>\n",
       "    <tr>\n",
       "      <th>12</th>\n",
       "      <td>S_bird_sketch_age8_IPAD3_THU8M17.png</td>\n",
       "      <td>Tsinghua_photodraw_production1575962839949</td>\n",
       "      <td>IPAD3_THU8M17</td>\n",
       "      <td>8.52</td>\n",
       "      <td>bird</td>\n",
       "      <td>S</td>\n",
       "      <td>images_photocues/bird_2.png</td>\n",
       "      <td>1</td>\n",
       "      <td>\"M412.21875,220.42188l-6.89288,-4.53421l-6.584...</td>\n",
       "      <td>THU</td>\n",
       "      <td>animals</td>\n",
       "      <td>0</td>\n",
       "    </tr>\n",
       "    <tr>\n",
       "      <th>13</th>\n",
       "      <td>S_cat_sketch_age4_photodraw_e21547672389753.png</td>\n",
       "      <td>None</td>\n",
       "      <td>photodraw_e21547672389753</td>\n",
       "      <td>4.00</td>\n",
       "      <td>cat</td>\n",
       "      <td>S</td>\n",
       "      <td>images_photocues/cat_2.png</td>\n",
       "      <td>1</td>\n",
       "      <td>M137.71875,188.42188l-5.37626,-2.23185l-3.482,...</td>\n",
       "      <td>CDM</td>\n",
       "      <td>animals</td>\n",
       "      <td>0</td>\n",
       "    </tr>\n",
       "    <tr>\n",
       "      <th>14</th>\n",
       "      <td>S_cat_sketch_age6_IPAD1_THU6F20.png</td>\n",
       "      <td>Tsinghua_photodraw_production1575530376865</td>\n",
       "      <td>IPAD1_THU6F20</td>\n",
       "      <td>6.72</td>\n",
       "      <td>cat</td>\n",
       "      <td>S</td>\n",
       "      <td>images_photocues/cat_1.png</td>\n",
       "      <td>1</td>\n",
       "      <td>\"M379.21875,156.42188l-13.23311,-0.54307l-10.9...</td>\n",
       "      <td>THU</td>\n",
       "      <td>animals</td>\n",
       "      <td>0</td>\n",
       "    </tr>\n",
       "    <tr>\n",
       "      <th>15</th>\n",
       "      <td>S_rabbit_sketch_age9_photodraw_e21553637857619...</td>\n",
       "      <td>None</td>\n",
       "      <td>photodraw_e21553637857619</td>\n",
       "      <td>9.00</td>\n",
       "      <td>rabbit</td>\n",
       "      <td>S</td>\n",
       "      <td>images_photocues/rabbit_3.png</td>\n",
       "      <td>1</td>\n",
       "      <td>M484.71875,435.42188l7.18037,-8.06696l5.12529,...</td>\n",
       "      <td>CDM</td>\n",
       "      <td>animals</td>\n",
       "      <td>0</td>\n",
       "    </tr>\n",
       "  </tbody>\n",
       "</table>\n",
       "</div>"
      ],
      "text/plain": [
       "                                             filename  \\\n",
       "0    P_bird_sketch_age6_photodraw_e21547230596884.png   \n",
       "1                P_bird_sketch_age7_IPAD1_THU7F15.png   \n",
       "2    P_bird_sketch_age8_photodraw_e21542229353364.png   \n",
       "3                P_bird_sketch_age9_IPAD3_THU9M15.png   \n",
       "4    P_bird_sketch_age9_photodraw_e21555523952200.png   \n",
       "5                  P_cat_sketch_age5_IPAD3_THU5F4.png   \n",
       "6     P_cat_sketch_age6_photodraw_e21547238095569.png   \n",
       "7                 P_cat_sketch_age7_IPAD1_THU8M16.png   \n",
       "8     P_cat_sketch_age7_photodraw_e21548451831175.png   \n",
       "9                S_bird_sketch_age7_IPAD1_THU7F40.png   \n",
       "10   S_bird_sketch_age7_photodraw_e21547242571962.png   \n",
       "11               S_bird_sketch_age8_IPAD1_THU8F34.png   \n",
       "12               S_bird_sketch_age8_IPAD3_THU8M17.png   \n",
       "13    S_cat_sketch_age4_photodraw_e21547672389753.png   \n",
       "14                S_cat_sketch_age6_IPAD1_THU6F20.png   \n",
       "15  S_rabbit_sketch_age9_photodraw_e21553637857619...   \n",
       "\n",
       "                                    session_id                 unique_ids  \\\n",
       "0                                         None  photodraw_e21547230596884   \n",
       "1   Tsinghua_photodraw_production1575443023769              IPAD1_THU7F15   \n",
       "2                                         None  photodraw_e21542229353364   \n",
       "3   Tsinghua_photodraw_production1575961493402              IPAD3_THU9M15   \n",
       "4                                         None  photodraw_e21555523952200   \n",
       "5   Tsinghua_photodraw_production1573781474552               IPAD3_THU5F4   \n",
       "6                                         None  photodraw_e21547238095569   \n",
       "7   Tsinghua_photodraw_production1575443741291              IPAD1_THU8M16   \n",
       "8                                         None  photodraw_e21548451831175   \n",
       "9   Tsinghua_photodraw_production1576654381493              IPAD1_THU7F40   \n",
       "10                                        None  photodraw_e21547242571962   \n",
       "11  Tsinghua_photodraw_production1576481274500              IPAD1_THU8F34   \n",
       "12  Tsinghua_photodraw_production1575962839949              IPAD3_THU8M17   \n",
       "13                                        None  photodraw_e21547672389753   \n",
       "14  Tsinghua_photodraw_production1575530376865              IPAD1_THU6F20   \n",
       "15                                        None  photodraw_e21553637857619   \n",
       "\n",
       "     age category condition                 ref_image_name  stroke_count  \\\n",
       "0   6.00     bird         P    images_photocues/bird_2.png             1   \n",
       "1   7.54     bird         P    images_photocues/bird_2.png             1   \n",
       "2   8.00     bird         P    images_photocues/bird_2.png             1   \n",
       "3   9.18     bird         P    images_photocues/bird_3.png             1   \n",
       "4   9.00     bird         P    images_photocues/bird_1.png             1   \n",
       "5   5.55      cat         P     images_photocues/cat_2.png             1   \n",
       "6   6.00      cat         P     images_photocues/cat_1.png             1   \n",
       "7   7.53      cat         P     images_photocues/cat_1.png             1   \n",
       "8   7.00      cat         P     images_photocues/cat_2.png             1   \n",
       "9   7.96     bird         S    images_photocues/bird_1.png             1   \n",
       "10  7.00     bird         S    images_photocues/bird_2.png             1   \n",
       "11  8.25     bird         S    images_photocues/bird_3.png             1   \n",
       "12  8.52     bird         S    images_photocues/bird_2.png             1   \n",
       "13  4.00      cat         S     images_photocues/cat_2.png             1   \n",
       "14  6.72      cat         S     images_photocues/cat_1.png             1   \n",
       "15  9.00   rabbit         S  images_photocues/rabbit_3.png             1   \n",
       "\n",
       "                                                  svg location    group  bin  \n",
       "0   M370.71875,369.42188l18.59346,1.11893l17.81197...      CDM  animals    0  \n",
       "1   \"M320.21875,237.42188l0.1521,-2.68731l0.27254,...      THU  animals    0  \n",
       "2   M270.71875,246.42188l-24.07097,3.24518l-11.148...      CDM  animals    0  \n",
       "3   \"M383.21875,115.42188l-4.76833,7.10418l-4.7809...      THU  animals    0  \n",
       "4   M105.71875,583.42188l-7.16385,4.30364l-5.83615...      CDM  animals    0  \n",
       "5   \"M417.21875,357.42188l9.26042,-13.13536l6.9144...      THU  animals    0  \n",
       "6   M286.71875,186.42188l7.546,-0.4515l7.454,2.451...      CDM  animals    0  \n",
       "7   \"M177.21875,268.42188l-11.9328,-19.01713l-10.0...      THU  animals    0  \n",
       "8   M395.71875,505.42188l-48,-10l-10.06728,-0.7154...      CDM  animals    0  \n",
       "9   \"M164.21875,278.42188l-8,-9l-5.54885,-2.24389l...      THU  animals    0  \n",
       "10  M149.71875,346.42188l2.39499,-2.57511l4.04787,...      CDM  animals    0  \n",
       "11  \"M371.21875,309.42188l-6.88496,-10.88241l-5.11...      THU  animals    0  \n",
       "12  \"M412.21875,220.42188l-6.89288,-4.53421l-6.584...      THU  animals    0  \n",
       "13  M137.71875,188.42188l-5.37626,-2.23185l-3.482,...      CDM  animals    0  \n",
       "14  \"M379.21875,156.42188l-13.23311,-0.54307l-10.9...      THU  animals    0  \n",
       "15  M484.71875,435.42188l7.18037,-8.06696l5.12529,...      CDM  animals    0  "
      ]
     },
     "execution_count": 54,
     "metadata": {},
     "output_type": "execute_result"
    }
   ],
   "source": [
    "## visually check the first bin\n",
    "print('There are {} extra sketches in this first bin, which need to be split out'.format(len(G.loc[G['bin'] == 0])))\n",
    "G.loc[G['bin'] == 0].reset_index(drop=True)"
   ]
  },
  {
   "cell_type": "code",
   "execution_count": 55,
   "metadata": {},
   "outputs": [],
   "source": [
    "import math \n",
    "num_divide_by = math.ceil(len(G.loc[G['bin'] == 0])/3)"
   ]
  },
  {
   "cell_type": "code",
   "execution_count": 56,
   "metadata": {},
   "outputs": [
    {
     "data": {
      "text/plain": [
       "16"
      ]
     },
     "execution_count": 56,
     "metadata": {},
     "output_type": "execute_result"
    }
   ],
   "source": [
    "## need to split the first bin that has too many sketches\n",
    "need_split = G.loc[G['bin'] == 0]\n",
    "need_split['filename'].nunique()"
   ]
  },
  {
   "cell_type": "code",
   "execution_count": 58,
   "metadata": {},
   "outputs": [],
   "source": [
    "## randomly shuffle and split into 4 new bins\n",
    "shuffled = need_split.sample(frac=1)\n",
    "result = np.array_split(shuffled, num_divide_by)"
   ]
  },
  {
   "cell_type": "code",
   "execution_count": 60,
   "metadata": {
    "scrolled": true
   },
   "outputs": [
    {
     "data": {
      "text/plain": [
       "3"
      ]
     },
     "metadata": {},
     "output_type": "display_data"
    },
    {
     "data": {
      "text/plain": [
       "3"
      ]
     },
     "metadata": {},
     "output_type": "display_data"
    },
    {
     "data": {
      "text/plain": [
       "3"
      ]
     },
     "metadata": {},
     "output_type": "display_data"
    },
    {
     "data": {
      "text/plain": [
       "3"
      ]
     },
     "metadata": {},
     "output_type": "display_data"
    },
    {
     "data": {
      "text/plain": [
       "2"
      ]
     },
     "metadata": {},
     "output_type": "display_data"
    },
    {
     "data": {
      "text/plain": [
       "2"
      ]
     },
     "metadata": {},
     "output_type": "display_data"
    }
   ],
   "source": [
    "## subset each new bin\n",
    "result_1 = result[0]\n",
    "result_2 = result[1]\n",
    "result_2['bin'] = G['bin'].max() + 1\n",
    "result_3 = result[2]\n",
    "result_3['bin'] = G['bin'].max() + 2\n",
    "result_4 = result[3]\n",
    "result_4['bin'] = G['bin'].max() + 3\n",
    "result_5 = result[4]\n",
    "result_5['bin'] = G['bin'].max() + 4\n",
    "result_6 = result[5]\n",
    "result_6['bin'] = G['bin'].max() + 5\n",
    "# result_7 = result[6]\n",
    "# result_7['bin'] = G['bin'].max() + 6\n",
    "# result_8 = result[7]\n",
    "# result_8['bin'] = G['bin'].max() + 7\n",
    "# result_9 = result[8]\n",
    "# result_9['bin'] = G['bin'].max() + 8\n",
    "\n",
    "display(len(result_1))\n",
    "display(len(result_2))\n",
    "display(len(result_3))\n",
    "display(len(result_4))\n",
    "display(len(result_5))\n",
    "display(len(result_6))\n",
    "# display(len(result_7))\n",
    "# display(len(result_8))\n",
    "# display(len(result_9))"
   ]
  },
  {
   "cell_type": "code",
   "execution_count": 66,
   "metadata": {},
   "outputs": [],
   "source": [
    "extra_result_1 = result_2.tail(1)\n",
    "extra_result_2 = result_1.tail(1)\n",
    "\n",
    "result_6 = result_6.append(extra_result_1)\n",
    "result_6['bin'] = int(result_6.iloc[0]['bin'])\n",
    "\n",
    "result_5 = result_5.append(extra_result_2)\n",
    "result_5['bin'] = int(result_5.iloc[0]['bin'])"
   ]
  },
  {
   "cell_type": "code",
   "execution_count": 68,
   "metadata": {},
   "outputs": [],
   "source": [
    "## remove first bin, so that we can replace it\n",
    "G = G[G.bin != 0]\n",
    "\n",
    "# add the new bins back into the dataframe\n",
    "G = pd.concat([G, result_1, \n",
    "                  result_2, \n",
    "                  result_3, \n",
    "                  result_4, \n",
    "                  result_5, \n",
    "                  result_6]).reset_index(drop=True)"
   ]
  },
  {
   "cell_type": "code",
   "execution_count": 69,
   "metadata": {},
   "outputs": [
    {
     "data": {
      "text/html": [
       "<div>\n",
       "<style scoped>\n",
       "    .dataframe tbody tr th:only-of-type {\n",
       "        vertical-align: middle;\n",
       "    }\n",
       "\n",
       "    .dataframe tbody tr th {\n",
       "        vertical-align: top;\n",
       "    }\n",
       "\n",
       "    .dataframe thead th {\n",
       "        text-align: right;\n",
       "    }\n",
       "</style>\n",
       "<table border=\"1\" class=\"dataframe\">\n",
       "  <thead>\n",
       "    <tr style=\"text-align: right;\">\n",
       "      <th></th>\n",
       "      <th>filename</th>\n",
       "      <th>session_id</th>\n",
       "      <th>unique_ids</th>\n",
       "      <th>age</th>\n",
       "      <th>category</th>\n",
       "      <th>condition</th>\n",
       "      <th>ref_image_name</th>\n",
       "      <th>stroke_count</th>\n",
       "      <th>svg</th>\n",
       "      <th>location</th>\n",
       "      <th>group</th>\n",
       "      <th>bin</th>\n",
       "    </tr>\n",
       "  </thead>\n",
       "  <tbody>\n",
       "    <tr>\n",
       "      <th>0</th>\n",
       "      <td>S_bird_sketch_age7_IPAD1_THU7F40.png</td>\n",
       "      <td>Tsinghua_photodraw_production1576654381493</td>\n",
       "      <td>IPAD1_THU7F40</td>\n",
       "      <td>7.96</td>\n",
       "      <td>bird</td>\n",
       "      <td>S</td>\n",
       "      <td>images_photocues/bird_1.png</td>\n",
       "      <td>1</td>\n",
       "      <td>\"M164.21875,278.42188l-8,-9l-5.54885,-2.24389l...</td>\n",
       "      <td>THU</td>\n",
       "      <td>animals</td>\n",
       "      <td>0</td>\n",
       "    </tr>\n",
       "    <tr>\n",
       "      <th>1</th>\n",
       "      <td>S_bird_sketch_age8_IPAD1_THU8F34.png</td>\n",
       "      <td>Tsinghua_photodraw_production1576481274500</td>\n",
       "      <td>IPAD1_THU8F34</td>\n",
       "      <td>8.25</td>\n",
       "      <td>bird</td>\n",
       "      <td>S</td>\n",
       "      <td>images_photocues/bird_3.png</td>\n",
       "      <td>1</td>\n",
       "      <td>\"M371.21875,309.42188l-6.88496,-10.88241l-5.11...</td>\n",
       "      <td>THU</td>\n",
       "      <td>animals</td>\n",
       "      <td>0</td>\n",
       "    </tr>\n",
       "    <tr>\n",
       "      <th>2</th>\n",
       "      <td>P_cat_sketch_age7_photodraw_e21548451831175.png</td>\n",
       "      <td>None</td>\n",
       "      <td>photodraw_e21548451831175</td>\n",
       "      <td>7.00</td>\n",
       "      <td>cat</td>\n",
       "      <td>P</td>\n",
       "      <td>images_photocues/cat_2.png</td>\n",
       "      <td>1</td>\n",
       "      <td>M395.71875,505.42188l-48,-10l-10.06728,-0.7154...</td>\n",
       "      <td>CDM</td>\n",
       "      <td>animals</td>\n",
       "      <td>0</td>\n",
       "    </tr>\n",
       "  </tbody>\n",
       "</table>\n",
       "</div>"
      ],
      "text/plain": [
       "                                          filename  \\\n",
       "0             S_bird_sketch_age7_IPAD1_THU7F40.png   \n",
       "1             S_bird_sketch_age8_IPAD1_THU8F34.png   \n",
       "2  P_cat_sketch_age7_photodraw_e21548451831175.png   \n",
       "\n",
       "                                   session_id                 unique_ids  \\\n",
       "0  Tsinghua_photodraw_production1576654381493              IPAD1_THU7F40   \n",
       "1  Tsinghua_photodraw_production1576481274500              IPAD1_THU8F34   \n",
       "2                                        None  photodraw_e21548451831175   \n",
       "\n",
       "    age category condition               ref_image_name  stroke_count  \\\n",
       "0  7.96     bird         S  images_photocues/bird_1.png             1   \n",
       "1  8.25     bird         S  images_photocues/bird_3.png             1   \n",
       "2  7.00      cat         P   images_photocues/cat_2.png             1   \n",
       "\n",
       "                                                 svg location    group  bin  \n",
       "0  \"M164.21875,278.42188l-8,-9l-5.54885,-2.24389l...      THU  animals    0  \n",
       "1  \"M371.21875,309.42188l-6.88496,-10.88241l-5.11...      THU  animals    0  \n",
       "2  M395.71875,505.42188l-48,-10l-10.06728,-0.7154...      CDM  animals    0  "
      ]
     },
     "execution_count": 69,
     "metadata": {},
     "output_type": "execute_result"
    }
   ],
   "source": [
    "# visually check the first bin\n",
    "G.loc[G['bin'] == 0].reset_index(drop=True)"
   ]
  },
  {
   "cell_type": "code",
   "execution_count": 70,
   "metadata": {},
   "outputs": [
    {
     "name": "stdout",
     "output_type": "stream",
     "text": [
      "Second check passed! There are [3] items in each bin\n"
     ]
    }
   ],
   "source": [
    "## do we have the 4 items in each bin?\n",
    "checker = []\n",
    "for i, bins in G.groupby('bin'):\n",
    "    c = bins['filename'].nunique()\n",
    "    checker.append(c)\n",
    "\n",
    "C = pd.DataFrame(checker, columns=['numSketch'])\n",
    "\n",
    "print('Second check passed! There are {} items in each bin'.format(C['numSketch'].unique()))\n",
    "assert C['numSketch'].unique() == G[\"category\"].nunique()"
   ]
  },
  {
   "cell_type": "code",
   "execution_count": 71,
   "metadata": {},
   "outputs": [
    {
     "name": "stdout",
     "output_type": "stream",
     "text": [
      "Check passed! There are 727 sketches still in our binned dataset\n"
     ]
    }
   ],
   "source": [
    "## did we retain all our sketches? \n",
    "assert G['filename'].nunique() == whichGroup['filename'].nunique()\n",
    "print('Check passed! There are {} sketches still in our binned dataset'.format(G['filename'].nunique()))"
   ]
  },
  {
   "cell_type": "code",
   "execution_count": 75,
   "metadata": {},
   "outputs": [],
   "source": [
    "## currently there are 3 sketches in each bin\n",
    "## now we want to group bins, so that there are 9 sketches in a 'bin_9'\n",
    "numbers = list(range(0, G['bin'].max()+1))\n",
    "numbers = pd.DataFrame(numbers, columns=['bin'])\n",
    "numbers['bin_9'] = np.arange(len(numbers)) // 3\n",
    "\n",
    "regroup_df = G.merge(numbers, left_on='bin', right_on='bin')"
   ]
  },
  {
   "cell_type": "code",
   "execution_count": 76,
   "metadata": {},
   "outputs": [
    {
     "name": "stdout",
     "output_type": "stream",
     "text": [
      "How many bins were made? 81\n"
     ]
    }
   ],
   "source": [
    "print('How many bins were made? {}'.format(regroup_df['bin_9'].nunique()))"
   ]
  },
  {
   "cell_type": "code",
   "execution_count": 77,
   "metadata": {
    "scrolled": true
   },
   "outputs": [
    {
     "data": {
      "text/html": [
       "<div>\n",
       "<style scoped>\n",
       "    .dataframe tbody tr th:only-of-type {\n",
       "        vertical-align: middle;\n",
       "    }\n",
       "\n",
       "    .dataframe tbody tr th {\n",
       "        vertical-align: top;\n",
       "    }\n",
       "\n",
       "    .dataframe thead th {\n",
       "        text-align: right;\n",
       "    }\n",
       "</style>\n",
       "<table border=\"1\" class=\"dataframe\">\n",
       "  <thead>\n",
       "    <tr style=\"text-align: right;\">\n",
       "      <th></th>\n",
       "      <th>filename</th>\n",
       "      <th>session_id</th>\n",
       "      <th>unique_ids</th>\n",
       "      <th>age</th>\n",
       "      <th>category</th>\n",
       "      <th>condition</th>\n",
       "      <th>ref_image_name</th>\n",
       "      <th>stroke_count</th>\n",
       "      <th>svg</th>\n",
       "      <th>location</th>\n",
       "      <th>group</th>\n",
       "      <th>bin</th>\n",
       "      <th>bin_9</th>\n",
       "    </tr>\n",
       "  </thead>\n",
       "  <tbody>\n",
       "    <tr>\n",
       "      <th>0</th>\n",
       "      <td>P_bird_sketch_age10_IPAD2_THU10M11.png</td>\n",
       "      <td>Tsinghua_photodraw_production1575356398090</td>\n",
       "      <td>IPAD2_THU10M11</td>\n",
       "      <td>10.00</td>\n",
       "      <td>bird</td>\n",
       "      <td>P</td>\n",
       "      <td>images_photocues/bird_2.png</td>\n",
       "      <td>1</td>\n",
       "      <td>\"M270.21875,197.42188l-9.77482,-1.3484l-10.225...</td>\n",
       "      <td>THU</td>\n",
       "      <td>animals</td>\n",
       "      <td>213</td>\n",
       "      <td>71</td>\n",
       "    </tr>\n",
       "    <tr>\n",
       "      <th>1</th>\n",
       "      <td>P_cat_sketch_age6_IPAD3_THU7M20.png</td>\n",
       "      <td>Tsinghua_photodraw_production1576739207246</td>\n",
       "      <td>IPAD3_THU7M20</td>\n",
       "      <td>6.91</td>\n",
       "      <td>cat</td>\n",
       "      <td>P</td>\n",
       "      <td>images_photocues/cat_2.png</td>\n",
       "      <td>1</td>\n",
       "      <td>\"M243.21875,344.42188l-10.06878,-11.06119l-6.9...</td>\n",
       "      <td>THU</td>\n",
       "      <td>animals</td>\n",
       "      <td>213</td>\n",
       "      <td>71</td>\n",
       "    </tr>\n",
       "    <tr>\n",
       "      <th>2</th>\n",
       "      <td>S_rabbit_sketch_age4_IPAD1_THU5M4.png</td>\n",
       "      <td>Tsinghua_photodraw_production1573781508415</td>\n",
       "      <td>IPAD1_THU5M4</td>\n",
       "      <td>4.84</td>\n",
       "      <td>rabbit</td>\n",
       "      <td>S</td>\n",
       "      <td>images_photocues/rabbit_1.png</td>\n",
       "      <td>1</td>\n",
       "      <td>\"M163.21875,384.42188l-10.98135,-7.03975l-9.31...</td>\n",
       "      <td>THU</td>\n",
       "      <td>animals</td>\n",
       "      <td>213</td>\n",
       "      <td>71</td>\n",
       "    </tr>\n",
       "    <tr>\n",
       "      <th>3</th>\n",
       "      <td>P_bird_sketch_age4_IPAD1_THU4F10.png</td>\n",
       "      <td>Tsinghua_photodraw_production1573800407496</td>\n",
       "      <td>IPAD1_THU4F10</td>\n",
       "      <td>4.32</td>\n",
       "      <td>bird</td>\n",
       "      <td>P</td>\n",
       "      <td>images_photocues/bird_3.png</td>\n",
       "      <td>1</td>\n",
       "      <td>\"M296.21875,295.42188l3.69084,-4.30143l1.92631...</td>\n",
       "      <td>THU</td>\n",
       "      <td>animals</td>\n",
       "      <td>202</td>\n",
       "      <td>67</td>\n",
       "    </tr>\n",
       "    <tr>\n",
       "      <th>4</th>\n",
       "      <td>P_rabbit_sketch_age9_photodraw_e21553793354436...</td>\n",
       "      <td>None</td>\n",
       "      <td>photodraw_e21553793354436</td>\n",
       "      <td>9.00</td>\n",
       "      <td>rabbit</td>\n",
       "      <td>P</td>\n",
       "      <td>images_photocues/rabbit_1.png</td>\n",
       "      <td>1</td>\n",
       "      <td>M236.71875,313.42188l-3.42172,1.27096l-4.93799...</td>\n",
       "      <td>CDM</td>\n",
       "      <td>animals</td>\n",
       "      <td>202</td>\n",
       "      <td>67</td>\n",
       "    </tr>\n",
       "  </tbody>\n",
       "</table>\n",
       "</div>"
      ],
      "text/plain": [
       "                                            filename  \\\n",
       "0             P_bird_sketch_age10_IPAD2_THU10M11.png   \n",
       "1                P_cat_sketch_age6_IPAD3_THU7M20.png   \n",
       "2              S_rabbit_sketch_age4_IPAD1_THU5M4.png   \n",
       "3               P_bird_sketch_age4_IPAD1_THU4F10.png   \n",
       "4  P_rabbit_sketch_age9_photodraw_e21553793354436...   \n",
       "\n",
       "                                   session_id                 unique_ids  \\\n",
       "0  Tsinghua_photodraw_production1575356398090             IPAD2_THU10M11   \n",
       "1  Tsinghua_photodraw_production1576739207246              IPAD3_THU7M20   \n",
       "2  Tsinghua_photodraw_production1573781508415               IPAD1_THU5M4   \n",
       "3  Tsinghua_photodraw_production1573800407496              IPAD1_THU4F10   \n",
       "4                                        None  photodraw_e21553793354436   \n",
       "\n",
       "     age category condition                 ref_image_name  stroke_count  \\\n",
       "0  10.00     bird         P    images_photocues/bird_2.png             1   \n",
       "1   6.91      cat         P     images_photocues/cat_2.png             1   \n",
       "2   4.84   rabbit         S  images_photocues/rabbit_1.png             1   \n",
       "3   4.32     bird         P    images_photocues/bird_3.png             1   \n",
       "4   9.00   rabbit         P  images_photocues/rabbit_1.png             1   \n",
       "\n",
       "                                                 svg location    group  bin  \\\n",
       "0  \"M270.21875,197.42188l-9.77482,-1.3484l-10.225...      THU  animals  213   \n",
       "1  \"M243.21875,344.42188l-10.06878,-11.06119l-6.9...      THU  animals  213   \n",
       "2  \"M163.21875,384.42188l-10.98135,-7.03975l-9.31...      THU  animals  213   \n",
       "3  \"M296.21875,295.42188l3.69084,-4.30143l1.92631...      THU  animals  202   \n",
       "4  M236.71875,313.42188l-3.42172,1.27096l-4.93799...      CDM  animals  202   \n",
       "\n",
       "   bin_9  \n",
       "0     71  \n",
       "1     71  \n",
       "2     71  \n",
       "3     67  \n",
       "4     67  "
      ]
     },
     "execution_count": 77,
     "metadata": {},
     "output_type": "execute_result"
    }
   ],
   "source": [
    "## visually look at things\n",
    "regroup_df.head()"
   ]
  },
  {
   "cell_type": "code",
   "execution_count": 78,
   "metadata": {},
   "outputs": [
    {
     "name": "stdout",
     "output_type": "stream",
     "text": [
      "There are [9] items in each bin_9\n"
     ]
    }
   ],
   "source": [
    "## do we have the 9 items in each bin_9?\n",
    "checker = []\n",
    "for i, bins in regroup_df.groupby('bin_9'):\n",
    "    c = bins['filename'].nunique()\n",
    "    checker.append(c)\n",
    "\n",
    "C = pd.DataFrame(checker, columns=['numSketch'])\n",
    "print('There are {} items in each bin_9'.format(C['numSketch'].unique()))"
   ]
  },
  {
   "cell_type": "code",
   "execution_count": 81,
   "metadata": {},
   "outputs": [],
   "source": [
    "# reallyRun = True\n",
    "# if reallyRun:    \n",
    "#     ## check last bin to see if there's 8\n",
    "#     # display(regroup_df.loc[regroup_df['bin_8'] == regroup_df['bin_8'].max()])\n",
    "    \n",
    "#     ## grab extra 4 drawings from prior bin\n",
    "#     extra_4 = regroup_df.loc[regroup_df['bin_8'] == regroup_df['bin_8'].max() - 1].head(4)\n",
    "    \n",
    "#     ## add extra 4 to last bin \n",
    "#     extra_4['bin_8'] = regroup_df['bin_8'].max()\n",
    "# #     display(extra_4)\n",
    "#     regroup_df = regroup_df.append(extra_4)\n",
    "    \n",
    "#     ## visually check things\n",
    "#     ## check last bin to see if there's 8\n",
    "#     display(regroup_df.loc[regroup_df['bin_8'] == regroup_df['bin_8'].max()])\n",
    "    \n",
    "#     print('added 4 extra sketches to last bin')"
   ]
  },
  {
   "cell_type": "code",
   "execution_count": 79,
   "metadata": {},
   "outputs": [
    {
     "name": "stdout",
     "output_type": "stream",
     "text": [
      "How many bins are there now? 81\n"
     ]
    }
   ],
   "source": [
    "print('How many bins are there now? {}'.format(regroup_df['bin_9'].nunique()))"
   ]
  },
  {
   "cell_type": "code",
   "execution_count": 83,
   "metadata": {},
   "outputs": [],
   "source": [
    "# from collections import Counter\n",
    "# Counter(Counter(regroup_df.bin_9.value_counts().to_dict()))"
   ]
  },
  {
   "cell_type": "markdown",
   "metadata": {},
   "source": [
    "### now merge at stroke-level"
   ]
  },
  {
   "cell_type": "code",
   "execution_count": 80,
   "metadata": {},
   "outputs": [],
   "source": [
    "## add bin col to sketch-level animal data\n",
    "full_stroke_data = data_test.merge(regroup_df, left_on='filename', right_on='filename', suffixes=('', '_drop'))\n",
    "\n",
    "# drop the duplicate columns\n",
    "full_stroke_data.drop([col for col in full_stroke_data.columns if 'drop' in col], axis=1, inplace=True)\n",
    "\n",
    "## col cleanup\n",
    "# full_stroke_data['arcLength'] = full_stroke_data['arcLength'].astype('int32')\n",
    "full_stroke_data['stroke_count'] = full_stroke_data['stroke_count'].astype('int32')\n",
    "# full_stroke_data['currStrokeNum'] = full_stroke_data['currStrokeNum'].astype('int32')"
   ]
  },
  {
   "cell_type": "code",
   "execution_count": 81,
   "metadata": {},
   "outputs": [],
   "source": [
    "## did we retain all our sketches? \n",
    "assert full_stroke_data['filename'].nunique() == G['filename'].nunique()"
   ]
  },
  {
   "cell_type": "code",
   "execution_count": 82,
   "metadata": {},
   "outputs": [],
   "source": [
    "## visually check that things make sense — this should show all sketches at the stroke-level of first bin\n",
    "d = full_stroke_data.loc[full_stroke_data['bin'] == 0]\n",
    "# for i, group in d.groupby('filename'):\n",
    "#     display(group)"
   ]
  },
  {
   "cell_type": "code",
   "execution_count": 85,
   "metadata": {},
   "outputs": [],
   "source": [
    "# final['arcLength'] = final['arcLength'].astype(str) \n",
    "# final['currStrokeNum'] = final['currStrokeNum'].astype(str) \n",
    "full_stroke_data['stroke_count'] = full_stroke_data['stroke_count'].astype(str) \n",
    "full_stroke_data['bin'] = full_stroke_data['bin'].astype(str) \n",
    "full_stroke_data['bin_9'] = full_stroke_data['bin_9'].astype(str) \n",
    "\n",
    "# full_stroke_data = full_stroke_data.drop(columns=['Unnamed: 0'])"
   ]
  },
  {
   "cell_type": "code",
   "execution_count": 86,
   "metadata": {},
   "outputs": [],
   "source": [
    "## copy over\n",
    "final = full_stroke_data.copy()"
   ]
  },
  {
   "cell_type": "code",
   "execution_count": 87,
   "metadata": {},
   "outputs": [
    {
     "data": {
      "text/html": [
       "<div>\n",
       "<style scoped>\n",
       "    .dataframe tbody tr th:only-of-type {\n",
       "        vertical-align: middle;\n",
       "    }\n",
       "\n",
       "    .dataframe tbody tr th {\n",
       "        vertical-align: top;\n",
       "    }\n",
       "\n",
       "    .dataframe thead th {\n",
       "        text-align: right;\n",
       "    }\n",
       "</style>\n",
       "<table border=\"1\" class=\"dataframe\">\n",
       "  <thead>\n",
       "    <tr style=\"text-align: right;\">\n",
       "      <th></th>\n",
       "      <th>session_id</th>\n",
       "      <th>unique_ids</th>\n",
       "      <th>age</th>\n",
       "      <th>category</th>\n",
       "      <th>condition</th>\n",
       "      <th>ref_image_name</th>\n",
       "      <th>stroke_count</th>\n",
       "      <th>svg</th>\n",
       "      <th>filename</th>\n",
       "      <th>location</th>\n",
       "      <th>group</th>\n",
       "      <th>bin</th>\n",
       "      <th>bin_9</th>\n",
       "    </tr>\n",
       "  </thead>\n",
       "  <tbody>\n",
       "    <tr>\n",
       "      <th>0</th>\n",
       "      <td>Tsinghua_photodraw_production1573784627069</td>\n",
       "      <td>IPAD3_THU5M7</td>\n",
       "      <td>5.02</td>\n",
       "      <td>bird</td>\n",
       "      <td>P</td>\n",
       "      <td>images_photocues/bird_2.png</td>\n",
       "      <td>1</td>\n",
       "      <td>\"M370.21875,285.42188l4.85429,-12.61304l9.6910...</td>\n",
       "      <td>P_bird_sketch_age5_IPAD3_THU5M7.png</td>\n",
       "      <td>THU</td>\n",
       "      <td>animals</td>\n",
       "      <td>169</td>\n",
       "      <td>56</td>\n",
       "    </tr>\n",
       "    <tr>\n",
       "      <th>1</th>\n",
       "      <td>Tsinghua_photodraw_production1573784627069</td>\n",
       "      <td>IPAD3_THU5M7</td>\n",
       "      <td>5.02</td>\n",
       "      <td>bird</td>\n",
       "      <td>P</td>\n",
       "      <td>images_photocues/bird_2.png</td>\n",
       "      <td>2</td>\n",
       "      <td>\"M307.21875,335.42188l6.31184,-3.21874l7.72554...</td>\n",
       "      <td>P_bird_sketch_age5_IPAD3_THU5M7.png</td>\n",
       "      <td>THU</td>\n",
       "      <td>animals</td>\n",
       "      <td>169</td>\n",
       "      <td>56</td>\n",
       "    </tr>\n",
       "    <tr>\n",
       "      <th>2</th>\n",
       "      <td>Tsinghua_photodraw_production1573784627069</td>\n",
       "      <td>IPAD3_THU5M7</td>\n",
       "      <td>5.02</td>\n",
       "      <td>bird</td>\n",
       "      <td>P</td>\n",
       "      <td>images_photocues/bird_2.png</td>\n",
       "      <td>3</td>\n",
       "      <td>\"M173.21875,306.42188l-0.58487,-3.09276l1.5385...</td>\n",
       "      <td>P_bird_sketch_age5_IPAD3_THU5M7.png</td>\n",
       "      <td>THU</td>\n",
       "      <td>animals</td>\n",
       "      <td>169</td>\n",
       "      <td>56</td>\n",
       "    </tr>\n",
       "    <tr>\n",
       "      <th>3</th>\n",
       "      <td>Tsinghua_photodraw_production1573784627069</td>\n",
       "      <td>IPAD3_THU5M7</td>\n",
       "      <td>5.02</td>\n",
       "      <td>bird</td>\n",
       "      <td>P</td>\n",
       "      <td>images_photocues/bird_2.png</td>\n",
       "      <td>4</td>\n",
       "      <td>\"M180.21875,349.42188l5.64603,9.73291l5.34779,...</td>\n",
       "      <td>P_bird_sketch_age5_IPAD3_THU5M7.png</td>\n",
       "      <td>THU</td>\n",
       "      <td>animals</td>\n",
       "      <td>169</td>\n",
       "      <td>56</td>\n",
       "    </tr>\n",
       "    <tr>\n",
       "      <th>4</th>\n",
       "      <td>Tsinghua_photodraw_production1573784627069</td>\n",
       "      <td>IPAD3_THU5M7</td>\n",
       "      <td>5.02</td>\n",
       "      <td>bird</td>\n",
       "      <td>P</td>\n",
       "      <td>images_photocues/bird_2.png</td>\n",
       "      <td>5</td>\n",
       "      <td>\"M239.21875,344.42188l2.386,3.49127l3.8246,5.5...</td>\n",
       "      <td>P_bird_sketch_age5_IPAD3_THU5M7.png</td>\n",
       "      <td>THU</td>\n",
       "      <td>animals</td>\n",
       "      <td>169</td>\n",
       "      <td>56</td>\n",
       "    </tr>\n",
       "  </tbody>\n",
       "</table>\n",
       "</div>"
      ],
      "text/plain": [
       "                                   session_id    unique_ids   age category  \\\n",
       "0  Tsinghua_photodraw_production1573784627069  IPAD3_THU5M7  5.02     bird   \n",
       "1  Tsinghua_photodraw_production1573784627069  IPAD3_THU5M7  5.02     bird   \n",
       "2  Tsinghua_photodraw_production1573784627069  IPAD3_THU5M7  5.02     bird   \n",
       "3  Tsinghua_photodraw_production1573784627069  IPAD3_THU5M7  5.02     bird   \n",
       "4  Tsinghua_photodraw_production1573784627069  IPAD3_THU5M7  5.02     bird   \n",
       "\n",
       "  condition               ref_image_name stroke_count  \\\n",
       "0         P  images_photocues/bird_2.png            1   \n",
       "1         P  images_photocues/bird_2.png            2   \n",
       "2         P  images_photocues/bird_2.png            3   \n",
       "3         P  images_photocues/bird_2.png            4   \n",
       "4         P  images_photocues/bird_2.png            5   \n",
       "\n",
       "                                                 svg  \\\n",
       "0  \"M370.21875,285.42188l4.85429,-12.61304l9.6910...   \n",
       "1  \"M307.21875,335.42188l6.31184,-3.21874l7.72554...   \n",
       "2  \"M173.21875,306.42188l-0.58487,-3.09276l1.5385...   \n",
       "3  \"M180.21875,349.42188l5.64603,9.73291l5.34779,...   \n",
       "4  \"M239.21875,344.42188l2.386,3.49127l3.8246,5.5...   \n",
       "\n",
       "                              filename location    group  bin bin_9  \n",
       "0  P_bird_sketch_age5_IPAD3_THU5M7.png      THU  animals  169    56  \n",
       "1  P_bird_sketch_age5_IPAD3_THU5M7.png      THU  animals  169    56  \n",
       "2  P_bird_sketch_age5_IPAD3_THU5M7.png      THU  animals  169    56  \n",
       "3  P_bird_sketch_age5_IPAD3_THU5M7.png      THU  animals  169    56  \n",
       "4  P_bird_sketch_age5_IPAD3_THU5M7.png      THU  animals  169    56  "
      ]
     },
     "execution_count": 87,
     "metadata": {},
     "output_type": "execute_result"
    }
   ],
   "source": [
    "final.head()"
   ]
  },
  {
   "cell_type": "markdown",
   "metadata": {},
   "source": [
    "## add in ROIs data"
   ]
  },
  {
   "cell_type": "code",
   "execution_count": 88,
   "metadata": {},
   "outputs": [],
   "source": [
    "import devphotodraw_labels as rois\n",
    "importlib.reload(rois)\n",
    "from devphotodraw_labels import ROIS\n",
    "\n",
    "## convert ROI dictionary into ROI dataframe\n",
    "R = pd.DataFrame(ROIS)\n",
    "\n",
    "## add color for buttonGallery\n",
    "R['color'] = '#fed541'\n",
    "\n",
    "## convert so that can be JSON serialized later\n",
    "R['part_num'] = R['part_num'].astype(str)"
   ]
  },
  {
   "cell_type": "code",
   "execution_count": 89,
   "metadata": {},
   "outputs": [],
   "source": [
    "##IMPORTANT! Name dataframe according to group type\n",
    "if whichGroup['group'].unique() == 'animals':\n",
    "    R_subset = R.loc[R['object'].isin(['rabbit', 'cat', 'bird'])]\n",
    "elif whichGroup['group'].unique() == 'small_objects':\n",
    "    R_subset = R.loc[R['object'].isin(['watch', 'cup', 'hat'])]\n",
    "elif whichGroup['group'].unique() == 'big_objects':\n",
    "    R_subset = R.loc[R['object'].isin(['chair', 'tree', 'house'])]\n",
    "elif whichGroup['group'].unique() == 'vehicles':\n",
    "    R_subset = R.loc[R['object'].isin(['bike', 'car', 'airplane'])]"
   ]
  },
  {
   "cell_type": "code",
   "execution_count": 90,
   "metadata": {},
   "outputs": [
    {
     "data": {
      "text/html": [
       "<div>\n",
       "<style scoped>\n",
       "    .dataframe tbody tr th:only-of-type {\n",
       "        vertical-align: middle;\n",
       "    }\n",
       "\n",
       "    .dataframe tbody tr th {\n",
       "        vertical-align: top;\n",
       "    }\n",
       "\n",
       "    .dataframe thead th {\n",
       "        text-align: right;\n",
       "    }\n",
       "</style>\n",
       "<table border=\"1\" class=\"dataframe\">\n",
       "  <thead>\n",
       "    <tr style=\"text-align: right;\">\n",
       "      <th></th>\n",
       "      <th>object</th>\n",
       "      <th>label_name</th>\n",
       "      <th>part_num</th>\n",
       "      <th>color</th>\n",
       "    </tr>\n",
       "  </thead>\n",
       "  <tbody>\n",
       "    <tr>\n",
       "      <th>12</th>\n",
       "      <td>cat</td>\n",
       "      <td>Tail</td>\n",
       "      <td>1</td>\n",
       "      <td>#fed541</td>\n",
       "    </tr>\n",
       "    <tr>\n",
       "      <th>13</th>\n",
       "      <td>cat</td>\n",
       "      <td>Eye</td>\n",
       "      <td>2</td>\n",
       "      <td>#fed541</td>\n",
       "    </tr>\n",
       "    <tr>\n",
       "      <th>14</th>\n",
       "      <td>cat</td>\n",
       "      <td>Ear</td>\n",
       "      <td>3</td>\n",
       "      <td>#fed541</td>\n",
       "    </tr>\n",
       "    <tr>\n",
       "      <th>15</th>\n",
       "      <td>cat</td>\n",
       "      <td>Leg</td>\n",
       "      <td>4</td>\n",
       "      <td>#fed541</td>\n",
       "    </tr>\n",
       "    <tr>\n",
       "      <th>16</th>\n",
       "      <td>cat</td>\n",
       "      <td>Whisker</td>\n",
       "      <td>5</td>\n",
       "      <td>#fed541</td>\n",
       "    </tr>\n",
       "  </tbody>\n",
       "</table>\n",
       "</div>"
      ],
      "text/plain": [
       "   object label_name part_num    color\n",
       "12    cat       Tail        1  #fed541\n",
       "13    cat        Eye        2  #fed541\n",
       "14    cat        Ear        3  #fed541\n",
       "15    cat        Leg        4  #fed541\n",
       "16    cat    Whisker        5  #fed541"
      ]
     },
     "execution_count": 90,
     "metadata": {},
     "output_type": "execute_result"
    }
   ],
   "source": [
    "R_subset.head()"
   ]
  },
  {
   "cell_type": "markdown",
   "metadata": {},
   "source": [
    "### generate meta to insert into mongoDB"
   ]
  },
  {
   "cell_type": "code",
   "execution_count": 91,
   "metadata": {},
   "outputs": [
    {
     "name": "stdout",
     "output_type": "stream",
     "text": [
      "Done!\n"
     ]
    }
   ],
   "source": [
    "#initalize list of all version dictionaries\n",
    "Meta = [] \n",
    "\n",
    "printed=False\n",
    "for name, group in final.groupby(['bin_9']):  \n",
    "    display(group)\n",
    "    print('Adding {} to Meta'.format(name)) \n",
    "    clear_output(wait=True)\n",
    "    Batch = {} # initialize batch-level dictionary \n",
    "    Trials = [] # list of sketches, each list containing sublist of strokes & ROI information\n",
    "    \n",
    "    for n,g in group.groupby('filename'): # looping over sketches within a batch\n",
    "        rois = R_subset[R_subset['object']==g.category.unique()[0]].to_dict(orient='records')\n",
    "        strokes = g.to_dict(orient='records')\n",
    "        Trials.append({'strokes': strokes, 'rois': rois}) # append list of strokes and rois to trial list\n",
    "    Batch['meta'] = Trials # attaching trial list to batch metadata\n",
    "    Batch['batch_id'] = np.unique(group['bin_9'].values)[0]  \n",
    "    Batch['games'] = []\n",
    "    Meta.append(Batch)\n",
    "    \n",
    "print('Done!') "
   ]
  },
  {
   "cell_type": "code",
   "execution_count": 92,
   "metadata": {},
   "outputs": [
    {
     "data": {
      "text/plain": [
       "81"
      ]
     },
     "execution_count": 92,
     "metadata": {},
     "output_type": "execute_result"
    }
   ],
   "source": [
    "## check how many Meta are being inserted\n",
    "len(Meta)"
   ]
  },
  {
   "cell_type": "code",
   "execution_count": 93,
   "metadata": {},
   "outputs": [],
   "source": [
    "## does this match the number of bins that were made?\n",
    "assert len(Meta) == full_stroke_data['bin_9'].nunique()*final['group'].nunique()"
   ]
  },
  {
   "cell_type": "code",
   "execution_count": 94,
   "metadata": {},
   "outputs": [
    {
     "name": "stdout",
     "output_type": "stream",
     "text": [
      "Saving out json dictionary out to file...\n",
      "Done!\n"
     ]
    }
   ],
   "source": [
    "# if full dataset PER group\n",
    "dataset_name = 'devphotodraw_{}'.format(whichGroup['group'][0])\n",
    "print('Saving out json dictionary out to file...') \n",
    "with open('{}_meta.js'.format(dataset_name), 'w') as fout:\n",
    "    json.dump(Meta, fout)\n",
    "print('Done!')"
   ]
  },
  {
   "cell_type": "code",
   "execution_count": 95,
   "metadata": {},
   "outputs": [
    {
     "name": "stdout",
     "output_type": "stream",
     "text": [
      "dataset_name: devphotodraw_animals\n",
      "Length of J is: 81\n"
     ]
    }
   ],
   "source": [
    "#reload JSON back in to the new stimulus collection\n",
    "J = json.loads(open('{}_meta.js'.format(dataset_name),mode='r').read())\n",
    "print('dataset_name: {}'.format(dataset_name))\n",
    "print('Length of J is: {}'.format(len(J)))"
   ]
  },
  {
   "cell_type": "markdown",
   "metadata": {},
   "source": [
    "### insert records into mongoDB\n",
    "Insert records into mongodb\n",
    "\n",
    "Run this in terminal: ssh -fNL 27017:127.0.0.1:27017 hhuey@cogtoolslab.org"
   ]
  },
  {
   "cell_type": "code",
   "execution_count": 96,
   "metadata": {},
   "outputs": [],
   "source": [
    "## remember to establish tunnel to mongodb on remote server first\n",
    "#### e.g. by running at the terminal, `ssh -fNL 27017:127.0.0.1:27017 USERNAME@cogtoolslab.org`\n",
    "\n",
    "# set vars \n",
    "auth = pd.read_csv('auth.txt', header = None) # this auth.txt file contains the password for the sketchloop user\n",
    "pswd = auth.values[0][0]\n",
    "user = 'sketchloop'\n",
    "host = 'cogtoolslab.org' ## cogtoolslab ip address\n",
    "\n",
    "# have to fix this to be able to analyze from local\n",
    "conn = pm.MongoClient('mongodb://sketchloop:' + pswd + '@127.0.0.1')\n",
    "db = conn['stimuli']\n",
    "coll = db[dataset_name]"
   ]
  },
  {
   "cell_type": "code",
   "execution_count": 100,
   "metadata": {},
   "outputs": [
    {
     "name": "stdout",
     "output_type": "stream",
     "text": [
      "Done!\n"
     ]
    }
   ],
   "source": [
    "## now really insert data\n",
    "reallyRun = True\n",
    "if reallyRun:\n",
    "    for (i,j) in enumerate(J):\n",
    "        print ('%d of %d uploaded ...' % (i+1,len(J)))\n",
    "        clear_output(wait=True)\n",
    "        coll.insert_one(j)\n",
    "print('Done!')"
   ]
  },
  {
   "cell_type": "code",
   "execution_count": 101,
   "metadata": {},
   "outputs": [
    {
     "data": {
      "text/plain": [
       "81"
      ]
     },
     "execution_count": 101,
     "metadata": {},
     "output_type": "execute_result"
    }
   ],
   "source": [
    "## check how many records were inserted\n",
    "coll.estimated_document_count()"
   ]
  },
  {
   "cell_type": "code",
   "execution_count": 98,
   "metadata": {},
   "outputs": [],
   "source": [
    "## inspect one of these annotation sessions\n",
    "coll.find_one()"
   ]
  },
  {
   "cell_type": "code",
   "execution_count": null,
   "metadata": {},
   "outputs": [],
   "source": []
  },
  {
   "cell_type": "code",
   "execution_count": 97,
   "metadata": {},
   "outputs": [
    {
     "data": {
      "text/plain": [
       "{'ns': 'stimuli.devphotodraw_animals', 'nIndexesWas': 1, 'ok': 1.0}"
      ]
     },
     "execution_count": 97,
     "metadata": {},
     "output_type": "execute_result"
    }
   ],
   "source": [
    "db.drop_collection('devphotodraw_animals')"
   ]
  },
  {
   "cell_type": "code",
   "execution_count": null,
   "metadata": {},
   "outputs": [],
   "source": []
  }
 ],
 "metadata": {
  "kernelspec": {
   "display_name": "Python 3",
   "language": "python",
   "name": "python3"
  },
  "language_info": {
   "codemirror_mode": {
    "name": "ipython",
    "version": 3
   },
   "file_extension": ".py",
   "mimetype": "text/x-python",
   "name": "python",
   "nbconvert_exporter": "python",
   "pygments_lexer": "ipython3",
   "version": "3.7.10"
  }
 },
 "nbformat": 4,
 "nbformat_minor": 4
}
