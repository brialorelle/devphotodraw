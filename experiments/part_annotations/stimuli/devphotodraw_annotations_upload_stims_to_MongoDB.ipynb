{
 "cells": [
  {
   "cell_type": "code",
   "execution_count": 49,
   "metadata": {},
   "outputs": [],
   "source": [
    "import os, sys\n",
    "\n",
    "import pymongo as pm\n",
    "import numpy as np\n",
    "import scipy.stats as stats\n",
    "import pandas as pd\n",
    "import json\n",
    "import re\n",
    "\n",
    "import matplotlib\n",
    "from matplotlib import pylab, mlab, pyplot\n",
    "%matplotlib inline\n",
    "from IPython.core.pylabtools import figsize, getfigs\n",
    "plt = pyplot\n",
    "import seaborn as sns\n",
    "sns.set_context('talk')\n",
    "sns.set_style('white')\n",
    "\n",
    "from IPython.display import clear_output\n",
    "import importlib\n",
    "\n",
    "import warnings\n",
    "warnings.filterwarnings(\"ignore\", category=DeprecationWarning)\n",
    "warnings.filterwarnings(\"ignore\", message=\"numpy.dtype size changed\")\n",
    "warnings.filterwarnings(\"ignore\", message=\"numpy.ufunc size changed\")\n",
    "pd.options.mode.chained_assignment = None "
   ]
  },
  {
   "cell_type": "code",
   "execution_count": 2,
   "metadata": {},
   "outputs": [],
   "source": [
    "# directory & file hierarchy\n",
    "proj_dir = os.path.abspath('..')\n",
    "stim_dir = os.path.join(proj_dir,'stimuli')"
   ]
  },
  {
   "cell_type": "markdown",
   "metadata": {},
   "source": [
    "## load in data\n",
    "CDM = Children’s Discovery Museum, San Jose <br>\n",
    "THU = Tsinghua University, Beijing"
   ]
  },
  {
   "cell_type": "code",
   "execution_count": 25,
   "metadata": {},
   "outputs": [],
   "source": [
    "CDM = pd.read_csv(os.path.join(stim_dir, 'CDM_photodraw_e2_svg_output2022.csv'))\n",
    "THU = pd.read_csv(os.path.join(stim_dir, 'THU_photodraw_e2_svg_output2022.csv'))\n",
    "data = CDM.append(THU)"
   ]
  },
  {
   "cell_type": "code",
   "execution_count": 30,
   "metadata": {},
   "outputs": [
    {
     "data": {
      "text/html": [
       "<div>\n",
       "<style scoped>\n",
       "    .dataframe tbody tr th:only-of-type {\n",
       "        vertical-align: middle;\n",
       "    }\n",
       "\n",
       "    .dataframe tbody tr th {\n",
       "        vertical-align: top;\n",
       "    }\n",
       "\n",
       "    .dataframe thead th {\n",
       "        text-align: right;\n",
       "    }\n",
       "</style>\n",
       "<table border=\"1\" class=\"dataframe\">\n",
       "  <thead>\n",
       "    <tr style=\"text-align: right;\">\n",
       "      <th></th>\n",
       "      <th>Unnamed: 0</th>\n",
       "      <th>session_id</th>\n",
       "      <th>subID</th>\n",
       "      <th>age</th>\n",
       "      <th>category</th>\n",
       "      <th>condition</th>\n",
       "      <th>filename</th>\n",
       "      <th>ref_image_name</th>\n",
       "      <th>stroke_count</th>\n",
       "      <th>svg</th>\n",
       "    </tr>\n",
       "  </thead>\n",
       "  <tbody>\n",
       "    <tr>\n",
       "      <th>0</th>\n",
       "      <td>0</td>\n",
       "      <td>CDM_photodraw_e21540576831945</td>\n",
       "      <td>102618_1</td>\n",
       "      <td>age4</td>\n",
       "      <td>this square</td>\n",
       "      <td>S</td>\n",
       "      <td>/Users/brialong/Documents/GitHub/devphotodraw/...</td>\n",
       "      <td>images/square.png</td>\n",
       "      <td>1</td>\n",
       "      <td>M224.71875,503.42188l-8.04107,2.01575l-3.82151...</td>\n",
       "    </tr>\n",
       "    <tr>\n",
       "      <th>1</th>\n",
       "      <td>1</td>\n",
       "      <td>CDM_photodraw_e21540576907849</td>\n",
       "      <td>102618_1</td>\n",
       "      <td>age4</td>\n",
       "      <td>this square</td>\n",
       "      <td>S</td>\n",
       "      <td>/Users/brialong/Documents/GitHub/devphotodraw/...</td>\n",
       "      <td>images/square.png</td>\n",
       "      <td>1</td>\n",
       "      <td>M224.71875,503.42188l-8.04107,2.01575l-3.82151...</td>\n",
       "    </tr>\n",
       "    <tr>\n",
       "      <th>2</th>\n",
       "      <td>2</td>\n",
       "      <td>CDM_photodraw_e21540576907849</td>\n",
       "      <td>102618_1</td>\n",
       "      <td>age4</td>\n",
       "      <td>this shape</td>\n",
       "      <td>S</td>\n",
       "      <td>/Users/brialong/Documents/GitHub/devphotodraw/...</td>\n",
       "      <td>images/shape.png</td>\n",
       "      <td>1</td>\n",
       "      <td>M397.71875,396.42188l4,8l1.73384,0.05863l3.071...</td>\n",
       "    </tr>\n",
       "    <tr>\n",
       "      <th>3</th>\n",
       "      <td>3</td>\n",
       "      <td>CDM_photodraw_e21540576907849</td>\n",
       "      <td>102618_1</td>\n",
       "      <td>age4</td>\n",
       "      <td>this shape</td>\n",
       "      <td>S</td>\n",
       "      <td>/Users/brialong/Documents/GitHub/devphotodraw/...</td>\n",
       "      <td>images/shape.png</td>\n",
       "      <td>2</td>\n",
       "      <td>M397.71875,396.42188l4,8l1.73384,0.05863l15.26...</td>\n",
       "    </tr>\n",
       "    <tr>\n",
       "      <th>4</th>\n",
       "      <td>4</td>\n",
       "      <td>CDM_photodraw_e21540576907849</td>\n",
       "      <td>102618_1</td>\n",
       "      <td>age4</td>\n",
       "      <td>rectangle</td>\n",
       "      <td>P</td>\n",
       "      <td>/Users/brialong/Documents/GitHub/devphotodraw/...</td>\n",
       "      <td>images_photocues/rectangle.png</td>\n",
       "      <td>1</td>\n",
       "      <td>M18.71875,1.42188l-15.07726,15.62757l-6.53569,...</td>\n",
       "    </tr>\n",
       "  </tbody>\n",
       "</table>\n",
       "</div>"
      ],
      "text/plain": [
       "   Unnamed: 0                     session_id     subID   age     category  \\\n",
       "0           0  CDM_photodraw_e21540576831945  102618_1  age4  this square   \n",
       "1           1  CDM_photodraw_e21540576907849  102618_1  age4  this square   \n",
       "2           2  CDM_photodraw_e21540576907849  102618_1  age4   this shape   \n",
       "3           3  CDM_photodraw_e21540576907849  102618_1  age4   this shape   \n",
       "4           4  CDM_photodraw_e21540576907849  102618_1  age4    rectangle   \n",
       "\n",
       "  condition                                           filename  \\\n",
       "0         S  /Users/brialong/Documents/GitHub/devphotodraw/...   \n",
       "1         S  /Users/brialong/Documents/GitHub/devphotodraw/...   \n",
       "2         S  /Users/brialong/Documents/GitHub/devphotodraw/...   \n",
       "3         S  /Users/brialong/Documents/GitHub/devphotodraw/...   \n",
       "4         P  /Users/brialong/Documents/GitHub/devphotodraw/...   \n",
       "\n",
       "                   ref_image_name  stroke_count  \\\n",
       "0               images/square.png             1   \n",
       "1               images/square.png             1   \n",
       "2                images/shape.png             1   \n",
       "3                images/shape.png             2   \n",
       "4  images_photocues/rectangle.png             1   \n",
       "\n",
       "                                                 svg  \n",
       "0  M224.71875,503.42188l-8.04107,2.01575l-3.82151...  \n",
       "1  M224.71875,503.42188l-8.04107,2.01575l-3.82151...  \n",
       "2  M397.71875,396.42188l4,8l1.73384,0.05863l3.071...  \n",
       "3  M397.71875,396.42188l4,8l1.73384,0.05863l15.26...  \n",
       "4  M18.71875,1.42188l-15.07726,15.62757l-6.53569,...  "
      ]
     },
     "execution_count": 30,
     "metadata": {},
     "output_type": "execute_result"
    }
   ],
   "source": [
    "data.head()"
   ]
  },
  {
   "cell_type": "code",
   "execution_count": 28,
   "metadata": {},
   "outputs": [
    {
     "name": "stdout",
     "output_type": "stream",
     "text": [
      "1922 CDM sketches and 1749 THU sketches\n",
      "3671 total sketches\n"
     ]
    }
   ],
   "source": [
    "## how many sketches in each dataset?\n",
    "print('{} CDM sketches and {} THU sketches'.format(CDM['filename'].nunique(), THU['filename'].nunique()))\n",
    "print('{} total sketches'.format(data['filename'].nunique()))\n",
    "assert CDM['filename'].nunique() + THU['filename'].nunique() == data['filename'].nunique()"
   ]
  },
  {
   "cell_type": "code",
   "execution_count": 53,
   "metadata": {},
   "outputs": [],
   "source": [
    "## preprocessing\n",
    "## only grab object category data (not tracing or familiarization data)\n",
    "data_test = data.loc[data['category'].isin(['watch', 'bike', 'chair', 'car', 'tree', 'rabbit', \n",
    "                                            'house', 'cup', 'hat', 'cat', 'bird', 'airplane'])]\n",
    "\n",
    "data_test['location'] = data_test['session_id'].apply(lambda x:x.split('_')[0])\n",
    "data_test['location'] = data_test['location'].replace('Tsinghua', 'THU')"
   ]
  },
  {
   "cell_type": "code",
   "execution_count": 55,
   "metadata": {},
   "outputs": [
    {
     "name": "stdout",
     "output_type": "stream",
     "text": [
      "1438 CDM sketches and 1291 THU sketches\n",
      "2729 total sketches\n"
     ]
    }
   ],
   "source": [
    "## how many sketches in each dataset?\n",
    "print('{} CDM sketches and {} THU sketches'.format(data_test.loc[data_test['location'] == 'CDM']['filename'].nunique(), \n",
    "                                                   data_test.loc[data_test['location'] == 'THU']['filename'].nunique()))\n",
    "print('{} total sketches'.format(data_test['filename'].nunique()))\n",
    "\n",
    "assert data_test.loc[data_test['location'] == 'CDM']['filename'].nunique() + data_test.loc[data_test['location'] == 'THU']['filename'].nunique() == data_test['filename'].nunique()"
   ]
  },
  {
   "cell_type": "code",
   "execution_count": 63,
   "metadata": {},
   "outputs": [
    {
     "data": {
      "text/plain": [
       "location  category\n",
       "CDM       bike        1458\n",
       "          bird        1268\n",
       "          cat         1222\n",
       "          watch       1086\n",
       "          rabbit      1067\n",
       "          car         1061\n",
       "          house        994\n",
       "          chair        974\n",
       "          airplane     933\n",
       "          tree         762\n",
       "          cup          497\n",
       "          hat          494\n",
       "THU       bike        1303\n",
       "          cat         1275\n",
       "          watch       1224\n",
       "          house       1166\n",
       "          bird        1153\n",
       "          rabbit      1087\n",
       "          chair       1049\n",
       "          airplane     941\n",
       "          car          913\n",
       "          tree         712\n",
       "          hat          525\n",
       "          cup          387\n",
       "Name: category, dtype: int64"
      ]
     },
     "metadata": {},
     "output_type": "display_data"
    }
   ],
   "source": [
    "## how many of each category?\n",
    "counts = data_test.groupby('location')['category'].value_counts()\n",
    "display(counts)"
   ]
  },
  {
   "cell_type": "markdown",
   "metadata": {},
   "source": [
    "## add in ROIs data"
   ]
  },
  {
   "cell_type": "code",
   "execution_count": 70,
   "metadata": {},
   "outputs": [],
   "source": [
    "import devphotodraw_labels as rois\n",
    "importlib.reload(rois)\n",
    "from devphotodraw_labels import ROIS, CAT, WATCH, HOUSE, BIRD, RABBIT, CHAIR, AIRPLANE, CAR, TREE, HAT, CUP\n",
    "\n",
    "## convert ROI dictionary into ROI dataframe\n",
    "R = pd.DataFrame(ROIS)\n",
    "\n",
    "## add color for buttonGallery\n",
    "R['color'] = '#fed541'\n",
    "\n",
    "## convert so that can be JSON serialized later\n",
    "R['part_num'] = R['part_num'].astype(str)"
   ]
  },
  {
   "cell_type": "code",
   "execution_count": 71,
   "metadata": {},
   "outputs": [
    {
     "data": {
      "text/html": [
       "<div>\n",
       "<style scoped>\n",
       "    .dataframe tbody tr th:only-of-type {\n",
       "        vertical-align: middle;\n",
       "    }\n",
       "\n",
       "    .dataframe tbody tr th {\n",
       "        vertical-align: top;\n",
       "    }\n",
       "\n",
       "    .dataframe thead th {\n",
       "        text-align: right;\n",
       "    }\n",
       "</style>\n",
       "<table border=\"1\" class=\"dataframe\">\n",
       "  <thead>\n",
       "    <tr style=\"text-align: right;\">\n",
       "      <th></th>\n",
       "      <th>object</th>\n",
       "      <th>label_name</th>\n",
       "      <th>part_num</th>\n",
       "      <th>color</th>\n",
       "    </tr>\n",
       "  </thead>\n",
       "  <tbody>\n",
       "    <tr>\n",
       "      <th>0</th>\n",
       "      <td>bike</td>\n",
       "      <td>Wheel</td>\n",
       "      <td>1</td>\n",
       "      <td>#fed541</td>\n",
       "    </tr>\n",
       "    <tr>\n",
       "      <th>1</th>\n",
       "      <td>bike</td>\n",
       "      <td>Seat</td>\n",
       "      <td>2</td>\n",
       "      <td>#fed541</td>\n",
       "    </tr>\n",
       "    <tr>\n",
       "      <th>2</th>\n",
       "      <td>bike</td>\n",
       "      <td>Handle</td>\n",
       "      <td>3</td>\n",
       "      <td>#fed541</td>\n",
       "    </tr>\n",
       "    <tr>\n",
       "      <th>3</th>\n",
       "      <td>bike</td>\n",
       "      <td>Pedal</td>\n",
       "      <td>4</td>\n",
       "      <td>#fed541</td>\n",
       "    </tr>\n",
       "    <tr>\n",
       "      <th>4</th>\n",
       "      <td>bike</td>\n",
       "      <td>Chain</td>\n",
       "      <td>5</td>\n",
       "      <td>#fed541</td>\n",
       "    </tr>\n",
       "    <tr>\n",
       "      <th>...</th>\n",
       "      <td>...</td>\n",
       "      <td>...</td>\n",
       "      <td>...</td>\n",
       "      <td>...</td>\n",
       "    </tr>\n",
       "    <tr>\n",
       "      <th>110</th>\n",
       "      <td>cup</td>\n",
       "      <td>Handle</td>\n",
       "      <td>1</td>\n",
       "      <td>#fed541</td>\n",
       "    </tr>\n",
       "    <tr>\n",
       "      <th>111</th>\n",
       "      <td>cup</td>\n",
       "      <td>Body</td>\n",
       "      <td>2</td>\n",
       "      <td>#fed541</td>\n",
       "    </tr>\n",
       "    <tr>\n",
       "      <th>112</th>\n",
       "      <td>cup</td>\n",
       "      <td>Base</td>\n",
       "      <td>3</td>\n",
       "      <td>#fed541</td>\n",
       "    </tr>\n",
       "    <tr>\n",
       "      <th>113</th>\n",
       "      <td>cup</td>\n",
       "      <td>Rim</td>\n",
       "      <td>4</td>\n",
       "      <td>#fed541</td>\n",
       "    </tr>\n",
       "    <tr>\n",
       "      <th>114</th>\n",
       "      <td>cup</td>\n",
       "      <td>Hole</td>\n",
       "      <td>5</td>\n",
       "      <td>#fed541</td>\n",
       "    </tr>\n",
       "  </tbody>\n",
       "</table>\n",
       "<p>115 rows × 4 columns</p>\n",
       "</div>"
      ],
      "text/plain": [
       "    object label_name part_num    color\n",
       "0     bike      Wheel        1  #fed541\n",
       "1     bike       Seat        2  #fed541\n",
       "2     bike     Handle        3  #fed541\n",
       "3     bike      Pedal        4  #fed541\n",
       "4     bike      Chain        5  #fed541\n",
       "..     ...        ...      ...      ...\n",
       "110    cup     Handle        1  #fed541\n",
       "111    cup       Body        2  #fed541\n",
       "112    cup       Base        3  #fed541\n",
       "113    cup        Rim        4  #fed541\n",
       "114    cup       Hole        5  #fed541\n",
       "\n",
       "[115 rows x 4 columns]"
      ]
     },
     "execution_count": 71,
     "metadata": {},
     "output_type": "execute_result"
    }
   ],
   "source": [
    "R"
   ]
  },
  {
   "cell_type": "code",
   "execution_count": null,
   "metadata": {},
   "outputs": [],
   "source": []
  }
 ],
 "metadata": {
  "kernelspec": {
   "display_name": "Python 3",
   "language": "python",
   "name": "python3"
  },
  "language_info": {
   "codemirror_mode": {
    "name": "ipython",
    "version": 3
   },
   "file_extension": ".py",
   "mimetype": "text/x-python",
   "name": "python",
   "nbconvert_exporter": "python",
   "pygments_lexer": "ipython3",
   "version": "3.7.10"
  }
 },
 "nbformat": 4,
 "nbformat_minor": 4
}
