{
 "cells": [
  {
   "cell_type": "code",
   "execution_count": 41,
   "metadata": {
    "collapsed": true
   },
   "outputs": [],
   "source": [
    "### Set up libraries\n",
    "from __future__ import division\n",
    "\n",
    "import os\n",
    "import urllib, cStringIO\n",
    "\n",
    "import numpy as np\n",
    "import scipy.stats as stats\n",
    "import pandas as pd\n",
    "import json\n",
    "import re\n",
    "\n",
    "from PIL import Image\n",
    "import base64\n",
    "import datetime\n",
    "import time\n",
    "import couchdb\n",
    "from svgpathtools import parse_path"
   ]
  },
  {
   "cell_type": "code",
   "execution_count": 42,
   "metadata": {
    "collapsed": true
   },
   "outputs": [],
   "source": [
    "## needed for rendering svg drawings\n",
    "from matplotlib.path import Path\n",
    "import matplotlib\n",
    "from matplotlib import pylab, mlab, pyplot\n",
    "%matplotlib inline\n",
    "from IPython.core.pylabtools import figsize, getfigs\n",
    "plt = pyplot\n",
    "import seaborn as sns\n",
    "sns.set_context('poster')\n",
    "sns.set_style('white')\n",
    "\n",
    "import matplotlib.patches as patches"
   ]
  },
  {
   "cell_type": "code",
   "execution_count": 43,
   "metadata": {
    "collapsed": true
   },
   "outputs": [],
   "source": [
    "# set vars -- need access to couchdb\n",
    "auth = pd.read_csv('auth.txt', header = None) \n",
    "server_address_input = auth.values[0][0]\n",
    "\n",
    "## get our main database\n",
    "couch = couchdb.Server(server_address_input)\n",
    "db = couch['tsinghua-draw'] \n",
    "# db.info()"
   ]
  },
  {
   "cell_type": "code",
   "execution_count": null,
   "metadata": {
    "collapsed": true
   },
   "outputs": [],
   "source": []
  },
  {
   "cell_type": "markdown",
   "metadata": {},
   "source": [
    "### Can use mongo-like queries on couchdb! wow! major win."
   ]
  },
  {
   "cell_type": "code",
   "execution_count": 86,
   "metadata": {
    "collapsed": true
   },
   "outputs": [],
   "source": [
    "## can end up feeding loop with relevant SUB\n",
    "stroke_recs = {'selector': {'dataType':'stroke', 'subID':'iPad 1_THU9M2', 'trialNum': 15}}\n",
    "stroke_recs_test = db.find(stroke_recs) # will tell us how many recs we have for this participant."
   ]
  },
  {
   "cell_type": "code",
   "execution_count": 87,
   "metadata": {},
   "outputs": [
    {
     "data": {
      "text/plain": [
       "[<Document u'2019-12-24T07:20:56.498Z'@u'1-7739186372449df78da1481e7f1dfd8c' {u'category': u'house', u'endStrokeTime': 1577172056158, u'dataType': u'stroke', u'startStrokeTime': 1577172048352, u'CB': u'1', u'colname': u'Tsinghua_photodraw_production', u'dbname': u'kiddraw', u'subID': u'iPad 1_THU9M2', u'sessionId': u'Tsinghua_photodraw_production1577171554498', u'imageName': u'images_photocues/house_2.png', u'trialNum': 15, u'svg': u'<path xmlns=\"http://www.w3.org/2000/svg\" d=\"M283.21875,333.42188l-2.63154,-17.19596l-0.42983,-18.08563l1.06137,-35.7184l0.40177,-13.89377l-2.40177,-13.10623l-2.09993,-1.39599l-3.42414,-0.34182l-6.47593,-0.26219l-21.33764,-3.13849l-21.66236,-1.86151l-4.62892,-1.29945l-5.81714,-2.6362l-4.09411,-3.91838l0.54017,-5.14597l3.93092,-2.92161l5.92281,-2.05127l11.14627,-4.02712l27.61428,-20.55932l28.38572,-19.44068l9.35451,-4.89623l12.47071,-6.10497l12.0581,-6.35437l8.11667,-5.64443l-0.86694,0.04371l-2.13306,0.95629l-3,3l-1.04135,4.07197l2.14292,4.82478l3.34214,4.3764l2.55629,2.72685l2.46274,1.49132l4.44977,1.91408l4.49352,0.96138l2.59398,-1.36678v-6l3.67013,-2.17086l4.32987,-0.82914l11.44089,-5.94905l10.36948,-8.15441l10.2143,-8.10268l10.97533,-5.79386l8.68143,-0.76009l8.31857,-1.23991h2h-2l-0.54535,3.18104l-0.13677,6.11292l0.20429,6.21594l0.47784,3.49009l7.86031,14.15502l10.13969,15.84498l2.36693,5.71596l3.63307,4.28404l8.33752,0.63683l9.44115,-1.97908l9.30181,-3.05795l7.91952,-2.5998l21.96984,-3.88512l22.03016,-3.11488l5.26111,-0.84538l9.4626,-1.41446l9.10074,-1.28454l2.98863,-0.37511l1.18692,-0.08051v2l-2.87516,12.0421l-1.48439,6.25447l0.35955,6.70344l3.22807,12.55184l4.679,16.28191l5.47546,15.36504l2.83189,5.88652l2.78558,3.91469l1.62248,0.22953l1.565,-1.58993l1.81252,-3.63961l1.86679,-10.40847l1.7253,-4.45635l3.40791,-3.13518l29.67279,-12.86079l31.32721,-9.13921h2h3l2.79084,-0.21442l5.46768,-0.33729l5.33842,-0.31143l2.40305,-0.13686l-1,1l-4.18319,7.01377l-2.81681,8.98623l-1.11348,6.86344l0.12372,8.00051l0.98976,15.13605l-1.96986,19.8325l-5.03014,19.1675l-2.32855,3.14237l-3.98072,1.59955l-11.06872,0.14637l-12.12973,-1.29778l-9.49229,0.40948l-7.79883,4.59961l-7.20117,4.40039l-4.31793,3.66115l-2.40912,6.11721l-1.04559,6.72803l-0.22736,5.49361l-3,59l-0.06066,2.19553l-0.02427,4.15192l0.09395,11.43421l0.33944,11.04338l0.28259,3.66338l0.36894,1.51158l9.75724,2.02203l14.10756,0.50113l14.42516,-0.01045l10.71004,0.48729l5.29895,1.53693l4.1859,2.94551l1.94348,4.20429l-1.42833,5.31327l-13.90402,21.93874l-17.76503,24.55066l-19.9305,22.30596l-10.24745,8.79353l-10.153,6.41112l-12.06954,2.05697l-15.73862,-1.51035l-15.83454,-3.03366l-12.3573,-2.51296l-31.89809,-3.34916l-32.42219,-1.00006l-32.51205,-0.82545l-32.16767,-2.82533l-11.6665,-0.41487l-12.80602,0.57828l-12.56976,-0.25342l-10.95771,-2.90998l-1.95408,-2.81329l-0.5051,-4.56296l0.45918,-8.62375l0.17904,-10.85071l-0.11826,-14.0594l-1.39865,-13.35434l-3.66213,-8.73555l-3,-0.18503l-3,0.18503l-5.20589,4.40664l-4.98135,2.39926l-5.63773,0.99631l-7.17503,0.19779l-5.79244,-0.99018l-6.89771,-2.31697l-13.30986,-4.69284l-11.19224,-0.33463l-10.80776,2.33463l-7.77786,1.27135l-9.0159,-0.14126l-17.20624,-1.13009l-3.92741,-0.05051l-6.23675,-0.16752l-5.90467,-0.3085l-2.93117,-0.47346l1.20965,-1.20868l4.24282,-1.20441l4.76658,-0.99786l2.78094,-0.58905l3.67224,-2.3687l2.37549,-3.899l1.85581,-10.76048l-0.34596,-11.99639l-0.55758,-9.97543v-43l-3.45271,-20.28973l-5.77666,-19.47646l-13.77063,-38.23381l-1.78191,-6.0416l-1.69348,-7.82355l-0.70578,-7.89097l1.18118,-6.24388l4.38114,-4.59865l2.9902,-1.24119l2.62867,0.83984\" fill=\"none\" fill-rule=\"nonzero\" stroke=\"#000000\" stroke-width=\"10\" stroke-linecap=\"round\" stroke-linejoin=\"miter\" stroke-miterlimit=\"10\" stroke-dasharray=\"\" stroke-dashoffset=\"0\" font-family=\"none\" font-weight=\"none\" font-size=\"none\" text-anchor=\"none\" style=\"mix-blend-mode: normal\"/>', u'date': u'2019-12-24T07:20:56.498Z', u'startTrialTime': 1577172047115, u'condition': u'P', u'location': u'Tsinghua'}>]"
      ]
     },
     "execution_count": 87,
     "metadata": {},
     "output_type": "execute_result"
    }
   ],
   "source": [
    "stroke_recs_test"
   ]
  },
  {
   "cell_type": "code",
   "execution_count": 77,
   "metadata": {},
   "outputs": [],
   "source": [
    "\n",
    "recs_final_trial = {'selector': {'dataType':'finalImage', 'trialNum':15}}\n",
    "image_recs_test = db.find(recs_final_trial) # will tell us how many recs we have for this participant."
   ]
  },
  {
   "cell_type": "code",
   "execution_count": 80,
   "metadata": {},
   "outputs": [
    {
     "data": {
      "text/plain": [
       "<Document u'2019-11-03T06:00:18.620Z'@u'1-cd1adeab201caa097eb700fd80950f81' {u'category': u'tree', u'dataType': u'finalImage', u'CB': u'1', u'colname': u'Tsinghua_photodraw_e2', u'endTrialTime': 1572760818620, u'dbname': u'kiddraw', u'subID': u'Test', u'sessionId': u'Tsinghua_photodraw_e21572760678771', u'imageName': u'images_photocues/tree_2.png', u'trialNum': 15, u'date': u'2019-11-03T06:00:18.620Z', u'imgData': u'iVBORw0KGgoAAAANSUhEUgAAAJYAAACWCAYAAAA8AXHiAAAAAXNSR0IArs4c6QAAAshJREFUeAHt2UtOwzAQANCC+CzYwHU4Agdgw4Kb9SKcggVbroCE2IEEtiDtNEKpE7VVY79IVe36087LZIzEYuEiQIAAAQIECBAgQIAAAQIECBAgQIAAAQIECBAgQIAAAQIECBAgQIAAAQIECBAgQIAAAQIECBAgQIAAAQIECBAgQIAAAQIECBAgQIAAAQIECBAgQIAAAQIECBAgQIAAAQIECBAgQIAAAQIECBAgQIAAAQIECBAgQIAAAQIECBAgQIAAAQIECBAgQIAAAQIECBAgQIAAAQIECBAgQIAAAQIECBAgQIAAAQIECBAgQIAAAQIECBAgQIAAAQIECBAgQIAAAQIECBAgQIAAAQIECBAgQIAAAQIECBAgQIAAAQIECBAgQIAAAQIECBAgQIAAAQIECBAgQIAAAQIECBAgQIAAAQIECBAgMF3gOi39Dq/pO1Ww8qyCGI4hhJxQ8XqPHW0CYwVihcrtt7EbmE8gCpynTj+p4rg2gdECX2lFTKrRG7Sw4KSFIHcYY06o7srt067jncAUgde0KFapqymbtLRGxdp+t2OVyrOZbTczY0DgIY3FKnU3MNdQT8DT1wP566pS/7sUf+qPz02q/KDFpHpJfQ/fplFRD9qaKSZU/pTN2mZ0C94vmaQanToWDAk8p8GcVN3rYmiysXKBliuWKlWeJ2YWCNykOV2Fyu+PBWtMITAo8JlGY1INTjY4XaClozAnVLxaij3Grb1DgVilbne4r60aFXhKccekapTh8GHXfBw4+g6fT6tvrPVfOjGplinamh+g1c3U2J/Afdra0bc/3+Kda3qSY5XKADXFVnxDj2ViLUdhTKoPSXUs6TX/39Edf5fzD0UEBAgQIECAAAECBAgQIECAAAECBAgQIECAAAECBAgQIECAAAECBAgQIECAAAECBAgQIECAAAECBAgQIECAAIF5CfwAwJxAZ17j1koAAAAASUVORK5CYII=', u'startTrialTime': 1572760816246, u'condition': u'P', u'location': u'Tsinghua'}>"
      ]
     },
     "execution_count": 80,
     "metadata": {},
     "output_type": "execute_result"
    }
   ],
   "source": [
    "image_recs_test[24]"
   ]
  },
  {
   "cell_type": "code",
   "execution_count": null,
   "metadata": {
    "collapsed": true
   },
   "outputs": [],
   "source": [
    "if count_images & np.mod(imgCount,10)==0:\n",
    "    print imgCount\n",
    "if write_images:\n",
    "    fname = os.path.join(sketch_dir,'{}_{}_{}_sketch_{}.png'.format(this_doc['subID'],this_doc['trialNum'],this_doc['condition'],this_doc['category'],this_doc['date']))\n",
    "    with open(fname, \"wb\") as fh:\n",
    "        fh.write(imgData.decode('base64')) "
   ]
  },
  {
   "cell_type": "code",
   "execution_count": 61,
   "metadata": {},
   "outputs": [
    {
     "name": "stdout",
     "output_type": "stream",
     "text": [
      "<Document u'2019-06-06T05:28:34.310Z'@u'1-1d838ca0218b8f9c316bea66b6345ac4' {u'category': u'hat', u'endStrokeTime': 1559798914256, u'dataType': u'stroke', u'startStrokeTime': 1559798913908, u'CB': u'2', u'colname': u'Tsinghua_photodraw_e2', u'dbname': u'kiddraw', u'subID': u'Yingwang', u'sessionId': u'Tsinghua_photodraw_e21559798721680', u'imageName': u'images_photocues/hat_1.png', u'trialNum': 15, u'svg': u'<path xmlns=\"http://www.w3.org/2000/svg\" d=\"M167.21875,401.42188l23.38841,-2.54726l23.61159,-0.45274l78,-4l116,-9l91,-4l40.49716,-3.60975l40.50284,-2.39025h24l2,-1\" fill=\"none\" fill-rule=\"nonzero\" stroke=\"#000000\" stroke-width=\"10\" stroke-linecap=\"round\" stroke-linejoin=\"miter\" stroke-miterlimit=\"10\" stroke-dasharray=\"\" stroke-dashoffset=\"0\" font-family=\"none\" font-weight=\"none\" font-size=\"none\" text-anchor=\"none\" style=\"mix-blend-mode: normal\"/>', u'date': u'2019-06-06T05:28:34.310Z', u'startTrialTime': 1559798913268, u'condition': u'S', u'location': u'Tsinghua'}>\n",
      "<Document u'2019-06-06T05:28:36.908Z'@u'1-ae0bb08850db4afedcacec982b24f586' {u'category': u'hat', u'endStrokeTime': 1559798916831, u'dataType': u'stroke', u'startStrokeTime': 1559798914986, u'CB': u'2', u'colname': u'Tsinghua_photodraw_e2', u'dbname': u'kiddraw', u'subID': u'Yingwang', u'sessionId': u'Tsinghua_photodraw_e21559798721680', u'imageName': u'images_photocues/hat_1.png', u'trialNum': 15, u'svg': u'<path xmlns=\"http://www.w3.org/2000/svg\" d=\"M150.21875,398.42188l22.8665,-3.90089l9.95392,-4.36314l4.0204,-4.01992l3.15918,-5.71604l1.67264,-11.05521l-0.35767,-6.15253l-1.31498,-4.79226l-7.87403,-11.16175l-8.12597,-10.83825l-4.712,-12.30221l0.05152,-11.83686l5.38176,-10.01732l11.27871,-6.84361l13.1164,-3.02089l15.34428,-0.91824l14.86394,2.30132l11.67538,6.63781l12.68997,13.34424l13.52976,12.3702l15.66989,8.01298l9.04386,1.31529l10.06652,-1.04271l13.74995,-6.12542l12.25005,-8.87458l11.19038,-8.24192l9.80962,-9.75808l6.01773,-13.61159l1.55817,-15.15939l-2.5759,-30.22902l-0.10707,-31.38869l2.31596,-15.06834l4.14617,-14.36638l6.16429,-13.45096l8.37031,-12.32206l10.76425,-10.9797l13.34609,-9.42387l16.89868,-7.45421l18.10132,-3.54579l13.54388,-0.74966l13.45612,0.74966l7.51708,2.44206l6.15629,4.10014l8.87058,11.82003l5.34861,14.38891l3.10744,14.24886l1.94637,28.64704l0.48694,29.12312l1.88142,13.9241l4.13886,13.06394l7.27039,11.87737l11.27602,10.36442l12.76167,6.833l14.24234,4.61935l28.99598,5.54766l46.30162,9.76126l44.69838,15.23874l15.73498,9.01185l13.95135,12.962l9.35819,15.97508l2.07868,8.8246l-0.12319,9.22647l-1.84186,5.1164l-3.56971,3.79826l-10.60049,4.42615l-12.34446,1.50575l-10.64348,0.15345l-30.24238,-2.96875l-29.63099,-6.53125l-29.69431,-6.53125l-30.43232,-2.96875\" fill=\"none\" fill-rule=\"nonzero\" stroke=\"#000000\" stroke-width=\"10\" stroke-linecap=\"round\" stroke-linejoin=\"miter\" stroke-miterlimit=\"10\" stroke-dasharray=\"\" stroke-dashoffset=\"0\" font-family=\"none\" font-weight=\"none\" font-size=\"none\" text-anchor=\"none\" style=\"mix-blend-mode: normal\"/>', u'date': u'2019-06-06T05:28:36.908Z', u'startTrialTime': 1559798913268, u'condition': u'S', u'location': u'Tsinghua'}>\n",
      "<Document u'2019-06-25T01:17:48.042Z'@u'1-fb586e343ebcf06793554e484dfbf591' {u'category': u'car', u'endStrokeTime': 1561425467869, u'dataType': u'stroke', u'startStrokeTime': 1561425460231, u'CB': u'1', u'colname': u'Tsinghua_photodraw_e2', u'dbname': u'kiddraw', u'subID': u'THU5M2', u'sessionId': u'Tsinghua_photodraw_e21561425132673', u'imageName': u'images_photocues/car_3.png', u'trialNum': 15, u'svg': u'<path xmlns=\"http://www.w3.org/2000/svg\" d=\"M81.21875,295.42188l17.38782,1.69776l17.64095,4.16293l34.97123,10.13932l25,6h2v-2l-1.32436,-8.20313l0.32436,-8.79687l2.22225,-24.85797l6.77775,-24.14203l12.8137,-25.29707l17.98529,-23.86137l22.18699,-21.6368l25.41879,-18.62335l27.68069,-14.82103l28.9727,-10.22983l29.29481,-4.84975l28.64703,1.3192l10.28229,4.00448l8.86918,7.4628l6.79344,9.47916l4.05508,10.05355l5.30831,25.91651l2.94497,26.75201l0.06833,26.91775l-3.32162,26.41374l-2,15l-5.79554,13.77885l-6.20446,13.22115l-3.714,5.0665l-2.56507,2.15453l-1.72092,-0.22103l-0.60206,-3.72669l2.14569,-2.44201l9.52602,-2.04122l11.4912,0.06374l4.60216,0.18919l2.83699,-0.04301l9,-2l12,-2l12,-3l25.15736,-4.53027l25.07537,-2.38553l50.76727,-1.08421l7.44744,-0.33321l9.21903,-0.38868l8.63579,0.47226l5.69774,2.24962h4h4l5,6l4,1l0.73208,3.05074l-0.36743,4.91367l-0.79976,4.93147l-0.56489,3.10412l-3.13139,14.1328l-4.61292,13.31224l-10.25569,26.55496l-3.27177,13.05807l-3.03181,14.58333l-4.13002,13.76263l-6.5664,10.59597l-3.35692,0.42634l-4.44288,-2.27475l-4.29298,-3.10054l-2.90721,-2.05104l-18,-9l-9.73218,-2.86609l-10.26782,-3.13391l-7.97769,-1.13158l-9.80427,1.85996l-9.41329,3.24577l-6.80474,3.02585l-3.78323,1.12189l-5.92071,0.89905l-15.45989,1.2199l-15.62798,0.59948l-6.13081,0.12353l-4.07738,0.03616l-18,3l-4.17048,-0.27893l-3.82952,0.27893v3v-13l-1.748,-20.15738l-7.252,-18.84262l-18.61709,-22.67581l-11.4755,-9.56008l-12.61548,-7.96626l-13.52697,-6.06599l-14.20997,-3.85927l-14.66448,-1.34611l-14.8905,1.47351l-13.14922,5.69117l-11.51179,9.93791l-18.33899,23.37092l-16.54674,27.02362l-11.52258,28.47371l-6.73792,29.97505l-2.19275,31.52763\" fill=\"none\" fill-rule=\"nonzero\" stroke=\"#000000\" stroke-width=\"10\" stroke-linecap=\"round\" stroke-linejoin=\"miter\" stroke-miterlimit=\"10\" stroke-dasharray=\"\" stroke-dashoffset=\"0\" font-family=\"none\" font-weight=\"none\" font-size=\"none\" text-anchor=\"none\" style=\"mix-blend-mode: normal\"/>', u'date': u'2019-06-25T01:17:48.042Z', u'startTrialTime': 1561425458491, u'condition': u'P', u'location': u'Tsinghua'}>\n",
      "<Document u'2019-06-25T01:17:48.861Z'@u'1-b17708b152775a7f4a776a22e9473c47' {u'category': u'car', u'endStrokeTime': 1561425468828, u'dataType': u'stroke', u'startStrokeTime': 1561425468048, u'CB': u'1', u'colname': u'Tsinghua_photodraw_e2', u'dbname': u'kiddraw', u'subID': u'THU5M2', u'sessionId': u'Tsinghua_photodraw_e21561425132673', u'imageName': u'images_photocues/car_3.png', u'trialNum': 15, u'svg': u'<path xmlns=\"http://www.w3.org/2000/svg\" d=\"M271.21875,349.42188l14.26418,-7.49609l15.13978,-5.43856l15.50412,-3.0175l15.35721,-0.2329l14.69905,2.91523l13.52964,6.42689l11.84897,10.30209l9.65706,14.54083l6.67575,17.13586l3.95269,18.04599l2.37156,36.81816l-0.25926,21.3133l-2.18209,21.14831l-6.21142,19.91751l-5.27498,9.16413l-7.07225,8.45675l-15.08663,11.09844l-16.99717,6.35017l-18.20527,2.87587l-18.71093,0.67552l-20.49027,-2.1938l-19.50973,-6.8062l-13.52169,-7.97659l-11.18875,-9.78955l-9.01919,-11.34223l-7.01299,-12.63463l-8.66086,-28.10536l-2.59652,-30.15165l0.72024,-17.26631l4.27976,-16.73369l14.81716,-24.13065l19.82012,-20.44245l23.25148,-16.6559l25.11123,-12.77099l17.32952,-6.50096l18.83112,-5.05677l19.2508,-2.52791l18.58856,1.08564l4.86269,2.8083l4.36488,5.53087l2.0011,6.36129l-2.22867,5.29954l-20,12\" fill=\"none\" fill-rule=\"nonzero\" stroke=\"#000000\" stroke-width=\"10\" stroke-linecap=\"round\" stroke-linejoin=\"miter\" stroke-miterlimit=\"10\" stroke-dasharray=\"\" stroke-dashoffset=\"0\" font-family=\"none\" font-weight=\"none\" font-size=\"none\" text-anchor=\"none\" style=\"mix-blend-mode: normal\"/>', u'date': u'2019-06-25T01:17:48.861Z', u'startTrialTime': 1561425458491, u'condition': u'P', u'location': u'Tsinghua'}>\n",
      "<Document u'2019-06-25T01:17:52.291Z'@u'1-f870fff035256a58f623e36e18e2bbf8' {u'category': u'car', u'endStrokeTime': 1561425472212, u'dataType': u'stroke', u'startStrokeTime': 1561425469488, u'CB': u'1', u'colname': u'Tsinghua_photodraw_e2', u'dbname': u'kiddraw', u'subID': u'THU5M2', u'sessionId': u'Tsinghua_photodraw_e21561425132673', u'imageName': u'images_photocues/car_3.png', u'trialNum': 15, u'svg': u'<path xmlns=\"http://www.w3.org/2000/svg\" d=\"M212.21875,471.42188l-9.60406,-4.3839l-11.0124,-1.67957l-22.38353,0.06347l-24.4145,1.70433l-25.44111,4.09054l-50.14439,9.20513l-30,2l-5.17969,0.36155l-4.82031,-0.36155l-1.05663,-4.27368l1.01124,-6.3505l1.78394,-6.28841l1.26145,-4.0874l6.572,-35.8664l6.428,-36.1336l10,-44l2.57892,-27.94846l0.82411,-27.99293l0.59697,-56.05861l2.97614,-41.07348l4.02386,-40.92652l2.59129,-27.43721l1.40871,-27.56279l0.40454,-5.09923l-0.40454,-4.90077l-3.87281,-2.24563l-3.12719,-0.75437l3.3959,-0.0347l3.6041,0.0347l10.14075,4.9016l5.39047,2.26824l8.46877,1.83016l35.93365,3.57978l36.06635,2.42022l5.36142,0.49951l7.40703,1.14442l7.0228,2.07245l4.20875,3.28361l-0.4375,1.125l-1.5625,-0.125l-3.91377,-0.28999l-5.9107,-0.48332l-5.74847,-0.09666l-3.42706,0.86998v4l0.06537,11.65655l-2.06537,11.34345l-9.3866,27.15427l-7.29268,27.37615l-5.20304,27.86094l-3.11769,28.60864l-2.68123,38.49705l-1.31877,38.50295l-0.15595,5.24905l-0.42659,9.61069l-0.63532,9.43082l-0.78214,4.70944l-1.77129,-0.2216l-0.88652,-3.60163l-0.30762,-4.44001l-0.03457,-2.73676\" fill=\"none\" fill-rule=\"nonzero\" stroke=\"#000000\" stroke-width=\"10\" stroke-linecap=\"round\" stroke-linejoin=\"miter\" stroke-miterlimit=\"10\" stroke-dasharray=\"\" stroke-dashoffset=\"0\" font-family=\"none\" font-weight=\"none\" font-size=\"none\" text-anchor=\"none\" style=\"mix-blend-mode: normal\"/>', u'date': u'2019-06-25T01:17:52.291Z', u'startTrialTime': 1561425458491, u'condition': u'P', u'location': u'Tsinghua'}>\n",
      "<Document u'2019-06-25T01:17:53.490Z'@u'1-1c1baa97313ac58ca5711f32cd641b8a' {u'category': u'car', u'endStrokeTime': 1561425473447, u'dataType': u'stroke', u'startStrokeTime': 1561425472557, u'CB': u'1', u'colname': u'Tsinghua_photodraw_e2', u'dbname': u'kiddraw', u'subID': u'THU5M2', u'sessionId': u'Tsinghua_photodraw_e21561425132673', u'imageName': u'images_photocues/car_3.png', u'trialNum': 15, u'svg': u'<path xmlns=\"http://www.w3.org/2000/svg\" d=\"M56.21875,58.42188l3,-10h2h19l19,-6l24,-6l38.22994,-7.158l38.77006,-2.842l21.65392,1.75961l9.81417,4.15745l7.53191,8.08294l2.5655,11.77538l-0.5655,12.22462l-1.81521,6.19527l-3.80781,6.79248l-11.49952,14.21346l-13.18826,13.11285l-10.68921,9.68594l-17.52838,13.87981l-19.47162,11.12019l-12.65242,4.91208l-14.4716,3.79276l-14.65959,1.19034l-13.21639,-2.89518l-13.18073,-9.83426l-9.29911,-14.68573l-5.51105,-17.97443l-1.81656,-19.70035l1.78437,-19.86351l5.29174,-18.46389l8.70555,-15.5015l12.02579,-10.97634l11.10335,-3.85873l12.46121,-0.65459l24.43543,1.51331\" fill=\"none\" fill-rule=\"nonzero\" stroke=\"#000000\" stroke-width=\"10\" stroke-linecap=\"round\" stroke-linejoin=\"miter\" stroke-miterlimit=\"10\" stroke-dasharray=\"\" stroke-dashoffset=\"0\" font-family=\"none\" font-weight=\"none\" font-size=\"none\" text-anchor=\"none\" style=\"mix-blend-mode: normal\"/>', u'date': u'2019-06-25T01:17:53.490Z', u'startTrialTime': 1561425458491, u'condition': u'P', u'location': u'Tsinghua'}>\n",
      "<Document u'2019-06-25T01:17:54.722Z'@u'1-663b7b64fc71aaf7c72cc29d16daea78' {u'category': u'car', u'endStrokeTime': 1561425474690, u'dataType': u'stroke', u'startStrokeTime': 1561425473850, u'CB': u'1', u'colname': u'Tsinghua_photodraw_e2', u'dbname': u'kiddraw', u'subID': u'THU5M2', u'sessionId': u'Tsinghua_photodraw_e21561425132673', u'imageName': u'images_photocues/car_3.png', u'trialNum': 15, u'svg': u'<path xmlns=\"http://www.w3.org/2000/svg\" d=\"M47.21875,555.42188l-7.73716,-15.21366l-4.02338,-16.2659l-0.43617,-16.61864l3.02444,-16.27188l6.35848,-15.22562l9.56593,-13.47986l12.64679,-11.0346l15.60107,-7.88984l15.81327,-3.35241l16.18673,-0.64759l22.48758,1.91146l20.42529,5.57962l18.07449,9.01564l15.43519,12.21951l12.50737,15.19123l9.29104,17.9308l5.7862,20.43823l1.99285,22.71351l-1.26596,24.86439l-2.97074,11.75896l-5.7633,11.37665l-11.00727,11.30025l-13.38299,6.43173l-14.93786,3.31574l-15.67187,1.95228l-17.07454,1.61226l-17.94534,0.35722l-17.6854,-1.87752l-16.29473,-5.09197l-19.85765,-12.99918l-15.047,-17.70034l-9.84468,-21.10058l-4.25067,-23.1999l-1.02114,-19.13906l0.62941,-9.57794l2.39173,-9.28299l8.37496,-15.36393l11.27721,-11.69896l13.4962,-8.1002l15.03193,-4.56765l15.88439,-1.10131l16.05359,2.29883l15.53952,5.63276l14.34219,8.90047\" fill=\"none\" fill-rule=\"nonzero\" stroke=\"#000000\" stroke-width=\"10\" stroke-linecap=\"round\" stroke-linejoin=\"miter\" stroke-miterlimit=\"10\" stroke-dasharray=\"\" stroke-dashoffset=\"0\" font-family=\"none\" font-weight=\"none\" font-size=\"none\" text-anchor=\"none\" style=\"mix-blend-mode: normal\"/>', u'date': u'2019-06-25T01:17:54.722Z', u'startTrialTime': 1561425458491, u'condition': u'P', u'location': u'Tsinghua'}>\n",
      "<Document u'2019-06-25T01:17:56.257Z'@u'1-01fb4b6fce294040d74b6ce454349437' {u'category': u'car', u'endStrokeTime': 1561425476224, u'dataType': u'stroke', u'startStrokeTime': 1561425475431, u'CB': u'1', u'colname': u'Tsinghua_photodraw_e2', u'dbname': u'kiddraw', u'subID': u'THU5M2', u'sessionId': u'Tsinghua_photodraw_e21561425132673', u'imageName': u'images_photocues/car_3.png', u'trialNum': 15, u'svg': u'<path xmlns=\"http://www.w3.org/2000/svg\" d=\"M544.21875,278.42188l2,-7l2.21716,-0.34501l2.78284,0.34501l14.27095,-6.32515l14.72905,-5.67485l30.60287,-5.98554l33.25057,-2.40627l16.34492,1.26929l15.47893,3.52034l14.10365,6.22348l12.21906,9.3787l6.8203,9.04523l4.09594,10.2672l1.74157,11.10387l-0.2428,11.55523l-4.95874,22.92333l-8.45627,20.10514l-22,34l-11.00461,14.51539l-12.98074,15.51001l-14.70029,15.41584l-16.16326,14.23287l-17.36964,11.9611l-18.31945,8.60055l-19.01268,4.1512l-19.44933,-1.38695l-8.74672,-3.40652l-6.99208,-5.45637l-9.44569,-15.30173l-4.60344,-18.21942l-1.21206,-17.61596v-26l2.77984,-14.61487l5.02292,-15.00409l15.27187,-29.83177l19.73456,-27.3564l21.19083,-22.19287l19.77046,-16.46708l22.22954,-12.53292l8.38293,-2.94906l4.51356,-0.40491l4.10351,1.35397l4.35002,6.50577l2.64998,7.49423l3.36416,8.65886l1.63584,9.34114l-2,24\" fill=\"none\" fill-rule=\"nonzero\" stroke=\"#000000\" stroke-width=\"10\" stroke-linecap=\"round\" stroke-linejoin=\"miter\" stroke-miterlimit=\"10\" stroke-dasharray=\"\" stroke-dashoffset=\"0\" font-family=\"none\" font-weight=\"none\" font-size=\"none\" text-anchor=\"none\" style=\"mix-blend-mode: normal\"/>', u'date': u'2019-06-25T01:17:56.257Z', u'startTrialTime': 1561425458491, u'condition': u'P', u'location': u'Tsinghua'}>\n",
      "<Document u'2019-06-25T01:17:57.567Z'@u'1-e01029e01c99078a94ea72007cb04f2c' {u'category': u'car', u'endStrokeTime': 1561425477543, u'dataType': u'stroke', u'startStrokeTime': 1561425476700, u'CB': u'1', u'colname': u'Tsinghua_photodraw_e2', u'dbname': u'kiddraw', u'subID': u'THU5M2', u'sessionId': u'Tsinghua_photodraw_e21561425132673', u'imageName': u'images_photocues/car_3.png', u'trialNum': 15, u'svg': u'<path xmlns=\"http://www.w3.org/2000/svg\" d=\"M431.21875,394.42188v-13l0.97076,-6.33358l2.5897,-2.44868l3.72478,0.54142l4.37599,2.63673l8.77015,7.9802l3.42644,3.55389l2.14219,2.07003l30.02477,20.28732l28.97523,21.71268l21.25075,21.93386l17.32636,24.51747l6.21836,13.36532l4.06945,14.17649l1.53127,15.04275l-1.39618,15.96411l-4.13442,13.37859l-6.62879,12.56543l-16.23679,23.05599l-21.00231,26.73812l-13.22687,10.70003l-15.77081,5.56185l-23.76274,-0.15276l-23.23726,-4.84724l-20.87444,-7.43227l-20.6061,-10.65579l-18.36583,-13.86176l-14.15363,-17.05018l-9.82652,-21.03722l-5.2207,-22.60278l-0.889,-23.3981l3.16858,-23.42318l6.95204,-22.67802l10.46137,-21.16262l13.69657,-18.87698l16.65766,-15.82111l18.4194,-10.81485l21.56762,-6.97813l22.57411,-2.58164l21.43886,2.37462l17.12111,7.03601l15.43099,11.78396l11.15494,15.37398l3.16585,8.67139l1.12711,9.13466\" fill=\"none\" fill-rule=\"nonzero\" stroke=\"#000000\" stroke-width=\"10\" stroke-linecap=\"round\" stroke-linejoin=\"miter\" stroke-miterlimit=\"10\" stroke-dasharray=\"\" stroke-dashoffset=\"0\" font-family=\"none\" font-weight=\"none\" font-size=\"none\" text-anchor=\"none\" style=\"mix-blend-mode: normal\"/>', u'date': u'2019-06-25T01:17:57.567Z', u'startTrialTime': 1561425458491, u'condition': u'P', u'location': u'Tsinghua'}>\n",
      "<Document u'2019-06-25T01:23:06.071Z'@u'1-448487babb914633ce99622a4b5eb647' {u'category': u'cat', u'endStrokeTime': 1561425785991, u'dataType': u'stroke', u'startStrokeTime': 1561425784055, u'CB': u'1', u'colname': u'Tsinghua_photodraw_e2', u'dbname': u'kiddraw', u'subID': u'THU4M1', u'sessionId': u'Tsinghua_photodraw_e21561425319937', u'imageName': u'images_photocues/cat_1.png', u'trialNum': 15, u'svg': u'<path xmlns=\"http://www.w3.org/2000/svg\" d=\"M85.21875,439.42188l10.03961,-8.31014l11.72327,-6.88027l26.82183,-9.86773l28.52948,-5.33866l26.88581,-1.60319l18.91571,-1.05292l9.89278,0.43088l8.19151,2.62204l5.75316,5.27209l5.04115,7.99696l7.65421,21.0633l3.92995,22.64713l0.38583,9.97674l-0.7643,8.04378l-2.48993,5.31729l-3.51007,4.68271l-13.27335,13.76808l-14.37138,8.39009l-16.04902,5.31101l-18.30626,4.53082l-15.3426,0.25036l-7.59251,-0.09691l-7.06489,1.84654l-3.62649,-0.14719l-3.37351,0.14719l-4.51834,8.86955l-0.71576,11.38445l1.90129,11.50745l3.33282,9.23855l0.43095,2.35611l0.2954,4.55887l0.28041,12.8313l0.02703,12.95816l-0.02133,4.71744l-0.01246,2.57811\" fill=\"none\" fill-rule=\"nonzero\" stroke=\"#000000\" stroke-width=\"10\" stroke-linecap=\"round\" stroke-linejoin=\"miter\" stroke-miterlimit=\"10\" stroke-dasharray=\"\" stroke-dashoffset=\"0\" font-family=\"none\" font-weight=\"none\" font-size=\"none\" text-anchor=\"none\" style=\"mix-blend-mode: normal\"/>', u'date': u'2019-06-25T01:23:06.071Z', u'startTrialTime': 1561425782857, u'condition': u'P', u'location': u'Tsinghua'}>\n",
      "<Document u'2019-06-25T01:23:06.837Z'@u'1-b495d5280ebf0037891531866d1f0a86' {u'category': u'cat', u'endStrokeTime': 1561425786835, u'dataType': u'stroke', u'startStrokeTime': 1561425786683, u'CB': u'1', u'colname': u'Tsinghua_photodraw_e2', u'dbname': u'kiddraw', u'subID': u'THU4M1', u'sessionId': u'Tsinghua_photodraw_e21561425319937', u'imageName': u'images_photocues/cat_1.png', u'trialNum': 15, u'svg': u'<path xmlns=\"http://www.w3.org/2000/svg\" d=\"M230.21875,370.42188l-3.66414,-15.04859l1.51546,-15.83627l7.14868,-31.11513\" fill=\"none\" fill-rule=\"nonzero\" stroke=\"#000000\" stroke-width=\"10\" stroke-linecap=\"round\" stroke-linejoin=\"miter\" stroke-miterlimit=\"10\" stroke-dasharray=\"\" stroke-dashoffset=\"0\" font-family=\"none\" font-weight=\"none\" font-size=\"none\" text-anchor=\"none\" style=\"mix-blend-mode: normal\"/>', u'date': u'2019-06-25T01:23:06.837Z', u'startTrialTime': 1561425782857, u'condition': u'P', u'location': u'Tsinghua'}>\n",
      "<Document u'2019-06-25T01:23:08.799Z'@u'1-451f631c231e5d34dbb06f349f5d7181' {u'category': u'cat', u'endStrokeTime': 1561425788793, u'dataType': u'stroke', u'startStrokeTime': 1561425788592, u'CB': u'1', u'colname': u'Tsinghua_photodraw_e2', u'dbname': u'kiddraw', u'subID': u'THU4M1', u'sessionId': u'Tsinghua_photodraw_e21561425319937', u'imageName': u'images_photocues/cat_1.png', u'trialNum': 15, u'svg': u'<path xmlns=\"http://www.w3.org/2000/svg\" d=\"M178.21875,399.42188l-8,-5l-0.91029,-2.81543l-0.17405,-4.77759l0.11812,-4.98108l-0.03379,-3.4259l-6,-53\" fill=\"none\" fill-rule=\"nonzero\" stroke=\"#000000\" stroke-width=\"10\" stroke-linecap=\"round\" stroke-linejoin=\"miter\" stroke-miterlimit=\"10\" stroke-dasharray=\"\" stroke-dashoffset=\"0\" font-family=\"none\" font-weight=\"none\" font-size=\"none\" text-anchor=\"none\" style=\"mix-blend-mode: normal\"/>', u'date': u'2019-06-25T01:23:08.799Z', u'startTrialTime': 1561425782857, u'condition': u'P', u'location': u'Tsinghua'}>\n",
      "<Document u'2019-06-25T01:23:11.646Z'@u'1-a05e258138052743106255844788efa9' {u'category': u'cat', u'endStrokeTime': 1561425791635, u'dataType': u'stroke', u'startStrokeTime': 1561425790970, u'CB': u'1', u'colname': u'Tsinghua_photodraw_e2', u'dbname': u'kiddraw', u'subID': u'THU4M1', u'sessionId': u'Tsinghua_photodraw_e21561425319937', u'imageName': u'images_photocues/cat_1.png', u'trialNum': 15, u'svg': u'<path xmlns=\"http://www.w3.org/2000/svg\" d=\"M239.21875,372.42188l-3.72561,14.28672l-1.27439,14.71328l0.42584,5.65348l-0.42584,5.34652l-1.88564,3.45042l-1.42802,5.36933l-0.52119,5.70945l0.83485,4.47079\" fill=\"none\" fill-rule=\"nonzero\" stroke=\"#000000\" stroke-width=\"10\" stroke-linecap=\"round\" stroke-linejoin=\"miter\" stroke-miterlimit=\"10\" stroke-dasharray=\"\" stroke-dashoffset=\"0\" font-family=\"none\" font-weight=\"none\" font-size=\"none\" text-anchor=\"none\" style=\"mix-blend-mode: normal\"/>', u'date': u'2019-06-25T01:23:11.646Z', u'startTrialTime': 1561425782857, u'condition': u'P', u'location': u'Tsinghua'}>\n",
      "<Document u'2019-06-25T01:23:14.816Z'@u'1-430b6b5a4b7dfe47f59302e36190715d' {u'category': u'cat', u'endStrokeTime': 1561425794745, u'dataType': u'stroke', u'startStrokeTime': 1561425793394, u'CB': u'1', u'colname': u'Tsinghua_photodraw_e2', u'dbname': u'kiddraw', u'subID': u'THU4M1', u'sessionId': u'Tsinghua_photodraw_e21561425319937', u'imageName': u'images_photocues/cat_1.png', u'trialNum': 15, u'svg': u'<path xmlns=\"http://www.w3.org/2000/svg\" d=\"M370.21875,329.42188l1.14845,-9.07657l3.25471,-8.19825l11.68445,-13.50563l16.67821,-9.22463l19.38446,-4.43183l19.80317,0.87279l17.93436,6.68921l7.55153,5.6857l6.2265,7.33174l4.61554,9.04175l2.71863,10.81573l2.04076,10.89379l-0.04076,11.10621l-5.67716,8.18692l-10.43334,6.19716l-11.87809,3.00512l-10.01141,-1.38921l-18.31888,-10.74711l-9.51901,-4.95797l-10.16211,-3.29492l-8.63471,-1.56101l-10.39952,-2.48669l-9.38241,-4.21284l-5.58336,-6.73946l-2.38193,-9.17501l-0.49441,-5.39314l0.87634,-4.43186l5.30828,-4.49738l7.41923,-0.38983l7.05548,2.80378l4.21701,5.08344l5,11l-0.14269,6.79378l1.14269,6.20622\" fill=\"none\" fill-rule=\"nonzero\" stroke=\"#000000\" stroke-width=\"10\" stroke-linecap=\"round\" stroke-linejoin=\"miter\" stroke-miterlimit=\"10\" stroke-dasharray=\"\" stroke-dashoffset=\"0\" font-family=\"none\" font-weight=\"none\" font-size=\"none\" text-anchor=\"none\" style=\"mix-blend-mode: normal\"/>', u'date': u'2019-06-25T01:23:14.816Z', u'startTrialTime': 1561425782857, u'condition': u'P', u'location': u'Tsinghua'}>\n",
      "<Document u'2019-06-25T01:23:15.896Z'@u'1-a206cc02bc1fc5339cec5b56f1c1d63e' {u'category': u'cat', u'endStrokeTime': 1561425795869, u'dataType': u'stroke', u'startStrokeTime': 1561425795108, u'CB': u'1', u'colname': u'Tsinghua_photodraw_e2', u'dbname': u'kiddraw', u'subID': u'THU4M1', u'sessionId': u'Tsinghua_photodraw_e21561425319937', u'imageName': u'images_photocues/cat_1.png', u'trialNum': 15, u'svg': u'<path xmlns=\"http://www.w3.org/2000/svg\" d=\"M452.21875,332.42188l-4.1714,6.23622l-2.19443,7.05246l-4.63417,14.71133l-13.20174,18.83996l-12.79826,19.16004l-4.90264,12.88022l-2.93858,13.6687l-3.15878,27.45108l-1.13417,11.67735l-1.00034,13.47437l-1.29018,29.93014l0.17217,29.88921l0.82759,13.42321l1.42494,11.60572l1.90531,34.45403l1.71128,17.08292l5.38341,16.46304\" fill=\"none\" fill-rule=\"nonzero\" stroke=\"#000000\" stroke-width=\"10\" stroke-linecap=\"round\" stroke-linejoin=\"miter\" stroke-miterlimit=\"10\" stroke-dasharray=\"\" stroke-dashoffset=\"0\" font-family=\"none\" font-weight=\"none\" font-size=\"none\" text-anchor=\"none\" style=\"mix-blend-mode: normal\"/>', u'date': u'2019-06-25T01:23:15.896Z', u'startTrialTime': 1561425782857, u'condition': u'P', u'location': u'Tsinghua'}>\n",
      "<Document u'2019-06-25T01:23:22.852Z'@u'1-84eba3dd7acfe8c1ac781b7c53d2870b' {u'category': u'cat', u'endStrokeTime': 1561425802622, u'dataType': u'stroke', u'startStrokeTime': 1561425802397, u'CB': u'1', u'colname': u'Tsinghua_photodraw_e2', u'dbname': u'kiddraw', u'subID': u'THU4M1', u'sessionId': u'Tsinghua_photodraw_e21561425319937', u'imageName': u'images_photocues/cat_1.png', u'trialNum': 15, u'svg': u'<path xmlns=\"http://www.w3.org/2000/svg\" d=\"M402.21875,340.42188l0.23045,-8.96659l0.02881,-4.15321l-0.25926,-1.8802l-4.99094,-0.19014l-6.56184,2.10297l-6.53545,2.89655l-4.91176,2.19062l-31.75584,15.96466l-30.24416,19.03534l-68,42l-39.70802,27.15948l-38.29198,28.84052l-5.00478,5.71739l-5.69463,8.08731l-5.09492,7.43496l-3.20567,3.76033l-31.68486,12.85113l-16.31683,7.08138l-14.99831,9.06749l-10.76825,8.1623l-10.95715,10.29889l-7.34445,12.31829l-1.12946,6.8798l1.19931,7.34071l4.55425,4.28439l7.92026,1.96349l8.433,0.58955l6.09249,0.16257l43.48803,0.17985l43.51197,-0.17985l36.09893,4.17387l35.90107,5.82613l45.39384,3.09024l45.60616,-0.09024l20.05502,0.72872l19.94498,-0.72872l13.72427,-4.24839l13.27573,-5.75161l22.15502,-8.68579l23.31456,-10.54878l21.07977,-13.6815l8.64111,-8.4123l6.80954,-9.67163l7.68498,-17.25722l6.31502,-17.74278l3.3577,-11.29922l2.8225,-14.43559l1.2324,-14.56819l-1.41259,-11.69701l-7.42189,-9.74892l-8.57811,-9.25108l-4.08902,-11.53662l-4.91098,-10.46338l-2.88228,-0.60512l-2.12829,3.00031l-1.37301,4.05272l-0.61642,2.55209l-4.0108,21.86811l-1.9892,22.13189l-0.49063,63.14552l4.49063,62.85448l4.07959,23.01097l0.16645,11.75415l-4.24604,10.23488l-11.10324,9.29576l-14.2664,6.21501l-15.33158,3.70963l-14.29878,1.77961l-38.89127,2.74438l-39.10873,0.25562l-35.60774,-4.94205l-35.39226,-5.05795l-95,-4l-0.52775,-0.14657l4.78151,-0.02662l6.90463,0.05997l5.84161,0.11322l16,1l92,3l120.44484,5.38727l120.55516,3.61273l29.81626,0.35352l14.78817,-1.08081l14.39557,-3.27271l8.58606,-2.41349l3.92944,-2.0975l2.4845,-3.48901l0.14281,-3.80482l-1.86634,-3.48469l-7.68059,-5.97507l-9.47853,-4.59278l-7.11736,-3.14264l-25.20949,-11.7484l-26.39163,-10.00214l-53.39888,-17.24946l-43.81058,-12.70681l-44.24975,-10.53857l-89.5469,-15.43357l-90.49328,-9.34409l-90.89949,-4.97696l-31.38912,-1.13457l-16.04336,1.18013l-14.56752,3.95444l-9.74357,6.2611l-6.46081,8.50282l-3.55248,10.12209l-1.01861,11.11892l4.06664,22.73855l4.33636,10.37474l5.37246,8.88179l11.92006,12.3303l14.07994,9.6697l23.71381,12.35707l25.28619,8.64293l14.41176,2.06819l14.74513,-0.07795l29.87406,-4.98388l29.35858,-8.73706l27.61046,-9.2693l35.0362,-9.91311l38.31875,-10.51563l37.14128,-13.05126l16.73532,-8.08059l14.76844,-9.43942l19.52663,-17.09278l18.4555,-20.7662l17.11256,-23.60752l15.49781,-25.61672l13.61125,-26.79382l11.45287,-27.13881l9.02269,-26.65169l6.3207,-25.33246l17,-82l3.12685,-15.66104l4.87315,-15.33896l0.2023,2.2229l0.33863,5.2019l0.31817,5.4895l0.1409,3.0857l-1.19241,19.57446l-2.80759,19.42554\" fill=\"none\" fill-rule=\"nonzero\" stroke=\"#000000\" stroke-width=\"10\" stroke-linecap=\"round\" stroke-linejoin=\"miter\" stroke-miterlimit=\"10\" stroke-dasharray=\"\" stroke-dashoffset=\"0\" font-family=\"none\" font-weight=\"none\" font-size=\"none\" text-anchor=\"none\" style=\"mix-blend-mode: normal\"/>', u'date': u'2019-06-25T01:23:22.852Z', u'startTrialTime': 1561425782857, u'condition': u'P', u'location': u'Tsinghua'}>\n",
      "<Document u'2019-06-25T01:23:24.064Z'@u'1-724c87e3ab0e2155dd62fbf531d806fa' {u'category': u'cat', u'endStrokeTime': 1561425803954, u'dataType': u'stroke', u'startStrokeTime': 1561425802397, u'CB': u'1', u'colname': u'Tsinghua_photodraw_e2', u'dbname': u'kiddraw', u'subID': u'THU4M1', u'sessionId': u'Tsinghua_photodraw_e21561425319937', u'imageName': u'images_photocues/cat_1.png', u'trialNum': 15, u'svg': u'<path xmlns=\"http://www.w3.org/2000/svg\" d=\"M402.21875,340.42188l0.51015,-9.26817l0.02619,-3.91508l-0.53633,-1.81674l-5.58796,-0.40564l-6.25959,1.86725l-11.15245,5.53839l-62,35l-68,42l-19.15286,12.73471l-20.4823,14.37244l-20.16472,14.81886l-18.20011,14.07398l-4.92108,5.83932l-4.2455,7.39399l-4.41221,7.02733l-5.42121,4.73935l-32.11602,13.36285l-15.70056,6.95442l-15.18342,8.68273l-10.84998,7.88208l-11.49744,10.86692l-7.57373,12.74242l-0.88698,6.72785l1.80814,6.78073l4.91209,4.65024l7.30107,1.99794l14.78684,0.35182l43.5134,-0.4698l43.4866,0.4698l36.04275,4.46464l35.95725,5.53536l14.35059,1.44874l11.78425,0.92606l19.30182,0.71586l19.33349,-0.07947l11.82384,-0.0681l14.40601,0.05692l19.99795,0.72697l20.00205,-0.72697l12.27689,-3.05992l12.90312,-4.93419l23.97501,-10.69168l22.23344,-10.44579l18.65949,-12.2114l15.09551,-15.77566l11.54151,-21.13858l6.10386,-15.74804l5.78869,-18.53197l2.92117,-18.82766l-0.41235,-8.74714l-2.08636,-7.88797l-3.38225,-5.65657l-4.1674,-4.20658l-8.45035,-9.13685l-4.33555,-11.10783l-4.66445,-10.89217l-2.51575,-0.87742l-2.17816,2.97762l-1.58121,4.17752l-0.72488,2.72228l-4.00997,21.86276l-1.99003,22.13724l-0.47103,18.1577l-0.26181,16.11567l0.24048,28.81347l1.48666,28.77005l1.29592,16.06139l1.70978,18.08172l2.41857,15.85076l1.44898,14.34404l-3.26061,12.82058l-4.56514,5.83376l-7.14504,5.44662l-21.24652,8.33829l-22.65024,3.36596l-18.48888,1.47395l-20.46717,1.27364l-20.48915,0.64984l-18.55481,-0.39744l-19.56563,-2.0654l-15.95766,-2.86012l-15.94602,-2.89736l-19.53069,-2.17713l-14.53981,-0.75915l-18.27868,-0.63824l-38.81118,-1.01795l-16.0511,-0.43181l-10.82718,-0.41511l-2.7544,-0.20943l-0.60816,-0.21503l1.81817,-0.22388l4.52459,-0.23598l31.45743,-0.26482l32.29089,1.15003l31.79867,1.74407l29.98076,1.51729l241,9l29.82438,0.07903l29.17562,-4.07903l8.50029,-2.28871l3.95011,-2.20672l2.5496,-3.50457l0.32108,-4.00715l-1.73268,-3.58866l-7.55975,-5.96903l-9.57407,-4.43661l-7.45457,-2.99855l-51.71023,-21.23621l-53.28977,-17.76379l-44.00179,-12.37196l-44.30316,-10.25353l-89.40665,-15.10464l-90.30085,-9.48958l-90.98754,-5.7803l-12.07067,-0.61748l-13.71181,-0.32571l-14.28612,0.62276l-13.79363,2.22793l-12.23431,4.4898l-9.60819,7.40837l-5.91525,10.98364l-1.15549,15.21561l4.06664,22.73855l5.34159,12.87353l8.40215,11.19529l10.45749,9.47501l11.5076,7.7127l12.31374,6.86435l11.39251,5.48943l11.78939,4.56254l13.50436,4.08368l14.60175,2.54255l14.7639,0.12331l29.63182,-5.12551l29.13309,-9.14568l27.86944,-9.39466l64.82073,-17.49114l32.00509,-10.23723l30.40574,-13.83222l23.73299,-16.33527l21.61276,-20.82027l19.40809,-24.34415l17.11896,-26.90691l14.74539,-28.50855l12.28737,-29.14907l9.7449,-28.82846l7.11798,-27.54674l4.68998,-24.90348l5.30024,-29.75239l6.55513,-30.67445l8.45466,-27.66968l0.18157,0.57297l0.02073,1.64993l0.33863,5.2019l0.45907,8.5752l-0.45038,8.88219l-0.74281,10.70159l-1.14621,10.6597l-1.66059,8.75652l-8.02205,42.2666l-4.02139,45.74248l-2.46434,47.1209l-3.35089,46.40188l-6.68106,43.58539l-5.35297,20.08106l-7.10187,18.5904l-9.15621,16.83755l-11.51601,14.82252l-14.18126,12.54531l-17.15196,10.00592l-17.70877,6.08279l-17.58227,2.11243l-17.46799,-1.44879l-17.36591,-4.60088l-17.27606,-7.34382l-17.19841,-9.67761l-34.21274,-24.72006l-34.04872,-29.14557l-33.98241,-30.29795l-34.01381,-28.1772l-34.14291,-22.78333l-7.84648,-6.02073l-7.15352,-6.97927l-5.27433,-5.30833l-6.3703,-7.33142l-12.60838,-18.36687l-4.52802,-9.85285l-2.20386,-9.51071l0.97533,-8.57728l5.00956,-7.05254l15.31253,-7.81024l18.35903,-3.10442l19.02325,-0.39709l17.30518,0.31175l43.52552,2.2623l21.29145,3.65779l21.18304,6.07991l35.0853,15.26161l33.29523,18.88709l64.61947,40.8513l21.46511,12.05005l22.00653,9.85555l23.02071,6.65275l24.50765,2.44165l15.12432,-0.03108l7.10963,-1.41014l6.76604,-3.55878l5.13639,-6.78489l1.86361,-8.21511l-1.96819,-13.91353l-5.69698,-9.8608l-9.1144,-7.97363l-12.22043,-8.25204l-31.61133,-17.84195l-33.52369,-12.82312l-34.95618,-7.74058l-35.9088,-2.59435\" fill=\"none\" fill-rule=\"nonzero\" stroke=\"#000000\" stroke-width=\"10\" stroke-linecap=\"round\" stroke-linejoin=\"miter\" stroke-miterlimit=\"10\" stroke-dasharray=\"\" stroke-dashoffset=\"0\" font-family=\"none\" font-weight=\"none\" font-size=\"none\" text-anchor=\"none\" style=\"mix-blend-mode: normal\"/>', u'date': u'2019-06-25T01:23:24.064Z', u'startTrialTime': 1561425782857, u'condition': u'P', u'location': u'Tsinghua'}>\n",
      "<Document u'2019-06-25T01:23:24.782Z'@u'1-6a92137a48f94b31c398a615046822b2' {u'category': u'cat', u'endStrokeTime': 1561425804754, u'dataType': u'stroke', u'startStrokeTime': 1561425804104, u'CB': u'1', u'colname': u'Tsinghua_photodraw_e2', u'dbname': u'kiddraw', u'subID': u'THU4M1', u'sessionId': u'Tsinghua_photodraw_e21561425319937', u'imageName': u'images_photocues/cat_1.png', u'trialNum': 15, u'svg': u'<path xmlns=\"http://www.w3.org/2000/svg\" d=\"M359.21875,443.42188l7.31752,-4.97745l9.75571,-1.97473l19.92676,-0.04782h30l11.97406,1.09439l13.48217,2.63431l13.81136,4.28364l12.96162,6.04239l10.93297,7.91055l7.7254,9.88812l3.33891,11.9751l-2.2265,14.1715l-3.83122,6.97204l-5.46749,5.65832l-12.70129,9.36965l-17.83656,10.18976l-18.26183,5.3678l-19.21263,2.08902l-20.68897,0.35341l-22.63964,-0.02848l-22.36036,-2.97152l-16.30102,-5.61338l-14.07766,-8.59446l-9.88832,-12.24054l-2.75879,-7.69536l-0.97421,-8.85625v-8l5.45924,-7.48704l8.0866,-6.09352l17.45415,-8.41944l11.87347,-3.9584l14.10092,-3.23293l31.93017,-3.83559l31.97789,0.42787l14.16057,2.09639l11.95698,3.50265l9.49605,4.62168l7.78723,5.5678l5.89767,6.41634l3.82737,7.16729l1.57633,7.82065l-0.85545,8.37642l-3.46797,8.83461l-6.26123,9.19521l-11.76065,12.73631l-13.23935,11.26369l-24.00449,15.34071l-25.99551,11.65929l-20.17409,5.64364l-20.36504,2.98404l-41.46087,1.37232\" fill=\"none\" fill-rule=\"nonzero\" stroke=\"#000000\" stroke-width=\"10\" stroke-linecap=\"round\" stroke-linejoin=\"miter\" stroke-miterlimit=\"10\" stroke-dasharray=\"\" stroke-dashoffset=\"0\" font-family=\"none\" font-weight=\"none\" font-size=\"none\" text-anchor=\"none\" style=\"mix-blend-mode: normal\"/>', u'date': u'2019-06-25T01:23:24.782Z', u'startTrialTime': 1561425782857, u'condition': u'P', u'location': u'Tsinghua'}>\n",
      "<Document u'2019-06-25T01:25:13.789Z'@u'1-5ef057f3105f16ec35beabb4bd0cea10' {u'category': u'tree', u'endStrokeTime': 1561425913726, u'dataType': u'stroke', u'startStrokeTime': 1561425913648, u'CB': u'2', u'colname': u'Tsinghua_photodraw_e2', u'dbname': u'kiddraw', u'subID': u'THU5F3', u'sessionId': u'Tsinghua_photodraw_e21561425479880', u'imageName': u'images_photocues/tree_1.png', u'trialNum': 15, u'svg': u'<path xmlns=\"http://www.w3.org/2000/svg\" d=\"M302.21875,436.42188l-2,3l-0.26517,-0.85983l0.26517,-2.14017v-5l-1,-15l-5,-48l-10,-66l-1.83511,-22.59874l-2.16489,-22.40126l-1.2926,-16.8996l0.2926,-17.1004l0.42769,-6.1895l0.05346,-3.68579l-0.48115,-2.12471l-2,-1\" fill=\"none\" fill-rule=\"nonzero\" stroke=\"#000000\" stroke-width=\"10\" stroke-linecap=\"round\" stroke-linejoin=\"miter\" stroke-miterlimit=\"10\" stroke-dasharray=\"\" stroke-dashoffset=\"0\" font-family=\"none\" font-weight=\"none\" font-size=\"none\" text-anchor=\"none\" style=\"mix-blend-mode: normal\"/>', u'date': u'2019-06-25T01:25:13.789Z', u'startTrialTime': 1561425911615, u'condition': u'S', u'location': u'Tsinghua'}>\n",
      "<Document u'2019-06-25T01:25:15.766Z'@u'1-1fbf9e55270b1006ee2cfdad84a74c9f' {u'category': u'tree', u'endStrokeTime': 1561425915710, u'dataType': u'stroke', u'startStrokeTime': 1561425913648, u'CB': u'2', u'colname': u'Tsinghua_photodraw_e2', u'dbname': u'kiddraw', u'subID': u'THU5F3', u'sessionId': u'Tsinghua_photodraw_e21561425479880', u'imageName': u'images_photocues/tree_1.png', u'trialNum': 15, u'svg': u'<path xmlns=\"http://www.w3.org/2000/svg\" d=\"M302.21875,436.42188l-1.62858,1.43097l-1.03711,-1.12057l-0.76641,-7.03894l0.19964,-8.67467l0.23245,-4.59679l-5,-48l-9.26029,-63.72916l-3.89334,-32.04211l-2.13897,-32.12832l0.77375,-26.97569l-3.48115,-6.12471l1.93627,-0.0273l4.31044,0.04525l4.43709,0.03627l2.3162,-0.05422l30,-6l31.90247,-4.41246l32.09753,-2.58754l8.48498,-1.25237l8.51502,0.25237l8,6l4.72267,1.32402l7.14814,1.38688l6.96273,1.53143l4.16646,1.75768l1.46831,3.0382l0.58671,4.78321l-0.69008,12.5039l-1.87255,12.59124l-1.49239,8.08345l-3,12l-19,92l-6.79423,28.44876l-5.11387,14.16861l-7.09191,12.38262l-5.27987,4.61525l-4.72013,3.38475l-3.46774,2.02766l-5.48482,1.60354l-14.57659,2.12431l-15.31201,0.99655l-11.15884,0.24793l-3.44746,0.3125l-5.39473,0.6875l-4.97364,0.6875l-2.18418,0.3125v-2l-2.95855,-4.58398l-4.04145,-4.41602\" fill=\"none\" fill-rule=\"nonzero\" stroke=\"#000000\" stroke-width=\"10\" stroke-linecap=\"round\" stroke-linejoin=\"miter\" stroke-miterlimit=\"10\" stroke-dasharray=\"\" stroke-dashoffset=\"0\" font-family=\"none\" font-weight=\"none\" font-size=\"none\" text-anchor=\"none\" style=\"mix-blend-mode: normal\"/>', u'date': u'2019-06-25T01:25:15.766Z', u'startTrialTime': 1561425911615, u'condition': u'S', u'location': u'Tsinghua'}>\n",
      "<Document u'2019-06-25T01:25:18.346Z'@u'1-835535b320489d2e8f91d1100341dfa3' {u'category': u'tree', u'endStrokeTime': 1561425918286, u'dataType': u'stroke', u'startStrokeTime': 1561425915901, u'CB': u'2', u'colname': u'Tsinghua_photodraw_e2', u'dbname': u'kiddraw', u'subID': u'THU5F3', u'sessionId': u'Tsinghua_photodraw_e21561425479880', u'imageName': u'images_photocues/tree_1.png', u'trialNum': 15, u'svg': u'<path xmlns=\"http://www.w3.org/2000/svg\" d=\"M320.21875,246.42188l6.51155,20.58862l1.80427,22.3844l-1.31583,45.02697l-1,31l-0.36445,5.75541l-0.53807,2.19952l-1.09748,0.04507l-1.7954,-4.74156l-0.16162,-6.98856l0.56689,-7.1235l0.39013,-5.14637l1.4952,-25.21995l4.242,-22.67503l6.6234,-22.22754l8.6394,-23.87747l10,-26l2,-2l0.875,2.625l-0.875,4.375v17l-1.78015,27.74505l-5.21985,27.25495l-6.11387,36.28321l-2.88613,36.71679l-0.13803,2.18696l-0.33184,4.60521l-1.35006,13.30756l-2.44009,13.5077l-1.69439,4.85538l-2.04559,2.5372l-2,-1l-7,-30l-5.19591,-29.21012l-3.50229,-29.60611l-5.3018,-59.18377v-30l-0.08511,-2.82526l-0.36882,-5.06842l-0.64186,-4.37158l-0.90422,-0.73474l0.43332,5.8424l3.43365,8.4811l4.25016,8.31935l2.88287,5.35715l9.79533,16.96268l9.20467,17.03732l3.51618,11.72474l4.48382,11.27526l8,9l3.49277,4.30678l5.59347,5.37791l6.30035,4.03556l5.6134,0.27974l1.30658,-2.12602l0.83866,-3.74888l0.51604,-3.81143l0.33872,-2.31368l15,-49l9.81913,-21.0839l4.36304,-11.00002l1.81783,-10.91608v1.25v3.75l-1,13l-3.43097,15.81184l-5.56903,15.18816l-17.1193,43.65261l-5.91758,22.31049l-3.96312,23.0369l-0.62633,5.6839l-1.26157,8.88126l-2.06762,8.59868l-3.04448,4.83616l-3.15681,0.11104l-2.22667,-2.77169l-2.29073,-10.77527l-0.45363,-12.05731l0.06971,-4.37424l0.05812,-2.13253l2.56422,-23.13634l7.10703,-21.65534l10.77141,-20.2595l13.55734,-18.94882l3.72947,-5.52529l6.29227,-8.92943l6.7814,-7.45207l2.9261,-1.64656l2.27076,0.55334l0.84612,4.09577l-0.05473,7.1947l-0.45042,7.04946l-0.34097,3.66007l-5.73645,17.46329l-7.26355,16.53671l-14,47l-1.5401,5.87305l-2.87441,9.45855l-4.16715,8.79275l-5.41833,3.87565\" fill=\"none\" fill-rule=\"nonzero\" stroke=\"#000000\" stroke-width=\"10\" stroke-linecap=\"round\" stroke-linejoin=\"miter\" stroke-miterlimit=\"10\" stroke-dasharray=\"\" stroke-dashoffset=\"0\" font-family=\"none\" font-weight=\"none\" font-size=\"none\" text-anchor=\"none\" style=\"mix-blend-mode: normal\"/>', u'date': u'2019-06-25T01:25:18.346Z', u'startTrialTime': 1561425911615, u'condition': u'S', u'location': u'Tsinghua'}>\n",
      "<Document u'2019-06-25T01:25:20.787Z'@u'1-68574884db3e803fa1a94b32c363924c' {u'category': u'tree', u'endStrokeTime': 1561425920745, u'dataType': u'stroke', u'startStrokeTime': 1561425918618, u'CB': u'2', u'colname': u'Tsinghua_photodraw_e2', u'dbname': u'kiddraw', u'subID': u'THU5F3', u'sessionId': u'Tsinghua_photodraw_e21561425479880', u'imageName': u'images_photocues/tree_1.png', u'trialNum': 15, u'svg': u'<path xmlns=\"http://www.w3.org/2000/svg\" d=\"M278.21875,223.42188l-3.13545,-6.68362l-1.56242,-5.11771l-1.21349,-4.96705l-2.08865,-6.23162l-4.55969,-7.3764l-5.44796,-7.58185l-2.94413,-8.35273l0.52689,-4.64214l2.42488,-5.04689l7,-12l7.84245,-11.66017l5.17152,-5.23847l5.98603,-3.10136l4.02988,0.0157l3.49824,1.81118l5.7335,6.62315l4.60269,6.64813l4.13569,1.90184l1,-1l3.72575,-8.27569l6.27425,-7.72431l5.66181,-4.81628l7.75,-5.29479l19.28144,-10.03023l20.18482,-5.95958l8.87922,-0.20648l7.24271,2.30736l5.51357,4.64598l3.68893,5.79309l3.7975,13.56093l-0.42414,6.17804l-0.14335,3.60529l0.56749,2.21667l2.4698,-1.13967l2.5302,-1.86033l7.0216,-1.07526l6.9784,2.07526l1.72036,1.25512l3.42284,2.65398l9.63653,7.70388l9.49667,7.89739l3.24801,2.89587l1.47559,1.59377l0.47126,3.13907l0.52874,2.86093l1.72141,0.30049l1.82255,-1.62898l3.45604,-4.6715l3.23934,-4.12181l4.22066,-5.3198l4.74066,-4.59899l4.79935,-1.9594l0.375,1.125l-0.375,1.875l-2,19l-1.55639,5.9437l-2.62245,7.75509l-7.70731,18.2109l-9.76424,17.25606l-5.19361,6.56154l-5.15601,4.27271l-6.69903,2.28502l-7.27321,0.04874l-7.03709,-1.86814l-5.99067,-3.46561l-4.92365,-5.15465l-1.69844,-3.53572l0.62209,-3.30963l4.79231,-3.73912l5.20769,-3.26088\" fill=\"none\" fill-rule=\"nonzero\" stroke=\"#000000\" stroke-width=\"10\" stroke-linecap=\"round\" stroke-linejoin=\"miter\" stroke-miterlimit=\"10\" stroke-dasharray=\"\" stroke-dashoffset=\"0\" font-family=\"none\" font-weight=\"none\" font-size=\"none\" text-anchor=\"none\" style=\"mix-blend-mode: normal\"/>', u'date': u'2019-06-25T01:25:20.787Z', u'startTrialTime': 1561425911615, u'condition': u'S', u'location': u'Tsinghua'}>\n",
      "<Document u'2019-06-25T01:32:42.168Z'@u'1-49664109a1423b4aeef4f974df592b01' {u'category': u'car', u'endStrokeTime': 1561426362143, u'dataType': u'stroke', u'startStrokeTime': 1561426361466, u'CB': u'1', u'colname': u'Tsinghua_photodraw_e2', u'dbname': u'kiddraw', u'subID': u'THU5M4', u'sessionId': u'Tsinghua_photodraw_e21561425922582', u'imageName': u'images_photocues/car_1.png', u'trialNum': 15, u'svg': u'<path xmlns=\"http://www.w3.org/2000/svg\" d=\"M253.21875,375.42188l-14.7201,-6.08882l-8.42383,-1.56534l-7.85607,0.65416l-4.41367,2.43357l-3.33897,3.84867l-5.24736,8.71775l-11.31116,22.71102l-7.68884,24.28898l-3.34782,14.22497l-0.87659,14.4974l3.73561,13.13622l4.26644,5.54716l6.22236,4.59425l13.67395,4.52744l14.24078,-0.49164l14.12434,-4.68367l13.32464,-8.04865l11.84167,-10.58659l9.67545,-12.29747l6.82596,-13.18131l3.29321,-13.2381l-0.09001,-12.12148l-2.65242,-13.1784l-5.53121,-12.02846l-8.72636,-8.67166l-10.68885,-5.37684l-11.31115,-2.62316l-1.5,0.0875l-0.5,-1.0875\" fill=\"none\" fill-rule=\"nonzero\" stroke=\"#000000\" stroke-width=\"10\" stroke-linecap=\"round\" stroke-linejoin=\"miter\" stroke-miterlimit=\"10\" stroke-dasharray=\"\" stroke-dashoffset=\"0\" font-family=\"none\" font-weight=\"none\" font-size=\"none\" text-anchor=\"none\" style=\"mix-blend-mode: normal\"/>', u'date': u'2019-06-25T01:32:42.168Z', u'startTrialTime': 1561426360357, u'condition': u'P', u'location': u'Tsinghua'}>\n",
      "<Document u'2019-06-25T01:32:42.939Z'@u'1-8402293b2d0e5b1a7146e7f639c423dc' {u'category': u'car', u'endStrokeTime': 1561426362927, u'dataType': u'stroke', u'startStrokeTime': 1561426362547, u'CB': u'1', u'colname': u'Tsinghua_photodraw_e2', u'dbname': u'kiddraw', u'subID': u'THU5M4', u'sessionId': u'Tsinghua_photodraw_e21561425922582', u'imageName': u'images_photocues/car_1.png', u'trialNum': 15, u'svg': u'<path xmlns=\"http://www.w3.org/2000/svg\" d=\"M227.21875,421.42188l-2.44138,7.66816l0.85076,6.98324l3.89607,4.15754l6.69455,-0.80893l0.89046,-2.06774l0.4397,-3.92404l-0.22538,-3.92815l-1.10478,-2.08007l-5.57384,-0.85795l-3.42616,-0.14205l2.68606,-0.59303l4.31394,-1.40697\" fill=\"none\" fill-rule=\"nonzero\" stroke=\"#000000\" stroke-width=\"10\" stroke-linecap=\"round\" stroke-linejoin=\"miter\" stroke-miterlimit=\"10\" stroke-dasharray=\"\" stroke-dashoffset=\"0\" font-family=\"none\" font-weight=\"none\" font-size=\"none\" text-anchor=\"none\" style=\"mix-blend-mode: normal\"/>', u'date': u'2019-06-25T01:32:42.939Z', u'startTrialTime': 1561426360357, u'condition': u'P', u'location': u'Tsinghua'}>\n",
      "<Document u'2019-06-25T01:32:43.633Z'@u'1-1fbe8b80208aab3cb837abc05310bdd7' {u'category': u'car', u'endStrokeTime': 1561426363630, u'dataType': u'stroke', u'startStrokeTime': 1561426363298, u'CB': u'1', u'colname': u'Tsinghua_photodraw_e2', u'dbname': u'kiddraw', u'subID': u'THU5M4', u'sessionId': u'Tsinghua_photodraw_e21561425922582', u'imageName': u'images_photocues/car_1.png', u'trialNum': 15, u'svg': u'<path xmlns=\"http://www.w3.org/2000/svg\" d=\"M205.21875,398.42188l8.01109,14.0977l12.09671,12.98085l13.04281,12.19157l10.84939,11.72988l4.31483,3.32049l6.02057,3.05641l5.35287,3.11796l2.31172,3.50514\" fill=\"none\" fill-rule=\"nonzero\" stroke=\"#000000\" stroke-width=\"10\" stroke-linecap=\"round\" stroke-linejoin=\"miter\" stroke-miterlimit=\"10\" stroke-dasharray=\"\" stroke-dashoffset=\"0\" font-family=\"none\" font-weight=\"none\" font-size=\"none\" text-anchor=\"none\" style=\"mix-blend-mode: normal\"/>', u'date': u'2019-06-25T01:32:43.633Z', u'startTrialTime': 1561426360357, u'condition': u'P', u'location': u'Tsinghua'}>\n"
     ]
    }
   ],
   "source": [
    "for i,count in enumerate(image_recs_test):\n",
    "    print count"
   ]
  },
  {
   "cell_type": "markdown",
   "metadata": {},
   "source": [
    "### lets try getting all strokes for a single category/participant"
   ]
  },
  {
   "cell_type": "code",
   "execution_count": 8,
   "metadata": {},
   "outputs": [
    {
     "data": {
      "text/plain": [
       "9"
      ]
     },
     "execution_count": 8,
     "metadata": {},
     "output_type": "execute_result"
    }
   ],
   "source": [
    "example_sub = 'Ipad2_THU9M23'\n",
    "stroke_recs_query = {'selector': {'dataType':'stroke', 'subID': example_sub, 'category':'bike'}}\n",
    "stroke_recs = db.find(stroke_recs_query)\n",
    "len(stroke_recs)"
   ]
  },
  {
   "cell_type": "markdown",
   "metadata": {},
   "source": [
    "### Define lots of functions (svg helpers) for rendering out stroke-wise data"
   ]
  },
  {
   "cell_type": "code",
   "execution_count": 10,
   "metadata": {
    "collapsed": true
   },
   "outputs": [],
   "source": [
    "def get_d_string(svg_string):\n",
    "    start_ind = svg_string.find('d=\"')\n",
    "    end_ind = svg_string.find('fill')\n",
    "    to_parse = svg_string[start_ind:end_ind]\n",
    "    return(to_parse)\n",
    "\n",
    "def polyline_pathmaker(lines):\n",
    "    x = []\n",
    "    y = []\n",
    "\n",
    "    codes = [Path.MOVETO] # start with moveto command always\n",
    "    for i,l in enumerate(lines):\n",
    "        for _i,_l in enumerate(l):\n",
    "            x.append(_l[0])\n",
    "            y.append(_l[1])\n",
    "            if _i<len(l)-1:\n",
    "                codes.append(Path.LINETO) # keep pen on page\n",
    "            else:\n",
    "                if i != len(lines)-1: # final vertex\n",
    "                    codes.append(Path.MOVETO)\n",
    "    verts = zip(x,y) \n",
    "    return verts, codes\n",
    "\n",
    "def get_verts_and_codes(svg_list):\n",
    "    '''\n",
    "    parse into x,y coordinates and output list of lists of coordinates\n",
    "    \n",
    "    '''    \n",
    "    lines = []\n",
    "    Verts = []\n",
    "    Codes = []\n",
    "    for stroke_ind,stroke in enumerate(svg_list):\n",
    "        x = []\n",
    "        y = []\n",
    "        to_parse = get_d_string(stroke)\n",
    "        parsed = parse_path(to_parse)\n",
    "        for i,p in enumerate(parsed):\n",
    "            if i!=len(parsed)-1: # last line segment\n",
    "                x.append(p.start.real)\n",
    "                y.append(p.start.imag)    \n",
    "            else:\n",
    "                x.append(p.start.real)\n",
    "                y.append(p.start.imag)     \n",
    "                x.append(p.end.real)\n",
    "                y.append(p.end.imag)\n",
    "        lines.append(zip(x,y))\n",
    "        verts, codes = polyline_pathmaker(lines)\n",
    "        Verts.append(verts)\n",
    "        Codes.append(codes) \n",
    "    return Verts, Codes"
   ]
  },
  {
   "cell_type": "code",
   "execution_count": 36,
   "metadata": {
    "collapsed": true
   },
   "outputs": [],
   "source": [
    "def render_and_save(Verts,\n",
    "                    Codes,\n",
    "                    line_width=5,\n",
    "                    imsize=6,\n",
    "                    canvas_size=809,\n",
    "                    session_id='SESSION_ID',\n",
    "                    kidName='KIDNAME',\n",
    "                    trial_num='TRIAL_NUM',\n",
    "                    category='CATEGORY'):\n",
    "    \n",
    "    '''\n",
    "    input: \n",
    "        line_width: how wide of strokes do we want? (int)\n",
    "        imsize: how big of a picture do we want? (setting the size of the figure) \n",
    "        canvas_size: original canvas size on tablet?\n",
    "        out_path: where do you want to save your images? currently hardcoded below.        \n",
    "    output:\n",
    "        rendered sketches into nested directories\n",
    "    \n",
    "    '''\n",
    "    ## where do you want to save your cumulative drawings?\n",
    "    out_path = os.path.join('./cumulative_drawings','{}_{}'.format(kidName,session_id),'{}_{}'.format(trial_num,category))\n",
    "    if not os.path.exists('./cumulative_drawings'):\n",
    "        os.makedirs('./cumulative_drawings')\n",
    "    if not os.path.exists(os.path.join('cumulative_drawings','{}_{}'.format(kidName,session_id))):\n",
    "        os.makedirs(os.path.join('cumulative_drawings','{}_{}'.format(kidName,session_id)))\n",
    "\n",
    "    verts = Verts[0]\n",
    "    codes = Codes[0]\n",
    "    for i,verts in enumerate(Verts):\n",
    "        codes = Codes[i]\n",
    "        fig = plt.figure(figsize=(imsize,imsize), frameon=False)    \n",
    "        ax = plt.subplot(111)\n",
    "        ax.axis('off')\n",
    "        ax.set_xlim(0,canvas_size)\n",
    "        ax.set_ylim(0,canvas_size)\n",
    "        \n",
    "        # remove padding for xaxis and y axis\n",
    "        ax.axes.get_xaxis().set_visible(False)\n",
    "        ax.axes.get_yaxis().set_visible(False)\n",
    "        # remove further paddings\n",
    "        plt.subplots_adjust(top = 1, bottom = 0, right = 1, left = 0, \n",
    "            hspace = 0, wspace = 0)\n",
    "        \n",
    "        ### render sketch so far\n",
    "        if len(verts)>0:\n",
    "            path = Path(verts, codes)\n",
    "            patch = patches.PathPatch(path, facecolor=\"none\", edgecolor='black', lw=line_width)\n",
    "            ax.add_patch(patch)\n",
    "            plt.gca().invert_yaxis() # y values increase as you go down in image\n",
    "#             plt.show()\n",
    "\n",
    "\n",
    "        ## save out as png \n",
    "        ## maybe to make it not render every single thing, use plt.ioff\n",
    "        if not os.path.exists(out_path):\n",
    "            os.makedirs(out_path)\n",
    "        fname = '{}_{}_{}_{}.png'.format(session_id,trial_num,category,i)\n",
    "        filepath = os.path.join(out_path,fname)\n",
    "        print filepath\n",
    "        \n",
    "        fig.savefig(filepath, bbox_inches='tight', pad_inches=0.0)\n",
    "        plt.close(fig)        "
   ]
  },
  {
   "cell_type": "markdown",
   "metadata": {},
   "source": [
    "### just test one kid that we got earlier"
   ]
  },
  {
   "cell_type": "code",
   "execution_count": 37,
   "metadata": {},
   "outputs": [
    {
     "name": "stdout",
     "output_type": "stream",
     "text": [
      "./cumulative_drawings/KIDNAME_SESSION_ID/TRIAL_NUM_CATEGORY/SESSION_ID_TRIAL_NUM_CATEGORY_0.png\n",
      "./cumulative_drawings/KIDNAME_SESSION_ID/TRIAL_NUM_CATEGORY/SESSION_ID_TRIAL_NUM_CATEGORY_1.png\n",
      "./cumulative_drawings/KIDNAME_SESSION_ID/TRIAL_NUM_CATEGORY/SESSION_ID_TRIAL_NUM_CATEGORY_2.png\n",
      "./cumulative_drawings/KIDNAME_SESSION_ID/TRIAL_NUM_CATEGORY/SESSION_ID_TRIAL_NUM_CATEGORY_3.png\n",
      "./cumulative_drawings/KIDNAME_SESSION_ID/TRIAL_NUM_CATEGORY/SESSION_ID_TRIAL_NUM_CATEGORY_4.png\n",
      "./cumulative_drawings/KIDNAME_SESSION_ID/TRIAL_NUM_CATEGORY/SESSION_ID_TRIAL_NUM_CATEGORY_5.png\n",
      "./cumulative_drawings/KIDNAME_SESSION_ID/TRIAL_NUM_CATEGORY/SESSION_ID_TRIAL_NUM_CATEGORY_6.png\n",
      "./cumulative_drawings/KIDNAME_SESSION_ID/TRIAL_NUM_CATEGORY/SESSION_ID_TRIAL_NUM_CATEGORY_7.png\n",
      "./cumulative_drawings/KIDNAME_SESSION_ID/TRIAL_NUM_CATEGORY/SESSION_ID_TRIAL_NUM_CATEGORY_8.png\n"
     ]
    }
   ],
   "source": [
    "verts, codes = get_verts_and_codes(svg_list)\n",
    "render_and_save(verts, codes)"
   ]
  },
  {
   "cell_type": "code",
   "execution_count": null,
   "metadata": {
    "collapsed": true
   },
   "outputs": [],
   "source": [
    "#    if stroke_recs.count()>0:\n",
    "\n",
    "#                 ## some handy metadata for writing out the sketch PNG filename\n",
    "#                 trial_num = imrec['trialNum']\n",
    "#                 category = imrec['category']\n",
    "#                 session_id = imrec['sessionId']\n",
    "#                 kidName = imrec['kidName']\n",
    "#                 print(kidName)\n",
    "\n",
    "#                 ## now make an svg list!\n",
    "#                 svg_list = make_svg_list(stroke_recs)\n",
    "\n",
    "#                 ## now get me some verts and codes!\n",
    "#                 Verts, Codes = get_verts_and_codes(svg_list)\n",
    "\n",
    "#                 ## now render out your cumulative sketches and save out as pngs!\n",
    "#                 render_and_save(Verts,\n",
    "#                                 Codes,\n",
    "#                                 line_width=5,\n",
    "#                                 imsize=6,\n",
    "#                                 canvas_size=809,\n",
    "#                                 session_id=session_id,\n",
    "#                                 kidName=kidName,\n",
    "#                                 trial_num=trial_num,\n",
    "#                                 category=category)"
   ]
  }
 ],
 "metadata": {
  "kernelspec": {
   "display_name": "Python 2",
   "language": "python",
   "name": "python2"
  },
  "language_info": {
   "codemirror_mode": {
    "name": "ipython",
    "version": 2
   },
   "file_extension": ".py",
   "mimetype": "text/x-python",
   "name": "python",
   "nbconvert_exporter": "python",
   "pygments_lexer": "ipython2",
   "version": "2.7.3"
  }
 },
 "nbformat": 4,
 "nbformat_minor": 2
}
