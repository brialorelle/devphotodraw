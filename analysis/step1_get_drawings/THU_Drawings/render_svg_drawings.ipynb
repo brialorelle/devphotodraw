{
 "cells": [
  {
   "cell_type": "code",
   "execution_count": 3,
   "metadata": {
    "collapsed": true
   },
   "outputs": [],
   "source": [
    "### Set up libraries\n",
    "from __future__ import division\n",
    "\n",
    "import os\n",
    "import urllib, cStringIO\n",
    "\n",
    "import numpy as np\n",
    "import scipy.stats as stats\n",
    "import pandas as pd\n",
    "import json\n",
    "import re\n",
    "\n",
    "from PIL import Image\n",
    "import base64\n",
    "import datetime\n",
    "import time\n",
    "import couchdb\n",
    "from svgpathtools import parse_path"
   ]
  },
  {
   "cell_type": "code",
   "execution_count": null,
   "metadata": {
    "collapsed": true
   },
   "outputs": [],
   "source": [
    "## needed for rendering svg drawings\n",
    "from matplotlib.path import Path\n",
    "import matplotlib\n",
    "from matplotlib import pylab, mlab, pyplot\n",
    "%matplotlib inline\n",
    "from IPython.core.pylabtools import figsize, getfigs\n",
    "plt = pyplot\n",
    "import seaborn as sns\n",
    "sns.set_context('poster')\n",
    "sns.set_style('white')\n",
    "\n",
    "import matplotlib.patches as patches"
   ]
  },
  {
   "cell_type": "code",
   "execution_count": 4,
   "metadata": {},
   "outputs": [],
   "source": [
    "# set vars -- need access to couchdb\n",
    "auth = pd.read_csv('auth.txt', header = None) \n",
    "server_address_input = auth.values[0][0]\n",
    "\n",
    "## get our main database\n",
    "couch = couchdb.Server(server_address_input)\n",
    "db = couch['tsinghua-draw'] \n",
    "# db.info()"
   ]
  },
  {
   "cell_type": "code",
   "execution_count": null,
   "metadata": {},
   "outputs": [],
   "source": []
  },
  {
   "cell_type": "markdown",
   "metadata": {},
   "source": [
    "### Can use mongo-like queries on couchdb! wow! major win."
   ]
  },
  {
   "cell_type": "code",
   "execution_count": 6,
   "metadata": {},
   "outputs": [],
   "source": [
    "image_recs = {'selector': {'dataType':'finalImage', 'subID':'iPad 2_THU9M2'}}\n",
    "image_recs_test = db.find(image_recs)"
   ]
  },
  {
   "cell_type": "markdown",
   "metadata": {},
   "source": [
    "### lets try getting all strokes for a single category/participant"
   ]
  },
  {
   "cell_type": "code",
   "execution_count": 8,
   "metadata": {},
   "outputs": [
    {
     "data": {
      "text/plain": [
       "9"
      ]
     },
     "execution_count": 8,
     "metadata": {},
     "output_type": "execute_result"
    }
   ],
   "source": [
    "example_sub = 'Ipad2_THU9M23'\n",
    "stroke_recs_query = {'selector': {'dataType':'stroke', 'subID': example_sub, 'category':'bike'}}\n",
    "stroke_recs = db.find(stroke_recs_query)\n",
    "len(stroke_recs)"
   ]
  },
  {
   "cell_type": "code",
   "execution_count": null,
   "metadata": {
    "collapsed": true
   },
   "outputs": [],
   "source": []
  },
  {
   "cell_type": "code",
   "execution_count": 10,
   "metadata": {},
   "outputs": [],
   "source": [
    "def get_d_string(svg_string):\n",
    "    start_ind = svg_string.find('d=\"')\n",
    "    end_ind = svg_string.find('fill')\n",
    "    to_parse = svg_string[start_ind:end_ind]\n",
    "    return(to_parse)\n",
    "\n",
    "def polyline_pathmaker(lines):\n",
    "    x = []\n",
    "    y = []\n",
    "\n",
    "    codes = [Path.MOVETO] # start with moveto command always\n",
    "    for i,l in enumerate(lines):\n",
    "        for _i,_l in enumerate(l):\n",
    "            x.append(_l[0])\n",
    "            y.append(_l[1])\n",
    "            if _i<len(l)-1:\n",
    "                codes.append(Path.LINETO) # keep pen on page\n",
    "            else:\n",
    "                if i != len(lines)-1: # final vertex\n",
    "                    codes.append(Path.MOVETO)\n",
    "    verts = zip(x,y) \n",
    "    return verts, codes\n",
    "\n",
    "def get_verts_and_codes(svg_list):\n",
    "    '''\n",
    "    parse into x,y coordinates and output list of lists of coordinates\n",
    "    \n",
    "    '''    \n",
    "    lines = []\n",
    "    Verts = []\n",
    "    Codes = []\n",
    "    for stroke_ind,stroke in enumerate(svg_list):\n",
    "        x = []\n",
    "        y = []\n",
    "        to_parse = get_d_string(stroke)\n",
    "        parsed = parse_path(to_parse)\n",
    "        for i,p in enumerate(parsed):\n",
    "            if i!=len(parsed)-1: # last line segment\n",
    "                x.append(p.start.real)\n",
    "                y.append(p.start.imag)    \n",
    "            else:\n",
    "                x.append(p.start.real)\n",
    "                y.append(p.start.imag)     \n",
    "                x.append(p.end.real)\n",
    "                y.append(p.end.imag)\n",
    "        lines.append(zip(x,y))\n",
    "        verts, codes = polyline_pathmaker(lines)\n",
    "        Verts.append(verts)\n",
    "        Codes.append(codes) \n",
    "    return Verts, Codes"
   ]
  },
  {
   "cell_type": "code",
   "execution_count": 36,
   "metadata": {},
   "outputs": [],
   "source": [
    "def render_and_save(Verts,\n",
    "                    Codes,\n",
    "                    line_width=5,\n",
    "                    imsize=6,\n",
    "                    canvas_size=809,\n",
    "                    session_id='SESSION_ID',\n",
    "                    kidName='KIDNAME',\n",
    "                    trial_num='TRIAL_NUM',\n",
    "                    category='CATEGORY'):\n",
    "    \n",
    "    '''\n",
    "    input: \n",
    "        line_width: how wide of strokes do we want? (int)\n",
    "        imsize: how big of a picture do we want? (setting the size of the figure) \n",
    "        canvas_size: original canvas size on tablet?\n",
    "        out_path: where do you want to save your images? currently hardcoded below.        \n",
    "    output:\n",
    "        rendered sketches into nested directories\n",
    "    \n",
    "    '''\n",
    "    ## where do you want to save your cumulative drawings?\n",
    "    out_path = os.path.join('./cumulative_drawings','{}_{}'.format(kidName,session_id),'{}_{}'.format(trial_num,category))\n",
    "    if not os.path.exists('./cumulative_drawings'):\n",
    "        os.makedirs('./cumulative_drawings')\n",
    "    if not os.path.exists(os.path.join('cumulative_drawings','{}_{}'.format(kidName,session_id))):\n",
    "        os.makedirs(os.path.join('cumulative_drawings','{}_{}'.format(kidName,session_id)))\n",
    "\n",
    "    verts = Verts[0]\n",
    "    codes = Codes[0]\n",
    "    for i,verts in enumerate(Verts):\n",
    "        codes = Codes[i]\n",
    "        fig = plt.figure(figsize=(imsize,imsize), frameon=False)    \n",
    "        ax = plt.subplot(111)\n",
    "        ax.axis('off')\n",
    "        ax.set_xlim(0,canvas_size)\n",
    "        ax.set_ylim(0,canvas_size)\n",
    "        \n",
    "        # remove padding for xaxis and y axis\n",
    "        ax.axes.get_xaxis().set_visible(False)\n",
    "        ax.axes.get_yaxis().set_visible(False)\n",
    "        # remove further paddings\n",
    "        plt.subplots_adjust(top = 1, bottom = 0, right = 1, left = 0, \n",
    "            hspace = 0, wspace = 0)\n",
    "        \n",
    "        ### render sketch so far\n",
    "        if len(verts)>0:\n",
    "            path = Path(verts, codes)\n",
    "            patch = patches.PathPatch(path, facecolor=\"none\", edgecolor='black', lw=line_width)\n",
    "            ax.add_patch(patch)\n",
    "            plt.gca().invert_yaxis() # y values increase as you go down in image\n",
    "#             plt.show()\n",
    "\n",
    "\n",
    "        ## save out as png \n",
    "        ## maybe to make it not render every single thing, use plt.ioff\n",
    "        if not os.path.exists(out_path):\n",
    "            os.makedirs(out_path)\n",
    "        fname = '{}_{}_{}_{}.png'.format(session_id,trial_num,category,i)\n",
    "        filepath = os.path.join(out_path,fname)\n",
    "        print filepath\n",
    "        \n",
    "        fig.savefig(filepath, bbox_inches='tight', pad_inches=0.0)\n",
    "        plt.close(fig)        "
   ]
  },
  {
   "cell_type": "markdown",
   "metadata": {},
   "source": [
    "### just test one kid that we got earlier"
   ]
  },
  {
   "cell_type": "code",
   "execution_count": 37,
   "metadata": {},
   "outputs": [
    {
     "name": "stdout",
     "output_type": "stream",
     "text": [
      "./cumulative_drawings/KIDNAME_SESSION_ID/TRIAL_NUM_CATEGORY/SESSION_ID_TRIAL_NUM_CATEGORY_0.png\n",
      "./cumulative_drawings/KIDNAME_SESSION_ID/TRIAL_NUM_CATEGORY/SESSION_ID_TRIAL_NUM_CATEGORY_1.png\n",
      "./cumulative_drawings/KIDNAME_SESSION_ID/TRIAL_NUM_CATEGORY/SESSION_ID_TRIAL_NUM_CATEGORY_2.png\n",
      "./cumulative_drawings/KIDNAME_SESSION_ID/TRIAL_NUM_CATEGORY/SESSION_ID_TRIAL_NUM_CATEGORY_3.png\n",
      "./cumulative_drawings/KIDNAME_SESSION_ID/TRIAL_NUM_CATEGORY/SESSION_ID_TRIAL_NUM_CATEGORY_4.png\n",
      "./cumulative_drawings/KIDNAME_SESSION_ID/TRIAL_NUM_CATEGORY/SESSION_ID_TRIAL_NUM_CATEGORY_5.png\n",
      "./cumulative_drawings/KIDNAME_SESSION_ID/TRIAL_NUM_CATEGORY/SESSION_ID_TRIAL_NUM_CATEGORY_6.png\n",
      "./cumulative_drawings/KIDNAME_SESSION_ID/TRIAL_NUM_CATEGORY/SESSION_ID_TRIAL_NUM_CATEGORY_7.png\n",
      "./cumulative_drawings/KIDNAME_SESSION_ID/TRIAL_NUM_CATEGORY/SESSION_ID_TRIAL_NUM_CATEGORY_8.png\n"
     ]
    }
   ],
   "source": [
    "verts, codes = get_verts_and_codes(svg_list)\n",
    "render_and_save(verts, codes)"
   ]
  },
  {
   "cell_type": "code",
   "execution_count": null,
   "metadata": {
    "collapsed": true
   },
   "outputs": [],
   "source": [
    "#    if stroke_recs.count()>0:\n",
    "\n",
    "#                 ## some handy metadata for writing out the sketch PNG filename\n",
    "#                 trial_num = imrec['trialNum']\n",
    "#                 category = imrec['category']\n",
    "#                 session_id = imrec['sessionId']\n",
    "#                 kidName = imrec['kidName']\n",
    "#                 print(kidName)\n",
    "\n",
    "#                 ## now make an svg list!\n",
    "#                 svg_list = make_svg_list(stroke_recs)\n",
    "\n",
    "#                 ## now get me some verts and codes!\n",
    "#                 Verts, Codes = get_verts_and_codes(svg_list)\n",
    "\n",
    "#                 ## now render out your cumulative sketches and save out as pngs!\n",
    "#                 render_and_save(Verts,\n",
    "#                                 Codes,\n",
    "#                                 line_width=5,\n",
    "#                                 imsize=6,\n",
    "#                                 canvas_size=809,\n",
    "#                                 session_id=session_id,\n",
    "#                                 kidName=kidName,\n",
    "#                                 trial_num=trial_num,\n",
    "#                                 category=category)"
   ]
  }
 ],
 "metadata": {
  "kernelspec": {
   "display_name": "Python 2",
   "language": "python",
   "name": "python2"
  },
  "language_info": {
   "codemirror_mode": {
    "name": "ipython",
    "version": 2
   },
   "file_extension": ".py",
   "mimetype": "text/x-python",
   "name": "python",
   "nbconvert_exporter": "python",
   "pygments_lexer": "ipython2",
   "version": "2.7.3"
  }
 },
 "nbformat": 4,
 "nbformat_minor": 2
}
