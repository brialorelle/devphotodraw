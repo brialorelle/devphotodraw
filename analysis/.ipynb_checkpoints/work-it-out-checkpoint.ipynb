{
 "cells": [
  {
   "cell_type": "code",
   "execution_count": 3,
   "metadata": {
    "collapsed": true
   },
   "outputs": [],
   "source": [
    "### Set up libraries\n",
    "from __future__ import division\n",
    "\n",
    "import os\n",
    "import urllib, cStringIO\n",
    "\n",
    "import numpy as np\n",
    "import scipy.stats as stats\n",
    "import pandas as pd\n",
    "import json\n",
    "import re\n",
    "\n",
    "from PIL import Image\n",
    "import base64\n",
    "import datetime\n",
    "import time"
   ]
  },
  {
   "cell_type": "code",
   "execution_count": 4,
   "metadata": {
    "collapsed": true
   },
   "outputs": [],
   "source": [
    "## Library for reaching couchdb database\n",
    "import couchdb\n",
    "# https://buildmedia.readthedocs.org/media/pdf/couchdb-python/latest/couchdb-python.pdf\n",
    "# https://couchdb-python.readthedocs.io/en/latest/getting-started.html"
   ]
  },
  {
   "cell_type": "markdown",
   "metadata": {},
   "source": [
    "### file hierarchy and database connection vars"
   ]
  },
  {
   "cell_type": "code",
   "execution_count": 5,
   "metadata": {},
   "outputs": [],
   "source": [
    "# set vars \n",
    "auth = pd.read_csv('auth.txt', header = None) \n",
    "server_address_input = auth.values[0][0]"
   ]
  },
  {
   "cell_type": "code",
   "execution_count": 7,
   "metadata": {},
   "outputs": [],
   "source": [
    "couch = couchdb.Server(server_address_input)\n",
    "# for dbname in couch:\n",
    "#     print(dbname)\n",
    "\n",
    "db = couch['tsinghua-draw'] \n",
    "db.info()"
   ]
  },
  {
   "cell_type": "code",
   "execution_count": 8,
   "metadata": {},
   "outputs": [
    {
     "data": {
      "text/plain": [
       "{u'cluster': {u'n': 1, u'q': 8, u'r': 1, u'w': 1},\n",
       " u'compact_running': False,\n",
       " u'data_size': 22211798,\n",
       " u'db_name': u'tsinghua-draw',\n",
       " u'disk_format_version': 7,\n",
       " u'disk_size': 30746280,\n",
       " u'doc_count': 14539,\n",
       " u'doc_del_count': 0,\n",
       " u'instance_start_time': u'0',\n",
       " u'other': {u'data_size': 25322952},\n",
       " u'purge_seq': u'0-g1AAAAFTeJzLYWBg4MhgTmEQTM4vTc5ISXIwNDLXMwBCwxygFFOSApBMsv___39WIgMedXksQJJhAZACKt1PjNoGiNr5-NUmMiTJE7Q8yQHkyHjC6hJA6uqJ9MwDiAOJUnsAovY-UG0WANEtXo4',\n",
       " u'sizes': {u'active': 22211798, u'external': 25322952, u'file': 30746280},\n",
       " u'update_seq': u'14541-g1AAAAFreJzLYWBg4MhgTmEQTM4vTc5ISXIwNDLXMwBCwxygFFMiQ5L8____s5IYGNg-41GXpAAkk-yhStlN8Cl1ACmNhynVxac0AaS0HqY0G4_SPBYgydAApICq54OVWxNUvgCifD_Ye78IKj8AUX4frPwxQeUPIMohgfctCwDqxWOX'}"
      ]
     },
     "execution_count": 8,
     "metadata": {},
     "output_type": "execute_result"
    }
   ],
   "source": [
    "## Set directory where we are saving sketches\n",
    "sketch_dir='Drawings_production_run_nov15'\n",
    "if not os.path.exists(sketch_dir):\n",
    "    os.makedirs(sketch_dir)"
   ]
  },
  {
   "cell_type": "code",
   "execution_count": 9,
   "metadata": {
    "collapsed": true
   },
   "outputs": [],
   "source": []
  },
  {
   "cell_type": "code",
   "execution_count": 10,
   "metadata": {
    "collapsed": true
   },
   "outputs": [],
   "source": []
  },
  {
   "cell_type": "markdown",
   "metadata": {},
   "source": [
    "## Go through all entries in production run and write out if we find an image"
   ]
  },
  {
   "cell_type": "code",
   "execution_count": null,
   "metadata": {},
   "outputs": [],
   "source": [
    "subIDs=[]\n",
    "imgCount=0\n",
    "write_images=1\n",
    "count_images=1\n",
    "\n",
    "for id in db:\n",
    "    this_doc = db[id]\n",
    "    if (this_doc['dataType']=='finalImage') & (this_doc['colname']=='Tsinghua_photodraw_production'):\n",
    "        subIDs.append(this_doc['subID'])\n",
    "        imgCount = imgCount+1\n",
    "        imgData = this_doc['imgData'];\n",
    "        if count_images & np.mod(imgCount,10)==0:\n",
    "            print imgCount\n",
    "        if write_images:\n",
    "            fname = os.path.join(sketch_dir,'{}_{}_{}_sketch_{}.png'.format(this_doc['subID'],this_doc['trialNum'],this_doc['condition'],this_doc['category'],this_doc['date']))\n",
    "            with open(fname, \"wb\") as fh:\n",
    "                fh.write(imgData.decode('base64'))        "
   ]
  },
  {
   "cell_type": "code",
   "execution_count": 42,
   "metadata": {},
   "outputs": [
    {
     "data": {
      "text/plain": [
       "49"
      ]
     },
     "execution_count": 42,
     "metadata": {},
     "output_type": "execute_result"
    }
   ],
   "source": [
    "# num_unique_subs = len(np.unique(subIDs))\n",
    "# unique_subs = np.array(np.unique(subIDs))\n",
    "to_exclude = np.array(['Ipad1','Ipad5','Ipad1_test1','Ipad3_test1','Ipad3_test2','Ipad4_Test1','Ipad4_test2','Ipad5_test1','test3','Test5','Test4','Tsinghuaipad5 test5','Ipad2_tes3'])\n",
    "# unique_subs_cleaned  = np.delete(unique_subs, to_exclude)\n",
    "# len(unique_subs)\n",
    "\n",
    "# np.unique(subIDs)\n",
    "# unique_subs = np.array(np.unique(subIDs))\n",
    "num_real_included = len(np.unique(subIDs)) - len(np.unique(to_exclude))\n",
    "np.unique(subIDs)\n",
    "num_real_included"
   ]
  },
  {
   "cell_type": "raw",
   "metadata": {},
   "source": [
    "this_doc"
   ]
  },
  {
   "cell_type": "code",
   "execution_count": 16,
   "metadata": {},
   "outputs": [],
   "source": [
    "# ## go through ALL entries and write out if we find an image\n",
    "# for id in db:\n",
    "#     this_doc = db[id]\n",
    "#     if (this_doc['dataType']=='finalImage'):\n",
    "#         print 'found image'\n",
    "#         imgData = this_doc['imgData'];\n",
    "# #         print this_doc['subID']\n",
    "# #         filestr = base64.b64decode(imgData)\n",
    "#         fname = os.path.join(sketch_dir,'{}_{}_sketch_{}.png'.format(this_doc['subID'],this_doc['condition'],this_doc['category'],this_doc['date']))\n",
    "#         with open(fname, \"wb\") as fh:\n",
    "#             fh.write(imgData.decode('base64'))        "
   ]
  },
  {
   "cell_type": "code",
   "execution_count": null,
   "metadata": {
    "collapsed": true
   },
   "outputs": [],
   "source": [
    "## Go through all docs and get list of just subID and expName; not really necessary in production run\n",
    "really_run=0\n",
    "if really_run:\n",
    "    subIDs=[]\n",
    "    exp_name=[]\n",
    "    for id in db:\n",
    "        this_doc = db[id]\n",
    "        if (this_doc['dataType']=='finalImage'):\n",
    "            subIDs.append(this_doc['subID'])\n",
    "            exp_name.append(this_doc['colname'])\n",
    "\n",
    "    np.unique(subIDs)\n",
    "    num_unique_subs = len(np.unique(subIDs))\n",
    "    num_unique_subs\n",
    "    \n",
    "    num_unique_subs = len(np.unique(subIDs))\n",
    "    unique_subs = np.array(np.unique(subIDs))\n",
    "    to_exclude = np.array(['Testagain','Tesr','Test','Test222','Thutesttesttest','Yingwang','test'])\n",
    "    unique_subs_cleaned  = np.delete(unique_subs, to_exclude)\n",
    "    len(unique_subs)"
   ]
  },
  {
   "cell_type": "markdown",
   "metadata": {},
   "source": [
    "### OLD MONGODB CODE NOT YET UPDATED"
   ]
  },
  {
   "cell_type": "markdown",
   "metadata": {},
   "source": [
    "Notes:\n",
    "There are two types of records in the database: 'stroke' and 'finalImage'. This is stored under the key: 'dataType'.\n",
    "The 'stroke'-type of record contains the svg string information. Every stroke event is stored as a separate record.\n",
    "The session identifier is called \"sessionId\".\n",
    "\n",
    "\n"
   ]
  },
  {
   "cell_type": "code",
   "execution_count": 4,
   "metadata": {},
   "outputs": [
    {
     "name": "stdout",
     "output_type": "stream",
     "text": [
      "We currently have 20 total sessions.\n"
     ]
    }
   ],
   "source": [
    "total_sessions = coll.find().distinct('sessionId') ## this returns ALL sessions in this collection.\n",
    "print 'We currently have {} total sessions.'.format(len(total_sessions))"
   ]
  },
  {
   "cell_type": "code",
   "execution_count": 5,
   "metadata": {
    "collapsed": true
   },
   "outputs": [],
   "source": [
    "exclude_ids = [\n",
    "'test',\n",
    "'Test',\n",
    "'']"
   ]
  },
  {
   "cell_type": "code",
   "execution_count": 6,
   "metadata": {},
   "outputs": [
    {
     "name": "stdout",
     "output_type": "stream",
     "text": [
      "We currently have 2 total session after exclusions/tests.\n"
     ]
    }
   ],
   "source": [
    "sessions_to_render =  coll.find({'$and': [{'dataType':'finalImage'},{'subID': {\"$nin\": exclude_ids}}]}).distinct('sessionId')\n",
    "print 'We currently have {} total session after exclusions/tests.'.format(len(sessions_to_render))"
   ]
  },
  {
   "cell_type": "code",
   "execution_count": 12,
   "metadata": {},
   "outputs": [
    {
     "data": {
      "text/plain": [
       "1"
      ]
     },
     "execution_count": 12,
     "metadata": {},
     "output_type": "execute_result"
    }
   ],
   "source": [
    "image_recs = coll.find({'$and': [{'dataType':'finalImage'}]}).sort('startTrialTime')   \n"
   ]
  },
  {
   "cell_type": "code",
   "execution_count": 32,
   "metadata": {
    "collapsed": true
   },
   "outputs": [],
   "source": [
    "really_run_this = 1\n",
    "if really_run_this:\n",
    "    \n",
    "    ## img writing parameters\n",
    "    imsize = 224\n",
    "    \n",
    "    ## desired output: a dataframe that has trials on the rows, and the following columns:\n",
    "    ## category, age, number of strokes, mean_pixel_intensity, bounding_box_coordinates_LTRB, list of strokes, \n",
    "    ## PNG string, submission_time, submission_date\n",
    "    ## to be saved out as a nice tidy CSV\n",
    "    session_id = []\n",
    "    trial_num = []\n",
    "    category = []\n",
    "    num_strokes = []\n",
    "    mean_pixel_intensity = []\n",
    "    bounding_box_coords = []\n",
    "    svg = []\n",
    "    svg_times = []\n",
    "    png = []\n",
    "    submit_time = []\n",
    "    submit_date = []\n",
    "    draw_duration = []\n",
    "    draw_duration_strokes = []\n",
    "    filename = []\n",
    "    age=[]\n",
    "    countErr = 0\n",
    "    condition=[]\n",
    "    readadble_date = []\n",
    "    exclude_session_id = []\n",
    "    include_age = ['age4']\n",
    "\n",
    "    for s in total_sessions:\n",
    "        this_collection = coll\n",
    "        image_recs = this_collection.find({'$and': [{'sessionId':s}, {'dataType':'finalImage'}]}).sort('time')  \n",
    "        \n",
    "        for imrec in image_recs:  \n",
    "                stroke_recs = this_collection.find({'$and': [ \n",
    "                                                  {'sessionId':s}, \n",
    "                                                  {'dataType':'stroke'},\n",
    "                                                  {'category': imrec['category']}]}).sort('time')   \n",
    "\n",
    "                if stroke_recs.count() > 0: ## only include trials if the drawings are not blank            \n",
    "                    session_id.append(imrec['sessionId'])        \n",
    "                    trial_num.append(imrec['trialNum']) \n",
    "                    category.append(imrec['category'])\n",
    "\n",
    "                    try:    \n",
    "                        png.append(imrec['imgData'])\n",
    "                        submit_time.append(imrec['endTrialTime'])\n",
    "                        submit_date.append(imrec['date'])\n",
    "                        age.append(imrec['age'])\n",
    "                        condition.append(imrec['condition'])\n",
    "                        filename.append(os.path.join(sketch_dir,'{}_sketch_{}_{}_{}.png'.format(imrec['category'], imrec['sessionId'], imrec['condition'], imrec['age'])))\n",
    "                        num_strokes.append(stroke_recs.count())\n",
    "                        draw_duration.append(imrec['endTrialTime'] - imrec['startTrialTime'])\n",
    "\n",
    "                        _svg = [] # this keeps track of the strokes from THIS final image\n",
    "                        _svg_times = []\n",
    "                        for strec in stroke_recs:\n",
    "                            _svg.append(strec['svg'])\n",
    "                            _svg_times.append(strec['endStrokeTime'])\n",
    "                        draw_duration_strokes.append((_svg_times[-1] - _svg_times[0])/1000) ## in seconds\n",
    "\n",
    "                        ## and write out image data here too\n",
    "                        imgData = imrec['imgData'];\n",
    "                        filestr = base64.b64decode(imgData)\n",
    "                        child_dir = os.path.join(sketch_dir,imrec['sessionId'])\n",
    "                        if not os.path.exists(child_dir):\n",
    "                            os.makedirs(child_dir)\n",
    "                        fname = os.path.join(child_dir,'{}_sketch_{}_{}_{}.png'.format(imrec['category'],imrec['sessionId'],imrec['condition'], imrec['age']))\n",
    "                        with open(fname, \"wb\") as fh:\n",
    "                            fh.write(imgData.decode('base64'))  \n",
    "\n",
    "                    except Exception as e:\n",
    "                        print('something went wrong with an image')\n",
    "                        print e\n",
    "                        countErr = countErr + 1\n",
    "                        print imrec['category']\n",
    "                        child_dir = os.path.join(sketch_dir,'noname')\n",
    "                        if not os.path.exists(child_dir):\n",
    "                            os.makedirs(child_dir)\n",
    "                        fname = os.path.join(child_dir,'{}_sketch_{}_{}.png'.format(imrec['category'], 'noname',imrec['sessionId']))\n",
    "                        with open(fname, \"wb\") as fh:\n",
    "                            fh.write(imgData.decode('base64'))                   "
   ]
  },
  {
   "cell_type": "code",
   "execution_count": null,
   "metadata": {
    "collapsed": true
   },
   "outputs": [],
   "source": [
    "## How many session IDs do we have?\n",
    "count_subs = np.size(np.unique(session_id))\n",
    "print 'We have {}  subjects after exclusions.'.format(count_subs)"
   ]
  },
  {
   "cell_type": "code",
   "execution_count": null,
   "metadata": {
    "collapsed": true
   },
   "outputs": [],
   "source": [
    "## How many drawings do we have in each condition?  \n",
    "print 'We have {} semantic drawings.'.format(condition.count(\"S\"))\n",
    "print 'We have {} perception drawings.'.format(condition.count(\"P\")"
   ]
  },
  {
   "cell_type": "markdown",
   "metadata": {},
   "source": [
    "Do some smarter things with saving data"
   ]
  },
  {
   "cell_type": "code",
   "execution_count": 18,
   "metadata": {
    "collapsed": true
   },
   "outputs": [],
   "source": [
    "# https://couchdb-python.readthedocs.io/en/latest/mapping.html\n",
    "from couchdb.mapping import Document, TextField, IntegerField, DateTimeField\n",
    "\n",
    "class Drawing(Document):\n",
    "    subid = TextField()\n",
    "    age = IntegerField()\n",
    "    category = TextField()\n",
    "    colname = TextField()\n",
    "\n"
   ]
  },
  {
   "cell_type": "code",
   "execution_count": 29,
   "metadata": {
    "collapsed": true
   },
   "outputs": [],
   "source": [
    "map_fun = '''function(doc) {\n",
    "     emit([doc.type, doc.name], doc.name);\n",
    "}'''"
   ]
  },
  {
   "cell_type": "code",
   "execution_count": null,
   "metadata": {
    "collapsed": true
   },
   "outputs": [],
   "source": []
  },
  {
   "cell_type": "code",
   "execution_count": null,
   "metadata": {
    "collapsed": true
   },
   "outputs": [],
   "source": []
  },
  {
   "cell_type": "markdown",
   "metadata": {},
   "source": [
    "## Save out data into a dataframe"
   ]
  },
  {
   "cell_type": "code",
   "execution_count": null,
   "metadata": {
    "collapsed": true
   },
   "outputs": [],
   "source": [
    "really_run_this = 1 \n",
    "## compile data\n",
    "if really_run_this:\n",
    "    X = pd.DataFrame([session_id,age,trial_num,condition,category,submit_time,submit_date,num_strokes,svg,svg_times,png,draw_duration,avg_stroke_length,filename])\n",
    "    X = X.transpose()\n",
    "    X.columns = ['session_id','age','trial_num','condition','category','submit_time','submit_date','num_strokes','svg','svg_times','png','draw_duration', 'avg_stroke_length','filename']"
   ]
  }
 ],
 "metadata": {
  "kernelspec": {
   "display_name": "Python 2",
   "language": "python",
   "name": "python2"
  },
  "language_info": {
   "codemirror_mode": {
    "name": "ipython",
    "version": 2
   },
   "file_extension": ".py",
   "mimetype": "text/x-python",
   "name": "python",
   "nbconvert_exporter": "python",
   "pygments_lexer": "ipython2",
   "version": "2.7.14"
  }
 },
 "nbformat": 4,
 "nbformat_minor": 1
}
