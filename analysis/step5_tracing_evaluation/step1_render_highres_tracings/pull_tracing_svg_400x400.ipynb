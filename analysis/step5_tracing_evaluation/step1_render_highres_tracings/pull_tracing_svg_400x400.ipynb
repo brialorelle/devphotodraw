{
 "cells": [
  {
   "cell_type": "code",
   "execution_count": 82,
   "metadata": {
    "collapsed": true
   },
   "outputs": [],
   "source": [
    "import os\n",
    "import urllib, cStringIO\n",
    "\n",
    "import pymongo as pm\n",
    "\n",
    "import matplotlib\n",
    "from matplotlib import pylab, mlab, pyplot\n",
    "%matplotlib inline\n",
    "from IPython.core.pylabtools import figsize, getfigs\n",
    "plt = pyplot\n",
    "import seaborn as sns\n",
    "sns.set_context('poster')\n",
    "sns.set_style('white')\n",
    "\n",
    "import numpy as np\n",
    "from __future__ import division\n",
    "import scipy.stats as stats\n",
    "import pandas as pd\n",
    "import json\n",
    "import re\n",
    "\n",
    "from PIL import Image\n",
    "import base64\n",
    "import datetime\n",
    "import svg_render_helpers as rdh"
   ]
  },
  {
   "cell_type": "markdown",
   "metadata": {},
   "source": [
    "### file hierarchy and database connection vars"
   ]
  },
  {
   "cell_type": "code",
   "execution_count": 83,
   "metadata": {
    "collapsed": true
   },
   "outputs": [],
   "source": [
    "# set vars \n",
    "auth = pd.read_csv('auth.txt', header = None) # this auth.txt file contains the password for the sketchloop user\n",
    "pswd = auth.values[0][0]\n",
    "\n",
    "# have to fix this to be able to analyze from local\n",
    "import pymongo as pm\n",
    "conn = pm.MongoClient('mongodb://stanford:' + pswd + '@127.0.0.1')\n",
    "db = conn['kiddraw']"
   ]
  },
  {
   "cell_type": "markdown",
   "metadata": {},
   "source": [
    "### Render out images from museum station -- takes a *long* time."
   ]
  },
  {
   "cell_type": "markdown",
   "metadata": {},
   "source": [
    "#### Grab some subset of desired sketches to render"
   ]
  },
  {
   "cell_type": "code",
   "execution_count": 84,
   "metadata": {},
   "outputs": [
    {
     "name": "stdout",
     "output_type": "stream",
     "text": [
      "we have 161 unique kids\n"
     ]
    }
   ],
   "source": [
    "iteration_name = 'CDM_photodraw_e2'\n",
    "this_collection = db[iteration_name]\n",
    "\n",
    "# sessions_to_render =  this_collection.find({'$and': [{'dataType':'finalImage'}]}).distinct('sessionId')\n",
    "all_sessions_this_coll = this_collection.find({'category':'this shape'}).distinct('sessionId')\n",
    "\n",
    "print('we have {} unique kids'.format(len(all_sessions_this_coll)))\n"
   ]
  },
  {
   "cell_type": "code",
   "execution_count": 85,
   "metadata": {},
   "outputs": [
    {
     "name": "stdout",
     "output_type": "stream",
     "text": [
      "we have 121 unique kids\n"
     ]
    }
   ],
   "source": [
    "# post filtering\n",
    "meta_data = pd.read_csv('final_merged_metadata.csv')\n",
    "is_CDM = meta_data['site']==\"CDM\"\n",
    "CDM_meta = meta_data[is_CDM]\n",
    "valid_sessions = np.unique(CDM_meta['session_id'])\n",
    "\n",
    "sessions_to_render = pd.DataFrame(valid_sessions)\n",
    "sessions_to_render.columns = ['session_id']\n",
    "print('we have {} unique kids'.format(len(sessions_to_render)))\n"
   ]
  },
  {
   "cell_type": "code",
   "execution_count": null,
   "metadata": {
    "collapsed": true
   },
   "outputs": [],
   "source": []
  },
  {
   "cell_type": "code",
   "execution_count": null,
   "metadata": {
    "collapsed": true
   },
   "outputs": [],
   "source": []
  },
  {
   "cell_type": "code",
   "execution_count": null,
   "metadata": {
    "collapsed": true
   },
   "outputs": [],
   "source": []
  },
  {
   "cell_type": "markdown",
   "metadata": {},
   "source": [
    "#### And where are we rendering these skeches?"
   ]
  },
  {
   "cell_type": "code",
   "execution_count": 86,
   "metadata": {
    "collapsed": true
   },
   "outputs": [],
   "source": [
    "## And where are we rendering these sketches?\n",
    "analysis_dir = os.getcwd()\n",
    "sketch_dir = os.path.join(analysis_dir,'all_tracings')\n",
    "if not os.path.exists(sketch_dir):\n",
    "    os.makedirs(sketch_dir)"
   ]
  },
  {
   "cell_type": "code",
   "execution_count": 87,
   "metadata": {},
   "outputs": [
    {
     "data": {
      "text/plain": [
       "'CDM_CDM_photodraw_e21556311534736'"
      ]
     },
     "execution_count": 87,
     "metadata": {},
     "output_type": "execute_result"
    }
   ],
   "source": [
    "s_full = 'CDM_' + s\n",
    "s_full"
   ]
  },
  {
   "cell_type": "code",
   "execution_count": 96,
   "metadata": {},
   "outputs": [
    {
     "data": {
      "text/plain": [
       "u'square'"
      ]
     },
     "execution_count": 96,
     "metadata": {},
     "output_type": "execute_result"
    }
   ],
   "source": [
    "category_short = imrec['category'].split(\"this \")[1]\n",
    "category_short"
   ]
  },
  {
   "cell_type": "code",
   "execution_count": 97,
   "metadata": {
    "scrolled": true
   },
   "outputs": [],
   "source": [
    "reload(rdh)\n",
    "really_run_this=1\n",
    "tracing = ['this square', 'this shape']\n",
    "# canvas_size = 809\n",
    "# imsize = 400\n",
    "\n",
    "canvas_size = 809\n",
    "imsize = 400\n",
    "\n",
    "if really_run_this:\n",
    "   \n",
    "    for s_abbrev in sessions_to_render['session_id']:\n",
    "        s = 'CDM_' + s_abbrev\n",
    "        image_recs = this_collection.find({'$and': [{'sessionId':s}, {'dataType':'finalImage'}, {'category':{\"$in\": tracing}}]}).sort('startTrialTime')    \n",
    "\n",
    "        ## get survey data for this kid (if it exists), use to exclude\n",
    "        for imrec in image_recs:                                                            \n",
    "            category_short = imrec['category'].split(\"this \")[1]\n",
    "            category_dir = os.path.join(sketch_dir,category_short)\n",
    "            if not os.path.exists(category_dir):\n",
    "                os.makedirs(category_dir)\n",
    "\n",
    "            stroke_recs = this_collection.find({'$and': [{'sessionId':s}, \n",
    "                                      {'dataType':'stroke'},\n",
    "                                      {'category': imrec['category']}]}).sort('startTrialTime')   \n",
    "            _svg = [] # this keeps track of the strokes from THIS final image\n",
    "            for strec in stroke_recs:\n",
    "                _svg.append(strec['svg'])\n",
    "\n",
    "            # don't do adults for now or blank images\n",
    "            if stroke_recs.count()>0 and stroke_recs.count()<50: \n",
    "                # render out images\n",
    "                try:\n",
    "\n",
    "                    ## now get me some verts and codes!\n",
    "                    Verts, Codes = rdh.get_verts_and_codes(_svg)\n",
    "                    outpath = os.path.join(category_dir,'{}_{}.png'.format(imrec['sessionId'],category_short))\n",
    "\n",
    "                    ## now render out your cumulative sketches and save out as pngs!\n",
    "                    rdh.render_and_save(Verts,\n",
    "                                    Codes,\n",
    "                                    outpath,\n",
    "                                    line_width=5,\n",
    "                                    imsize=imsize,\n",
    "                                    canvas_size=canvas_size)\n",
    "\n",
    "                except Exception as e:\n",
    "                    print 'Oops, something went wrong! Here is the error:'  \n",
    "                    print e\n",
    "                    pass"
   ]
  },
  {
   "cell_type": "code",
   "execution_count": null,
   "metadata": {
    "collapsed": true
   },
   "outputs": [],
   "source": []
  }
 ],
 "metadata": {
  "kernelspec": {
   "display_name": "Python 2",
   "language": "python",
   "name": "python2"
  },
  "language_info": {
   "codemirror_mode": {
    "name": "ipython",
    "version": 2
   },
   "file_extension": ".py",
   "mimetype": "text/x-python",
   "name": "python",
   "nbconvert_exporter": "python",
   "pygments_lexer": "ipython2",
   "version": "2.7.3"
  }
 },
 "nbformat": 4,
 "nbformat_minor": 1
}
