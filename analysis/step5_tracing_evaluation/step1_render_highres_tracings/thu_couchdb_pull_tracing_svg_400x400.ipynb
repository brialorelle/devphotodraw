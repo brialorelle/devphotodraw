{
 "cells": [
  {
   "cell_type": "code",
   "execution_count": 19,
   "metadata": {
    "collapsed": true
   },
   "outputs": [],
   "source": [
    "import os\n",
    "import urllib, cStringIO\n",
    "\n",
    "import pymongo as pm\n",
    "\n",
    "import matplotlib\n",
    "from matplotlib import pylab, mlab, pyplot\n",
    "%matplotlib inline\n",
    "from IPython.core.pylabtools import figsize, getfigs\n",
    "plt = pyplot\n",
    "import seaborn as sns\n",
    "sns.set_context('poster')\n",
    "sns.set_style('white')\n",
    "\n",
    "import numpy as np\n",
    "from __future__ import division\n",
    "import scipy.stats as stats\n",
    "import pandas as pd\n",
    "import json\n",
    "import re\n",
    "\n",
    "from PIL import Image\n",
    "import base64\n",
    "import datetime\n",
    "import svg_render_helpers as rdh\n",
    "import couchdb\n"
   ]
  },
  {
   "cell_type": "code",
   "execution_count": 20,
   "metadata": {},
   "outputs": [
    {
     "data": {
      "text/plain": [
       "{u'cluster': {u'n': 1, u'q': 8, u'r': 1, u'w': 1},\n",
       " u'compact_running': False,\n",
       " u'db_name': u'tsinghua-draw',\n",
       " u'disk_format_version': 8,\n",
       " u'doc_count': 31379,\n",
       " u'doc_del_count': 0,\n",
       " u'instance_start_time': u'0',\n",
       " u'props': {},\n",
       " u'purge_seq': u'0-g1AAAAFTeJzLYWBg4MhgTmEQTM4vTc5ISXIwNDLXMwBCwxygFFMeC5BkeACk_gNBViIDQbUHIGrvE6N2AUTtfmLUNkDUzsevNikBSCbVE3RrkgNIXTxhdQogdfYE1SUyJMlDFGUBAD9sXo4',\n",
       " u'sizes': {u'active': 45616642, u'external': 51872022, u'file': 66807560},\n",
       " u'update_seq': u'31383-g1AAAAFreJzLYWBg4MhgTmEQTM4vTc5ISXIwNDLXMwBCwxygFFMeC5BkeACk_gNBVhIDA78SQeUHIMrvg5Tz_SSofAFE-X6w6eoElTdAlM8HK7-CR3lSApBMqoe5uxafUgeQ0niYUmd8ShVASu1hSufgUZrIkCQPU6eaBQDytGKk'}"
      ]
     },
     "execution_count": 20,
     "metadata": {},
     "output_type": "execute_result"
    }
   ],
   "source": [
    "auth = pd.read_csv('auth_couch.txt', header = None) \n",
    "server_address_input = auth.values[0][0]\n",
    "couch = couchdb.Server(server_address_input)\n",
    "db = couch['tsinghua-draw'] \n",
    "db.info()"
   ]
  },
  {
   "cell_type": "code",
   "execution_count": 21,
   "metadata": {
    "collapsed": true
   },
   "outputs": [],
   "source": [
    "img_recs_selector = {'selector': {'dataType':'finalImage', 'colname':'Tsinghua_photodraw_production', 'trialNum':10}, 'limit':1000} # limit defautls to 25, wow\n",
    "img_recs_temp = db.find(img_recs_selector)\n",
    "result = map(lambda x: x['subID'], img_recs_temp)\n",
    "all_sessions_recorded = np.unique(result)\n",
    "count_sub=0"
   ]
  },
  {
   "cell_type": "code",
   "execution_count": 22,
   "metadata": {},
   "outputs": [
    {
     "name": "stdout",
     "output_type": "stream",
     "text": [
      "we have 132 unique kids\n"
     ]
    }
   ],
   "source": [
    "# post filtering\n",
    "meta_data = pd.read_csv('final_merged_metadata.csv')\n",
    "is_THU = meta_data['site']==\"THU\"\n",
    "THU_meta = meta_data[is_THU]\n",
    "valid_sessions = np.unique(THU_meta['session_id'])\n",
    "\n",
    "sessions_to_render = pd.DataFrame(valid_sessions)\n",
    "sessions_to_render.columns = ['session_id']\n",
    "print('we have {} unique kids'.format(len(sessions_to_render)))\n"
   ]
  },
  {
   "cell_type": "markdown",
   "metadata": {},
   "source": [
    "#### Rendering directory"
   ]
  },
  {
   "cell_type": "code",
   "execution_count": 23,
   "metadata": {
    "collapsed": true
   },
   "outputs": [],
   "source": [
    "analysis_dir = os.getcwd()\n",
    "sketch_dir = os.path.join(analysis_dir,'all_tracings_june_2021')"
   ]
  },
  {
   "cell_type": "code",
   "execution_count": 24,
   "metadata": {},
   "outputs": [],
   "source": [
    "# imrec['category'].split(\"this \")[1]"
   ]
  },
  {
   "cell_type": "markdown",
   "metadata": {},
   "source": [
    "## Render out tracings for each subject"
   ]
  },
  {
   "cell_type": "code",
   "execution_count": 26,
   "metadata": {},
   "outputs": [
    {
     "name": "stdout",
     "output_type": "stream",
     "text": [
      "found 2 images for Tsinghua_photodraw_production1573778450764\n",
      "found 2 images for Tsinghua_photodraw_production1573778817054\n",
      "found 2 images for Tsinghua_photodraw_production1573779019443\n",
      "found 2 images for Tsinghua_photodraw_production1573779087653\n",
      "found 2 images for Tsinghua_photodraw_production1573779097000\n",
      "found 2 images for Tsinghua_photodraw_production1573779630652\n",
      "found 2 images for Tsinghua_photodraw_production1573779810259\n",
      "found 2 images for Tsinghua_photodraw_production1573779925870\n",
      "found 2 images for Tsinghua_photodraw_production1573780074909\n",
      "found 2 images for Tsinghua_photodraw_production1573780408443\n",
      "found 2 images for Tsinghua_photodraw_production1573780549952\n",
      "found 2 images for Tsinghua_photodraw_production1573780632846\n",
      "found 2 images for Tsinghua_photodraw_production1573781111110\n",
      "found 2 images for Tsinghua_photodraw_production1573781474552\n",
      "found 2 images for Tsinghua_photodraw_production1573781508415\n",
      "found 2 images for Tsinghua_photodraw_production1573781580447\n",
      "found 2 images for Tsinghua_photodraw_production1573781585420\n",
      "found 2 images for Tsinghua_photodraw_production1573782278634\n",
      "found 2 images for Tsinghua_photodraw_production1573782358833\n",
      "found 2 images for Tsinghua_photodraw_production1573782437440\n",
      "found 2 images for Tsinghua_photodraw_production1573782448277\n",
      "found 2 images for Tsinghua_photodraw_production1573782872726\n",
      "found 2 images for Tsinghua_photodraw_production1573783270171\n",
      "found 2 images for Tsinghua_photodraw_production1573783407261\n",
      "found 2 images for Tsinghua_photodraw_production1573783497407\n",
      "found 2 images for Tsinghua_photodraw_production1573783652311\n",
      "found 2 images for Tsinghua_photodraw_production1573783854844\n",
      "found 2 images for Tsinghua_photodraw_production1573784365523\n",
      "found 2 images for Tsinghua_photodraw_production1573784374186\n",
      "found 2 images for Tsinghua_photodraw_production1573784627069\n",
      "found 2 images for Tsinghua_photodraw_production1573784632550\n",
      "found 2 images for Tsinghua_photodraw_production1573785392477\n",
      "found 2 images for Tsinghua_photodraw_production1573785526202\n",
      "found 2 images for Tsinghua_photodraw_production1573785586812\n",
      "found 2 images for Tsinghua_photodraw_production1573785607858\n",
      "found 2 images for Tsinghua_photodraw_production1573785761327\n",
      "found 2 images for Tsinghua_photodraw_production1573786300883\n",
      "found 2 images for Tsinghua_photodraw_production1573786717640\n",
      "found 2 images for Tsinghua_photodraw_production1573786958772\n",
      "found 2 images for Tsinghua_photodraw_production1573786980255\n",
      "found 2 images for Tsinghua_photodraw_production1573799989669\n",
      "found 2 images for Tsinghua_photodraw_production1573800333460\n",
      "found 2 images for Tsinghua_photodraw_production1573800407496\n",
      "found 2 images for Tsinghua_photodraw_production1573800441750\n",
      "found 2 images for Tsinghua_photodraw_production1573800498010\n",
      "found 2 images for Tsinghua_photodraw_production1575356102513\n",
      "found 2 images for Tsinghua_photodraw_production1575356398090\n",
      "found 2 images for Tsinghua_photodraw_production1575356843675\n",
      "found 2 images for Tsinghua_photodraw_production1575356878513\n",
      "found 2 images for Tsinghua_photodraw_production1575357552769\n",
      "found 2 images for Tsinghua_photodraw_production1575358208007\n",
      "found 2 images for Tsinghua_photodraw_production1575358345480\n",
      "found 2 images for Tsinghua_photodraw_production1575358618898\n",
      "found 2 images for Tsinghua_photodraw_production1575442907120\n",
      "found 2 images for Tsinghua_photodraw_production1575443023769\n",
      "found 2 images for Tsinghua_photodraw_production1575443112866\n",
      "found 2 images for Tsinghua_photodraw_production1575443337678\n",
      "found 2 images for Tsinghua_photodraw_production1575443707583\n",
      "found 2 images for Tsinghua_photodraw_production1575443741291\n",
      "found 2 images for Tsinghua_photodraw_production1575443826068\n",
      "found 2 images for Tsinghua_photodraw_production1575444054603\n",
      "found 2 images for Tsinghua_photodraw_production1575444597382\n",
      "found 2 images for Tsinghua_photodraw_production1575444606752\n",
      "found 2 images for Tsinghua_photodraw_production1575444709158\n",
      "found 2 images for Tsinghua_photodraw_production1575444960513\n",
      "found 2 images for Tsinghua_photodraw_production1575528834271\n",
      "found 2 images for Tsinghua_photodraw_production1575529104308\n",
      "found 2 images for Tsinghua_photodraw_production1575529582167\n",
      "found 2 images for Tsinghua_photodraw_production1575529585327\n",
      "found 2 images for Tsinghua_photodraw_production1575530375673\n",
      "found 2 images for Tsinghua_photodraw_production1575530376865\n",
      "found 2 images for Tsinghua_photodraw_production1575531094557\n",
      "found 2 images for Tsinghua_photodraw_production1575960933495\n",
      "found 2 images for Tsinghua_photodraw_production1575960999852\n",
      "found 2 images for Tsinghua_photodraw_production1575961442866\n",
      "found 2 images for Tsinghua_photodraw_production1575961493402\n",
      "found 2 images for Tsinghua_photodraw_production1575962153007\n",
      "found 2 images for Tsinghua_photodraw_production1575962846373\n",
      "found 2 images for Tsinghua_photodraw_production1575963146898\n",
      "found 2 images for Tsinghua_photodraw_production1576134856234\n",
      "found 2 images for Tsinghua_photodraw_production1576134884446\n",
      "found 2 images for Tsinghua_photodraw_production1576135371471\n",
      "found 2 images for Tsinghua_photodraw_production1576135499181\n",
      "found 2 images for Tsinghua_photodraw_production1576135913017\n",
      "found 2 images for Tsinghua_photodraw_production1576136080275\n",
      "found 2 images for Tsinghua_photodraw_production1576136360732\n",
      "found 2 images for Tsinghua_photodraw_production1576478852964\n",
      "found 2 images for Tsinghua_photodraw_production1576480154717\n",
      "found 2 images for Tsinghua_photodraw_production1576481274500\n",
      "found 2 images for Tsinghua_photodraw_production1576565151840\n",
      "found 2 images for Tsinghua_photodraw_production1576565958996\n",
      "found 2 images for Tsinghua_photodraw_production1576566477206\n",
      "found 2 images for Tsinghua_photodraw_production1576566518161\n",
      "found 2 images for Tsinghua_photodraw_production1576567318332\n",
      "found 2 images for Tsinghua_photodraw_production1576567340886\n",
      "found 2 images for Tsinghua_photodraw_production1576568201260\n",
      "found 2 images for Tsinghua_photodraw_production1576568296821\n",
      "found 2 images for Tsinghua_photodraw_production1576653853658\n",
      "found 2 images for Tsinghua_photodraw_production1576654381493\n",
      "found 2 images for Tsinghua_photodraw_production1576654970816\n",
      "found 2 images for Tsinghua_photodraw_production1576655850817\n",
      "found 2 images for Tsinghua_photodraw_production1576738027913\n",
      "found 2 images for Tsinghua_photodraw_production1576738635229\n",
      "found 2 images for Tsinghua_photodraw_production1576739207246\n",
      "found 2 images for Tsinghua_photodraw_production1576739331978\n",
      "found 2 images for Tsinghua_photodraw_production1576739623154\n",
      "found 2 images for Tsinghua_photodraw_production1576739828389\n",
      "found 2 images for Tsinghua_photodraw_production1576741386137\n",
      "found 2 images for Tsinghua_photodraw_production1577084893527\n",
      "found 2 images for Tsinghua_photodraw_production1577085371906\n",
      "found 2 images for Tsinghua_photodraw_production1577085989112\n",
      "found 2 images for Tsinghua_photodraw_production1577086735995\n",
      "found 2 images for Tsinghua_photodraw_production1577170507146\n",
      "found 2 images for Tsinghua_photodraw_production1577170553503\n",
      "found 2 images for Tsinghua_photodraw_production1577170578110\n",
      "found 2 images for Tsinghua_photodraw_production1577171554498\n",
      "found 2 images for Tsinghua_photodraw_production1577171766191\n",
      "found 2 images for Tsinghua_photodraw_production1577171900113\n",
      "found 2 images for Tsinghua_photodraw_production1577172179778\n",
      "found 2 images for Tsinghua_photodraw_production1577172518020\n",
      "found 2 images for Tsinghua_photodraw_production1578102076574\n",
      "found 2 images for Tsinghua_photodraw_production1578462794400\n",
      "found 2 images for Tsinghua_photodraw_production1578553081396\n",
      "found 2 images for Tsinghua_photodraw_production1578553426570\n",
      "found 2 images for Tsinghua_photodraw_production1578555387062\n",
      "found 2 images for Tsinghua_photodraw_production1578968887739\n",
      "found 2 images for Tsinghua_photodraw_production1578968906336\n",
      "found 2 images for Tsinghua_photodraw_production1578969342231\n",
      "found 2 images for Tsinghua_photodraw_production1578969697574\n",
      "found 2 images for Tsinghua_photodraw_production1578969773820\n",
      "found 2 images for Tsinghua_photodraw_production1578969892110\n",
      "found 2 images for Tsinghua_photodraw_production1578981652743\n"
     ]
    }
   ],
   "source": [
    "reload(rdh)\n",
    "really_run_this=1\n",
    "tracing = ['this square', 'this shape']\n",
    "# canvas_size = 809\n",
    "# imsize = 400\n",
    "\n",
    "# canvas_size = 809\n",
    "canvas_size = 696\n",
    "imsize = 400\n",
    "\n",
    "if really_run_this:\n",
    "   \n",
    "    for s in sessions_to_render['session_id']:\n",
    "        \n",
    "        count_sub = count_sub + 1\n",
    "        img_recs_selector = {'selector': {'dataType':'finalImage', 'sessionId': s, 'category':{\"$in\": tracing}}}\n",
    "        img_recs_temp = db.find(img_recs_selector)\n",
    "        image_recs = sorted(img_recs_temp, key=lambda image: image['endTrialTime'])\n",
    "        print 'found {} images for {}'.format(np.size(image_recs), s)\n",
    "        \n",
    "        for imrec in image_recs:  \n",
    "            stroke_recs_selector = {'selector': {'dataType':'stroke','category':imrec['category'], 'sessionId': imrec['sessionId']}}\n",
    "            stroke_recs_temp = db.find(stroke_recs_selector) \n",
    "            sorted_stroke_recs = sorted(stroke_recs_temp, key=lambda stroke: stroke['endStrokeTime'])\n",
    "            stroke_recs = sorted_stroke_recs\n",
    "#             print 'found {} strokes'.format(np.size(stroke_recs))\n",
    "               #  \n",
    "            category_short = imrec['category'].split(\"this \")[1]\n",
    "            category_dir = os.path.join(sketch_dir,category_short)\n",
    "        \n",
    "            if not os.path.exists(category_dir):\n",
    "                os.makedirs(category_dir)\n",
    "            \n",
    "            #\n",
    "            _svg = [] # this keeps track of the strokes from THIS final image\n",
    "            # in couchdb, stroke_recs had extra info saved in each string, so need to parse actual svg\n",
    "            for strec in stroke_recs:\n",
    "                temp_split = strec['svg'].split(\"d=\")\n",
    "                temp_split_2 = temp_split[1].split(\"\\\" fill\")\n",
    "                trimmed_svg = temp_split_2[0]\n",
    "                _svg.append(trimmed_svg)\n",
    "\n",
    "                \n",
    "            \n",
    "            # don't do adults for now or blank images\n",
    "            if np.size(stroke_recs) > 0: \n",
    "                # render out images\n",
    "                try:\n",
    "\n",
    "                    ## now get me some verts and codes!\n",
    "                    Verts, Codes = rdh.get_verts_and_codes(_svg)\n",
    "                    outpath = os.path.join(category_dir,'{}_{}.png'.format(imrec['sessionId'],category_short))\n",
    "\n",
    "                    ## now render out your cumulative sketches and save out as pngs!\n",
    "                    rdh.render_and_save(Verts,\n",
    "                                    Codes,\n",
    "                                    outpath,\n",
    "                                    line_width=5,\n",
    "                                    imsize=imsize,\n",
    "                                    canvas_size=canvas_size)\n",
    "\n",
    "                except Exception as e:\n",
    "                    print 'Oops, something went wrong! Here is the error:'  \n",
    "                    print e\n",
    "                    pass"
   ]
  },
  {
   "cell_type": "code",
   "execution_count": null,
   "metadata": {
    "collapsed": true
   },
   "outputs": [],
   "source": [
    "# _svg = []\n",
    "# for strec in stroke_recs:\n",
    "#     temp_split = strec['svg'].split(\"d=\")\n",
    "#     temp_split_2 = temp_split[1].split(\"\\\" fill\")\n",
    "#     trimmed_svg = temp_split_2[0]\n",
    "#     _svg.append(trimmed_svg)\n",
    "\n",
    "# Verts, Codes = rdh.get_verts_and_codes(_svg)"
   ]
  },
  {
   "cell_type": "code",
   "execution_count": null,
   "metadata": {
    "collapsed": true
   },
   "outputs": [],
   "source": []
  },
  {
   "cell_type": "code",
   "execution_count": null,
   "metadata": {
    "collapsed": true
   },
   "outputs": [],
   "source": []
  },
  {
   "cell_type": "code",
   "execution_count": null,
   "metadata": {
    "collapsed": true
   },
   "outputs": [],
   "source": []
  }
 ],
 "metadata": {
  "kernelspec": {
   "display_name": "Python 2",
   "language": "python",
   "name": "python2"
  },
  "language_info": {
   "codemirror_mode": {
    "name": "ipython",
    "version": 2
   },
   "file_extension": ".py",
   "mimetype": "text/x-python",
   "name": "python",
   "nbconvert_exporter": "python",
   "pygments_lexer": "ipython2",
   "version": "2.7.3"
  }
 },
 "nbformat": 4,
 "nbformat_minor": 1
}
