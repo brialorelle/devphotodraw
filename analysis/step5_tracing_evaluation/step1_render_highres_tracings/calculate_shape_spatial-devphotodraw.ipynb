{
 "cells": [
  {
   "cell_type": "markdown",
   "metadata": {},
   "source": [
    "### This program calculates the spaial error and shape error between a reference image and a drawing\n",
    "- Shape Error: Measured by MSE\n",
    "- Spatial Error: Rotation, Translation, Scaling"
   ]
  },
  {
   "cell_type": "markdown",
   "metadata": {},
   "source": [
    "### Basic Setup"
   ]
  },
  {
   "cell_type": "markdown",
   "metadata": {},
   "source": [
    "#### Load dependencies and define directory hierarchy"
   ]
  },
  {
   "cell_type": "code",
   "execution_count": 19,
   "metadata": {
    "collapsed": true
   },
   "outputs": [],
   "source": [
    "import sys\n",
    "import os\n",
    "\n",
    "import pymongo as pm ## first establish ssh tunnel to server where database is running\n",
    "import numpy as np\n",
    "from numpy import *\n",
    "import cv2\n",
    "import pandas as pd\n",
    "import svg_distance_helpers as rsh\n",
    "import affine_registration_2d as ar"
   ]
  },
  {
   "cell_type": "markdown",
   "metadata": {},
   "source": [
    "#### File hierarchy"
   ]
  },
  {
   "cell_type": "code",
   "execution_count": 20,
   "metadata": {
    "collapsed": true
   },
   "outputs": [],
   "source": [
    "analysis_dir = os.getcwd()\n",
    "iteration_name = 'all_tracings'\n",
    "\n",
    "ref_dir = os.path.join(analysis_dir, 'tracing_ref_400')\n",
    "data_dir = os.path.join(analysis_dir, 'all_tracings_june_2021')\n",
    "\n",
    "loss = 'ncc'\n",
    "trans_dir = os.path.join(analysis_dir, 'transformed_{}'.format(loss)) # store transformed images\n",
    "if not os.path.exists(trans_dir):\n",
    "    os.mkdir(trans_dir)\n",
    "\n",
    "canvas_side = 400 # image size\n",
    "tracing = ['square','shape']\n",
    "\n",
    "data_output = 'devphotodraw_tracing_{}.csv'.format(iteration_name, loss)"
   ]
  },
  {
   "cell_type": "markdown",
   "metadata": {},
   "source": [
    "#### Check how many items get transformed"
   ]
  },
  {
   "cell_type": "code",
   "execution_count": 21,
   "metadata": {
    "collapsed": true
   },
   "outputs": [],
   "source": [
    "# # get data from csv file\n",
    "# data = pd.read_csv(data_output)\n",
    "# try:\n",
    "#     data = data.drop(\"Unnamed: 0\", axis=1)\n",
    "# except:\n",
    "#     print \"Already droped\"\n",
    "# print data.count()"
   ]
  },
  {
   "cell_type": "markdown",
   "metadata": {},
   "source": [
    "#### Generate binary reference shapes"
   ]
  },
  {
   "cell_type": "code",
   "execution_count": 22,
   "metadata": {
    "collapsed": true
   },
   "outputs": [],
   "source": [
    "really_run_this = 1\n",
    "ref_path = []\n",
    "dim = (424,424)\n",
    "if really_run_this:\n",
    "    for t in tracing:\n",
    "        fname = os.path.join(ref_dir, '{}.png'.format(t))\n",
    "        img_ref = cv2.imread(fname)\n",
    "        img_ref = cv2.resize(img_ref, dim)\n",
    "        img_ref = rsh.color_to_num(img_ref, threshold=0, white_background=False)\n",
    "        ofname = os.path.join(ref_dir, '{}_ref.png'.format(t))\n",
    "        cv2.imwrite(ofname, 255-img_ref*255)"
   ]
  },
  {
   "cell_type": "code",
   "execution_count": 23,
   "metadata": {},
   "outputs": [
    {
     "data": {
      "text/plain": [
       "['/Users/brialong/Documents/GitHub/devphotodraw/analysis/step5_tracing_evaluation/step1_render_highres_tracings/tracing_ref_400/square_ref.png',\n",
       " '/Users/brialong/Documents/GitHub/devphotodraw/analysis/step5_tracing_evaluation/step1_render_highres_tracings/tracing_ref_400/shape_ref.png']"
      ]
     },
     "execution_count": 23,
     "metadata": {},
     "output_type": "execute_result"
    }
   ],
   "source": [
    "ref_path = []\n",
    "for t in tracing:\n",
    "    ofname = os.path.join(ref_dir, '{}_ref.png'.format(t))\n",
    "    ref_path.append(ofname)\n",
    "ref_path"
   ]
  },
  {
   "cell_type": "markdown",
   "metadata": {},
   "source": [
    "### Calculate Shape Error and Spatial Error"
   ]
  },
  {
   "cell_type": "code",
   "execution_count": 24,
   "metadata": {
    "collapsed": true
   },
   "outputs": [],
   "source": [
    "reload(ar)\n",
    "filename = []\n",
    "category =[] \n",
    "pre_tran = []\n",
    "post_tran = []\n",
    "rotate = []\n",
    "translate = []\n",
    "scale = []"
   ]
  },
  {
   "cell_type": "code",
   "execution_count": null,
   "metadata": {
    "collapsed": true
   },
   "outputs": [],
   "source": []
  },
  {
   "cell_type": "code",
   "execution_count": 25,
   "metadata": {
    "collapsed": true
   },
   "outputs": [],
   "source": [
    "# d = 'Tsinghua_photodraw_production1575443112866_shape.png'\n",
    "# test = d.split('_')\n",
    "# stripped_filename = d.split('.png')[0]\n",
    "# stripped_filename"
   ]
  },
  {
   "cell_type": "code",
   "execution_count": null,
   "metadata": {},
   "outputs": [
    {
     "name": "stdout",
     "output_type": "stream",
     "text": [
      "getting tracing for 1 of 249 for square\n",
      "getting tracing for 2 of 249 for square\n",
      "getting tracing for 3 of 249 for square\n",
      "getting tracing for 4 of 249 for square\n",
      "getting tracing for 5 of 249 for square\n",
      "getting tracing for 6 of 249 for square\n",
      "getting tracing for 7 of 249 for square\n",
      "getting tracing for 8 of 249 for square\n",
      "getting tracing for 9 of 249 for square\n",
      "getting tracing for 10 of 249 for square\n",
      "getting tracing for 11 of 249 for square\n",
      "getting tracing for 12 of 249 for square\n",
      "getting tracing for 13 of 249 for square\n",
      "getting tracing for 14 of 249 for square\n",
      "getting tracing for 15 of 249 for square\n",
      "getting tracing for 16 of 249 for square\n",
      "getting tracing for 17 of 249 for square\n",
      "getting tracing for 18 of 249 for square\n",
      "getting tracing for 19 of 249 for square\n",
      "getting tracing for 20 of 249 for square\n",
      "getting tracing for 21 of 249 for square\n",
      "getting tracing for 22 of 249 for square\n",
      "getting tracing for 23 of 249 for square\n",
      "getting tracing for 24 of 249 for square\n",
      "getting tracing for 25 of 249 for square\n",
      "getting tracing for 26 of 249 for square\n",
      "getting tracing for 27 of 249 for square\n",
      "getting tracing for 28 of 249 for square\n",
      "getting tracing for 29 of 249 for square\n",
      "getting tracing for 30 of 249 for square\n",
      "getting tracing for 31 of 249 for square\n",
      "getting tracing for 32 of 249 for square\n",
      "getting tracing for 33 of 249 for square\n",
      "getting tracing for 34 of 249 for square\n",
      "getting tracing for 35 of 249 for square\n",
      "getting tracing for 36 of 249 for square\n",
      "getting tracing for 37 of 249 for square\n",
      "getting tracing for 38 of 249 for square\n",
      "getting tracing for 39 of 249 for square\n",
      "getting tracing for 40 of 249 for square\n",
      "getting tracing for 41 of 249 for square\n",
      "getting tracing for 42 of 249 for square\n",
      "getting tracing for 43 of 249 for square\n",
      "getting tracing for 44 of 249 for square\n",
      "getting tracing for 45 of 249 for square\n",
      "getting tracing for 46 of 249 for square\n",
      "getting tracing for 47 of 249 for square\n",
      "getting tracing for 48 of 249 for square\n",
      "getting tracing for 49 of 249 for square\n",
      "getting tracing for 50 of 249 for square\n",
      "getting tracing for 51 of 249 for square\n",
      "getting tracing for 52 of 249 for square\n",
      "getting tracing for 53 of 249 for square\n",
      "getting tracing for 54 of 249 for square\n",
      "getting tracing for 55 of 249 for square\n",
      "getting tracing for 56 of 249 for square\n",
      "getting tracing for 57 of 249 for square\n",
      "getting tracing for 58 of 249 for square\n",
      "getting tracing for 59 of 249 for square\n",
      "getting tracing for 60 of 249 for square\n",
      "getting tracing for 61 of 249 for square\n",
      "getting tracing for 62 of 249 for square\n",
      "getting tracing for 63 of 249 for square\n",
      "getting tracing for 64 of 249 for square\n",
      "getting tracing for 65 of 249 for square\n",
      "getting tracing for 66 of 249 for square\n",
      "getting tracing for 67 of 249 for square\n",
      "getting tracing for 68 of 249 for square\n",
      "getting tracing for 69 of 249 for square\n",
      "getting tracing for 70 of 249 for square\n",
      "getting tracing for 71 of 249 for square\n",
      "getting tracing for 72 of 249 for square\n",
      "getting tracing for 73 of 249 for square\n",
      "getting tracing for 74 of 249 for square\n",
      "getting tracing for 75 of 249 for square\n",
      "getting tracing for 76 of 249 for square\n",
      "getting tracing for 77 of 249 for square\n",
      "getting tracing for 78 of 249 for square\n",
      "getting tracing for 79 of 249 for square\n",
      "getting tracing for 80 of 249 for square\n",
      "getting tracing for 81 of 249 for square\n",
      "getting tracing for 82 of 249 for square\n",
      "getting tracing for 83 of 249 for square\n",
      "getting tracing for 84 of 249 for square\n",
      "getting tracing for 85 of 249 for square\n",
      "getting tracing for 86 of 249 for square\n",
      "getting tracing for 87 of 249 for square\n",
      "getting tracing for 88 of 249 for square\n",
      "getting tracing for 89 of 249 for square\n",
      "getting tracing for 90 of 249 for square\n",
      "getting tracing for 91 of 249 for square\n",
      "getting tracing for 92 of 249 for square\n",
      "getting tracing for 93 of 249 for square\n",
      "getting tracing for 94 of 249 for square\n",
      "getting tracing for 95 of 249 for square\n",
      "getting tracing for 96 of 249 for square\n",
      "getting tracing for 97 of 249 for square\n",
      "getting tracing for 98 of 249 for square\n",
      "getting tracing for 99 of 249 for square\n",
      "getting tracing for 100 of 249 for square\n",
      "getting tracing for 101 of 249 for square\n",
      "getting tracing for 102 of 249 for square\n",
      "getting tracing for 103 of 249 for square\n",
      "getting tracing for 104 of 249 for square\n",
      "getting tracing for 105 of 249 for square\n",
      "getting tracing for 106 of 249 for square\n",
      "getting tracing for 107 of 249 for square\n",
      "getting tracing for 108 of 249 for square\n",
      "getting tracing for 109 of 249 for square\n",
      "getting tracing for 110 of 249 for square\n",
      "getting tracing for 111 of 249 for square\n",
      "getting tracing for 112 of 249 for square\n",
      "getting tracing for 113 of 249 for square\n",
      "getting tracing for 114 of 249 for square\n",
      "getting tracing for 115 of 249 for square\n",
      "getting tracing for 116 of 249 for square\n",
      "getting tracing for 117 of 249 for square\n",
      "getting tracing for 118 of 249 for square\n",
      "getting tracing for 119 of 249 for square\n",
      "getting tracing for 120 of 249 for square\n",
      "getting tracing for 121 of 249 for square\n",
      "getting tracing for 122 of 249 for square\n",
      "getting tracing for 123 of 249 for square\n",
      "getting tracing for 124 of 249 for square\n",
      "getting tracing for 125 of 249 for square\n",
      "getting tracing for 126 of 249 for square\n",
      "getting tracing for 127 of 249 for square\n",
      "getting tracing for 128 of 249 for square\n",
      "getting tracing for 129 of 249 for square\n",
      "getting tracing for 130 of 249 for square\n",
      "getting tracing for 131 of 249 for square\n",
      "getting tracing for 132 of 249 for square\n",
      "getting tracing for 133 of 249 for square\n",
      "getting tracing for 134 of 249 for square\n",
      "getting tracing for 135 of 249 for square\n",
      "getting tracing for 136 of 249 for square\n",
      "getting tracing for 137 of 249 for square\n",
      "getting tracing for 138 of 249 for square\n",
      "getting tracing for 139 of 249 for square\n",
      "getting tracing for 140 of 249 for square\n",
      "getting tracing for 141 of 249 for square\n",
      "getting tracing for 142 of 249 for square\n",
      "getting tracing for 143 of 249 for square\n",
      "getting tracing for 144 of 249 for square\n",
      "getting tracing for 145 of 249 for square\n",
      "getting tracing for 146 of 249 for square\n",
      "getting tracing for 147 of 249 for square\n",
      "getting tracing for 148 of 249 for square\n",
      "getting tracing for 149 of 249 for square\n",
      "getting tracing for 150 of 249 for square\n",
      "getting tracing for 151 of 249 for square\n",
      "getting tracing for 152 of 249 for square\n",
      "getting tracing for 153 of 249 for square\n",
      "getting tracing for 154 of 249 for square\n",
      "getting tracing for 155 of 249 for square\n",
      "getting tracing for 156 of 249 for square\n",
      "getting tracing for 157 of 249 for square\n",
      "getting tracing for 158 of 249 for square\n",
      "getting tracing for 159 of 249 for square\n",
      "getting tracing for 160 of 249 for square\n",
      "getting tracing for 161 of 249 for square\n",
      "getting tracing for 162 of 249 for square\n",
      "getting tracing for 163 of 249 for square\n",
      "getting tracing for 164 of 249 for square\n",
      "getting tracing for 165 of 249 for square\n",
      "getting tracing for 166 of 249 for square\n",
      "getting tracing for 167 of 249 for square\n",
      "getting tracing for 168 of 249 for square\n",
      "getting tracing for 169 of 249 for square\n",
      "getting tracing for 170 of 249 for square\n",
      "getting tracing for 171 of 249 for square\n",
      "getting tracing for 172 of 249 for square\n",
      "getting tracing for 173 of 249 for square\n",
      "getting tracing for 174 of 249 for square\n",
      "getting tracing for 175 of 249 for square\n",
      "getting tracing for 176 of 249 for square\n",
      "getting tracing for 177 of 249 for square\n",
      "getting tracing for 178 of 249 for square\n",
      "getting tracing for 179 of 249 for square\n",
      "getting tracing for 180 of 249 for square\n",
      "getting tracing for 181 of 249 for square\n",
      "getting tracing for 182 of 249 for square\n",
      "getting tracing for 183 of 249 for square\n",
      "getting tracing for 184 of 249 for square\n",
      "getting tracing for 185 of 249 for square\n",
      "getting tracing for 186 of 249 for square\n",
      "getting tracing for 187 of 249 for square\n",
      "getting tracing for 188 of 249 for square\n",
      "getting tracing for 189 of 249 for square\n",
      "getting tracing for 190 of 249 for square\n",
      "getting tracing for 191 of 249 for square\n",
      "getting tracing for 192 of 249 for square\n",
      "getting tracing for 193 of 249 for square\n",
      "getting tracing for 194 of 249 for square\n",
      "getting tracing for 195 of 249 for square\n",
      "getting tracing for 196 of 249 for square\n",
      "getting tracing for 197 of 249 for square\n",
      "getting tracing for 198 of 249 for square\n"
     ]
    },
    {
     "name": "stdout",
     "output_type": "stream",
     "text": [
      "getting tracing for 199 of 249 for square\n",
      "getting tracing for 200 of 249 for square\n",
      "getting tracing for 201 of 249 for square\n",
      "getting tracing for 202 of 249 for square\n",
      "getting tracing for 203 of 249 for square\n",
      "getting tracing for 204 of 249 for square\n",
      "getting tracing for 205 of 249 for square\n",
      "getting tracing for 206 of 249 for square\n",
      "getting tracing for 207 of 249 for square\n",
      "getting tracing for 208 of 249 for square\n",
      "getting tracing for 209 of 249 for square\n",
      "getting tracing for 210 of 249 for square\n",
      "getting tracing for 211 of 249 for square\n",
      "getting tracing for 212 of 249 for square\n",
      "getting tracing for 213 of 249 for square\n",
      "getting tracing for 214 of 249 for square\n",
      "getting tracing for 215 of 249 for square\n",
      "getting tracing for 216 of 249 for square\n",
      "getting tracing for 217 of 249 for square\n",
      "getting tracing for 218 of 249 for square\n",
      "getting tracing for 219 of 249 for square\n",
      "getting tracing for 220 of 249 for square\n",
      "getting tracing for 221 of 249 for square\n",
      "getting tracing for 222 of 249 for square\n",
      "getting tracing for 223 of 249 for square\n",
      "getting tracing for 224 of 249 for square\n",
      "getting tracing for 225 of 249 for square\n",
      "getting tracing for 226 of 249 for square\n",
      "getting tracing for 227 of 249 for square\n",
      "getting tracing for 228 of 249 for square\n",
      "getting tracing for 229 of 249 for square\n",
      "getting tracing for 230 of 249 for square\n",
      "getting tracing for 231 of 249 for square\n",
      "getting tracing for 232 of 249 for square\n",
      "getting tracing for 233 of 249 for square\n",
      "getting tracing for 234 of 249 for square\n",
      "getting tracing for 235 of 249 for square\n",
      "getting tracing for 236 of 249 for square\n",
      "getting tracing for 237 of 249 for square\n",
      "getting tracing for 238 of 249 for square\n",
      "getting tracing for 239 of 249 for square\n",
      "getting tracing for 240 of 249 for square\n",
      "getting tracing for 241 of 249 for square\n",
      "getting tracing for 242 of 249 for square\n",
      "getting tracing for 243 of 249 for square\n",
      "getting tracing for 244 of 249 for square\n",
      "getting tracing for 245 of 249 for square\n",
      "getting tracing for 246 of 249 for square\n",
      "getting tracing for 247 of 249 for square\n",
      "getting tracing for 248 of 249 for square\n",
      "getting tracing for 249 of 249 for square\n",
      "getting tracing for 1 of 249 for shape\n",
      "getting tracing for 2 of 249 for shape\n",
      "getting tracing for 3 of 249 for shape\n",
      "getting tracing for 4 of 249 for shape\n",
      "getting tracing for 5 of 249 for shape\n",
      "getting tracing for 6 of 249 for shape\n",
      "getting tracing for 7 of 249 for shape\n",
      "getting tracing for 8 of 249 for shape\n",
      "getting tracing for 9 of 249 for shape\n",
      "getting tracing for 10 of 249 for shape\n",
      "getting tracing for 11 of 249 for shape\n",
      "getting tracing for 12 of 249 for shape\n",
      "getting tracing for 13 of 249 for shape\n",
      "getting tracing for 14 of 249 for shape\n",
      "getting tracing for 15 of 249 for shape\n",
      "getting tracing for 16 of 249 for shape\n",
      "getting tracing for 17 of 249 for shape\n",
      "getting tracing for 18 of 249 for shape\n",
      "getting tracing for 19 of 249 for shape\n",
      "getting tracing for 20 of 249 for shape\n",
      "getting tracing for 21 of 249 for shape\n",
      "getting tracing for 22 of 249 for shape\n",
      "getting tracing for 23 of 249 for shape\n",
      "getting tracing for 24 of 249 for shape\n",
      "getting tracing for 25 of 249 for shape\n",
      "getting tracing for 26 of 249 for shape\n",
      "getting tracing for 27 of 249 for shape\n",
      "getting tracing for 28 of 249 for shape\n",
      "getting tracing for 29 of 249 for shape\n",
      "getting tracing for 30 of 249 for shape\n",
      "getting tracing for 31 of 249 for shape\n",
      "getting tracing for 32 of 249 for shape\n",
      "getting tracing for 33 of 249 for shape\n",
      "getting tracing for 34 of 249 for shape\n",
      "getting tracing for 35 of 249 for shape\n",
      "getting tracing for 36 of 249 for shape\n",
      "getting tracing for 37 of 249 for shape\n",
      "getting tracing for 38 of 249 for shape\n",
      "getting tracing for 39 of 249 for shape\n",
      "getting tracing for 40 of 249 for shape\n",
      "getting tracing for 41 of 249 for shape\n",
      "getting tracing for 42 of 249 for shape\n",
      "getting tracing for 43 of 249 for shape\n",
      "getting tracing for 44 of 249 for shape\n",
      "getting tracing for 45 of 249 for shape\n",
      "getting tracing for 46 of 249 for shape\n",
      "getting tracing for 47 of 249 for shape\n",
      "getting tracing for 48 of 249 for shape\n",
      "getting tracing for 49 of 249 for shape\n"
     ]
    }
   ],
   "source": [
    "for ti, t in enumerate(tracing):\n",
    "    t_dir = os.path.join(data_dir, t)\n",
    "    count_done = 0\n",
    "    for d in os.listdir(t_dir):\n",
    "        count_done = count_done + 1\n",
    "        print('getting tracing for {} of {} for {}'.format(count_done, len(os.listdir(t_dir)),t))\n",
    "        if not d.endswith('.png'):\n",
    "            continue\n",
    "        \n",
    "        # Tsinghua_photodraw_production1575443112866_shape\n",
    "        # CDM_photodraw_e21542061442525_square.png\n",
    "        \n",
    "        child_info = d.split('_')\n",
    "        stripped_filename = d.split('.png')[0]\n",
    "        img_draw = os.path.join(t_dir, d)\n",
    "\n",
    "        if os.path.exists(img_draw):\n",
    "            img_ref = ref_path[ti]\n",
    "            output_path = os.path.join(trans_dir, '{}_wrap.png'.format(d))\n",
    "            init_loss, final_loss, ro, tran, s, warped = ar.affine_reg(img_draw, img_ref, output_path)\n",
    "\n",
    "            # prepare the dataframe\n",
    "            filename.append(d)\n",
    "            category.append(t)\n",
    "            pre_tran.append(init_loss)\n",
    "            post_tran.append(final_loss)\n",
    "            rotate.append(ro)\n",
    "            translate.append(tran)\n",
    "            scale.append(s)"
   ]
  },
  {
   "cell_type": "code",
   "execution_count": 27,
   "metadata": {
    "collapsed": true
   },
   "outputs": [],
   "source": [
    "really_run_this = 1 \n",
    "## compile data\n",
    "if really_run_this==1:\n",
    "    data = pd.DataFrame([filename, category, pre_tran, post_tran, rotate, translate, scale])\n",
    "    data = data.transpose()\n",
    "    data.columns = ['filename','category', 'pre_tran', 'post_tran', 'rotate', 'translate', 'scale']\n",
    "## save out the data\n",
    "data.to_csv(data_output)"
   ]
  },
  {
   "cell_type": "code",
   "execution_count": null,
   "metadata": {
    "collapsed": true
   },
   "outputs": [],
   "source": []
  },
  {
   "cell_type": "code",
   "execution_count": null,
   "metadata": {
    "collapsed": true
   },
   "outputs": [],
   "source": []
  }
 ],
 "metadata": {
  "kernelspec": {
   "display_name": "Python 2",
   "language": "python",
   "name": "python2"
  },
  "language_info": {
   "codemirror_mode": {
    "name": "ipython",
    "version": 2
   },
   "file_extension": ".py",
   "mimetype": "text/x-python",
   "name": "python",
   "nbconvert_exporter": "python",
   "pygments_lexer": "ipython2",
   "version": "2.7.3"
  }
 },
 "nbformat": 4,
 "nbformat_minor": 2
}
