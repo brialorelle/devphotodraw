{
 "cells": [
  {
   "cell_type": "code",
   "execution_count": 1,
   "metadata": {
    "collapsed": true
   },
   "outputs": [],
   "source": [
    "import os\n",
    "import csv\n",
    "import pandas as pd\n",
    "import numpy as np\n",
    "from IPython.display import clear_output\n",
    "import ast\n",
    "import pymongo as pm\n",
    "from datetime import datetime\n"
   ]
  },
  {
   "cell_type": "markdown",
   "metadata": {
    "collapsed": true
   },
   "source": [
    "### Load connection to database"
   ]
  },
  {
   "cell_type": "code",
   "execution_count": 2,
   "metadata": {
    "collapsed": true
   },
   "outputs": [],
   "source": [
    "# set vars \n",
    "auth = pd.read_csv('auth.txt', header = None) # this auth.txt file contains the password for the stanford-cogsci.org user\n",
    "pswd = auth.values[0][0]\n",
    "conn = pm.MongoClient('mongodb://stanford:' + pswd + '@127.0.0.1')"
   ]
  },
  {
   "cell_type": "code",
   "execution_count": 3,
   "metadata": {
    "collapsed": true
   },
   "outputs": [],
   "source": [
    "db = conn['devphotodraw_recognition']\n",
    "coll = db['batched_12afc']"
   ]
  },
  {
   "cell_type": "code",
   "execution_count": 4,
   "metadata": {
    "collapsed": true
   },
   "outputs": [],
   "source": [
    "# db = conn['kiddraw']\n",
    "# coll = db['check_invalid_v5_dev']\n",
    "# coll.count()"
   ]
  },
  {
   "cell_type": "code",
   "execution_count": null,
   "metadata": {
    "collapsed": true
   },
   "outputs": [],
   "source": []
  },
  {
   "cell_type": "code",
   "execution_count": null,
   "metadata": {
    "collapsed": true
   },
   "outputs": [],
   "source": []
  },
  {
   "cell_type": "code",
   "execution_count": 5,
   "metadata": {
    "collapsed": true
   },
   "outputs": [],
   "source": [
    "analysis_dir = os.getcwd()\n",
    "output_dir = os.path.join(analysis_dir,'csv_out')\n",
    "if not os.path.exists(output_dir):\n",
    "    os.makedirs(output_dir)"
   ]
  },
  {
   "cell_type": "markdown",
   "metadata": {},
   "source": [
    "### Only prolific workers have id's that are strings (parsed from url)"
   ]
  },
  {
   "cell_type": "code",
   "execution_count": 24,
   "metadata": {},
   "outputs": [
    {
     "data": {
      "text/plain": [
       "<pymongo.cursor.Cursor at 0x107c27ad0>"
      ]
     },
     "execution_count": 24,
     "metadata": {},
     "output_type": "execute_result"
    }
   ],
   "source": [
    "catch"
   ]
  },
  {
   "cell_type": "code",
   "execution_count": 26,
   "metadata": {},
   "outputs": [
    {
     "data": {
      "text/plain": [
       "[u'Describing illustrations from a list of choices',\n",
       " u'Guess what people intended to draw from a list of choices.',\n",
       " u'Recognizing drawings',\n",
       " u'Identifying drawings from an available set of answers',\n",
       " u'Looking at drawings and guessing what they were from a set group of choices. ',\n",
       " u'I was looking at drawings and guessing what they were from a list of words.',\n",
       " u'naming the images that shows with the given options',\n",
       " u'Identifying objects.',\n",
       " u'Identifying drawings; matching what we believe was being drawn from a list of options',\n",
       " u'Naming drawings']"
      ]
     },
     "execution_count": 26,
     "metadata": {},
     "output_type": "execute_result"
    }
   ],
   "source": [
    "catch_responses = []\n",
    "catch = coll.find({'sub_id': {'$type' : \"string\"}, 'version': this_version, 'dataType': 'catch_trial' })\n",
    "for c in catch:\n",
    "   catch_responses.append(c['catch'])\n",
    "\n",
    "catch_responses"
   ]
  },
  {
   "cell_type": "code",
   "execution_count": 6,
   "metadata": {},
   "outputs": [
    {
     "data": {
      "text/plain": [
       "[u'}}&STUDY_ID={{%STUDY_ID',\n",
       " u'60ca70f0bb3fef9c094682e',\n",
       " u'5e342cecde69fe3e0dd20d4',\n",
       " u'60c918a1b8ecff26d3de9df',\n",
       " u'60c70a25e730952df844d1e',\n",
       " u'60ca71e1a0157b6cce37959',\n",
       " u'602be5d586b0773c600c4ff',\n",
       " u'60ca42c682bc800df005667',\n",
       " u'60c6d966de0036fe3659e68',\n",
       " u'60ca6e4fd5183359ae3255a',\n",
       " u'60c940f718d8d7c39ed570d']"
      ]
     },
     "execution_count": 6,
     "metadata": {},
     "output_type": "execute_result"
    }
   ],
   "source": [
    "this_version = 'batch5_production_june2021'\n",
    "# prolific_workers = coll.find({'sub_id': {'$type' : \"string\"}, 'version': 'batch1_production_june2021' }).distinct('sub_id')\n",
    "prolific_workers = coll.find({'sub_id': {'$type' : \"string\"}, 'version': this_version }).distinct('sub_id')\n",
    "np.size(prolific_workers)\n",
    "prolific_workers"
   ]
  },
  {
   "cell_type": "code",
   "execution_count": 9,
   "metadata": {
    "collapsed": true
   },
   "outputs": [],
   "source": [
    "prolific_workers.pop()\n",
    "\n",
    "###### Open up variables for CSV writing\n",
    "# basic descriptors\n",
    "subID = []; \n",
    "imageName = []\n",
    "guessed_category = []\n",
    "drawn_category = []\n",
    "version = []"
   ]
  },
  {
   "cell_type": "code",
   "execution_count": 11,
   "metadata": {},
   "outputs": [],
   "source": [
    "del prolific_workers[0]\n"
   ]
  },
  {
   "cell_type": "code",
   "execution_count": 12,
   "metadata": {},
   "outputs": [
    {
     "data": {
      "text/plain": [
       "[u'60ca70f0bb3fef9c094682e',\n",
       " u'5e342cecde69fe3e0dd20d4',\n",
       " u'60c918a1b8ecff26d3de9df',\n",
       " u'60c70a25e730952df844d1e',\n",
       " u'60ca71e1a0157b6cce37959',\n",
       " u'602be5d586b0773c600c4ff',\n",
       " u'60ca42c682bc800df005667',\n",
       " u'60c6d966de0036fe3659e68',\n",
       " u'60ca6e4fd5183359ae3255a']"
      ]
     },
     "execution_count": 12,
     "metadata": {},
     "output_type": "execute_result"
    }
   ],
   "source": [
    "prolific_workers"
   ]
  },
  {
   "cell_type": "code",
   "execution_count": 13,
   "metadata": {},
   "outputs": [
    {
     "name": "stdout",
     "output_type": "stream",
     "text": [
      "60ca70f0bb3fef9c094682e\n",
      "144\n",
      "5e342cecde69fe3e0dd20d4\n",
      "144\n",
      "60c918a1b8ecff26d3de9df\n",
      "142\n",
      "60c70a25e730952df844d1e\n",
      "138\n",
      "60ca71e1a0157b6cce37959\n",
      "144\n",
      "602be5d586b0773c600c4ff\n",
      "144\n",
      "60ca42c682bc800df005667\n",
      "144\n",
      "60c6d966de0036fe3659e68\n",
      "144\n",
      "60ca6e4fd5183359ae3255a\n",
      "144\n"
     ]
    }
   ],
   "source": [
    "for w in prolific_workers:\n",
    "    print w\n",
    "    entries = coll.find({'$and': [{'sub_id': w, 'dataType': 'recognition_rating'}]})\n",
    "    num_trials =  entries.count()\n",
    "    print num_trials\n",
    "    for e in entries:\n",
    "        subID.append(e['sub_id'])\n",
    "        imageName.append(e['imageName'])\n",
    "        guessed_category.append(e['guessed_category'])\n",
    "        drawn_category.append(e['imageCategory'])\n",
    "        version.append(e['version'])"
   ]
  },
  {
   "cell_type": "code",
   "execution_count": null,
   "metadata": {},
   "outputs": [],
   "source": []
  },
  {
   "cell_type": "code",
   "execution_count": 27,
   "metadata": {
    "collapsed": true
   },
   "outputs": [],
   "source": [
    "\n",
    "## write out csv \n",
    "X_out = pd.DataFrame([subID, imageName, guessed_category, drawn_category, version])\n",
    "X_out = X_out.transpose()\n",
    "X_out.columns = ['subID','imageName', 'guessed_category','drawn_category','version']\n",
    "X_out.to_csv(os.path.join(output_dir, this_version + '.csv'))\n"
   ]
  },
  {
   "cell_type": "code",
   "execution_count": null,
   "metadata": {
    "collapsed": true
   },
   "outputs": [],
   "source": []
  },
  {
   "cell_type": "code",
   "execution_count": null,
   "metadata": {
    "collapsed": true
   },
   "outputs": [],
   "source": []
  },
  {
   "cell_type": "code",
   "execution_count": null,
   "metadata": {
    "collapsed": true
   },
   "outputs": [],
   "source": []
  },
  {
   "cell_type": "code",
   "execution_count": 62,
   "metadata": {},
   "outputs": [
    {
     "data": {
      "text/plain": [
       "'CDM'"
      ]
     },
     "execution_count": 62,
     "metadata": {},
     "output_type": "execute_result"
    }
   ],
   "source": [
    "# path = 'P_bird_sketch_age5_IPAD5_THU5F3.png'\n",
    "# path = 'P_airplane_sketch_age4_CDM_photodraw_e21547242197593.png'\n",
    "# condition = path.split('/')[-1].split('_')[4]\n",
    "# if path.find('CDM')!=-1:\n",
    "#     site = 'CDM'\n",
    "# else:\n",
    "#     site = 'THU'\n",
    "# site"
   ]
  },
  {
   "cell_type": "code",
   "execution_count": null,
   "metadata": {
    "collapsed": true
   },
   "outputs": [],
   "source": []
  },
  {
   "cell_type": "code",
   "execution_count": null,
   "metadata": {
    "collapsed": true
   },
   "outputs": [],
   "source": []
  },
  {
   "cell_type": "code",
   "execution_count": null,
   "metadata": {
    "collapsed": true
   },
   "outputs": [],
   "source": [
    "# mturk_id\n",
    "# assignment_id\n",
    "# trial_id\n",
    "# hit_id"
   ]
  }
 ],
 "metadata": {
  "kernelspec": {
   "display_name": "Python 2",
   "language": "python",
   "name": "python2"
  },
  "language_info": {
   "codemirror_mode": {
    "name": "ipython",
    "version": 2
   },
   "file_extension": ".py",
   "mimetype": "text/x-python",
   "name": "python",
   "nbconvert_exporter": "python",
   "pygments_lexer": "ipython2",
   "version": "2.7.3"
  }
 },
 "nbformat": 4,
 "nbformat_minor": 2
}
