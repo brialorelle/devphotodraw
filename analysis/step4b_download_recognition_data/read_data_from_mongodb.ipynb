{
 "cells": [
  {
   "cell_type": "code",
   "execution_count": 42,
   "metadata": {
    "collapsed": true
   },
   "outputs": [],
   "source": [
    "import os\n",
    "import csv\n",
    "import pandas as pd\n",
    "import numpy as np\n",
    "from IPython.display import clear_output\n",
    "import ast\n",
    "import pymongo as pm\n",
    "from datetime import datetime\n"
   ]
  },
  {
   "cell_type": "markdown",
   "metadata": {
    "collapsed": true
   },
   "source": [
    "### Load connection to database"
   ]
  },
  {
   "cell_type": "code",
   "execution_count": 43,
   "metadata": {
    "collapsed": true
   },
   "outputs": [],
   "source": [
    "# set vars \n",
    "auth = pd.read_csv('auth.txt', header = None) # this auth.txt file contains the password for the stanford-cogsci.org user\n",
    "pswd = auth.values[0][0]\n",
    "conn = pm.MongoClient('mongodb://stanford:' + pswd + '@127.0.0.1')"
   ]
  },
  {
   "cell_type": "code",
   "execution_count": 44,
   "metadata": {
    "collapsed": true
   },
   "outputs": [],
   "source": [
    "db = conn['devphotodraw_recognition']\n",
    "coll = db['batched_12afc']"
   ]
  },
  {
   "cell_type": "code",
   "execution_count": 45,
   "metadata": {
    "collapsed": true
   },
   "outputs": [],
   "source": [
    "# db = conn['kiddraw']\n",
    "# coll = db['check_invalid_v5_dev']\n",
    "# coll.count()"
   ]
  },
  {
   "cell_type": "code",
   "execution_count": null,
   "metadata": {
    "collapsed": true
   },
   "outputs": [],
   "source": []
  },
  {
   "cell_type": "code",
   "execution_count": null,
   "metadata": {
    "collapsed": true
   },
   "outputs": [],
   "source": []
  },
  {
   "cell_type": "code",
   "execution_count": 46,
   "metadata": {
    "collapsed": true
   },
   "outputs": [],
   "source": [
    "analysis_dir = os.getcwd()\n",
    "output_dir = os.path.join(analysis_dir,'csv_out')\n",
    "if not os.path.exists(output_dir):\n",
    "    os.makedirs(output_dir)"
   ]
  },
  {
   "cell_type": "markdown",
   "metadata": {},
   "source": [
    "### Only prolific workers have id's that are strings (parsed from url)"
   ]
  },
  {
   "cell_type": "code",
   "execution_count": 67,
   "metadata": {},
   "outputs": [
    {
     "data": {
      "text/plain": [
       "[u'60c00c32f086c3213de3773',\n",
       " u'60c4e2f0a4dbce1286d7d09',\n",
       " u'5ea90de5a5bad5377430424',\n",
       " u'60c2ac0c6fcf4e382a42f74',\n",
       " u'5f2ac32d1f635437876affa',\n",
       " u'60c72834098664715c749ca',\n",
       " u'5e3a190cc688f023afd6e80',\n",
       " u'60c39f9022cd2c6bf7318f5',\n",
       " u'5eddce842514f6ae9a1e500',\n",
       " u'60c344a48b6bc6a6374ddad']"
      ]
     },
     "execution_count": 67,
     "metadata": {},
     "output_type": "execute_result"
    }
   ],
   "source": [
    "# prolific_workers = coll.find({'sub_id': {'$type' : \"string\"}, 'version': 'batch1_production_june2021' }).distinct('sub_id')\n",
    "prolific_workers = coll.find({'sub_id': {'$type' : \"string\"}, 'version': 'batch3_production_june2021' }).distinct('sub_id')\n",
    "np.size(prolific_workers)\n",
    "prolific_workers"
   ]
  },
  {
   "cell_type": "code",
   "execution_count": 68,
   "metadata": {
    "collapsed": true
   },
   "outputs": [],
   "source": [
    "###### Open up variables for CSV writing\n",
    "# basic descriptors\n",
    "subID = []; \n",
    "imageName = []\n",
    "guessed_category = []\n",
    "drawn_category = [] "
   ]
  },
  {
   "cell_type": "code",
   "execution_count": null,
   "metadata": {},
   "outputs": [],
   "source": []
  },
  {
   "cell_type": "code",
   "execution_count": 69,
   "metadata": {},
   "outputs": [
    {
     "name": "stdout",
     "output_type": "stream",
     "text": [
      "60c00c32f086c3213de3773\n",
      "144\n",
      "60c4e2f0a4dbce1286d7d09\n",
      "99\n",
      "5ea90de5a5bad5377430424\n",
      "144\n",
      "60c2ac0c6fcf4e382a42f74\n",
      "132\n",
      "5f2ac32d1f635437876affa\n",
      "100\n",
      "60c72834098664715c749ca\n",
      "93\n",
      "5e3a190cc688f023afd6e80\n",
      "31\n",
      "60c39f9022cd2c6bf7318f5\n",
      "61\n",
      "5eddce842514f6ae9a1e500\n",
      "115\n",
      "60c344a48b6bc6a6374ddad\n",
      "22\n"
     ]
    }
   ],
   "source": [
    "for w in prolific_workers:\n",
    "    print w\n",
    "    entries = coll.find({'$and': [{'sub_id': w, 'dataType': 'recognition_rating'}]})\n",
    "    num_trials =  entries.count()\n",
    "    print num_trials\n",
    "    for e in entries:\n",
    "        subID.append(e['sub_id'])\n",
    "        imageName.append(e['imageName'])\n",
    "        guessed_category.append(e['guessed_category'])\n",
    "        drawn_category.append(e['imageCategory'])"
   ]
  },
  {
   "cell_type": "code",
   "execution_count": 34,
   "metadata": {},
   "outputs": [
    {
     "data": {
      "text/plain": [
       "{u'_id': ObjectId('60c7b9cfc0059952db3ba038'),\n",
       " u'dataType': u'recognition_rating',\n",
       " u'date': u'2021-06-14T20:19:27.393Z',\n",
       " u'guessed_category': u'rabbit',\n",
       " u'imageCategory': u'rabbit',\n",
       " u'imageName': u'https://stanford-cogsci.org:8880/object_drawings/P_rabbit_sketch_age8_CDM_photodraw_e21550689187843.png',\n",
       " u'sub_id': u'60c6d6b60fc74b211f17ddf',\n",
       " u'version': u'batch1_production_june2021'}"
      ]
     },
     "execution_count": 34,
     "metadata": {},
     "output_type": "execute_result"
    }
   ],
   "source": [
    "e"
   ]
  },
  {
   "cell_type": "code",
   "execution_count": 64,
   "metadata": {
    "collapsed": true
   },
   "outputs": [],
   "source": [
    "\n",
    "## write out csv \n",
    "X_out = pd.DataFrame([subID, imageName, guessed_category, drawn_category])\n",
    "X_out = X_out.transpose()\n",
    "X_out.columns = ['subID','imageName', 'guessed_category','drawn_category']\n",
    "X_out.to_csv(os.path.join(output_dir,'Devphotodraw_recognition_batch2.csv'))\n"
   ]
  },
  {
   "cell_type": "code",
   "execution_count": null,
   "metadata": {
    "collapsed": true
   },
   "outputs": [],
   "source": []
  },
  {
   "cell_type": "code",
   "execution_count": null,
   "metadata": {
    "collapsed": true
   },
   "outputs": [],
   "source": []
  },
  {
   "cell_type": "code",
   "execution_count": null,
   "metadata": {
    "collapsed": true
   },
   "outputs": [],
   "source": []
  },
  {
   "cell_type": "code",
   "execution_count": 62,
   "metadata": {},
   "outputs": [
    {
     "data": {
      "text/plain": [
       "'CDM'"
      ]
     },
     "execution_count": 62,
     "metadata": {},
     "output_type": "execute_result"
    }
   ],
   "source": [
    "path = 'P_bird_sketch_age5_IPAD5_THU5F3.png'\n",
    "path = 'P_airplane_sketch_age4_CDM_photodraw_e21547242197593.png'\n",
    "condition = path.split('/')[-1].split('_')[4]\n",
    "if path.find('CDM')!=-1:\n",
    "    site = 'CDM'\n",
    "else:\n",
    "    site = 'THU'\n",
    "site"
   ]
  },
  {
   "cell_type": "code",
   "execution_count": null,
   "metadata": {
    "collapsed": true
   },
   "outputs": [],
   "source": []
  },
  {
   "cell_type": "code",
   "execution_count": null,
   "metadata": {
    "collapsed": true
   },
   "outputs": [],
   "source": []
  },
  {
   "cell_type": "code",
   "execution_count": null,
   "metadata": {
    "collapsed": true
   },
   "outputs": [],
   "source": [
    "# mturk_id\n",
    "# assignment_id\n",
    "# trial_id\n",
    "# hit_id"
   ]
  }
 ],
 "metadata": {
  "kernelspec": {
   "display_name": "Python 2",
   "language": "python",
   "name": "python2"
  },
  "language_info": {
   "codemirror_mode": {
    "name": "ipython",
    "version": 2
   },
   "file_extension": ".py",
   "mimetype": "text/x-python",
   "name": "python",
   "nbconvert_exporter": "python",
   "pygments_lexer": "ipython2",
   "version": "2.7.3"
  }
 },
 "nbformat": 4,
 "nbformat_minor": 2
}
