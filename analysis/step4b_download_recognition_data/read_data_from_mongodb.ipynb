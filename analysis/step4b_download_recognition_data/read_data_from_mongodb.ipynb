{
 "cells": [
  {
   "cell_type": "code",
   "execution_count": 31,
   "metadata": {
    "collapsed": true
   },
   "outputs": [],
   "source": [
    "import os\n",
    "import csv\n",
    "import pandas as pd\n",
    "import numpy as np\n",
    "from IPython.display import clear_output\n",
    "import ast\n",
    "import pymongo as pm\n",
    "from datetime import datetime\n"
   ]
  },
  {
   "cell_type": "markdown",
   "metadata": {
    "collapsed": true
   },
   "source": [
    "### Load connection to database"
   ]
  },
  {
   "cell_type": "code",
   "execution_count": 65,
   "metadata": {
    "collapsed": true
   },
   "outputs": [],
   "source": [
    "# set vars \n",
    "auth = pd.read_csv('auth.txt', header = None) # this auth.txt file contains the password for the stanford-cogsci.org user\n",
    "pswd = auth.values[0][0]\n",
    "conn = pm.MongoClient('mongodb://stanford:' + pswd + '@127.0.0.1')"
   ]
  },
  {
   "cell_type": "code",
   "execution_count": 66,
   "metadata": {
    "collapsed": true
   },
   "outputs": [],
   "source": [
    "db = conn['devphotodraw_recognition']\n",
    "coll = db['batched_12afc']"
   ]
  },
  {
   "cell_type": "code",
   "execution_count": 67,
   "metadata": {
    "collapsed": true
   },
   "outputs": [],
   "source": [
    "analysis_dir = os.getcwd()\n",
    "output_dir = os.path.join(analysis_dir,'csv_out')\n",
    "if not os.path.exists(output_dir):\n",
    "    os.makedirs(output_dir)"
   ]
  },
  {
   "cell_type": "markdown",
   "metadata": {},
   "source": [
    "### Only prolific workers have id's that are strings (parsed from url)"
   ]
  },
  {
   "cell_type": "code",
   "execution_count": 112,
   "metadata": {},
   "outputs": [
    {
     "data": {
      "text/html": [
       "<div>\n",
       "<style scoped>\n",
       "    .dataframe tbody tr th:only-of-type {\n",
       "        vertical-align: middle;\n",
       "    }\n",
       "\n",
       "    .dataframe tbody tr th {\n",
       "        vertical-align: top;\n",
       "    }\n",
       "\n",
       "    .dataframe thead th {\n",
       "        text-align: right;\n",
       "    }\n",
       "</style>\n",
       "<table border=\"1\" class=\"dataframe\">\n",
       "  <thead>\n",
       "    <tr style=\"text-align: right;\">\n",
       "      <th></th>\n",
       "      <th>0</th>\n",
       "      <th>1</th>\n",
       "      <th>2</th>\n",
       "      <th>3</th>\n",
       "      <th>4</th>\n",
       "      <th>5</th>\n",
       "      <th>6</th>\n",
       "      <th>7</th>\n",
       "      <th>8</th>\n",
       "      <th>9</th>\n",
       "    </tr>\n",
       "  </thead>\n",
       "  <tbody>\n",
       "    <tr>\n",
       "      <th>0</th>\n",
       "      <td>Choosing what the pictures are.</td>\n",
       "      <td>identifying doodles with one of twelve choices</td>\n",
       "      <td>Guessing what a drawing is depicting</td>\n",
       "      <td>judge what the drawing were by certain subjects</td>\n",
       "      <td>guessing drawings</td>\n",
       "      <td>label drawings from the choices given</td>\n",
       "      <td>guess drawings</td>\n",
       "      <td>identify objects from drawings</td>\n",
       "      <td>Making guesses as to what a drawing might be of.</td>\n",
       "      <td>choosing what each drawing looks like</td>\n",
       "    </tr>\n",
       "    <tr>\n",
       "      <th>1</th>\n",
       "      <td>6095fc75ab1d101e060d808</td>\n",
       "      <td>60b85d86147b19b7f8b0c84</td>\n",
       "      <td>606a27ecc448bcda408cee1</td>\n",
       "      <td>5d1ea7e579b687001af802c</td>\n",
       "      <td>60cb71bff8a2183f0d5c659</td>\n",
       "      <td>607ba74574a49a21a181163</td>\n",
       "      <td>5b5c3b266b25590001778ea</td>\n",
       "      <td>5e9c4666d28cb0023c8d43a</td>\n",
       "      <td>5f5eb22e58c9fb7782a6e90</td>\n",
       "      <td>596c1af50e679d0001faca6</td>\n",
       "    </tr>\n",
       "  </tbody>\n",
       "</table>\n",
       "</div>"
      ],
      "text/plain": [
       "                                 0  \\\n",
       "0  Choosing what the pictures are.   \n",
       "1          6095fc75ab1d101e060d808   \n",
       "\n",
       "                                                1  \\\n",
       "0  identifying doodles with one of twelve choices   \n",
       "1                         60b85d86147b19b7f8b0c84   \n",
       "\n",
       "                                      2  \\\n",
       "0  Guessing what a drawing is depicting   \n",
       "1               606a27ecc448bcda408cee1   \n",
       "\n",
       "                                                 3                        4  \\\n",
       "0  judge what the drawing were by certain subjects       guessing drawings    \n",
       "1                          5d1ea7e579b687001af802c  60cb71bff8a2183f0d5c659   \n",
       "\n",
       "                                       5                        6  \\\n",
       "0  label drawings from the choices given           guess drawings   \n",
       "1                607ba74574a49a21a181163  5b5c3b266b25590001778ea   \n",
       "\n",
       "                                7  \\\n",
       "0  identify objects from drawings   \n",
       "1         5e9c4666d28cb0023c8d43a   \n",
       "\n",
       "                                                  8  \\\n",
       "0  Making guesses as to what a drawing might be of.   \n",
       "1                           5f5eb22e58c9fb7782a6e90   \n",
       "\n",
       "                                       9  \n",
       "0  choosing what each drawing looks like  \n",
       "1                596c1af50e679d0001faca6  "
      ]
     },
     "execution_count": 112,
     "metadata": {},
     "output_type": "execute_result"
    }
   ],
   "source": [
    "this_version = 'batch21_production_june2021'\n",
    "\n",
    "catch_responses = []\n",
    "ids = []\n",
    "catch = coll.find({'sub_id': {'$type' : \"string\"}, 'version': this_version, 'dataType': 'catch_trial' })\n",
    "for c in catch:\n",
    "   catch_responses.append(c['catch'])\n",
    "   ids.append(c['sub_id'])\n",
    "\n",
    "check = pd.DataFrame([catch_responses, ids])\n",
    "check\n",
    "\n",
    "\n",
    "\n",
    "                                        "
   ]
  },
  {
   "cell_type": "code",
   "execution_count": 113,
   "metadata": {},
   "outputs": [
    {
     "data": {
      "text/html": [
       "<div>\n",
       "<style scoped>\n",
       "    .dataframe tbody tr th:only-of-type {\n",
       "        vertical-align: middle;\n",
       "    }\n",
       "\n",
       "    .dataframe tbody tr th {\n",
       "        vertical-align: top;\n",
       "    }\n",
       "\n",
       "    .dataframe thead th {\n",
       "        text-align: right;\n",
       "    }\n",
       "</style>\n",
       "<table border=\"1\" class=\"dataframe\">\n",
       "  <thead>\n",
       "    <tr style=\"text-align: right;\">\n",
       "      <th></th>\n",
       "      <th>0</th>\n",
       "      <th>1</th>\n",
       "      <th>2</th>\n",
       "      <th>3</th>\n",
       "      <th>4</th>\n",
       "      <th>5</th>\n",
       "      <th>6</th>\n",
       "      <th>7</th>\n",
       "      <th>8</th>\n",
       "      <th>9</th>\n",
       "      <th>10</th>\n",
       "      <th>11</th>\n",
       "      <th>12</th>\n",
       "      <th>13</th>\n",
       "      <th>14</th>\n",
       "      <th>15</th>\n",
       "      <th>16</th>\n",
       "      <th>17</th>\n",
       "      <th>18</th>\n",
       "      <th>19</th>\n",
       "    </tr>\n",
       "  </thead>\n",
       "  <tbody>\n",
       "    <tr>\n",
       "      <th>0</th>\n",
       "      <td>No</td>\n",
       "      <td>No</td>\n",
       "      <td>Some drawings did not depict any of the choice...</td>\n",
       "      <td>no comments</td>\n",
       "      <td>No</td>\n",
       "      <td>it was kind of tricky</td>\n",
       "      <td></td>\n",
       "      <td>no</td>\n",
       "      <td></td>\n",
       "      <td>A fun survey</td>\n",
       "      <td>None</td>\n",
       "      <td>None</td>\n",
       "      <td>None</td>\n",
       "      <td>None</td>\n",
       "      <td>None</td>\n",
       "      <td>None</td>\n",
       "      <td>None</td>\n",
       "      <td>None</td>\n",
       "      <td>None</td>\n",
       "      <td>None</td>\n",
       "    </tr>\n",
       "    <tr>\n",
       "      <th>1</th>\n",
       "      <td>6095fc75ab1d101e060d808</td>\n",
       "      <td>60b85d86147b19b7f8b0c84</td>\n",
       "      <td>606a27ecc448bcda408cee1</td>\n",
       "      <td>5d1ea7e579b687001af802c</td>\n",
       "      <td>60cb71bff8a2183f0d5c659</td>\n",
       "      <td>607ba74574a49a21a181163</td>\n",
       "      <td>5b5c3b266b25590001778ea</td>\n",
       "      <td>5e9c4666d28cb0023c8d43a</td>\n",
       "      <td>5f5eb22e58c9fb7782a6e90</td>\n",
       "      <td>596c1af50e679d0001faca6</td>\n",
       "      <td>6095fc75ab1d101e060d808</td>\n",
       "      <td>60b85d86147b19b7f8b0c84</td>\n",
       "      <td>606a27ecc448bcda408cee1</td>\n",
       "      <td>5d1ea7e579b687001af802c</td>\n",
       "      <td>607ba74574a49a21a181163</td>\n",
       "      <td>60cb71bff8a2183f0d5c659</td>\n",
       "      <td>5b5c3b266b25590001778ea</td>\n",
       "      <td>5e9c4666d28cb0023c8d43a</td>\n",
       "      <td>5f5eb22e58c9fb7782a6e90</td>\n",
       "      <td>596c1af50e679d0001faca6</td>\n",
       "    </tr>\n",
       "  </tbody>\n",
       "</table>\n",
       "</div>"
      ],
      "text/plain": [
       "                        0                        1   \\\n",
       "0                       No                       No   \n",
       "1  6095fc75ab1d101e060d808  60b85d86147b19b7f8b0c84   \n",
       "\n",
       "                                                  2                        3   \\\n",
       "0  Some drawings did not depict any of the choice...              no comments   \n",
       "1                            606a27ecc448bcda408cee1  5d1ea7e579b687001af802c   \n",
       "\n",
       "                        4                        5                        6   \\\n",
       "0                       No    it was kind of tricky                            \n",
       "1  60cb71bff8a2183f0d5c659  607ba74574a49a21a181163  5b5c3b266b25590001778ea   \n",
       "\n",
       "                        7                        8                        9   \\\n",
       "0                       no                                      A fun survey   \n",
       "1  5e9c4666d28cb0023c8d43a  5f5eb22e58c9fb7782a6e90  596c1af50e679d0001faca6   \n",
       "\n",
       "                        10                       11                       12  \\\n",
       "0                     None                     None                     None   \n",
       "1  6095fc75ab1d101e060d808  60b85d86147b19b7f8b0c84  606a27ecc448bcda408cee1   \n",
       "\n",
       "                        13                       14                       15  \\\n",
       "0                     None                     None                     None   \n",
       "1  5d1ea7e579b687001af802c  607ba74574a49a21a181163  60cb71bff8a2183f0d5c659   \n",
       "\n",
       "                        16                       17                       18  \\\n",
       "0                     None                     None                     None   \n",
       "1  5b5c3b266b25590001778ea  5e9c4666d28cb0023c8d43a  5f5eb22e58c9fb7782a6e90   \n",
       "\n",
       "                        19  \n",
       "0                     None  \n",
       "1  596c1af50e679d0001faca6  "
      ]
     },
     "execution_count": 113,
     "metadata": {},
     "output_type": "execute_result"
    }
   ],
   "source": [
    "commments_check=[]\n",
    "comments = coll.find({'sub_id': {'$type' : \"string\"}, 'version': this_version, 'dataType': 'comments' })\n",
    "for c in comments:\n",
    "   commments_check.append(c['comments'])\n",
    "   ids.append(c['sub_id'])\n",
    "\n",
    "commments_checks = pd.DataFrame([commments_check, ids])\n",
    "commments_checks"
   ]
  },
  {
   "cell_type": "code",
   "execution_count": 100,
   "metadata": {},
   "outputs": [
    {
     "data": {
      "text/plain": [
       "[u'nope',\n",
       " u'no',\n",
       " u'No.',\n",
       " u'no',\n",
       " u\"I'm talking crap about the drawings but I have about the same artistic capability that was shown to me here lol\",\n",
       " u'',\n",
       " u'some of the drawings were really difficult to make out',\n",
       " u'So of those drawings were pretty bad...',\n",
       " u'',\n",
       " u'nice study']"
      ]
     },
     "execution_count": 100,
     "metadata": {},
     "output_type": "execute_result"
    }
   ],
   "source": [
    "commments_check"
   ]
  },
  {
   "cell_type": "code",
   "execution_count": 114,
   "metadata": {},
   "outputs": [
    {
     "data": {
      "text/plain": [
       "[u'6095fc75ab1d101e060d808',\n",
       " u'60cb71bff8a2183f0d5c659',\n",
       " u'5d1ea7e579b687001af802c',\n",
       " u'606a27ecc448bcda408cee1',\n",
       " u'60b85d86147b19b7f8b0c84',\n",
       " u'607ba74574a49a21a181163',\n",
       " u'5e9c4666d28cb0023c8d43a',\n",
       " u'596c1af50e679d0001faca6',\n",
       " u'5f5eb22e58c9fb7782a6e90',\n",
       " u'5b5c3b266b25590001778ea']"
      ]
     },
     "execution_count": 114,
     "metadata": {},
     "output_type": "execute_result"
    }
   ],
   "source": [
    "# prolific_workers = coll.find({'sub_id': {'$type' : \"string\"}, 'version': 'batch1_production_june2021' }).distinct('sub_id')\n",
    "prolific_workers = coll.find({'sub_id': {'$type' : \"string\"}, 'version': this_version }).distinct('sub_id')\n",
    "np.size(prolific_workers)\n",
    "prolific_workers"
   ]
  },
  {
   "cell_type": "code",
   "execution_count": 115,
   "metadata": {
    "collapsed": true
   },
   "outputs": [],
   "source": [
    "if (this_version == 'batch5_production_june2021'):\n",
    "    del prolific_workers[0]\n",
    "    \n",
    "if (this_version == 'batch17_production_june2021'):\n",
    "    del prolific_workers[-1]\n",
    "\n",
    "\n",
    "###### Open up variables for CSV writing\n",
    "# basic descriptors\n",
    "subID = []; \n",
    "imageName = []\n",
    "guessed_category = []\n",
    "drawn_category = []\n",
    "version = []"
   ]
  },
  {
   "cell_type": "code",
   "execution_count": null,
   "metadata": {
    "collapsed": true
   },
   "outputs": [],
   "source": []
  },
  {
   "cell_type": "code",
   "execution_count": null,
   "metadata": {
    "collapsed": true
   },
   "outputs": [],
   "source": []
  },
  {
   "cell_type": "code",
   "execution_count": 116,
   "metadata": {},
   "outputs": [
    {
     "name": "stdout",
     "output_type": "stream",
     "text": [
      "6095fc75ab1d101e060d808\n",
      "104\n",
      "60cb71bff8a2183f0d5c659\n",
      "104\n",
      "5d1ea7e579b687001af802c\n",
      "104\n",
      "606a27ecc448bcda408cee1\n",
      "104\n",
      "60b85d86147b19b7f8b0c84\n",
      "104\n",
      "607ba74574a49a21a181163\n",
      "104\n",
      "5e9c4666d28cb0023c8d43a\n",
      "104\n",
      "596c1af50e679d0001faca6\n",
      "104\n",
      "5f5eb22e58c9fb7782a6e90\n",
      "104\n",
      "5b5c3b266b25590001778ea\n",
      "104\n"
     ]
    }
   ],
   "source": [
    "for w in prolific_workers:\n",
    "    print w\n",
    "    entries = coll.find({'$and': [{'sub_id': w, 'dataType': 'recognition_rating'}]})\n",
    "    num_trials =  entries.count()\n",
    "    print num_trials\n",
    "    for e in entries:\n",
    "        subID.append(e['sub_id'])\n",
    "        imageName.append(e['imageName'])\n",
    "        guessed_category.append(e['guessed_category'])\n",
    "        drawn_category.append(e['imageCategory'])\n",
    "        version.append(e['version'])"
   ]
  },
  {
   "cell_type": "code",
   "execution_count": null,
   "metadata": {
    "collapsed": true
   },
   "outputs": [],
   "source": []
  },
  {
   "cell_type": "code",
   "execution_count": 117,
   "metadata": {
    "collapsed": true
   },
   "outputs": [],
   "source": [
    "\n",
    "## write out csv \n",
    "X_out = pd.DataFrame([subID, imageName, guessed_category, drawn_category, version])\n",
    "X_out = X_out.transpose()\n",
    "X_out.columns = ['subID','imageName', 'guessed_category','drawn_category','version']\n",
    "X_out.to_csv(os.path.join(output_dir, this_version + '.csv'))\n"
   ]
  },
  {
   "cell_type": "code",
   "execution_count": null,
   "metadata": {
    "collapsed": true
   },
   "outputs": [],
   "source": []
  },
  {
   "cell_type": "code",
   "execution_count": null,
   "metadata": {
    "collapsed": true
   },
   "outputs": [],
   "source": []
  },
  {
   "cell_type": "code",
   "execution_count": null,
   "metadata": {
    "collapsed": true
   },
   "outputs": [],
   "source": []
  },
  {
   "cell_type": "code",
   "execution_count": 41,
   "metadata": {
    "collapsed": true
   },
   "outputs": [],
   "source": [
    "# path = 'P_bird_sketch_age5_IPAD5_THU5F3.png'\n",
    "# path = 'P_airplane_sketch_age4_CDM_photodraw_e21547242197593.png'\n",
    "# condition = path.split('/')[-1].split('_')[4]\n",
    "# if path.find('CDM')!=-1:\n",
    "#     site = 'CDM'\n",
    "# else:\n",
    "#     site = 'THU'\n",
    "# site"
   ]
  },
  {
   "cell_type": "code",
   "execution_count": null,
   "metadata": {
    "collapsed": true
   },
   "outputs": [],
   "source": []
  },
  {
   "cell_type": "code",
   "execution_count": null,
   "metadata": {
    "collapsed": true
   },
   "outputs": [],
   "source": []
  },
  {
   "cell_type": "code",
   "execution_count": null,
   "metadata": {
    "collapsed": true
   },
   "outputs": [],
   "source": [
    "# mturk_id\n",
    "# assignment_id\n",
    "# trial_id\n",
    "# hit_id"
   ]
  }
 ],
 "metadata": {
  "kernelspec": {
   "display_name": "Python 2",
   "language": "python",
   "name": "python2"
  },
  "language_info": {
   "codemirror_mode": {
    "name": "ipython",
    "version": 2
   },
   "file_extension": ".py",
   "mimetype": "text/x-python",
   "name": "python",
   "nbconvert_exporter": "python",
   "pygments_lexer": "ipython2",
   "version": "2.7.3"
  }
 },
 "nbformat": 4,
 "nbformat_minor": 2
}
