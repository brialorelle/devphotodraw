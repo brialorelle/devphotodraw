{
 "cells": [
  {
   "cell_type": "code",
   "execution_count": 21,
   "metadata": {
    "collapsed": true
   },
   "outputs": [],
   "source": [
    "import os\n",
    "import csv\n",
    "import pandas as pd\n",
    "import numpy as np\n",
    "from IPython.display import clear_output\n",
    "import ast\n",
    "import pymongo as pm\n",
    "from datetime import datetime\n"
   ]
  },
  {
   "cell_type": "markdown",
   "metadata": {
    "collapsed": true
   },
   "source": [
    "### Load connection to database"
   ]
  },
  {
   "cell_type": "code",
   "execution_count": 22,
   "metadata": {
    "collapsed": true
   },
   "outputs": [],
   "source": [
    "# set vars \n",
    "auth = pd.read_csv('auth.txt', header = None) # this auth.txt file contains the password for the stanford-cogsci.org user\n",
    "pswd = auth.values[0][0]\n",
    "conn = pm.MongoClient('mongodb://stanford:' + pswd + '@127.0.0.1')"
   ]
  },
  {
   "cell_type": "code",
   "execution_count": 23,
   "metadata": {
    "collapsed": true
   },
   "outputs": [],
   "source": [
    "db = conn['devphotodraw_recognition']\n",
    "coll = db['batched_12afc']"
   ]
  },
  {
   "cell_type": "code",
   "execution_count": 24,
   "metadata": {
    "collapsed": true
   },
   "outputs": [],
   "source": [
    "# db = conn['kiddraw']\n",
    "# coll = db['check_invalid_v5_dev']\n",
    "# coll.count()"
   ]
  },
  {
   "cell_type": "code",
   "execution_count": null,
   "metadata": {
    "collapsed": true
   },
   "outputs": [],
   "source": []
  },
  {
   "cell_type": "code",
   "execution_count": null,
   "metadata": {
    "collapsed": true
   },
   "outputs": [],
   "source": []
  },
  {
   "cell_type": "code",
   "execution_count": 25,
   "metadata": {
    "collapsed": true
   },
   "outputs": [],
   "source": [
    "analysis_dir = os.getcwd()\n",
    "output_dir = os.path.join(analysis_dir,'csv_out')\n",
    "if not os.path.exists(output_dir):\n",
    "    os.makedirs(output_dir)"
   ]
  },
  {
   "cell_type": "markdown",
   "metadata": {},
   "source": [
    "### Only prolific workers have id's that are strings (parsed from url)"
   ]
  },
  {
   "cell_type": "code",
   "execution_count": 37,
   "metadata": {},
   "outputs": [
    {
     "data": {
      "text/plain": [
       "[u'60b3e20053fcb3b9523269f',\n",
       " u'5e765cac6382401cbba8a60',\n",
       " u'60c7a886807684c1543295d',\n",
       " u'5e8cf2990fa7b60ba8b4a65',\n",
       " u'60c5a4a48e9b86990001548',\n",
       " u'60c7b596fac554f65c66acb',\n",
       " u'60c725d89f51b8cbff252bb',\n",
       " u'60c3be9465aa1b3e68153df',\n",
       " u'60c76eb28fe75982f7c9145',\n",
       " u'60c5af39a32d3711a04c7b8']"
      ]
     },
     "execution_count": 37,
     "metadata": {},
     "output_type": "execute_result"
    }
   ],
   "source": [
    "# prolific_workers = coll.find({'sub_id': {'$type' : \"string\"}, 'version': 'batch1_production_june2021' }).distinct('sub_id')\n",
    "prolific_workers = coll.find({'sub_id': {'$type' : \"string\"}, 'version': 'batch2_production_june2021' }).distinct('sub_id')\n",
    "\n",
    "np.size(prolific_workers)\n",
    "prolific_workers"
   ]
  },
  {
   "cell_type": "code",
   "execution_count": 38,
   "metadata": {
    "collapsed": true
   },
   "outputs": [],
   "source": [
    "###### Open up variables for CSV writing\n",
    "# basic descriptors\n",
    "subID = []; \n",
    "imageName = []\n",
    "guessed_category = []\n",
    "drawn_category = [] "
   ]
  },
  {
   "cell_type": "code",
   "execution_count": null,
   "metadata": {},
   "outputs": [],
   "source": []
  },
  {
   "cell_type": "code",
   "execution_count": 39,
   "metadata": {},
   "outputs": [
    {
     "name": "stdout",
     "output_type": "stream",
     "text": [
      "60b3e20053fcb3b9523269f\n",
      "48\n",
      "5e765cac6382401cbba8a60\n",
      "73\n",
      "60c7a886807684c1543295d\n",
      "129\n",
      "5e8cf2990fa7b60ba8b4a65\n",
      "45\n",
      "60c5a4a48e9b86990001548\n",
      "36\n",
      "60c7b596fac554f65c66acb\n",
      "105\n",
      "60c725d89f51b8cbff252bb\n",
      "26\n",
      "60c3be9465aa1b3e68153df\n",
      "5\n",
      "60c76eb28fe75982f7c9145\n",
      "59\n",
      "60c5af39a32d3711a04c7b8\n",
      "28\n"
     ]
    }
   ],
   "source": [
    "for w in prolific_workers:\n",
    "    print w\n",
    "    entries = coll.find({'$and': [{'sub_id': w, 'dataType': 'recognition_rating'}]})\n",
    "    num_trials =  entries.count()\n",
    "    print num_trials\n",
    "    for e in entries:\n",
    "        subID.append(e['sub_id'])\n",
    "        imageName.append(e['imageName'])\n",
    "        guessed_category.append(e['guessed_category'])\n",
    "        drawn_category.append(e['imageCategory'])"
   ]
  },
  {
   "cell_type": "code",
   "execution_count": 34,
   "metadata": {},
   "outputs": [
    {
     "data": {
      "text/plain": [
       "{u'_id': ObjectId('60c7b9cfc0059952db3ba038'),\n",
       " u'dataType': u'recognition_rating',\n",
       " u'date': u'2021-06-14T20:19:27.393Z',\n",
       " u'guessed_category': u'rabbit',\n",
       " u'imageCategory': u'rabbit',\n",
       " u'imageName': u'https://stanford-cogsci.org:8880/object_drawings/P_rabbit_sketch_age8_CDM_photodraw_e21550689187843.png',\n",
       " u'sub_id': u'60c6d6b60fc74b211f17ddf',\n",
       " u'version': u'batch1_production_june2021'}"
      ]
     },
     "execution_count": 34,
     "metadata": {},
     "output_type": "execute_result"
    }
   ],
   "source": [
    "e"
   ]
  },
  {
   "cell_type": "code",
   "execution_count": 35,
   "metadata": {
    "collapsed": true
   },
   "outputs": [],
   "source": [
    "\n",
    "## write out csv \n",
    "X_out = pd.DataFrame([subID, imageName, guessed_category, drawn_category])\n",
    "X_out = X_out.transpose()\n",
    "X_out.columns = ['subID','imageName', 'guessed_category','drawn_category']\n",
    "X_out.to_csv(os.path.join(output_dir,'Devphotodraw_recognition_pilot.csv'))\n"
   ]
  },
  {
   "cell_type": "code",
   "execution_count": null,
   "metadata": {
    "collapsed": true
   },
   "outputs": [],
   "source": []
  },
  {
   "cell_type": "code",
   "execution_count": null,
   "metadata": {
    "collapsed": true
   },
   "outputs": [],
   "source": []
  },
  {
   "cell_type": "code",
   "execution_count": null,
   "metadata": {
    "collapsed": true
   },
   "outputs": [],
   "source": []
  },
  {
   "cell_type": "code",
   "execution_count": null,
   "metadata": {
    "collapsed": true
   },
   "outputs": [],
   "source": []
  },
  {
   "cell_type": "code",
   "execution_count": null,
   "metadata": {
    "collapsed": true
   },
   "outputs": [],
   "source": []
  },
  {
   "cell_type": "code",
   "execution_count": null,
   "metadata": {
    "collapsed": true
   },
   "outputs": [],
   "source": []
  },
  {
   "cell_type": "code",
   "execution_count": null,
   "metadata": {
    "collapsed": true
   },
   "outputs": [],
   "source": [
    "# mturk_id\n",
    "# assignment_id\n",
    "# trial_id\n",
    "# hit_id"
   ]
  }
 ],
 "metadata": {
  "kernelspec": {
   "display_name": "Python 2",
   "language": "python",
   "name": "python2"
  },
  "language_info": {
   "codemirror_mode": {
    "name": "ipython",
    "version": 2
   },
   "file_extension": ".py",
   "mimetype": "text/x-python",
   "name": "python",
   "nbconvert_exporter": "python",
   "pygments_lexer": "ipython2",
   "version": "2.7.3"
  }
 },
 "nbformat": 4,
 "nbformat_minor": 2
}
