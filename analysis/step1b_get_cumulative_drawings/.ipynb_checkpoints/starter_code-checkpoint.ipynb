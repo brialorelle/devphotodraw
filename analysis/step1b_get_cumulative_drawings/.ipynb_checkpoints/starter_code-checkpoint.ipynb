{
 "cells": [
  {
   "cell_type": "code",
   "execution_count": 1,
   "metadata": {
    "collapsed": true
   },
   "outputs": [],
   "source": [
    "## remember to run conn_cocolab from the terminal before running cells in this notebook!\n",
    "from __future__ import division\n",
    "import os\n",
    "import urllib, cStringIO\n",
    "\n",
    "import pymongo as pm\n",
    "from PIL import Image\n",
    "import base64\n",
    "\n",
    "import numpy as np\n",
    "from numpy import *\n",
    "import os\n",
    "import PIL\n",
    "from PIL import Image\n",
    "import base64\n",
    "import matplotlib\n",
    "from matplotlib import pylab, mlab, pyplot\n",
    "%matplotlib inline\n",
    "from IPython.core.pylabtools import figsize, getfigs\n",
    "plt = pyplot\n",
    "import seaborn as sns\n",
    "sns.set_context('poster')\n",
    "sns.set_style('white')\n",
    "from matplotlib.path import Path\n",
    "import matplotlib.patches as patches\n",
    "\n",
    "\n",
    "import cStringIO\n",
    "import pandas as pd\n",
    "import pymongo as pm ## first establish ssh tunnel to server where database is running\n",
    "from matplotlib.path import Path\n",
    "import matplotlib.patches as patches\n",
    "from svgpathtools import parse_path"
   ]
  },
  {
   "cell_type": "code",
   "execution_count": 2,
   "metadata": {
    "collapsed": true
   },
   "outputs": [],
   "source": [
    "# directory & file hierarchy\n",
    "exp_path = 'bingstation'\n",
    "analysis_dir = os.getcwd()\n",
    "exp_dir = os.path.abspath(os.path.join(os.getcwd(),'../..','experiments'))\n",
    "##\n",
    "sketch_dir = os.path.join(analysis_dir,'sketches')\n",
    "if not os.path.exists(sketch_dir):\n",
    "    os.makedirs(sketch_dir)\n",
    "## dir where we can keep all sketches not binned by category    \n"
   ]
  },
  {
   "cell_type": "code",
   "execution_count": 5,
   "metadata": {
    "collapsed": true
   },
   "outputs": [],
   "source": [
    "# set vars \n",
    "auth = pd.read_csv('auth.txt', header = None) # this auth.txt file contains the password for the sketchloop user\n",
    "pswd = auth.values[0][0]\n",
    "user = 'sketchloop'\n",
    "host = 'rxdhawkins.me' ## cocolab ip address\n",
    "\n",
    "# have to fix this to be able to analyze from local\n",
    "import pymongo as pm\n",
    "experiment_name = \"Bingrun_v1\"\n",
    "conn = pm.MongoClient('mongodb://sketchloop:' + pswd + '@127.0.0.1')\n",
    "db = conn['kiddraw']\n",
    "coll = db[experiment_name]\n"
   ]
  },
  {
   "cell_type": "code",
   "execution_count": 6,
   "metadata": {},
   "outputs": [
    {
     "name": "stdout",
     "output_type": "stream",
     "text": [
      "We currently have 129 valid sessions from Bingrun_v1.\n"
     ]
    }
   ],
   "source": [
    "all_sessions = coll.distinct('sessionId') ## this returns ALL sessions in this collection. \n",
    "valid_sessions = coll.find().distinct('sessionId')\n",
    "practice_categories = ['square','shape','this circle']\n",
    "print 'We currently have {} valid sessions from {}.'.format(len(valid_sessions), experiment_name)"
   ]
  },
  {
   "cell_type": "code",
   "execution_count": null,
   "metadata": {
    "collapsed": true
   },
   "outputs": [],
   "source": []
  },
  {
   "cell_type": "markdown",
   "metadata": {},
   "source": [
    "#### helper functions for svg rendering"
   ]
  },
  {
   "cell_type": "code",
   "execution_count": 7,
   "metadata": {
    "collapsed": true
   },
   "outputs": [],
   "source": [
    "def polyline_pathmaker(lines):\n",
    "    x = []\n",
    "    y = []\n",
    "\n",
    "    codes = [Path.MOVETO] # start with moveto command always\n",
    "    for i,l in enumerate(lines):\n",
    "        for _i,_l in enumerate(l):\n",
    "            x.append(_l[0])\n",
    "            y.append(_l[1])\n",
    "            if _i<len(l)-1:\n",
    "                codes.append(Path.LINETO) # keep pen on page\n",
    "            else:\n",
    "                if i != len(lines)-1: # final vertex\n",
    "                    codes.append(Path.MOVETO)\n",
    "    verts = zip(x,y) \n",
    "    return verts, codes\n",
    "\n",
    "def path_renderer(verts, codes):\n",
    "    fig = plt.figure(figsize=(6,6))\n",
    "    ax = fig.add_subplot(111)\n",
    "    if len(verts)>0:\n",
    "        path = Path(verts, codes)\n",
    "        patch = patches.PathPatch(path, facecolor='none', lw=2)\n",
    "        ax.add_patch(patch)\n",
    "        ax.set_xlim(0,1638)\n",
    "        ax.set_ylim(0,1638) \n",
    "        ax.axis('off')\n",
    "        plt.gca().invert_yaxis() # y values increase as you go down in image\n",
    "        plt.show()\n",
    "    else:\n",
    "        ax.set_xlim(0,1638)\n",
    "        ax.set_ylim(0,1638)        \n",
    "        ax.axis('off')\n",
    "        plt.show()\n",
    "    plt.savefig()\n",
    "    plt.close()\n",
    "    \n",
    "def flatten(x):\n",
    "    return [val for sublist in x for val in sublist]"
   ]
  },
  {
   "cell_type": "code",
   "execution_count": 28,
   "metadata": {
    "collapsed": true
   },
   "outputs": [],
   "source": [
    "def get_verts_and_codes(svg_list):\n",
    "    '''\n",
    "    parse into x,y coordinates and output list of lists of coordinates\n",
    "    \n",
    "    '''    \n",
    "    lines = []\n",
    "    Verts = []\n",
    "    Codes = []\n",
    "    for stroke_ind,stroke in enumerate(svg_list):\n",
    "        x = []\n",
    "        y = []\n",
    "        parsed = parse_path(stroke)\n",
    "        for i,p in enumerate(parsed):\n",
    "            if i!=len(parsed)-1: # last line segment\n",
    "                x.append(p.start.real)\n",
    "                y.append(p.start.imag)    \n",
    "            else:\n",
    "                x.append(p.start.real)\n",
    "                y.append(p.start.imag)     \n",
    "                x.append(p.end.real)\n",
    "                y.append(p.end.imag)\n",
    "        lines.append(zip(x,y))\n",
    "        verts, codes = polyline_pathmaker(lines)\n",
    "        Verts.append(verts)\n",
    "        Codes.append(codes) \n",
    "    return Verts, Codes\n",
    "    \n",
    "def make_svg_list(stroke_recs):\n",
    "    '''\n",
    "    grab sample drawing's strokes and make a list of svg strings from it\n",
    "    '''\n",
    "    svg_list = []\n",
    "    for single_stroke in stroke_recs:\n",
    "        svg_string = single_stroke['svg']\n",
    "        svg_list.append(svg_string)  \n",
    "        \n",
    "    return svg_list\n",
    "    \n",
    "    \n",
    "def render_and_save(Verts,\n",
    "                    Codes,\n",
    "                    line_width=5,\n",
    "                    imsize=6,\n",
    "                    canvas_size=809,\n",
    "                    session_id='SESSION_ID',\n",
    "                    kidName='KIDNAME',\n",
    "                    trial_num='TRIAL_NUM',\n",
    "                    category='CATEGORY'):\n",
    "    \n",
    "    '''\n",
    "    input: \n",
    "        line_width: how wide of strokes do we want? (int)\n",
    "        imsize: how big of a picture do we want? (setting the size of the figure) \n",
    "        canvas_size: original canvas size on tablet?\n",
    "        out_path: where do you want to save your images? currently hardcoded below.        \n",
    "    output:\n",
    "        rendered sketches into nested directories\n",
    "    \n",
    "    '''\n",
    "    ## where do you want to save your cumulative drawings?\n",
    "    out_path = os.path.join('./cumulative_drawings','{}_{}'.format(kidName,session_id),'{}_{}'.format(trial_num,category))\n",
    "    if not os.path.exists('./cumulative_drawings'):\n",
    "        os.makedirs('./cumulative_drawings')\n",
    "    if not os.path.exists(os.path.join('cumulative_drawings','{}_{}'.format(kidName,session_id))):\n",
    "        os.makedirs(os.path.join('cumulative_drawings','{}_{}'.format(kidName,session_id)))\n",
    "\n",
    "    verts = Verts[0]\n",
    "    codes = Codes[0]\n",
    "    for i,verts in enumerate(Verts):\n",
    "        codes = Codes[i]\n",
    "        fig = plt.figure(figsize=(imsize,imsize), frameon=False)    \n",
    "        ax = plt.subplot(111)\n",
    "        ax.axis('off')\n",
    "        ax.set_xlim(0,canvas_size)\n",
    "        ax.set_ylim(0,canvas_size)\n",
    "        \n",
    "        # remove padding for xaxis and y axis\n",
    "        ax.axes.get_xaxis().set_visible(False)\n",
    "        ax.axes.get_yaxis().set_visible(False)\n",
    "        # remove further paddings\n",
    "        plt.subplots_adjust(top = 1, bottom = 0, right = 1, left = 0, \n",
    "            hspace = 0, wspace = 0)\n",
    "        \n",
    "        ### render sketch so far\n",
    "        if len(verts)>0:\n",
    "            path = Path(verts, codes)\n",
    "            patch = patches.PathPatch(path, facecolor='none', lw=line_width)\n",
    "            ax.add_patch(patch)\n",
    "            plt.gca().invert_yaxis() # y values increase as you go down in image\n",
    "#             plt.show()\n",
    "\n",
    "\n",
    "        ## save out as png \n",
    "        ## maybe to make it not render every single thing, use plt.ioff\n",
    "        if not os.path.exists(out_path):\n",
    "            os.makedirs(out_path)\n",
    "        fname = '{}_{}_{}_{}.png'.format(session_id,trial_num,category,i)\n",
    "        filepath = os.path.join(out_path,fname)\n",
    "        print filepath\n",
    "        \n",
    "        fig.savefig(filepath, bbox_inches='tight', pad_inches=0.0)\n",
    "        plt.close(fig)        "
   ]
  },
  {
   "cell_type": "code",
   "execution_count": 29,
   "metadata": {},
   "outputs": [
    {
     "data": {
      "text/plain": [
       "44"
      ]
     },
     "execution_count": 29,
     "metadata": {},
     "output_type": "execute_result"
    }
   ],
   "source": [
    "these_image_recs = coll.find({'$and': [{'dataType':'finalImage'},{'category':'a car'}]}).sort('time')\n",
    "these_image_recs.count()\n",
    "# these_image_recs[0]"
   ]
  },
  {
   "cell_type": "code",
   "execution_count": 30,
   "metadata": {},
   "outputs": [
    {
     "name": "stdout",
     "output_type": "stream",
     "text": [
      "BRIA LONG\n",
      "./cumulative_drawings/BRIA LONG_Bingrun_v11525657417830/10_a car/Bingrun_v11525657417830_10_a car_0.png\n",
      "./cumulative_drawings/BRIA LONG_Bingrun_v11525657417830/10_a car/Bingrun_v11525657417830_10_a car_1.png\n",
      "./cumulative_drawings/BRIA LONG_Bingrun_v11525657417830/10_a car/Bingrun_v11525657417830_10_a car_2.png\n",
      "./cumulative_drawings/BRIA LONG_Bingrun_v11525657417830/10_a car/Bingrun_v11525657417830_10_a car_3.png\n",
      "./cumulative_drawings/BRIA LONG_Bingrun_v11525657417830/10_a car/Bingrun_v11525657417830_10_a car_4.png\n",
      "./cumulative_drawings/BRIA LONG_Bingrun_v11525657417830/10_a car/Bingrun_v11525657417830_10_a car_5.png\n",
      "./cumulative_drawings/BRIA LONG_Bingrun_v11525657417830/10_a car/Bingrun_v11525657417830_10_a car_6.png\n",
      "./cumulative_drawings/BRIA LONG_Bingrun_v11525657417830/10_a car/Bingrun_v11525657417830_10_a car_7.png\n",
      "./cumulative_drawings/BRIA LONG_Bingrun_v11525657417830/10_a car/Bingrun_v11525657417830_10_a car_8.png\n",
      "./cumulative_drawings/BRIA LONG_Bingrun_v11525657417830/10_a car/Bingrun_v11525657417830_10_a car_9.png\n",
      "./cumulative_drawings/BRIA LONG_Bingrun_v11525657417830/10_a car/Bingrun_v11525657417830_10_a car_10.png\n",
      "./cumulative_drawings/BRIA LONG_Bingrun_v11525657417830/10_a car/Bingrun_v11525657417830_10_a car_11.png\n",
      "./cumulative_drawings/BRIA LONG_Bingrun_v11525657417830/10_a car/Bingrun_v11525657417830_10_a car_12.png\n",
      "./cumulative_drawings/BRIA LONG_Bingrun_v11525657417830/10_a car/Bingrun_v11525657417830_10_a car_13.png\n",
      "./cumulative_drawings/BRIA LONG_Bingrun_v11525657417830/10_a car/Bingrun_v11525657417830_10_a car_14.png\n",
      "BRIA LONG\n",
      "./cumulative_drawings/BRIA LONG_Bingrun_v11525847766125/9_a car/Bingrun_v11525847766125_9_a car_0.png\n",
      "./cumulative_drawings/BRIA LONG_Bingrun_v11525847766125/9_a car/Bingrun_v11525847766125_9_a car_1.png\n",
      "./cumulative_drawings/BRIA LONG_Bingrun_v11525847766125/9_a car/Bingrun_v11525847766125_9_a car_2.png\n",
      "./cumulative_drawings/BRIA LONG_Bingrun_v11525847766125/9_a car/Bingrun_v11525847766125_9_a car_3.png\n",
      "./cumulative_drawings/BRIA LONG_Bingrun_v11525847766125/9_a car/Bingrun_v11525847766125_9_a car_4.png\n",
      "./cumulative_drawings/BRIA LONG_Bingrun_v11525847766125/9_a car/Bingrun_v11525847766125_9_a car_5.png\n",
      "./cumulative_drawings/BRIA LONG_Bingrun_v11525847766125/9_a car/Bingrun_v11525847766125_9_a car_6.png\n",
      "./cumulative_drawings/BRIA LONG_Bingrun_v11525847766125/9_a car/Bingrun_v11525847766125_9_a car_7.png\n",
      "./cumulative_drawings/BRIA LONG_Bingrun_v11525847766125/9_a car/Bingrun_v11525847766125_9_a car_8.png\n",
      "./cumulative_drawings/BRIA LONG_Bingrun_v11525847766125/9_a car/Bingrun_v11525847766125_9_a car_9.png\n",
      "./cumulative_drawings/BRIA LONG_Bingrun_v11525847766125/9_a car/Bingrun_v11525847766125_9_a car_10.png\n",
      "./cumulative_drawings/BRIA LONG_Bingrun_v11525847766125/9_a car/Bingrun_v11525847766125_9_a car_11.png\n",
      "./cumulative_drawings/BRIA LONG_Bingrun_v11525847766125/9_a car/Bingrun_v11525847766125_9_a car_12.png\n",
      "./cumulative_drawings/BRIA LONG_Bingrun_v11525847766125/9_a car/Bingrun_v11525847766125_9_a car_13.png\n",
      "./cumulative_drawings/BRIA LONG_Bingrun_v11525847766125/9_a car/Bingrun_v11525847766125_9_a car_14.png\n",
      "./cumulative_drawings/BRIA LONG_Bingrun_v11525847766125/9_a car/Bingrun_v11525847766125_9_a car_15.png\n",
      "./cumulative_drawings/BRIA LONG_Bingrun_v11525847766125/9_a car/Bingrun_v11525847766125_9_a car_16.png\n",
      "Oops, something went wrong! Here is the error:\n",
      "'codes' must be a 1D list or array with the same length of 'vertices'\n",
      "BRIA LONG\n",
      "./cumulative_drawings/BRIA LONG_Bingrun_v11525849049897/4_a car/Bingrun_v11525849049897_4_a car_0.png\n",
      "./cumulative_drawings/BRIA LONG_Bingrun_v11525849049897/4_a car/Bingrun_v11525849049897_4_a car_1.png\n",
      "./cumulative_drawings/BRIA LONG_Bingrun_v11525849049897/4_a car/Bingrun_v11525849049897_4_a car_2.png\n",
      "./cumulative_drawings/BRIA LONG_Bingrun_v11525849049897/4_a car/Bingrun_v11525849049897_4_a car_3.png\n",
      "./cumulative_drawings/BRIA LONG_Bingrun_v11525849049897/4_a car/Bingrun_v11525849049897_4_a car_4.png\n",
      "./cumulative_drawings/BRIA LONG_Bingrun_v11525849049897/4_a car/Bingrun_v11525849049897_4_a car_5.png\n",
      "./cumulative_drawings/BRIA LONG_Bingrun_v11525849049897/4_a car/Bingrun_v11525849049897_4_a car_6.png\n",
      "./cumulative_drawings/BRIA LONG_Bingrun_v11525849049897/4_a car/Bingrun_v11525849049897_4_a car_7.png\n",
      "./cumulative_drawings/BRIA LONG_Bingrun_v11525849049897/4_a car/Bingrun_v11525849049897_4_a car_8.png\n",
      "Oops, something went wrong! Here is the error:\n",
      "'codes' must be a 1D list or array with the same length of 'vertices'\n",
      "MARIA COSOVANU\n",
      "./cumulative_drawings/MARIA COSOVANU_Bingrun_v11525879753710/5_a car/Bingrun_v11525879753710_5_a car_0.png\n",
      "./cumulative_drawings/MARIA COSOVANU_Bingrun_v11525879753710/5_a car/Bingrun_v11525879753710_5_a car_1.png\n",
      "./cumulative_drawings/MARIA COSOVANU_Bingrun_v11525879753710/5_a car/Bingrun_v11525879753710_5_a car_2.png\n",
      "./cumulative_drawings/MARIA COSOVANU_Bingrun_v11525879753710/5_a car/Bingrun_v11525879753710_5_a car_3.png\n",
      "./cumulative_drawings/MARIA COSOVANU_Bingrun_v11525879753710/5_a car/Bingrun_v11525879753710_5_a car_4.png\n",
      "./cumulative_drawings/MARIA COSOVANU_Bingrun_v11525879753710/5_a car/Bingrun_v11525879753710_5_a car_5.png\n",
      "./cumulative_drawings/MARIA COSOVANU_Bingrun_v11525879753710/5_a car/Bingrun_v11525879753710_5_a car_6.png\n",
      "./cumulative_drawings/MARIA COSOVANU_Bingrun_v11525879753710/5_a car/Bingrun_v11525879753710_5_a car_7.png\n",
      "TARA SRIDHAR\n",
      "./cumulative_drawings/TARA SRIDHAR_Bingrun_v11525880420206/10_a car/Bingrun_v11525880420206_10_a car_0.png\n",
      "./cumulative_drawings/TARA SRIDHAR_Bingrun_v11525880420206/10_a car/Bingrun_v11525880420206_10_a car_1.png\n",
      "./cumulative_drawings/TARA SRIDHAR_Bingrun_v11525880420206/10_a car/Bingrun_v11525880420206_10_a car_2.png\n",
      "./cumulative_drawings/TARA SRIDHAR_Bingrun_v11525880420206/10_a car/Bingrun_v11525880420206_10_a car_3.png\n",
      "./cumulative_drawings/TARA SRIDHAR_Bingrun_v11525880420206/10_a car/Bingrun_v11525880420206_10_a car_4.png\n",
      "./cumulative_drawings/TARA SRIDHAR_Bingrun_v11525880420206/10_a car/Bingrun_v11525880420206_10_a car_5.png\n",
      "./cumulative_drawings/TARA SRIDHAR_Bingrun_v11525880420206/10_a car/Bingrun_v11525880420206_10_a car_6.png\n",
      "NICK ASHJAEE\n",
      "./cumulative_drawings/NICK ASHJAEE_Bingrun_v11525880858379/7_a car/Bingrun_v11525880858379_7_a car_0.png\n",
      "./cumulative_drawings/NICK ASHJAEE_Bingrun_v11525880858379/7_a car/Bingrun_v11525880858379_7_a car_1.png\n",
      "./cumulative_drawings/NICK ASHJAEE_Bingrun_v11525880858379/7_a car/Bingrun_v11525880858379_7_a car_2.png\n",
      "NICK ASHJAEE\n",
      "./cumulative_drawings/NICK ASHJAEE_Bingrun_v11525881524621/8_a car/Bingrun_v11525881524621_8_a car_0.png\n",
      "./cumulative_drawings/NICK ASHJAEE_Bingrun_v11525881524621/8_a car/Bingrun_v11525881524621_8_a car_1.png\n",
      "./cumulative_drawings/NICK ASHJAEE_Bingrun_v11525881524621/8_a car/Bingrun_v11525881524621_8_a car_2.png\n",
      "EMILIA FADIL\n",
      "./cumulative_drawings/EMILIA FADIL_Bingrun_v11525882544307/9_a car/Bingrun_v11525882544307_9_a car_0.png\n",
      "./cumulative_drawings/EMILIA FADIL_Bingrun_v11525882544307/9_a car/Bingrun_v11525882544307_9_a car_1.png\n",
      "./cumulative_drawings/EMILIA FADIL_Bingrun_v11525882544307/9_a car/Bingrun_v11525882544307_9_a car_2.png\n",
      "./cumulative_drawings/EMILIA FADIL_Bingrun_v11525882544307/9_a car/Bingrun_v11525882544307_9_a car_3.png\n",
      "./cumulative_drawings/EMILIA FADIL_Bingrun_v11525882544307/9_a car/Bingrun_v11525882544307_9_a car_4.png\n",
      "./cumulative_drawings/EMILIA FADIL_Bingrun_v11525882544307/9_a car/Bingrun_v11525882544307_9_a car_5.png\n",
      "./cumulative_drawings/EMILIA FADIL_Bingrun_v11525882544307/9_a car/Bingrun_v11525882544307_9_a car_6.png\n",
      "./cumulative_drawings/EMILIA FADIL_Bingrun_v11525882544307/9_a car/Bingrun_v11525882544307_9_a car_7.png\n",
      "./cumulative_drawings/EMILIA FADIL_Bingrun_v11525882544307/9_a car/Bingrun_v11525882544307_9_a car_8.png\n",
      "./cumulative_drawings/EMILIA FADIL_Bingrun_v11525882544307/9_a car/Bingrun_v11525882544307_9_a car_9.png\n",
      "./cumulative_drawings/EMILIA FADIL_Bingrun_v11525882544307/9_a car/Bingrun_v11525882544307_9_a car_10.png\n",
      "./cumulative_drawings/EMILIA FADIL_Bingrun_v11525882544307/9_a car/Bingrun_v11525882544307_9_a car_11.png\n",
      "./cumulative_drawings/EMILIA FADIL_Bingrun_v11525882544307/9_a car/Bingrun_v11525882544307_9_a car_12.png\n",
      "./cumulative_drawings/EMILIA FADIL_Bingrun_v11525882544307/9_a car/Bingrun_v11525882544307_9_a car_13.png\n",
      "./cumulative_drawings/EMILIA FADIL_Bingrun_v11525882544307/9_a car/Bingrun_v11525882544307_9_a car_14.png\n"
     ]
    },
    {
     "name": "stdout",
     "output_type": "stream",
     "text": [
      "ZABELLE DUNN\n",
      "./cumulative_drawings/ZABELLE DUNN_Bingrun_v11525882903685/10_a car/Bingrun_v11525882903685_10_a car_0.png\n",
      "Oops, something went wrong! Here is the error:\n",
      "'codes' must be a 1D list or array with the same length of 'vertices'\n",
      "MINNA SMITH\n",
      "./cumulative_drawings/MINNA SMITH_Bingrun_v11525883716391/5_a car/Bingrun_v11525883716391_5_a car_0.png\n",
      "./cumulative_drawings/MINNA SMITH_Bingrun_v11525883716391/5_a car/Bingrun_v11525883716391_5_a car_1.png\n",
      "./cumulative_drawings/MINNA SMITH_Bingrun_v11525883716391/5_a car/Bingrun_v11525883716391_5_a car_2.png\n",
      "./cumulative_drawings/MINNA SMITH_Bingrun_v11525883716391/5_a car/Bingrun_v11525883716391_5_a car_3.png\n",
      "./cumulative_drawings/MINNA SMITH_Bingrun_v11525883716391/5_a car/Bingrun_v11525883716391_5_a car_4.png\n",
      "./cumulative_drawings/MINNA SMITH_Bingrun_v11525883716391/5_a car/Bingrun_v11525883716391_5_a car_5.png\n",
      "./cumulative_drawings/MINNA SMITH_Bingrun_v11525883716391/5_a car/Bingrun_v11525883716391_5_a car_6.png\n",
      "NOLAN SUE\n",
      "./cumulative_drawings/NOLAN SUE_Bingrun_v11525885117537/3_a car/Bingrun_v11525885117537_3_a car_0.png\n",
      "./cumulative_drawings/NOLAN SUE_Bingrun_v11525885117537/3_a car/Bingrun_v11525885117537_3_a car_1.png\n",
      "./cumulative_drawings/NOLAN SUE_Bingrun_v11525885117537/3_a car/Bingrun_v11525885117537_3_a car_2.png\n",
      "./cumulative_drawings/NOLAN SUE_Bingrun_v11525885117537/3_a car/Bingrun_v11525885117537_3_a car_3.png\n",
      "./cumulative_drawings/NOLAN SUE_Bingrun_v11525885117537/3_a car/Bingrun_v11525885117537_3_a car_4.png\n",
      "./cumulative_drawings/NOLAN SUE_Bingrun_v11525885117537/3_a car/Bingrun_v11525885117537_3_a car_5.png\n",
      "./cumulative_drawings/NOLAN SUE_Bingrun_v11525885117537/3_a car/Bingrun_v11525885117537_3_a car_6.png\n",
      "./cumulative_drawings/NOLAN SUE_Bingrun_v11525885117537/3_a car/Bingrun_v11525885117537_3_a car_7.png\n",
      "./cumulative_drawings/NOLAN SUE_Bingrun_v11525885117537/3_a car/Bingrun_v11525885117537_3_a car_8.png\n",
      "./cumulative_drawings/NOLAN SUE_Bingrun_v11525885117537/3_a car/Bingrun_v11525885117537_3_a car_9.png\n",
      "./cumulative_drawings/NOLAN SUE_Bingrun_v11525885117537/3_a car/Bingrun_v11525885117537_3_a car_10.png\n",
      "./cumulative_drawings/NOLAN SUE_Bingrun_v11525885117537/3_a car/Bingrun_v11525885117537_3_a car_11.png\n",
      "Oops, something went wrong! Here is the error:\n",
      "'codes' must be a 1D list or array with the same length of 'vertices'\n",
      "KATHARINE ROOSEVELT\n",
      "./cumulative_drawings/KATHARINE ROOSEVELT_Bingrun_v11525885424004/5_a car/Bingrun_v11525885424004_5_a car_0.png\n",
      "./cumulative_drawings/KATHARINE ROOSEVELT_Bingrun_v11525885424004/5_a car/Bingrun_v11525885424004_5_a car_1.png\n",
      "./cumulative_drawings/KATHARINE ROOSEVELT_Bingrun_v11525885424004/5_a car/Bingrun_v11525885424004_5_a car_2.png\n",
      "./cumulative_drawings/KATHARINE ROOSEVELT_Bingrun_v11525885424004/5_a car/Bingrun_v11525885424004_5_a car_3.png\n",
      "./cumulative_drawings/KATHARINE ROOSEVELT_Bingrun_v11525885424004/5_a car/Bingrun_v11525885424004_5_a car_4.png\n",
      "./cumulative_drawings/KATHARINE ROOSEVELT_Bingrun_v11525885424004/5_a car/Bingrun_v11525885424004_5_a car_5.png\n",
      "./cumulative_drawings/KATHARINE ROOSEVELT_Bingrun_v11525885424004/5_a car/Bingrun_v11525885424004_5_a car_6.png\n",
      "./cumulative_drawings/KATHARINE ROOSEVELT_Bingrun_v11525885424004/5_a car/Bingrun_v11525885424004_5_a car_7.png\n",
      "./cumulative_drawings/KATHARINE ROOSEVELT_Bingrun_v11525885424004/5_a car/Bingrun_v11525885424004_5_a car_8.png\n",
      "./cumulative_drawings/KATHARINE ROOSEVELT_Bingrun_v11525885424004/5_a car/Bingrun_v11525885424004_5_a car_9.png\n",
      "JAXI ZHU\n",
      "./cumulative_drawings/JAXI ZHU_Bingrun_v11525885915341/5_a car/Bingrun_v11525885915341_5_a car_0.png\n",
      "./cumulative_drawings/JAXI ZHU_Bingrun_v11525885915341/5_a car/Bingrun_v11525885915341_5_a car_1.png\n",
      "./cumulative_drawings/JAXI ZHU_Bingrun_v11525885915341/5_a car/Bingrun_v11525885915341_5_a car_2.png\n",
      "./cumulative_drawings/JAXI ZHU_Bingrun_v11525885915341/5_a car/Bingrun_v11525885915341_5_a car_3.png\n",
      "./cumulative_drawings/JAXI ZHU_Bingrun_v11525885915341/5_a car/Bingrun_v11525885915341_5_a car_4.png\n",
      "./cumulative_drawings/JAXI ZHU_Bingrun_v11525885915341/5_a car/Bingrun_v11525885915341_5_a car_5.png\n",
      "./cumulative_drawings/JAXI ZHU_Bingrun_v11525885915341/5_a car/Bingrun_v11525885915341_5_a car_6.png\n",
      "./cumulative_drawings/JAXI ZHU_Bingrun_v11525885915341/5_a car/Bingrun_v11525885915341_5_a car_7.png\n",
      "./cumulative_drawings/JAXI ZHU_Bingrun_v11525885915341/5_a car/Bingrun_v11525885915341_5_a car_8.png\n",
      "./cumulative_drawings/JAXI ZHU_Bingrun_v11525885915341/5_a car/Bingrun_v11525885915341_5_a car_9.png\n",
      "./cumulative_drawings/JAXI ZHU_Bingrun_v11525885915341/5_a car/Bingrun_v11525885915341_5_a car_10.png\n",
      "./cumulative_drawings/JAXI ZHU_Bingrun_v11525885915341/5_a car/Bingrun_v11525885915341_5_a car_11.png\n",
      "./cumulative_drawings/JAXI ZHU_Bingrun_v11525885915341/5_a car/Bingrun_v11525885915341_5_a car_12.png\n",
      "./cumulative_drawings/JAXI ZHU_Bingrun_v11525885915341/5_a car/Bingrun_v11525885915341_5_a car_13.png\n",
      "./cumulative_drawings/JAXI ZHU_Bingrun_v11525885915341/5_a car/Bingrun_v11525885915341_5_a car_14.png\n",
      "BRIA LONG\n",
      "./cumulative_drawings/BRIA LONG_Bingrun_v11525886232127/4_a car/Bingrun_v11525886232127_4_a car_0.png\n",
      "./cumulative_drawings/BRIA LONG_Bingrun_v11525886232127/4_a car/Bingrun_v11525886232127_4_a car_1.png\n",
      "./cumulative_drawings/BRIA LONG_Bingrun_v11525886232127/4_a car/Bingrun_v11525886232127_4_a car_2.png\n",
      "./cumulative_drawings/BRIA LONG_Bingrun_v11525886232127/4_a car/Bingrun_v11525886232127_4_a car_3.png\n",
      "./cumulative_drawings/BRIA LONG_Bingrun_v11525886232127/4_a car/Bingrun_v11525886232127_4_a car_4.png\n",
      "./cumulative_drawings/BRIA LONG_Bingrun_v11525886232127/4_a car/Bingrun_v11525886232127_4_a car_5.png\n",
      "TEST TEST\n",
      "./cumulative_drawings/TEST TEST_Bingrun_v11525896797273/3_a car/Bingrun_v11525896797273_3_a car_0.png\n",
      "./cumulative_drawings/TEST TEST_Bingrun_v11525896797273/3_a car/Bingrun_v11525896797273_3_a car_1.png\n",
      "./cumulative_drawings/TEST TEST_Bingrun_v11525896797273/3_a car/Bingrun_v11525896797273_3_a car_2.png\n",
      "./cumulative_drawings/TEST TEST_Bingrun_v11525896797273/3_a car/Bingrun_v11525896797273_3_a car_3.png\n",
      "RUBY KEYS\n",
      "./cumulative_drawings/RUBY KEYS_Bingrun_v11526088111963/5_a car/Bingrun_v11526088111963_5_a car_0.png\n",
      "./cumulative_drawings/RUBY KEYS_Bingrun_v11526088111963/5_a car/Bingrun_v11526088111963_5_a car_1.png\n",
      "./cumulative_drawings/RUBY KEYS_Bingrun_v11526088111963/5_a car/Bingrun_v11526088111963_5_a car_2.png\n",
      "./cumulative_drawings/RUBY KEYS_Bingrun_v11526088111963/5_a car/Bingrun_v11526088111963_5_a car_3.png\n",
      "./cumulative_drawings/RUBY KEYS_Bingrun_v11526088111963/5_a car/Bingrun_v11526088111963_5_a car_4.png\n",
      "Oops, something went wrong! Here is the error:\n",
      "'codes' must be a 1D list or array with the same length of 'vertices'\n",
      "Oops, something went wrong! Here is the error:\n",
      "'kidName'\n",
      "TEDDY \n",
      "./cumulative_drawings/TEDDY _Bingrun_v11527098471878/6_a car/Bingrun_v11527098471878_6_a car_0.png\n",
      "./cumulative_drawings/TEDDY _Bingrun_v11527098471878/6_a car/Bingrun_v11527098471878_6_a car_1.png\n",
      "./cumulative_drawings/TEDDY _Bingrun_v11527098471878/6_a car/Bingrun_v11527098471878_6_a car_2.png\n",
      "./cumulative_drawings/TEDDY _Bingrun_v11527098471878/6_a car/Bingrun_v11527098471878_6_a car_3.png\n",
      "Oops, something went wrong! Here is the error:\n",
      "'kidName'\n",
      "Oops, something went wrong! Here is the error:\n",
      "'kidName'\n",
      "Oops, something went wrong! Here is the error:\n",
      "'kidName'\n",
      "AIDEN \n",
      "./cumulative_drawings/AIDEN _Bingrun_v11527181732189/3_a car/Bingrun_v11527181732189_3_a car_0.png\n",
      "./cumulative_drawings/AIDEN _Bingrun_v11527181732189/3_a car/Bingrun_v11527181732189_3_a car_1.png\n",
      "./cumulative_drawings/AIDEN _Bingrun_v11527181732189/3_a car/Bingrun_v11527181732189_3_a car_2.png\n",
      "FORREST CHANG\n",
      "./cumulative_drawings/FORREST CHANG_Bingrun_v11528216390968/3_a car/Bingrun_v11528216390968_3_a car_0.png\n",
      "./cumulative_drawings/FORREST CHANG_Bingrun_v11528216390968/3_a car/Bingrun_v11528216390968_3_a car_1.png\n",
      "./cumulative_drawings/FORREST CHANG_Bingrun_v11528216390968/3_a car/Bingrun_v11528216390968_3_a car_2.png\n",
      "./cumulative_drawings/FORREST CHANG_Bingrun_v11528216390968/3_a car/Bingrun_v11528216390968_3_a car_3.png\n",
      "./cumulative_drawings/FORREST CHANG_Bingrun_v11528216390968/3_a car/Bingrun_v11528216390968_3_a car_4.png\n",
      "./cumulative_drawings/FORREST CHANG_Bingrun_v11528216390968/3_a car/Bingrun_v11528216390968_3_a car_5.png\n",
      "./cumulative_drawings/FORREST CHANG_Bingrun_v11528216390968/3_a car/Bingrun_v11528216390968_3_a car_6.png\n"
     ]
    },
    {
     "name": "stdout",
     "output_type": "stream",
     "text": [
      "./cumulative_drawings/FORREST CHANG_Bingrun_v11528216390968/3_a car/Bingrun_v11528216390968_3_a car_7.png\n",
      "Oops, something went wrong! Here is the error:\n",
      "'codes' must be a 1D list or array with the same length of 'vertices'\n",
      "ROISIN CASEY\n",
      "./cumulative_drawings/ROISIN CASEY_Bingrun_v11528226629392/9_a car/Bingrun_v11528226629392_9_a car_0.png\n",
      "./cumulative_drawings/ROISIN CASEY_Bingrun_v11528226629392/9_a car/Bingrun_v11528226629392_9_a car_1.png\n",
      "./cumulative_drawings/ROISIN CASEY_Bingrun_v11528226629392/9_a car/Bingrun_v11528226629392_9_a car_2.png\n",
      "./cumulative_drawings/ROISIN CASEY_Bingrun_v11528226629392/9_a car/Bingrun_v11528226629392_9_a car_3.png\n",
      "./cumulative_drawings/ROISIN CASEY_Bingrun_v11528226629392/9_a car/Bingrun_v11528226629392_9_a car_4.png\n",
      "./cumulative_drawings/ROISIN CASEY_Bingrun_v11528226629392/9_a car/Bingrun_v11528226629392_9_a car_5.png\n",
      "./cumulative_drawings/ROISIN CASEY_Bingrun_v11528226629392/9_a car/Bingrun_v11528226629392_9_a car_6.png\n",
      "./cumulative_drawings/ROISIN CASEY_Bingrun_v11528226629392/9_a car/Bingrun_v11528226629392_9_a car_7.png\n",
      "./cumulative_drawings/ROISIN CASEY_Bingrun_v11528226629392/9_a car/Bingrun_v11528226629392_9_a car_8.png\n",
      "./cumulative_drawings/ROISIN CASEY_Bingrun_v11528226629392/9_a car/Bingrun_v11528226629392_9_a car_9.png\n",
      "./cumulative_drawings/ROISIN CASEY_Bingrun_v11528226629392/9_a car/Bingrun_v11528226629392_9_a car_10.png\n",
      "./cumulative_drawings/ROISIN CASEY_Bingrun_v11528226629392/9_a car/Bingrun_v11528226629392_9_a car_11.png\n",
      "./cumulative_drawings/ROISIN CASEY_Bingrun_v11528226629392/9_a car/Bingrun_v11528226629392_9_a car_12.png\n",
      "./cumulative_drawings/ROISIN CASEY_Bingrun_v11528226629392/9_a car/Bingrun_v11528226629392_9_a car_13.png\n",
      "./cumulative_drawings/ROISIN CASEY_Bingrun_v11528226629392/9_a car/Bingrun_v11528226629392_9_a car_14.png\n",
      "./cumulative_drawings/ROISIN CASEY_Bingrun_v11528226629392/9_a car/Bingrun_v11528226629392_9_a car_15.png\n",
      "SAM  \n",
      "./cumulative_drawings/SAM  _Bingrun_v11528302177421/7_a car/Bingrun_v11528302177421_7_a car_0.png\n",
      "./cumulative_drawings/SAM  _Bingrun_v11528302177421/7_a car/Bingrun_v11528302177421_7_a car_1.png\n",
      "MARCELO \n",
      "./cumulative_drawings/MARCELO _Bingrun_v11528302404055/5_a car/Bingrun_v11528302404055_5_a car_0.png\n",
      "./cumulative_drawings/MARCELO _Bingrun_v11528302404055/5_a car/Bingrun_v11528302404055_5_a car_1.png\n",
      "./cumulative_drawings/MARCELO _Bingrun_v11528302404055/5_a car/Bingrun_v11528302404055_5_a car_2.png\n",
      "./cumulative_drawings/MARCELO _Bingrun_v11528302404055/5_a car/Bingrun_v11528302404055_5_a car_3.png\n",
      "CATE LESTER\n",
      "./cumulative_drawings/CATE LESTER_Bingrun_v11528302695680/3_a car/Bingrun_v11528302695680_3_a car_0.png\n",
      "./cumulative_drawings/CATE LESTER_Bingrun_v11528302695680/3_a car/Bingrun_v11528302695680_3_a car_1.png\n",
      "./cumulative_drawings/CATE LESTER_Bingrun_v11528302695680/3_a car/Bingrun_v11528302695680_3_a car_2.png\n",
      "./cumulative_drawings/CATE LESTER_Bingrun_v11528302695680/3_a car/Bingrun_v11528302695680_3_a car_3.png\n",
      "./cumulative_drawings/CATE LESTER_Bingrun_v11528302695680/3_a car/Bingrun_v11528302695680_3_a car_4.png\n",
      "MINNA SMITH\n",
      "./cumulative_drawings/MINNA SMITH_Bingrun_v11528303123433/9_a car/Bingrun_v11528303123433_9_a car_0.png\n",
      "./cumulative_drawings/MINNA SMITH_Bingrun_v11528303123433/9_a car/Bingrun_v11528303123433_9_a car_1.png\n",
      "./cumulative_drawings/MINNA SMITH_Bingrun_v11528303123433/9_a car/Bingrun_v11528303123433_9_a car_2.png\n",
      "./cumulative_drawings/MINNA SMITH_Bingrun_v11528303123433/9_a car/Bingrun_v11528303123433_9_a car_3.png\n",
      "./cumulative_drawings/MINNA SMITH_Bingrun_v11528303123433/9_a car/Bingrun_v11528303123433_9_a car_4.png\n",
      "./cumulative_drawings/MINNA SMITH_Bingrun_v11528303123433/9_a car/Bingrun_v11528303123433_9_a car_5.png\n",
      "EMILIA FADIL\n",
      "./cumulative_drawings/EMILIA FADIL_Bingrun_v11528388383419/9_a car/Bingrun_v11528388383419_9_a car_0.png\n",
      "./cumulative_drawings/EMILIA FADIL_Bingrun_v11528388383419/9_a car/Bingrun_v11528388383419_9_a car_1.png\n",
      "./cumulative_drawings/EMILIA FADIL_Bingrun_v11528388383419/9_a car/Bingrun_v11528388383419_9_a car_2.png\n",
      "./cumulative_drawings/EMILIA FADIL_Bingrun_v11528388383419/9_a car/Bingrun_v11528388383419_9_a car_3.png\n",
      "./cumulative_drawings/EMILIA FADIL_Bingrun_v11528388383419/9_a car/Bingrun_v11528388383419_9_a car_4.png\n",
      "./cumulative_drawings/EMILIA FADIL_Bingrun_v11528388383419/9_a car/Bingrun_v11528388383419_9_a car_5.png\n",
      "./cumulative_drawings/EMILIA FADIL_Bingrun_v11528388383419/9_a car/Bingrun_v11528388383419_9_a car_6.png\n",
      "./cumulative_drawings/EMILIA FADIL_Bingrun_v11528388383419/9_a car/Bingrun_v11528388383419_9_a car_7.png\n",
      "AVY PARINEH\n",
      "./cumulative_drawings/AVY PARINEH_Bingrun_v11528388701665/9_a car/Bingrun_v11528388701665_9_a car_0.png\n",
      "./cumulative_drawings/AVY PARINEH_Bingrun_v11528388701665/9_a car/Bingrun_v11528388701665_9_a car_1.png\n",
      "./cumulative_drawings/AVY PARINEH_Bingrun_v11528388701665/9_a car/Bingrun_v11528388701665_9_a car_2.png\n",
      "./cumulative_drawings/AVY PARINEH_Bingrun_v11528388701665/9_a car/Bingrun_v11528388701665_9_a car_3.png\n",
      "./cumulative_drawings/AVY PARINEH_Bingrun_v11528388701665/9_a car/Bingrun_v11528388701665_9_a car_4.png\n",
      "./cumulative_drawings/AVY PARINEH_Bingrun_v11528388701665/9_a car/Bingrun_v11528388701665_9_a car_5.png\n",
      "./cumulative_drawings/AVY PARINEH_Bingrun_v11528388701665/9_a car/Bingrun_v11528388701665_9_a car_6.png\n",
      "./cumulative_drawings/AVY PARINEH_Bingrun_v11528388701665/9_a car/Bingrun_v11528388701665_9_a car_7.png\n",
      "Oops, something went wrong! Here is the error:\n",
      "'codes' must be a 1D list or array with the same length of 'vertices'\n",
      "LUCY PADREZ\n",
      "./cumulative_drawings/LUCY PADREZ_Bingrun_v11528389139747/3_a car/Bingrun_v11528389139747_3_a car_0.png\n",
      "./cumulative_drawings/LUCY PADREZ_Bingrun_v11528389139747/3_a car/Bingrun_v11528389139747_3_a car_1.png\n",
      "./cumulative_drawings/LUCY PADREZ_Bingrun_v11528389139747/3_a car/Bingrun_v11528389139747_3_a car_2.png\n",
      "./cumulative_drawings/LUCY PADREZ_Bingrun_v11528389139747/3_a car/Bingrun_v11528389139747_3_a car_3.png\n",
      "./cumulative_drawings/LUCY PADREZ_Bingrun_v11528389139747/3_a car/Bingrun_v11528389139747_3_a car_4.png\n",
      "Oops, something went wrong! Here is the error:\n",
      "'kidName'\n",
      "ZABELLE DUNN\n",
      "./cumulative_drawings/ZABELLE DUNN_Bingrun_v11528476070033/8_a car/Bingrun_v11528476070033_8_a car_0.png\n",
      "./cumulative_drawings/ZABELLE DUNN_Bingrun_v11528476070033/8_a car/Bingrun_v11528476070033_8_a car_1.png\n",
      "./cumulative_drawings/ZABELLE DUNN_Bingrun_v11528476070033/8_a car/Bingrun_v11528476070033_8_a car_2.png\n",
      "./cumulative_drawings/ZABELLE DUNN_Bingrun_v11528476070033/8_a car/Bingrun_v11528476070033_8_a car_3.png\n",
      "./cumulative_drawings/ZABELLE DUNN_Bingrun_v11528476070033/8_a car/Bingrun_v11528476070033_8_a car_4.png\n",
      "./cumulative_drawings/ZABELLE DUNN_Bingrun_v11528476070033/8_a car/Bingrun_v11528476070033_8_a car_5.png\n",
      "./cumulative_drawings/ZABELLE DUNN_Bingrun_v11528476070033/8_a car/Bingrun_v11528476070033_8_a car_6.png\n",
      "JASON LAU\n",
      "./cumulative_drawings/JASON LAU_Bingrun_v11528476603558/7_a car/Bingrun_v11528476603558_7_a car_0.png\n",
      "./cumulative_drawings/JASON LAU_Bingrun_v11528476603558/7_a car/Bingrun_v11528476603558_7_a car_1.png\n",
      "./cumulative_drawings/JASON LAU_Bingrun_v11528476603558/7_a car/Bingrun_v11528476603558_7_a car_2.png\n",
      "./cumulative_drawings/JASON LAU_Bingrun_v11528476603558/7_a car/Bingrun_v11528476603558_7_a car_3.png\n",
      "ELLIE TORRANCE\n",
      "./cumulative_drawings/ELLIE TORRANCE_Bingrun_v11528477052188/5_a car/Bingrun_v11528477052188_5_a car_0.png\n",
      "./cumulative_drawings/ELLIE TORRANCE_Bingrun_v11528477052188/5_a car/Bingrun_v11528477052188_5_a car_1.png\n",
      "./cumulative_drawings/ELLIE TORRANCE_Bingrun_v11528477052188/5_a car/Bingrun_v11528477052188_5_a car_2.png\n",
      "./cumulative_drawings/ELLIE TORRANCE_Bingrun_v11528477052188/5_a car/Bingrun_v11528477052188_5_a car_3.png\n",
      "CHARLES MARTINEZ\n",
      "./cumulative_drawings/CHARLES MARTINEZ_Bingrun_v11528478110474/3_a car/Bingrun_v11528478110474_3_a car_0.png\n",
      "./cumulative_drawings/CHARLES MARTINEZ_Bingrun_v11528478110474/3_a car/Bingrun_v11528478110474_3_a car_1.png\n",
      "./cumulative_drawings/CHARLES MARTINEZ_Bingrun_v11528478110474/3_a car/Bingrun_v11528478110474_3_a car_2.png\n",
      "./cumulative_drawings/CHARLES MARTINEZ_Bingrun_v11528478110474/3_a car/Bingrun_v11528478110474_3_a car_3.png\n",
      "./cumulative_drawings/CHARLES MARTINEZ_Bingrun_v11528478110474/3_a car/Bingrun_v11528478110474_3_a car_4.png\n"
     ]
    },
    {
     "name": "stdout",
     "output_type": "stream",
     "text": [
      "./cumulative_drawings/CHARLES MARTINEZ_Bingrun_v11528478110474/3_a car/Bingrun_v11528478110474_3_a car_5.png\n",
      "./cumulative_drawings/CHARLES MARTINEZ_Bingrun_v11528478110474/3_a car/Bingrun_v11528478110474_3_a car_6.png\n",
      "./cumulative_drawings/CHARLES MARTINEZ_Bingrun_v11528478110474/3_a car/Bingrun_v11528478110474_3_a car_7.png\n",
      "./cumulative_drawings/CHARLES MARTINEZ_Bingrun_v11528478110474/3_a car/Bingrun_v11528478110474_3_a car_8.png\n",
      "./cumulative_drawings/CHARLES MARTINEZ_Bingrun_v11528478110474/3_a car/Bingrun_v11528478110474_3_a car_9.png\n",
      "./cumulative_drawings/CHARLES MARTINEZ_Bingrun_v11528478110474/3_a car/Bingrun_v11528478110474_3_a car_10.png\n",
      "./cumulative_drawings/CHARLES MARTINEZ_Bingrun_v11528478110474/3_a car/Bingrun_v11528478110474_3_a car_11.png\n",
      "AVA TO\n",
      "./cumulative_drawings/AVA TO_Bingrun_v11528821121836/10_a car/Bingrun_v11528821121836_10_a car_0.png\n",
      "./cumulative_drawings/AVA TO_Bingrun_v11528821121836/10_a car/Bingrun_v11528821121836_10_a car_1.png\n",
      "./cumulative_drawings/AVA TO_Bingrun_v11528821121836/10_a car/Bingrun_v11528821121836_10_a car_2.png\n",
      "./cumulative_drawings/AVA TO_Bingrun_v11528821121836/10_a car/Bingrun_v11528821121836_10_a car_3.png\n",
      "./cumulative_drawings/AVA TO_Bingrun_v11528821121836/10_a car/Bingrun_v11528821121836_10_a car_4.png\n",
      "JULIAN FLYNN\n",
      "./cumulative_drawings/JULIAN FLYNN_Bingrun_v11528821482164/4_a car/Bingrun_v11528821482164_4_a car_0.png\n",
      "./cumulative_drawings/JULIAN FLYNN_Bingrun_v11528821482164/4_a car/Bingrun_v11528821482164_4_a car_1.png\n",
      "./cumulative_drawings/JULIAN FLYNN_Bingrun_v11528821482164/4_a car/Bingrun_v11528821482164_4_a car_2.png\n",
      "./cumulative_drawings/JULIAN FLYNN_Bingrun_v11528821482164/4_a car/Bingrun_v11528821482164_4_a car_3.png\n",
      "MACK LAURIE\n",
      "./cumulative_drawings/MACK LAURIE_Bingrun_v11528821733674/10_a car/Bingrun_v11528821733674_10_a car_0.png\n",
      "./cumulative_drawings/MACK LAURIE_Bingrun_v11528821733674/10_a car/Bingrun_v11528821733674_10_a car_1.png\n",
      "./cumulative_drawings/MACK LAURIE_Bingrun_v11528821733674/10_a car/Bingrun_v11528821733674_10_a car_2.png\n",
      "./cumulative_drawings/MACK LAURIE_Bingrun_v11528821733674/10_a car/Bingrun_v11528821733674_10_a car_3.png\n",
      "./cumulative_drawings/MACK LAURIE_Bingrun_v11528821733674/10_a car/Bingrun_v11528821733674_10_a car_4.png\n",
      "./cumulative_drawings/MACK LAURIE_Bingrun_v11528821733674/10_a car/Bingrun_v11528821733674_10_a car_5.png\n"
     ]
    },
    {
     "data": {
      "image/png": "[encoded data removed]",
      "text/plain": [
       "<matplotlib.figure.Figure at 0x1a2ba0cb50>"
      ]
     },
     "metadata": {},
     "output_type": "display_data"
    },
    {
     "data": {
      "image/png": "[encoded data removed]",
      "text/plain": [
       "<matplotlib.figure.Figure at 0x1a2c4283d0>"
      ]
     },
     "metadata": {},
     "output_type": "display_data"
    },
    {
     "data": {
      "image/png": "[encoded data removed]",
      "text/plain": [
       "<matplotlib.figure.Figure at 0x1a2d75df10>"
      ]
     },
     "metadata": {},
     "output_type": "display_data"
    },
    {
     "data": {
      "image/png": "[encoded data removed]",
      "text/plain": [
       "<matplotlib.figure.Figure at 0x1a1d59eed0>"
      ]
     },
     "metadata": {},
     "output_type": "display_data"
    },
    {
     "data": {
      "image/png": "[encoded data removed]",
      "text/plain": [
       "<matplotlib.figure.Figure at 0x1a1adc5890>"
      ]
     },
     "metadata": {},
     "output_type": "display_data"
    },
    {
     "data": {
      "image/png": "[encoded data removed]",
      "text/plain": [
       "<matplotlib.figure.Figure at 0x1a1d3bca10>"
      ]
     },
     "metadata": {},
     "output_type": "display_data"
    },
    {
     "data": {
      "image/png": "[encoded data removed]",
      "text/plain": [
       "<matplotlib.figure.Figure at 0x1a2189c750>"
      ]
     },
     "metadata": {},
     "output_type": "display_data"
    }
   ],
   "source": [
    "for imrec in these_image_recs:      \n",
    "        s = imrec['sessionId']\n",
    "        stroke_recs = coll.find({'$and': [{'sessionId':s}, \n",
    "                                          {'dataType':'stroke'},\n",
    "                                          {'trialNum': imrec['trialNum']}]}).sort('time')  \n",
    "        try:\n",
    "        ## check to make sure that there is at least one stroke! \n",
    "            if stroke_recs.count()>0:\n",
    "\n",
    "                ## some handy metadata for writing out the sketch PNG filename\n",
    "                trial_num = imrec['trialNum']\n",
    "                category = imrec['category']\n",
    "                session_id = imrec['sessionId']\n",
    "                kidName = imrec['kidName']\n",
    "                print(kidName)\n",
    "\n",
    "                ## now make an svg list!\n",
    "                svg_list = make_svg_list(stroke_recs)\n",
    "\n",
    "                ## now get me some verts and codes!\n",
    "                Verts, Codes = get_verts_and_codes(svg_list)\n",
    "\n",
    "                ## now render out your cumulative sketches and save out as pngs!\n",
    "                render_and_save(Verts,\n",
    "                                Codes,\n",
    "                                line_width=5,\n",
    "                                imsize=6,\n",
    "                                canvas_size=809,\n",
    "                                session_id=session_id,\n",
    "                                kidName=kidName,\n",
    "                                trial_num=trial_num,\n",
    "                                category=category)\n",
    "\n",
    "        except Exception as e:\n",
    "            print 'Oops, something went wrong! Here is the error:'  \n",
    "            print e\n",
    "            pass\n"
   ]
  },
  {
   "cell_type": "code",
   "execution_count": 31,
   "metadata": {
    "collapsed": true,
    "scrolled": false
   },
   "outputs": [],
   "source": [
    "# for i,s in enumerate(valid_sessions):  \n",
    "#     image_recs = coll.find({'$and': [{'time': {'$gt': time_threshold}}, {'sessionId':s}, {'dataType':'finalImage'}]}).sort('time')    \n",
    "#     num_drawings = image_recs.count()\n",
    "#     if num_drawings > 2 :\n",
    "#         print 'Great! Number of drawings made by this person: {}'.format(image_recs.count())        \n",
    "#         ### now try looping through all images made during this session and render out\n",
    "#         try:\n",
    "#             image_recs = coll.find({'$and': [{'time': {'$gt': time_threshold}}, {'sessionId':s}, {'dataType':'finalImage'}]}).sort('time')    \n",
    "#             for imrec in image_recs:         \n",
    "#                 if imrec['category'] in practice_categories: # only save practice category trials\n",
    "#                     stroke_recs = coll.find({'$and': [{'time': {'$gt': time_threshold}}, \n",
    "#                                                       {'sessionId':s}, \n",
    "#                                                       {'dataType':'stroke'},\n",
    "#                                                       {'trialNum': imrec['trialNum']}]}).sort('time')  \n",
    "#                     ## check to make sure that there is at least one stroke! \n",
    "#                     assert stroke_recs.count()>0\n",
    "\n",
    "#                     ## some handy metadata for writing out the sketch PNG filename\n",
    "#                     trial_num = stroke_recs[0]['trialNum']\n",
    "#                     category = stroke_recs[0]['category']\n",
    "#                     session_id = stroke_recs[0]['sessionId']\n",
    "#                     age = stroke_recs[0]['age']\n",
    "\n",
    "#                     ## now make an svg list!\n",
    "#                     svg_list = make_svg_list(stroke_recs)\n",
    "\n",
    "#                     ## now get me some verts and codes!\n",
    "#                     Verts, Codes = get_verts_and_codes(svg_list)\n",
    "\n",
    "#                     ## now render out your cumulative sketches and save out as pngs!\n",
    "#                     render_and_save(Verts,\n",
    "#                                     Codes,\n",
    "#                                     line_width=5,\n",
    "#                                     imsize=6,\n",
    "#                                     canvas_size=809,\n",
    "#                                     session_id=session_id,\n",
    "#                                     age=age,\n",
    "#                                     trial_num=trial_num,\n",
    "#                                     category=category)\n",
    "\n",
    "#         except Exception as e:\n",
    "#             print 'Oops, something went wrong! Here is the error:'  \n",
    "#             print e\n",
    "#             pass\n"
   ]
  },
  {
   "cell_type": "code",
   "execution_count": null,
   "metadata": {
    "collapsed": true
   },
   "outputs": [],
   "source": []
  },
  {
   "cell_type": "code",
   "execution_count": null,
   "metadata": {
    "collapsed": true,
    "scrolled": false
   },
   "outputs": [],
   "source": []
  },
  {
   "cell_type": "code",
   "execution_count": null,
   "metadata": {
    "collapsed": true
   },
   "outputs": [],
   "source": []
  },
  {
   "cell_type": "code",
   "execution_count": null,
   "metadata": {
    "collapsed": true
   },
   "outputs": [],
   "source": []
  },
  {
   "cell_type": "code",
   "execution_count": null,
   "metadata": {
    "collapsed": true
   },
   "outputs": [],
   "source": []
  },
  {
   "cell_type": "code",
   "execution_count": null,
   "metadata": {
    "collapsed": true
   },
   "outputs": [],
   "source": []
  },
  {
   "cell_type": "code",
   "execution_count": null,
   "metadata": {
    "collapsed": true
   },
   "outputs": [],
   "source": []
  },
  {
   "cell_type": "code",
   "execution_count": null,
   "metadata": {
    "collapsed": true,
    "scrolled": false
   },
   "outputs": [],
   "source": []
  },
  {
   "cell_type": "code",
   "execution_count": null,
   "metadata": {
    "collapsed": true
   },
   "outputs": [],
   "source": []
  },
  {
   "cell_type": "code",
   "execution_count": null,
   "metadata": {
    "collapsed": true
   },
   "outputs": [],
   "source": []
  },
  {
   "cell_type": "code",
   "execution_count": null,
   "metadata": {
    "collapsed": true
   },
   "outputs": [],
   "source": []
  }
 ],
 "metadata": {
  "kernelspec": {
   "display_name": "Python 2",
   "language": "python",
   "name": "python2"
  },
  "language_info": {
   "codemirror_mode": {
    "name": "ipython",
    "version": 2
   },
   "file_extension": ".py",
   "mimetype": "text/x-python",
   "name": "python",
   "nbconvert_exporter": "python",
   "pygments_lexer": "ipython2",
   "version": "2.7.3"
  }
 },
 "nbformat": 4,
 "nbformat_minor": 1
}
